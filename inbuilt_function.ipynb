{
 "cells": [
  {
   "cell_type": "markdown",
   "id": "277d9559",
   "metadata": {},
   "source": [
    "# Functions\n",
    "* Functions are piece of code used to perform sprcific task.\n",
    "* Functions can be called directly using its name."
   ]
  },
  {
   "cell_type": "markdown",
   "id": "ca0a1c71",
   "metadata": {},
   "source": [
    "👉 Functions are like a hammer that you can use to drive a nail into a piece of wood. It doesn't matter what kind of wood it is or where the nail goes. You just use the hammer to do a general task."
   ]
  },
  {
   "cell_type": "markdown",
   "id": "175d469a",
   "metadata": {},
   "source": [
    "# Functions\n",
    "* print\n",
    "* type\n",
    "* len\n",
    "* sum\n",
    "* int\n",
    "* float\n",
    "* str\n",
    "* list\n",
    "* set\n",
    "* tuple\n",
    "* dict\n",
    "* help\n",
    "* input\n",
    "* range\n",
    "* round\n",
    "* max\n",
    "* min\n",
    "* abs\n",
    "* enumerate\n",
    "* zip\n",
    "* eval\n",
    "* exec\n",
    "* bool"
   ]
  },
  {
   "cell_type": "markdown",
   "id": "004f692f",
   "metadata": {},
   "source": [
    "# print()\n",
    "Display the output"
   ]
  },
  {
   "cell_type": "code",
   "execution_count": 9,
   "id": "abcd8322",
   "metadata": {},
   "outputs": [
    {
     "name": "stdout",
     "output_type": "stream",
     "text": [
      "10\n"
     ]
    }
   ],
   "source": [
    "# print function use to display output\n",
    "a = 10\n",
    "print(a)\n"
   ]
  },
  {
   "cell_type": "code",
   "execution_count": 10,
   "id": "7af0f96f",
   "metadata": {},
   "outputs": [
    {
     "name": "stdout",
     "output_type": "stream",
     "text": [
      "data science\n"
     ]
    }
   ],
   "source": [
    "b = 'data science'\n",
    "print(b)\n"
   ]
  },
  {
   "cell_type": "code",
   "execution_count": 11,
   "id": "040b92e3",
   "metadata": {},
   "outputs": [
    {
     "name": "stdout",
     "output_type": "stream",
     "text": [
      "hello world\n"
     ]
    }
   ],
   "source": [
    "print(\"hello world\")\n"
   ]
  },
  {
   "cell_type": "code",
   "execution_count": 12,
   "id": "31a57804",
   "metadata": {},
   "outputs": [
    {
     "name": "stdout",
     "output_type": "stream",
     "text": [
      "10.5\n"
     ]
    }
   ],
   "source": [
    "a = 10.5\n",
    "print(a)\n"
   ]
  },
  {
   "cell_type": "markdown",
   "id": "c809b2fb",
   "metadata": {},
   "source": [
    "# type()\n",
    "Type is used to find data type of any object(int,float,str,bool,complex,list,tuple,dict,set)\n"
   ]
  },
  {
   "cell_type": "code",
   "execution_count": 8,
   "id": "9c8e07da",
   "metadata": {},
   "outputs": [
    {
     "name": "stdout",
     "output_type": "stream",
     "text": [
      "<class 'int'>\n"
     ]
    }
   ],
   "source": [
    "a = 10\n",
    "print(type(a))"
   ]
  },
  {
   "cell_type": "code",
   "execution_count": null,
   "id": "09616130",
   "metadata": {},
   "outputs": [
    {
     "data": {
      "text/plain": [
       "float"
      ]
     },
     "execution_count": 13,
     "metadata": {},
     "output_type": "execute_result"
    }
   ],
   "source": [
    "type(3.4)"
   ]
  },
  {
   "cell_type": "code",
   "execution_count": null,
   "id": "33d6cb61",
   "metadata": {},
   "outputs": [],
   "source": []
  }
 ],
 "metadata": {
  "kernelspec": {
   "display_name": "Python 3",
   "language": "python",
   "name": "python3"
  },
  "language_info": {
   "codemirror_mode": {
    "name": "ipython",
    "version": 3
   },
   "file_extension": ".py",
   "mimetype": "text/x-python",
   "name": "python",
   "nbconvert_exporter": "python",
   "pygments_lexer": "ipython3",
   "version": "3.13.7"
  }
 },
 "nbformat": 4,
 "nbformat_minor": 5
}
