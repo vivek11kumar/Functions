{
 "cells": [
  {
   "cell_type": "markdown",
   "id": "277d9559",
   "metadata": {},
   "source": [
    "# Functions\n",
    "* Functions are piece of code used to perform sprcific task.\n",
    "* Functions can be called directly using its name."
   ]
  },
  {
   "cell_type": "markdown",
   "id": "ca0a1c71",
   "metadata": {},
   "source": [
    "👉 Functions are like a hammer that you can use to drive a nail into a piece of wood. It doesn't matter what kind of wood it is or where the nail goes. You just use the hammer to do a general task."
   ]
  },
  {
   "cell_type": "markdown",
   "id": "175d469a",
   "metadata": {},
   "source": [
    "# Functions\n",
    "* print\n",
    "* type\n",
    "* len\n",
    "* sum\n",
    "* int\n",
    "* float\n",
    "* str\n",
    "* list\n",
    "* set\n",
    "* tuple\n",
    "* dict\n",
    "* help\n",
    "* input\n",
    "* range\n",
    "* round\n",
    "* max\n",
    "* min\n",
    "* abs\n",
    "* enumerate\n",
    "* zip\n",
    "* eval\n",
    "* exec\n",
    "* bool"
   ]
  },
  {
   "cell_type": "markdown",
   "id": "004f692f",
   "metadata": {},
   "source": [
    "# print()\n",
    "Display the output"
   ]
  },
  {
   "cell_type": "code",
   "execution_count": 9,
   "id": "abcd8322",
   "metadata": {},
   "outputs": [
    {
     "name": "stdout",
     "output_type": "stream",
     "text": [
      "10\n"
     ]
    }
   ],
   "source": [
    "# print function use to display output\n",
    "a = 10\n",
    "print(a)\n"
   ]
  },
  {
   "cell_type": "code",
   "execution_count": 10,
   "id": "7af0f96f",
   "metadata": {},
   "outputs": [
    {
     "name": "stdout",
     "output_type": "stream",
     "text": [
      "data science\n"
     ]
    }
   ],
   "source": [
    "b = 'data science'\n",
    "print(b)\n"
   ]
  },
  {
   "cell_type": "code",
   "execution_count": 11,
   "id": "040b92e3",
   "metadata": {},
   "outputs": [
    {
     "name": "stdout",
     "output_type": "stream",
     "text": [
      "hello world\n"
     ]
    }
   ],
   "source": [
    "print(\"hello world\")\n"
   ]
  },
  {
   "cell_type": "code",
   "execution_count": 12,
   "id": "31a57804",
   "metadata": {},
   "outputs": [
    {
     "name": "stdout",
     "output_type": "stream",
     "text": [
      "10.5\n"
     ]
    }
   ],
   "source": [
    "a = 10.5\n",
    "print(a)\n"
   ]
  },
  {
   "cell_type": "markdown",
   "id": "c809b2fb",
   "metadata": {},
   "source": [
    "# type()\n",
    "Type is used to find data type of any object(int,float,str,bool,complex,list,tuple,dict,set)\n"
   ]
  },
  {
   "cell_type": "code",
   "execution_count": 8,
   "id": "9c8e07da",
   "metadata": {},
   "outputs": [
    {
     "name": "stdout",
     "output_type": "stream",
     "text": [
      "<class 'int'>\n"
     ]
    }
   ],
   "source": [
    "a = 10\n",
    "print(type(a))"
   ]
  },
  {
   "cell_type": "code",
   "execution_count": null,
   "id": "09616130",
   "metadata": {},
   "outputs": [
    {
     "data": {
      "text/plain": [
       "float"
      ]
     },
     "execution_count": 13,
     "metadata": {},
     "output_type": "execute_result"
    }
   ],
   "source": [
    "type(3.4)"
   ]
  },
  {
   "cell_type": "code",
   "execution_count": 14,
   "id": "33d6cb61",
   "metadata": {},
   "outputs": [
    {
     "data": {
      "text/plain": [
       "str"
      ]
     },
     "execution_count": 14,
     "metadata": {},
     "output_type": "execute_result"
    }
   ],
   "source": [
    "type('data science')"
   ]
  },
  {
   "cell_type": "code",
   "execution_count": 15,
   "id": "0e66d1c4",
   "metadata": {},
   "outputs": [
    {
     "data": {
      "text/plain": [
       "str"
      ]
     },
     "execution_count": 15,
     "metadata": {},
     "output_type": "execute_result"
    }
   ],
   "source": [
    "type(\"hello world\")"
   ]
  },
  {
   "cell_type": "markdown",
   "id": "846c1752",
   "metadata": {},
   "source": [
    "# len()\n",
    "Length of an object(string , tuple,list,set,dict)"
   ]
  },
  {
   "cell_type": "code",
   "execution_count": 24,
   "id": "ae3e0c47",
   "metadata": {},
   "outputs": [
    {
     "name": "stdout",
     "output_type": "stream",
     "text": [
      "<class 'str'>\n",
      "6\n"
     ]
    }
   ],
   "source": [
    "A = \"python\"\n",
    "print(type(A))\n",
    "print(len(A))"
   ]
  },
  {
   "cell_type": "code",
   "execution_count": 23,
   "id": "540ea2cf",
   "metadata": {},
   "outputs": [
    {
     "name": "stdout",
     "output_type": "stream",
     "text": [
      "<class 'str'>\n",
      "12\n"
     ]
    }
   ],
   "source": [
    "b = \"data science\"\n",
    "print(type(b))\n",
    "print(len(b))"
   ]
  },
  {
   "cell_type": "code",
   "execution_count": 22,
   "id": "8b4edc62",
   "metadata": {},
   "outputs": [
    {
     "name": "stdout",
     "output_type": "stream",
     "text": [
      "<class 'list'>\n",
      "7\n"
     ]
    }
   ],
   "source": [
    "B =[10,20,30,40,50,60,70]\n",
    "print(type(B))\n",
    "print(len(B))"
   ]
  },
  {
   "cell_type": "code",
   "execution_count": 25,
   "id": "e65966b7",
   "metadata": {},
   "outputs": [
    {
     "name": "stdout",
     "output_type": "stream",
     "text": [
      "<class 'tuple'>\n",
      "7\n"
     ]
    }
   ],
   "source": [
    "C=(10,20,30,40,50,60,70)\n",
    "print(type(C))\n",
    "print(len(C))"
   ]
  },
  {
   "cell_type": "code",
   "execution_count": 26,
   "id": "a9ddb5e7",
   "metadata": {},
   "outputs": [
    {
     "name": "stdout",
     "output_type": "stream",
     "text": [
      "<class 'set'>\n",
      "7\n"
     ]
    }
   ],
   "source": [
    "d = {10,20,30,40,50,60,70}\n",
    "print(type(d))\n",
    "print(len(d))"
   ]
  },
  {
   "cell_type": "code",
   "execution_count": 27,
   "id": "8321bc5c",
   "metadata": {},
   "outputs": [
    {
     "name": "stdout",
     "output_type": "stream",
     "text": [
      "<class 'dict'>\n",
      "4\n"
     ]
    }
   ],
   "source": [
    "e = {10:'a',20:'b',30:'c',40:'d'}\n",
    "print(type(e))  \n",
    "print(len(e))"
   ]
  },
  {
   "cell_type": "code",
   "execution_count": 28,
   "id": "bfa389c8",
   "metadata": {},
   "outputs": [
    {
     "name": "stdout",
     "output_type": "stream",
     "text": [
      "<class 'dict'>\n",
      "3\n"
     ]
    }
   ],
   "source": [
    "info = {'name':'john', 'age':25, 'city':'new york'}\n",
    "print(type(info))\n",
    "print(len(info))"
   ]
  },
  {
   "cell_type": "markdown",
   "id": "d12f9ac5",
   "metadata": {},
   "source": [
    "# sum()\n",
    "Used to find sum of elements(list,tuple,set)\n"
   ]
  },
  {
   "cell_type": "code",
   "execution_count": 30,
   "id": "fcf74d3e",
   "metadata": {},
   "outputs": [
    {
     "name": "stdout",
     "output_type": "stream",
     "text": [
      "<class 'list'>\n",
      "7\n",
      "340\n"
     ]
    }
   ],
   "source": [
    "A = [10,20,30,40,60,80,100]\n",
    "print(type(A))\n",
    "print(len(A))\n",
    "print(sum(A))"
   ]
  },
  {
   "cell_type": "code",
   "execution_count": 31,
   "id": "c389bd7e",
   "metadata": {},
   "outputs": [
    {
     "name": "stdout",
     "output_type": "stream",
     "text": [
      "<class 'tuple'>\n",
      "5\n",
      "15\n"
     ]
    }
   ],
   "source": [
    "b = (1, 2, 3, 4, 5)\n",
    "print(type(b))\n",
    "print(len(b))\n",
    "print(sum(b))"
   ]
  },
  {
   "cell_type": "markdown",
   "id": "580e63d1",
   "metadata": {},
   "source": [
    "# max()\n",
    "It is used to find maximum element of any object(list,tuple,set)"
   ]
  },
  {
   "cell_type": "code",
   "execution_count": 3,
   "id": "f3335e09",
   "metadata": {},
   "outputs": [
    {
     "name": "stdout",
     "output_type": "stream",
     "text": [
      "400\n"
     ]
    }
   ],
   "source": [
    "# Find the maximum value from a list\n",
    "A = [10,20,50,100,200,300,400]\n",
    "print(max(A))"
   ]
  },
  {
   "cell_type": "code",
   "execution_count": 4,
   "id": "0529cb6f",
   "metadata": {},
   "outputs": [
    {
     "name": "stdout",
     "output_type": "stream",
     "text": [
      "400\n"
     ]
    }
   ],
   "source": [
    "# find the maximum value from a tuple\n",
    "A = (10,20,50,100,200,300,400)\n",
    "print(max(A))"
   ]
  },
  {
   "cell_type": "code",
   "execution_count": 5,
   "id": "1e31edf4",
   "metadata": {},
   "outputs": [
    {
     "name": "stdout",
     "output_type": "stream",
     "text": [
      "400\n"
     ]
    }
   ],
   "source": [
    "# Find the maximum value from a set\n",
    "A = {10,20,50,100,200,300,400}\n",
    "print(max(A))"
   ]
  },
  {
   "cell_type": "code",
   "execution_count": 6,
   "id": "c1a4a4fa",
   "metadata": {},
   "outputs": [
    {
     "name": "stdout",
     "output_type": "stream",
     "text": [
      "10\n"
     ]
    }
   ],
   "source": [
    "# Find the minimum value from a dictionary\n",
    "A = {10:'a',20:'b',30:'c',40:'d'}\n",
    "print(min(A))"
   ]
  },
  {
   "cell_type": "markdown",
   "id": "a154687b",
   "metadata": {},
   "source": [
    "# min()\n",
    "Used to find minimum element in any object(list,tuple,set)"
   ]
  },
  {
   "cell_type": "code",
   "execution_count": 7,
   "id": "76cce656",
   "metadata": {},
   "outputs": [
    {
     "name": "stdout",
     "output_type": "stream",
     "text": [
      "10\n"
     ]
    }
   ],
   "source": [
    "# Find the min value from a list\n",
    "A = [10,20,50,100,200,300,400]\n",
    "print(min(A))"
   ]
  },
  {
   "cell_type": "code",
   "execution_count": 8,
   "id": "82ecb5fb",
   "metadata": {},
   "outputs": [
    {
     "name": "stdout",
     "output_type": "stream",
     "text": [
      "10\n"
     ]
    }
   ],
   "source": [
    "# Find the minimum value from a tuple\n",
    "A = (10,20,50,100,200,300,400)  \n",
    "print(min(A))"
   ]
  },
  {
   "cell_type": "code",
   "execution_count": 9,
   "id": "cf14b19e",
   "metadata": {},
   "outputs": [
    {
     "name": "stdout",
     "output_type": "stream",
     "text": [
      "10\n"
     ]
    }
   ],
   "source": [
    "# Find the minimum value from a set\n",
    "A = {10,20,50,100,200,300,400}  \n",
    "print(min(A))"
   ]
  },
  {
   "cell_type": "code",
   "execution_count": 10,
   "id": "8fdf42c5",
   "metadata": {},
   "outputs": [
    {
     "name": "stdout",
     "output_type": "stream",
     "text": [
      "10\n"
     ]
    }
   ],
   "source": [
    "# Find the minimum value from a dictionary\n",
    "A = {10:'a',20:'b',30:'c',40:'d'}   \n",
    "print(min(A))"
   ]
  },
  {
   "cell_type": "code",
   "execution_count": 11,
   "id": "e3daf635",
   "metadata": {},
   "outputs": [
    {
     "name": "stdout",
     "output_type": "stream",
     "text": [
      "10\n"
     ]
    }
   ],
   "source": [
    "# Find the minimum value from a tuple\n",
    "A = (10,20,50,100,200,300,400)  \n",
    "print(min(A))"
   ]
  },
  {
   "cell_type": "code",
   "execution_count": 13,
   "id": "3b47a1f8",
   "metadata": {},
   "outputs": [
    {
     "name": "stdout",
     "output_type": "stream",
     "text": [
      "Maximum value is : 5\n",
      "Minimum value is : 1\n",
      "sum of elements in A: 15\n",
      "length of list: 5\n"
     ]
    }
   ],
   "source": [
    "# Find the maximum, minimum, sum and length of elements in a list\n",
    "A =[1,2,3,4,5]\n",
    "print(\"Maximum value is :\" ,max(A))\n",
    "print(\"Minimum value is :\",min(A))\n",
    "print(\"sum of elements in A:\",sum(A))\n",
    "print(\"length of list:\",len(A))"
   ]
  },
  {
   "cell_type": "code",
   "execution_count": 14,
   "id": "8b44f0c0",
   "metadata": {},
   "outputs": [
    {
     "name": "stdout",
     "output_type": "stream",
     "text": [
      "Maximum value is : 5\n",
      "Minimum value is : 1\n",
      "sum of elements in A: 15\n",
      "length of list: 5\n"
     ]
    }
   ],
   "source": [
    "# Find the maximum, minimum, sum and length of elements in a tuple\n",
    "A =(1,2,3,4,5)\n",
    "print(\"Maximum value is :\" ,max(A))\n",
    "print(\"Minimum value is :\",min(A))\n",
    "print(\"sum of elements in A:\",sum(A))\n",
    "print(\"length of list:\",len(A))"
   ]
  },
  {
   "cell_type": "code",
   "execution_count": 19,
   "id": "4437f9cb",
   "metadata": {},
   "outputs": [
    {
     "name": "stdout",
     "output_type": "stream",
     "text": [
      "Maximum value is : 5\n",
      "Minimum value is : 1\n",
      "length of list: 5\n"
     ]
    }
   ],
   "source": [
    "# Find the maximum, minimum, sum and length of elements in a dictionary\n",
    "b = {1:'a',2:'b',3:'c',4:'d',5:'e'}\n",
    "print(\"Maximum value is :\" ,max(b))\n",
    "print(\"Minimum value is :\",min(b))\n",
    "print(\"length of list:\",len(b))"
   ]
  },
  {
   "cell_type": "code",
   "execution_count": 20,
   "id": "51d2df5e",
   "metadata": {},
   "outputs": [
    {
     "name": "stdout",
     "output_type": "stream",
     "text": [
      "Maximum value is : 5\n",
      "Minimum value is : 1\n",
      "sum of elements in c: 15\n",
      "length of set: 5\n"
     ]
    }
   ],
   "source": [
    "# find the maximum, minimum, sum and length of elements in a set\n",
    "c = {1,2,3,4,5}\n",
    "print(\"Maximum value is :\" ,max(c))\n",
    "print(\"Minimum value is :\",min(c))\n",
    "print(\"sum of elements in c:\",sum(c))\n",
    "print(\"length of set:\",len(c))  "
   ]
  },
  {
   "cell_type": "markdown",
   "id": "5cf0fd3d",
   "metadata": {},
   "source": [
    "# abs\n",
    "It is used to convert negative value into positive(int,float)."
   ]
  },
  {
   "cell_type": "code",
   "execution_count": 22,
   "id": "c3fb8f91",
   "metadata": {},
   "outputs": [
    {
     "name": "stdout",
     "output_type": "stream",
     "text": [
      "10\n"
     ]
    }
   ],
   "source": [
    "# abs function returns the absolute value of a number\n",
    "a = -10\n",
    "print(abs(a))\n"
   ]
  },
  {
   "cell_type": "code",
   "execution_count": 23,
   "id": "3b21c1ae",
   "metadata": {},
   "outputs": [
    {
     "name": "stdout",
     "output_type": "stream",
     "text": [
      "200.5\n"
     ]
    }
   ],
   "source": [
    "# abs function returns the absolute value of a number\n",
    "a = -200.5\n",
    "print(abs(a))"
   ]
  },
  {
   "cell_type": "code",
   "execution_count": 25,
   "id": "ee6f60b0",
   "metadata": {},
   "outputs": [
    {
     "data": {
      "text/plain": [
       "3"
      ]
     },
     "execution_count": 25,
     "metadata": {},
     "output_type": "execute_result"
    }
   ],
   "source": [
    "abs(-3)\n"
   ]
  },
  {
   "cell_type": "code",
   "execution_count": 27,
   "id": "a4970200",
   "metadata": {},
   "outputs": [
    {
     "data": {
      "text/plain": [
       "3"
      ]
     },
     "execution_count": 27,
     "metadata": {},
     "output_type": "execute_result"
    }
   ],
   "source": [
    "abs(-3)\n"
   ]
  },
  {
   "cell_type": "code",
   "execution_count": 28,
   "id": "62b596b4",
   "metadata": {},
   "outputs": [
    {
     "data": {
      "text/plain": [
       "3"
      ]
     },
     "execution_count": 28,
     "metadata": {},
     "output_type": "execute_result"
    }
   ],
   "source": [
    "abs(3)"
   ]
  },
  {
   "cell_type": "markdown",
   "id": "292e2249",
   "metadata": {},
   "source": [
    "# round\n",
    "It is used to round number to a given decimal palces\n",
    "\n",
    "round(number , decimal_places)"
   ]
  },
  {
   "cell_type": "code",
   "execution_count": 29,
   "id": "cbafe075",
   "metadata": {},
   "outputs": [
    {
     "name": "stdout",
     "output_type": "stream",
     "text": [
      "3.4568\n"
     ]
    }
   ],
   "source": [
    "a = 3.456789\n",
    "# round a to 4 decimal places\n",
    "print(round(a,4))"
   ]
  },
  {
   "cell_type": "code",
   "execution_count": 30,
   "id": "40df7aea",
   "metadata": {},
   "outputs": [
    {
     "data": {
      "text/plain": [
       "7.895"
      ]
     },
     "execution_count": 30,
     "metadata": {},
     "output_type": "execute_result"
    }
   ],
   "source": [
    "# round to 3 decimal\n",
    "round(7.89543,3)\n"
   ]
  },
  {
   "cell_type": "code",
   "execution_count": 31,
   "id": "2bf75f6a",
   "metadata": {},
   "outputs": [
    {
     "data": {
      "text/plain": [
       "3"
      ]
     },
     "execution_count": 31,
     "metadata": {},
     "output_type": "execute_result"
    }
   ],
   "source": [
    "round(3.456)"
   ]
  },
  {
   "cell_type": "code",
   "execution_count": 32,
   "id": "23878ea7",
   "metadata": {},
   "outputs": [
    {
     "data": {
      "text/plain": [
       "4"
      ]
     },
     "execution_count": 32,
     "metadata": {},
     "output_type": "execute_result"
    }
   ],
   "source": [
    "round(3.678)\n"
   ]
  },
  {
   "cell_type": "code",
   "execution_count": 33,
   "id": "7c5508aa",
   "metadata": {},
   "outputs": [
    {
     "data": {
      "text/plain": [
       "10"
      ]
     },
     "execution_count": 33,
     "metadata": {},
     "output_type": "execute_result"
    }
   ],
   "source": [
    "round(10.324)\n"
   ]
  },
  {
   "cell_type": "code",
   "execution_count": 34,
   "id": "6c345602",
   "metadata": {},
   "outputs": [
    {
     "data": {
      "text/plain": [
       "121"
      ]
     },
     "execution_count": 34,
     "metadata": {},
     "output_type": "execute_result"
    }
   ],
   "source": [
    "round(120.98652)\n"
   ]
  },
  {
   "cell_type": "code",
   "execution_count": 35,
   "id": "c73b7a03",
   "metadata": {},
   "outputs": [
    {
     "data": {
      "text/plain": [
       "3.14"
      ]
     },
     "execution_count": 35,
     "metadata": {},
     "output_type": "execute_result"
    }
   ],
   "source": [
    "round(3.14159,2)"
   ]
  },
  {
   "cell_type": "code",
   "execution_count": 36,
   "id": "74c423d1",
   "metadata": {},
   "outputs": [
    {
     "data": {
      "text/plain": [
       "-3.14"
      ]
     },
     "execution_count": 36,
     "metadata": {},
     "output_type": "execute_result"
    }
   ],
   "source": [
    "round(-3.14159,2)"
   ]
  },
  {
   "cell_type": "code",
   "execution_count": 37,
   "id": "fde45ec1",
   "metadata": {},
   "outputs": [
    {
     "data": {
      "text/plain": [
       "-200.246"
      ]
     },
     "execution_count": 37,
     "metadata": {},
     "output_type": "execute_result"
    }
   ],
   "source": [
    "round(-200.2457833,3)"
   ]
  },
  {
   "cell_type": "markdown",
   "id": "732bb58e",
   "metadata": {},
   "source": [
    "# Type casting\n",
    "Used to convert one data type into other data type."
   ]
  },
  {
   "cell_type": "markdown",
   "id": "8c7b75b9",
   "metadata": {},
   "source": [
    "# int\n",
    "* It converts given value to a integer"
   ]
  },
  {
   "cell_type": "code",
   "execution_count": 38,
   "id": "8689b368",
   "metadata": {},
   "outputs": [
    {
     "name": "stdout",
     "output_type": "stream",
     "text": [
      "<class 'float'>\n",
      "3\n"
     ]
    }
   ],
   "source": [
    "a = 3.45\n",
    "print(type(a))\n",
    "b = int(a)\n",
    "print(b)\n"
   ]
  },
  {
   "cell_type": "code",
   "execution_count": 39,
   "id": "dea25f5c",
   "metadata": {},
   "outputs": [
    {
     "name": "stdout",
     "output_type": "stream",
     "text": [
      "7\n",
      "<class 'int'>\n"
     ]
    }
   ],
   "source": [
    "# convert float to int\n",
    "a = 7.89\n",
    "b = int(a)\n",
    "print(b)\n",
    "print(type(b))"
   ]
  },
  {
   "cell_type": "code",
   "execution_count": 44,
   "id": "41d2832c",
   "metadata": {},
   "outputs": [
    {
     "name": "stdout",
     "output_type": "stream",
     "text": [
      "123\n",
      "<class 'int'>\n"
     ]
    }
   ],
   "source": [
    "# str to integer\n",
    "a = int(\"123\")   \n",
    "print(a)\n",
    "print(type(a))\n",
    "\n"
   ]
  },
  {
   "cell_type": "code",
   "execution_count": 45,
   "id": "b2719327",
   "metadata": {},
   "outputs": [
    {
     "name": "stdout",
     "output_type": "stream",
     "text": [
      "4\n",
      "1234\n",
      "1\n",
      "0\n"
     ]
    }
   ],
   "source": [
    "# float to integer\n",
    "# Integer within string into int\n",
    "# boolean to integer\n",
    "print(int(4.5))\n",
    "print(int(\"1234\"))\n",
    "print(int(True))\n",
    "print(int(False))"
   ]
  },
  {
   "cell_type": "code",
   "execution_count": 1,
   "id": "565b990f",
   "metadata": {},
   "outputs": [
    {
     "ename": "ValueError",
     "evalue": "invalid literal for int() with base 10: 'hello'",
     "output_type": "error",
     "traceback": [
      "\u001b[31m---------------------------------------------------------------------------\u001b[39m",
      "\u001b[31mValueError\u001b[39m                                Traceback (most recent call last)",
      "\u001b[36mCell\u001b[39m\u001b[36m \u001b[39m\u001b[32mIn[1]\u001b[39m\u001b[32m, line 1\u001b[39m\n\u001b[32m----> \u001b[39m\u001b[32m1\u001b[39m \u001b[38;5;28;43mint\u001b[39;49m\u001b[43m(\u001b[49m\u001b[33;43m\"\u001b[39;49m\u001b[33;43mhello\u001b[39;49m\u001b[33;43m\"\u001b[39;49m\u001b[43m)\u001b[49m \u001b[38;5;66;03m# string cannot be converted into integer\u001b[39;00m\n",
      "\u001b[31mValueError\u001b[39m: invalid literal for int() with base 10: 'hello'"
     ]
    }
   ],
   "source": [
    "int(\"hello\") # string cannot be converted into integer"
   ]
  },
  {
   "cell_type": "code",
   "execution_count": 2,
   "id": "3ef75c08",
   "metadata": {},
   "outputs": [
    {
     "ename": "ValueError",
     "evalue": "invalid literal for int() with base 10: '3.45'",
     "output_type": "error",
     "traceback": [
      "\u001b[31m---------------------------------------------------------------------------\u001b[39m",
      "\u001b[31mValueError\u001b[39m                                Traceback (most recent call last)",
      "\u001b[36mCell\u001b[39m\u001b[36m \u001b[39m\u001b[32mIn[2]\u001b[39m\u001b[32m, line 1\u001b[39m\n\u001b[32m----> \u001b[39m\u001b[32m1\u001b[39m \u001b[38;5;28;43mint\u001b[39;49m\u001b[43m(\u001b[49m\u001b[33;43m'\u001b[39;49m\u001b[33;43m3.45\u001b[39;49m\u001b[33;43m'\u001b[39;49m\u001b[43m)\u001b[49m \u001b[38;5;66;03m# float within string cannot be converted into int\u001b[39;00m\n",
      "\u001b[31mValueError\u001b[39m: invalid literal for int() with base 10: '3.45'"
     ]
    }
   ],
   "source": [
    "int('3.45') # float within string cannot be converted into int"
   ]
  },
  {
   "cell_type": "code",
   "execution_count": 3,
   "id": "982317e7",
   "metadata": {},
   "outputs": [
    {
     "ename": "TypeError",
     "evalue": "int() argument must be a string, a bytes-like object or a real number, not 'complex'",
     "output_type": "error",
     "traceback": [
      "\u001b[31m---------------------------------------------------------------------------\u001b[39m",
      "\u001b[31mTypeError\u001b[39m                                 Traceback (most recent call last)",
      "\u001b[36mCell\u001b[39m\u001b[36m \u001b[39m\u001b[32mIn[3]\u001b[39m\u001b[32m, line 1\u001b[39m\n\u001b[32m----> \u001b[39m\u001b[32m1\u001b[39m \u001b[38;5;28;43mint\u001b[39;49m\u001b[43m(\u001b[49m\u001b[32;43m3\u001b[39;49m\u001b[43m+\u001b[49m\u001b[32;43m4\u001b[39;49m\u001b[43mj\u001b[49m\u001b[43m)\u001b[49m\u001b[38;5;66;03m# complex number cannot be converted into int\u001b[39;00m\n",
      "\u001b[31mTypeError\u001b[39m: int() argument must be a string, a bytes-like object or a real number, not 'complex'"
     ]
    }
   ],
   "source": [
    "int(3+4j)# complex number cannot be converted into int"
   ]
  },
  {
   "cell_type": "markdown",
   "id": "5808d448",
   "metadata": {},
   "source": [
    "# float\n",
    "It is used to convert value into float"
   ]
  },
  {
   "cell_type": "code",
   "execution_count": 4,
   "id": "da1c8baa",
   "metadata": {},
   "outputs": [
    {
     "data": {
      "text/plain": [
       "10.0"
      ]
     },
     "execution_count": 4,
     "metadata": {},
     "output_type": "execute_result"
    }
   ],
   "source": [
    "# convert int to float\n",
    "float(10)\n"
   ]
  },
  {
   "cell_type": "code",
   "execution_count": 5,
   "id": "b3239992",
   "metadata": {},
   "outputs": [
    {
     "data": {
      "text/plain": [
       "123.0"
      ]
     },
     "execution_count": 5,
     "metadata": {},
     "output_type": "execute_result"
    }
   ],
   "source": [
    "# convert str '123' into float\n",
    "float('123')"
   ]
  },
  {
   "cell_type": "code",
   "execution_count": 8,
   "id": "f77e851a",
   "metadata": {},
   "outputs": [
    {
     "data": {
      "text/plain": [
       "23.45"
      ]
     },
     "execution_count": 8,
     "metadata": {},
     "output_type": "execute_result"
    }
   ],
   "source": [
    "# convert str '23.45' into float\n",
    "float('23.45')"
   ]
  },
  {
   "cell_type": "code",
   "execution_count": 9,
   "id": "917ed461",
   "metadata": {},
   "outputs": [
    {
     "name": "stdout",
     "output_type": "stream",
     "text": [
      "1.0\n",
      "0.0\n"
     ]
    }
   ],
   "source": [
    "# convert bool to float\n",
    "print(float(True))\n",
    "print(float(False))"
   ]
  },
  {
   "cell_type": "code",
   "execution_count": 10,
   "id": "25ee2df5",
   "metadata": {},
   "outputs": [
    {
     "ename": "ValueError",
     "evalue": "could not convert string to float: 'hello'",
     "output_type": "error",
     "traceback": [
      "\u001b[31m---------------------------------------------------------------------------\u001b[39m",
      "\u001b[31mValueError\u001b[39m                                Traceback (most recent call last)",
      "\u001b[36mCell\u001b[39m\u001b[36m \u001b[39m\u001b[32mIn[10]\u001b[39m\u001b[32m, line 2\u001b[39m\n\u001b[32m      1\u001b[39m \u001b[38;5;66;03m# converting str to float is not possible\u001b[39;00m\n\u001b[32m----> \u001b[39m\u001b[32m2\u001b[39m \u001b[38;5;28;43mfloat\u001b[39;49m\u001b[43m(\u001b[49m\u001b[33;43m\"\u001b[39;49m\u001b[33;43mhello\u001b[39;49m\u001b[33;43m\"\u001b[39;49m\u001b[43m)\u001b[49m\n",
      "\u001b[31mValueError\u001b[39m: could not convert string to float: 'hello'"
     ]
    }
   ],
   "source": [
    "# converting str to float is not possible\n",
    "float(\"hello\")"
   ]
  },
  {
   "cell_type": "code",
   "execution_count": 11,
   "id": "384ea276",
   "metadata": {},
   "outputs": [
    {
     "ename": "TypeError",
     "evalue": "float() argument must be a string or a real number, not 'complex'",
     "output_type": "error",
     "traceback": [
      "\u001b[31m---------------------------------------------------------------------------\u001b[39m",
      "\u001b[31mTypeError\u001b[39m                                 Traceback (most recent call last)",
      "\u001b[36mCell\u001b[39m\u001b[36m \u001b[39m\u001b[32mIn[11]\u001b[39m\u001b[32m, line 2\u001b[39m\n\u001b[32m      1\u001b[39m \u001b[38;5;66;03m# converting complex to float is not possible\u001b[39;00m\n\u001b[32m----> \u001b[39m\u001b[32m2\u001b[39m \u001b[38;5;28;43mfloat\u001b[39;49m\u001b[43m(\u001b[49m\u001b[32;43m3\u001b[39;49m\u001b[43m+\u001b[49m\u001b[32;43m6\u001b[39;49m\u001b[43mj\u001b[49m\u001b[43m)\u001b[49m\n",
      "\u001b[31mTypeError\u001b[39m: float() argument must be a string or a real number, not 'complex'"
     ]
    }
   ],
   "source": [
    "# converting complex to float is not possible\n",
    "float(3+6j)"
   ]
  },
  {
   "cell_type": "markdown",
   "id": "ca723bd6",
   "metadata": {},
   "source": [
    "# bool()\n",
    "boolean converts all values into True or False."
   ]
  },
  {
   "cell_type": "code",
   "execution_count": 12,
   "id": "a6a7f26c",
   "metadata": {},
   "outputs": [
    {
     "data": {
      "text/plain": [
       "True"
      ]
     },
     "execution_count": 12,
     "metadata": {},
     "output_type": "execute_result"
    }
   ],
   "source": [
    "bool(True)"
   ]
  },
  {
   "cell_type": "code",
   "execution_count": 13,
   "id": "d23c2974",
   "metadata": {},
   "outputs": [
    {
     "data": {
      "text/plain": [
       "False"
      ]
     },
     "execution_count": 13,
     "metadata": {},
     "output_type": "execute_result"
    }
   ],
   "source": [
    "bool(False)"
   ]
  },
  {
   "cell_type": "code",
   "execution_count": 14,
   "id": "463111cc",
   "metadata": {},
   "outputs": [
    {
     "data": {
      "text/plain": [
       "False"
      ]
     },
     "execution_count": 14,
     "metadata": {},
     "output_type": "execute_result"
    }
   ],
   "source": [
    "bool(0)"
   ]
  },
  {
   "cell_type": "code",
   "execution_count": 15,
   "id": "78477261",
   "metadata": {},
   "outputs": [
    {
     "data": {
      "text/plain": [
       "True"
      ]
     },
     "execution_count": 15,
     "metadata": {},
     "output_type": "execute_result"
    }
   ],
   "source": [
    "bool(1)"
   ]
  },
  {
   "cell_type": "code",
   "execution_count": 16,
   "id": "7a5a477e",
   "metadata": {},
   "outputs": [
    {
     "name": "stdout",
     "output_type": "stream",
     "text": [
      "True\n",
      "True\n",
      "True\n",
      "True\n"
     ]
    }
   ],
   "source": [
    "# Boolean will be true for all values except for 0 , False ,None,[],()\n",
    "print(bool(10))\n",
    "print(bool(\"Jeevitha\"))\n",
    "print(bool(-10))\n",
    "print(bool(3+5j))"
   ]
  },
  {
   "cell_type": "code",
   "execution_count": 17,
   "id": "522fb846",
   "metadata": {},
   "outputs": [
    {
     "name": "stdout",
     "output_type": "stream",
     "text": [
      "False\n",
      "False\n",
      "False\n",
      "False\n",
      "False\n"
     ]
    }
   ],
   "source": [
    "print(bool(0))\n",
    "print(bool(False))\n",
    "print(bool(None))\n",
    "print(bool([]))\n",
    "print(bool(()))"
   ]
  },
  {
   "cell_type": "markdown",
   "id": "0cb5c929",
   "metadata": {},
   "source": [
    "# complex\n",
    "Used to convert value to complex"
   ]
  },
  {
   "cell_type": "code",
   "execution_count": 18,
   "id": "c401a5c0",
   "metadata": {},
   "outputs": [
    {
     "data": {
      "text/plain": [
       "(10+0j)"
      ]
     },
     "execution_count": 18,
     "metadata": {},
     "output_type": "execute_result"
    }
   ],
   "source": [
    "# int to complex\n",
    "complex(10)"
   ]
  },
  {
   "cell_type": "code",
   "execution_count": 19,
   "id": "36bf0e83",
   "metadata": {},
   "outputs": [
    {
     "data": {
      "text/plain": [
       "(12.3+0j)"
      ]
     },
     "execution_count": 19,
     "metadata": {},
     "output_type": "execute_result"
    }
   ],
   "source": [
    "# float to complex\n",
    "complex(12.3)"
   ]
  },
  {
   "cell_type": "code",
   "execution_count": 20,
   "id": "5690d5e5",
   "metadata": {},
   "outputs": [
    {
     "data": {
      "text/plain": [
       "(1+0j)"
      ]
     },
     "execution_count": 20,
     "metadata": {},
     "output_type": "execute_result"
    }
   ],
   "source": [
    "# bool to complex\n",
    "complex(True)"
   ]
  },
  {
   "cell_type": "code",
   "execution_count": 21,
   "id": "448ddd1f",
   "metadata": {},
   "outputs": [
    {
     "data": {
      "text/plain": [
       "(4+5j)"
      ]
     },
     "execution_count": 21,
     "metadata": {},
     "output_type": "execute_result"
    }
   ],
   "source": [
    "# complex within str to complex\n",
    "complex('4+5j')"
   ]
  },
  {
   "cell_type": "code",
   "execution_count": 22,
   "id": "42c34fe8",
   "metadata": {},
   "outputs": [
    {
     "ename": "ValueError",
     "evalue": "complex() arg is a malformed string",
     "output_type": "error",
     "traceback": [
      "\u001b[31m---------------------------------------------------------------------------\u001b[39m",
      "\u001b[31mValueError\u001b[39m                                Traceback (most recent call last)",
      "\u001b[36mCell\u001b[39m\u001b[36m \u001b[39m\u001b[32mIn[22]\u001b[39m\u001b[32m, line 2\u001b[39m\n\u001b[32m      1\u001b[39m \u001b[38;5;66;03m# converting str to complex is not possible\u001b[39;00m\n\u001b[32m----> \u001b[39m\u001b[32m2\u001b[39m \u001b[38;5;28;43mcomplex\u001b[39;49m\u001b[43m(\u001b[49m\u001b[33;43m\"\u001b[39;49m\u001b[33;43mHello\u001b[39;49m\u001b[33;43m\"\u001b[39;49m\u001b[43m)\u001b[49m\n",
      "\u001b[31mValueError\u001b[39m: complex() arg is a malformed string"
     ]
    }
   ],
   "source": [
    "# converting str to complex is not possible\n",
    "complex(\"Hello\")"
   ]
  },
  {
   "cell_type": "markdown",
   "id": "a346df5b",
   "metadata": {},
   "source": [
    "# str()\n",
    "Use to convert value into string\n"
   ]
  },
  {
   "cell_type": "code",
   "execution_count": 23,
   "id": "1e627150",
   "metadata": {},
   "outputs": [
    {
     "name": "stdout",
     "output_type": "stream",
     "text": [
      "10\n",
      "<class 'str'>\n"
     ]
    }
   ],
   "source": [
    "# int to str\n",
    "a = str(10)\n",
    "print(a)\n",
    "print(type(a))\n"
   ]
  },
  {
   "cell_type": "code",
   "execution_count": 24,
   "id": "4751404f",
   "metadata": {},
   "outputs": [
    {
     "name": "stdout",
     "output_type": "stream",
     "text": [
      "10.5\n",
      "<class 'str'>\n"
     ]
    }
   ],
   "source": [
    "# float to str\n",
    "a = str(10.5)\n",
    "print(a)\n",
    "print(type(a))"
   ]
  },
  {
   "cell_type": "code",
   "execution_count": 25,
   "id": "6f5171b1",
   "metadata": {},
   "outputs": [
    {
     "name": "stdout",
     "output_type": "stream",
     "text": [
      "True\n",
      "<class 'str'>\n"
     ]
    }
   ],
   "source": [
    "# bool to str\n",
    "a = str(True)\n",
    "print(a)\n",
    "print(type(a))"
   ]
  },
  {
   "cell_type": "code",
   "execution_count": 26,
   "id": "7753064a",
   "metadata": {},
   "outputs": [
    {
     "name": "stdout",
     "output_type": "stream",
     "text": [
      "(3+4j)\n",
      "<class 'str'>\n"
     ]
    }
   ],
   "source": [
    "# complex to str\n",
    "a = str(3+4j)\n",
    "print(a)\n",
    "print(type(a))"
   ]
  },
  {
   "cell_type": "markdown",
   "id": "69880776",
   "metadata": {},
   "source": [
    "# str-->complex-->float-->int-->bool\n"
   ]
  },
  {
   "cell_type": "markdown",
   "id": "893a8756",
   "metadata": {},
   "source": [
    "# input()\n",
    "Used take input from users"
   ]
  },
  {
   "cell_type": "code",
   "execution_count": 28,
   "id": "e0eef32d",
   "metadata": {},
   "outputs": [
    {
     "name": "stdout",
     "output_type": "stream",
     "text": [
      "3000\n"
     ]
    }
   ],
   "source": [
    "a = 1000\n",
    "b = 2000\n",
    "print(a+b)"
   ]
  },
  {
   "cell_type": "code",
   "execution_count": 29,
   "id": "8aa1168d",
   "metadata": {},
   "outputs": [
    {
     "name": "stdout",
     "output_type": "stream",
     "text": [
      "sum of a and b is  30\n"
     ]
    }
   ],
   "source": [
    "# int(input()):takes onlt integer values\n",
    "a = int(input(\"enter only integer value a\"))\n",
    "b = int(input(\"enter only integer value b\"))\n",
    "print(\"sum of a and b is \",a+b)"
   ]
  },
  {
   "cell_type": "code",
   "execution_count": 30,
   "id": "779e24a6",
   "metadata": {},
   "outputs": [
    {
     "name": "stdout",
     "output_type": "stream",
     "text": [
      "20\n"
     ]
    }
   ],
   "source": [
    "x =int(input())\n",
    "print(x) # it throws error if we input float,str,bool,complex"
   ]
  },
  {
   "cell_type": "code",
   "execution_count": 31,
   "id": "e6fcc02a",
   "metadata": {},
   "outputs": [
    {
     "name": "stdout",
     "output_type": "stream",
     "text": [
      "30.0\n"
     ]
    }
   ],
   "source": [
    "# float(input()): used to take float and integer as its inputs from user\n",
    "a = float(input(\"enter float or int: \"))\n",
    "print(a)"
   ]
  },
  {
   "cell_type": "code",
   "execution_count": 32,
   "id": "22c0c2b4",
   "metadata": {},
   "outputs": [
    {
     "name": "stdout",
     "output_type": "stream",
     "text": [
      "30.0\n"
     ]
    }
   ],
   "source": [
    "a = float(input(\"enter float or int: \"))\n",
    "print(a)"
   ]
  },
  {
   "cell_type": "code",
   "execution_count": 33,
   "id": "cf65aaa5",
   "metadata": {},
   "outputs": [
    {
     "name": "stdout",
     "output_type": "stream",
     "text": [
      "True\n"
     ]
    }
   ],
   "source": [
    "# bool(input())\n",
    "b = bool(input())\n",
    "print(b)"
   ]
  },
  {
   "cell_type": "code",
   "execution_count": 34,
   "id": "8af1a220",
   "metadata": {},
   "outputs": [
    {
     "name": "stdout",
     "output_type": "stream",
     "text": [
      "True\n"
     ]
    }
   ],
   "source": [
    "b = bool(input())\n",
    "print(b)\n",
    "# it always returns true except empty string"
   ]
  },
  {
   "cell_type": "code",
   "execution_count": 35,
   "id": "5665ecc0",
   "metadata": {},
   "outputs": [
    {
     "name": "stdout",
     "output_type": "stream",
     "text": [
      "True\n"
     ]
    }
   ],
   "source": [
    "b = bool(input())\n",
    "print(b)"
   ]
  },
  {
   "cell_type": "code",
   "execution_count": 36,
   "id": "a412e81d",
   "metadata": {},
   "outputs": [
    {
     "name": "stdout",
     "output_type": "stream",
     "text": [
      "vivek\n"
     ]
    }
   ],
   "source": [
    "#input(): By default it takes string from user\n",
    "name = input()\n",
    "print(name)"
   ]
  },
  {
   "cell_type": "code",
   "execution_count": 37,
   "id": "2c0dda9f",
   "metadata": {},
   "outputs": [
    {
     "name": "stdout",
     "output_type": "stream",
     "text": [
      "vivek\n",
      "<class 'str'>\n"
     ]
    }
   ],
   "source": [
    "a = input()\n",
    "print(a)\n",
    "print(type(a))\n"
   ]
  },
  {
   "cell_type": "code",
   "execution_count": 38,
   "id": "d8337e8a",
   "metadata": {},
   "outputs": [
    {
     "name": "stdout",
     "output_type": "stream",
     "text": [
      "10\n",
      "<class 'str'>\n"
     ]
    }
   ],
   "source": [
    "a = input()\n",
    "print(a)\n",
    "print(type(a))"
   ]
  },
  {
   "cell_type": "code",
   "execution_count": 40,
   "id": "f97e1ed3",
   "metadata": {},
   "outputs": [
    {
     "name": "stdout",
     "output_type": "stream",
     "text": [
      "1\n",
      "<class 'str'>\n"
     ]
    }
   ],
   "source": [
    "a = input()\n",
    "print(a)\n",
    "print(type(a))\n",
    "# it always takes string as input from user"
   ]
  },
  {
   "cell_type": "markdown",
   "id": "546fe956",
   "metadata": {},
   "source": [
    "# List , tuple,set,dict"
   ]
  },
  {
   "cell_type": "code",
   "execution_count": 41,
   "id": "d29128f5",
   "metadata": {},
   "outputs": [
    {
     "name": "stdout",
     "output_type": "stream",
     "text": [
      "[1, 2, 3, 4]\n"
     ]
    }
   ],
   "source": [
    "# creating list\n",
    "A = list((1,2,3,4))\n",
    "print(A)"
   ]
  },
  {
   "cell_type": "code",
   "execution_count": 42,
   "id": "70620256",
   "metadata": {},
   "outputs": [
    {
     "data": {
      "text/plain": [
       "(1, 2, 3, 4)"
      ]
     },
     "execution_count": 42,
     "metadata": {},
     "output_type": "execute_result"
    }
   ],
   "source": [
    "# convert list to tuple\n",
    "tuple(A)"
   ]
  },
  {
   "cell_type": "code",
   "execution_count": 43,
   "id": "b3630895",
   "metadata": {},
   "outputs": [
    {
     "name": "stdout",
     "output_type": "stream",
     "text": [
      "(10, 20, 30, 40)\n"
     ]
    }
   ],
   "source": [
    "# creating tuple\n",
    "B = tuple((10,20,30,40))\n",
    "print(B)"
   ]
  },
  {
   "cell_type": "code",
   "execution_count": 44,
   "id": "64141029",
   "metadata": {},
   "outputs": [
    {
     "data": {
      "text/plain": [
       "[10, 20, 30, 40]"
      ]
     },
     "execution_count": 44,
     "metadata": {},
     "output_type": "execute_result"
    }
   ],
   "source": [
    "#tuple to list\n",
    "list(B)"
   ]
  },
  {
   "cell_type": "code",
   "execution_count": 45,
   "id": "af302018",
   "metadata": {},
   "outputs": [
    {
     "data": {
      "text/plain": [
       "{1, 2, 3, 4}"
      ]
     },
     "execution_count": 45,
     "metadata": {},
     "output_type": "execute_result"
    }
   ],
   "source": [
    "# list to set\n",
    "set(A)"
   ]
  },
  {
   "cell_type": "code",
   "execution_count": 46,
   "id": "7cd3d264",
   "metadata": {},
   "outputs": [
    {
     "data": {
      "text/plain": [
       "{10, 20, 30, 40}"
      ]
     },
     "execution_count": 46,
     "metadata": {},
     "output_type": "execute_result"
    }
   ],
   "source": [
    "# tuple into set\n",
    "set(B)"
   ]
  },
  {
   "cell_type": "code",
   "execution_count": 47,
   "id": "a6f23ad0",
   "metadata": {},
   "outputs": [
    {
     "name": "stdout",
     "output_type": "stream",
     "text": [
      "{1, 2, 3, 4}\n"
     ]
    }
   ],
   "source": [
    "C = set((1,2,3,4))\n",
    "print(C)"
   ]
  },
  {
   "cell_type": "code",
   "execution_count": 48,
   "id": "a6683b55",
   "metadata": {},
   "outputs": [
    {
     "data": {
      "text/plain": [
       "[1, 2, 3, 4]"
      ]
     },
     "execution_count": 48,
     "metadata": {},
     "output_type": "execute_result"
    }
   ],
   "source": [
    "# set to list\n",
    "list(C)"
   ]
  },
  {
   "cell_type": "code",
   "execution_count": 49,
   "id": "9c3683a3",
   "metadata": {},
   "outputs": [
    {
     "data": {
      "text/plain": [
       "(1, 2, 3, 4)"
      ]
     },
     "execution_count": 49,
     "metadata": {},
     "output_type": "execute_result"
    }
   ],
   "source": [
    "# set to tuple\n",
    "tuple(C)"
   ]
  },
  {
   "cell_type": "markdown",
   "id": "d1579879",
   "metadata": {},
   "source": [
    "# set to tuple or list\n",
    "# tuple to set or list\n",
    "# list to set or tuple\n"
   ]
  },
  {
   "cell_type": "code",
   "execution_count": 50,
   "id": "08e42321",
   "metadata": {},
   "outputs": [
    {
     "name": "stdout",
     "output_type": "stream",
     "text": [
      "{'name': 'Zara', 'Age': 20}\n"
     ]
    }
   ],
   "source": [
    "# dict\n",
    "D =dict({'name':'Zara','Age':20})\n",
    "print(D)\n"
   ]
  },
  {
   "cell_type": "code",
   "execution_count": 51,
   "id": "d565d5e4",
   "metadata": {},
   "outputs": [
    {
     "data": {
      "text/plain": [
       "['name', 'Age']"
      ]
     },
     "execution_count": 51,
     "metadata": {},
     "output_type": "execute_result"
    }
   ],
   "source": [
    "# dict into list:list of keys\n",
    "list(D)"
   ]
  },
  {
   "cell_type": "code",
   "execution_count": 52,
   "id": "8aee46e8",
   "metadata": {},
   "outputs": [
    {
     "data": {
      "text/plain": [
       "('name', 'Age')"
      ]
     },
     "execution_count": 52,
     "metadata": {},
     "output_type": "execute_result"
    }
   ],
   "source": [
    "# dict into tuple : tuple of keys\n",
    "tuple(D)"
   ]
  },
  {
   "cell_type": "code",
   "execution_count": 53,
   "id": "c75b6979",
   "metadata": {},
   "outputs": [
    {
     "data": {
      "text/plain": [
       "{'Age', 'name'}"
      ]
     },
     "execution_count": 53,
     "metadata": {},
     "output_type": "execute_result"
    }
   ],
   "source": [
    "# dict to set:set of keys\n",
    "set(D)"
   ]
  },
  {
   "cell_type": "code",
   "execution_count": null,
   "id": "1e9f6645",
   "metadata": {},
   "outputs": [
    {
     "ename": "TypeError",
     "evalue": "cannot convert dictionary update sequence element #0 to a sequence",
     "output_type": "error",
     "traceback": [
      "\u001b[31m---------------------------------------------------------------------------\u001b[39m",
      "\u001b[31mTypeError\u001b[39m                                 Traceback (most recent call last)",
      "\u001b[36mCell\u001b[39m\u001b[36m \u001b[39m\u001b[32mIn[54]\u001b[39m\u001b[32m, line 2\u001b[39m\n\u001b[32m      1\u001b[39m \u001b[38;5;66;03m# list,tuple,set to dict is not possible\u001b[39;00m\n\u001b[32m----> \u001b[39m\u001b[32m2\u001b[39m \u001b[38;5;28;43mdict\u001b[39;49m\u001b[43m(\u001b[49m\u001b[43mA\u001b[49m\u001b[43m)\u001b[49m\n",
      "\u001b[31mTypeError\u001b[39m: cannot convert dictionary update sequence element #0 to a sequence"
     ]
    }
   ],
   "source": [
    "# list,tuple,set to dict is not possible\n",
    "dict(A)"
   ]
  },
  {
   "cell_type": "markdown",
   "id": "1a611d46",
   "metadata": {},
   "source": [
    "# eval\n",
    "It takes list,tuple,set,dict from users"
   ]
  },
  {
   "cell_type": "code",
   "execution_count": 55,
   "id": "ec336221",
   "metadata": {},
   "outputs": [
    {
     "name": "stdout",
     "output_type": "stream",
     "text": [
      "{'name': 'john', 'age': 25, 'city': 'new york'}\n",
      "<class 'dict'>\n"
     ]
    }
   ],
   "source": [
    "A =eval(input())\n",
    "print(A)\n",
    "print(type(A)) \n",
    "# it takes list,tuple,set,dictionary as input from user\n",
    "# example input:{'name':'john', 'age':25, 'city':'new york'}\n",
    "# example input:[10,20,30,40]"
   ]
  },
  {
   "cell_type": "code",
   "execution_count": 56,
   "id": "666dd0a7",
   "metadata": {},
   "outputs": [
    {
     "name": "stdout",
     "output_type": "stream",
     "text": [
      "[10, 20, 30, 40]\n",
      "<class 'list'>\n"
     ]
    }
   ],
   "source": [
    "A =eval(input())\n",
    "print(A)\n",
    "print(type(A)) \n",
    "# it takes list,tuple,set,dictionary as input from user\n",
    "# example input:{'name':'john', 'age':25, 'city':'new york'}\n",
    "# example input:[10,20,30,40]"
   ]
  },
  {
   "cell_type": "code",
   "execution_count": 57,
   "id": "0abcca27",
   "metadata": {},
   "outputs": [
    {
     "name": "stdout",
     "output_type": "stream",
     "text": [
      "{40, 10, 20, 30}\n",
      "<class 'set'>\n"
     ]
    }
   ],
   "source": [
    "A =eval(input())\n",
    "print(A)\n",
    "print(type(A)) # example input set :{10,20,30,40}"
   ]
  },
  {
   "cell_type": "code",
   "execution_count": 58,
   "id": "1973ff55",
   "metadata": {},
   "outputs": [
    {
     "name": "stdout",
     "output_type": "stream",
     "text": [
      "(10, 20, 30, 40)\n",
      "<class 'tuple'>\n"
     ]
    }
   ],
   "source": [
    "# example input tuple :(10,20,30,40)\n",
    "A = eval(input())\n",
    "print(A)\n",
    "print(type(A)) # example input tuple :(10,20,30,40)"
   ]
  },
  {
   "cell_type": "markdown",
   "id": "30aa8471",
   "metadata": {},
   "source": [
    "# enumerate\n",
    "It is used to find index number of each element or character in list or tuple or string."
   ]
  },
  {
   "cell_type": "code",
   "execution_count": 61,
   "id": "f590d651",
   "metadata": {},
   "outputs": [
    {
     "name": "stdout",
     "output_type": "stream",
     "text": [
      "<class 'str'>\n"
     ]
    },
    {
     "data": {
      "text/plain": [
       "[(0, 'p'), (1, 'y'), (2, 't'), (3, 'h'), (4, 'o'), (5, 'n')]"
      ]
     },
     "execution_count": 61,
     "metadata": {},
     "output_type": "execute_result"
    }
   ],
   "source": [
    "A = 'python'\n",
    "print(type(A))\n",
    "list(enumerate(A))\n"
   ]
  },
  {
   "cell_type": "code",
   "execution_count": 62,
   "id": "9c8f5e3b",
   "metadata": {},
   "outputs": [
    {
     "data": {
      "text/plain": [
       "((0, 'p'), (1, 'y'), (2, 't'), (3, 'h'), (4, 'o'), (5, 'n'))"
      ]
     },
     "execution_count": 62,
     "metadata": {},
     "output_type": "execute_result"
    }
   ],
   "source": [
    "tuple(enumerate(A))"
   ]
  },
  {
   "cell_type": "code",
   "execution_count": 63,
   "id": "20d21cce",
   "metadata": {},
   "outputs": [
    {
     "data": {
      "text/plain": [
       "{0: 'p', 1: 'y', 2: 't', 3: 'h', 4: 'o', 5: 'n'}"
      ]
     },
     "execution_count": 63,
     "metadata": {},
     "output_type": "execute_result"
    }
   ],
   "source": [
    "dict(enumerate(A))"
   ]
  },
  {
   "cell_type": "code",
   "execution_count": 64,
   "id": "401fcfe3",
   "metadata": {},
   "outputs": [
    {
     "data": {
      "text/plain": [
       "{(0, 'p'), (1, 'y'), (2, 't'), (3, 'h'), (4, 'o'), (5, 'n')}"
      ]
     },
     "execution_count": 64,
     "metadata": {},
     "output_type": "execute_result"
    }
   ],
   "source": [
    "set(enumerate(A))"
   ]
  },
  {
   "cell_type": "code",
   "execution_count": 65,
   "id": "ffe6554c",
   "metadata": {},
   "outputs": [
    {
     "data": {
      "text/plain": [
       "[(0, 'p'), (1, 'y'), (2, 't'), (3, 'h'), (4, 'o'), (5, 'n')]"
      ]
     },
     "execution_count": 65,
     "metadata": {},
     "output_type": "execute_result"
    }
   ],
   "source": [
    "list(enumerate(A))"
   ]
  },
  {
   "cell_type": "code",
   "execution_count": 66,
   "id": "663db6dd",
   "metadata": {},
   "outputs": [
    {
     "data": {
      "text/plain": [
       "[(0, 'apple'), (1, 'orange'), (2, 'grapes')]"
      ]
     },
     "execution_count": 66,
     "metadata": {},
     "output_type": "execute_result"
    }
   ],
   "source": [
    "B = ['apple','orange','grapes']\n",
    "list(enumerate(B))\n"
   ]
  },
  {
   "cell_type": "code",
   "execution_count": 67,
   "id": "e78a0e46",
   "metadata": {},
   "outputs": [
    {
     "data": {
      "text/plain": [
       "((0, 'apple'), (1, 'orange'), (2, 'grapes'))"
      ]
     },
     "execution_count": 67,
     "metadata": {},
     "output_type": "execute_result"
    }
   ],
   "source": [
    "tuple(enumerate(B))"
   ]
  },
  {
   "cell_type": "code",
   "execution_count": 68,
   "id": "acabb8ff",
   "metadata": {},
   "outputs": [
    {
     "data": {
      "text/plain": [
       "{0: 'apple', 1: 'orange', 2: 'grapes'}"
      ]
     },
     "execution_count": 68,
     "metadata": {},
     "output_type": "execute_result"
    }
   ],
   "source": [
    "dict(enumerate(B))"
   ]
  },
  {
   "cell_type": "markdown",
   "id": "d72e8dfc",
   "metadata": {},
   "source": [
    "# range\n",
    "Used to generate n number of values/numbers"
   ]
  },
  {
   "cell_type": "code",
   "execution_count": 69,
   "id": "bf8c585e",
   "metadata": {},
   "outputs": [
    {
     "data": {
      "text/plain": [
       "[0, 1, 2, 3, 4, 5, 6, 7, 8, 9]"
      ]
     },
     "execution_count": 69,
     "metadata": {},
     "output_type": "execute_result"
    }
   ],
   "source": [
    "# generate list of 10 numbers(0 to 9)\n",
    "list(range(10)) # end value is not include\n",
    "# range by default generates values from 0 and end value is not included"
   ]
  },
  {
   "cell_type": "code",
   "execution_count": 70,
   "id": "8d40ef08",
   "metadata": {},
   "outputs": [
    {
     "data": {
      "text/plain": [
       "(0,\n",
       " 1,\n",
       " 2,\n",
       " 3,\n",
       " 4,\n",
       " 5,\n",
       " 6,\n",
       " 7,\n",
       " 8,\n",
       " 9,\n",
       " 10,\n",
       " 11,\n",
       " 12,\n",
       " 13,\n",
       " 14,\n",
       " 15,\n",
       " 16,\n",
       " 17,\n",
       " 18,\n",
       " 19,\n",
       " 20,\n",
       " 21,\n",
       " 22,\n",
       " 23,\n",
       " 24,\n",
       " 25,\n",
       " 26,\n",
       " 27,\n",
       " 28,\n",
       " 29)"
      ]
     },
     "execution_count": 70,
     "metadata": {},
     "output_type": "execute_result"
    }
   ],
   "source": [
    "# generate tuple of 30 numbers starting from 0\n",
    "tuple(range(30)) #end value(30) not included (0 to 29)"
   ]
  },
  {
   "cell_type": "code",
   "execution_count": 71,
   "id": "640b61d7",
   "metadata": {},
   "outputs": [
    {
     "data": {
      "text/plain": [
       "[1, 2, 3, 4, 5, 6, 7, 8, 9, 10]"
      ]
     },
     "execution_count": 71,
     "metadata": {},
     "output_type": "execute_result"
    }
   ],
   "source": [
    "# generate values from 1 to 10(included) within a list\n",
    "# range(start_num,end_num)\n",
    "list(range(1,11))"
   ]
  },
  {
   "cell_type": "code",
   "execution_count": null,
   "id": "df127206",
   "metadata": {},
   "outputs": [
    {
     "data": {
      "text/plain": [
       "[0, 1, 2, 3, 4, 5, 6, 7, 8, 9, 10, 11, 12, 13, 14, 15, 16, 17, 18, 19]"
      ]
     },
     "execution_count": 72,
     "metadata": {},
     "output_type": "execute_result"
    }
   ],
   "source": [
    "list(range(20)) "
   ]
  },
  {
   "cell_type": "code",
   "execution_count": 73,
   "id": "d0511c57",
   "metadata": {},
   "outputs": [
    {
     "data": {
      "text/plain": [
       "[1, 2, 3, 4, 5, 6, 7, 8, 9, 10, 11, 12, 13, 14, 15, 16, 17, 18, 19]"
      ]
     },
     "execution_count": 73,
     "metadata": {},
     "output_type": "execute_result"
    }
   ],
   "source": [
    "list(range(1,20))"
   ]
  },
  {
   "cell_type": "code",
   "execution_count": 74,
   "id": "f4a87009",
   "metadata": {},
   "outputs": [
    {
     "data": {
      "text/plain": [
       "[5,\n",
       " 6,\n",
       " 7,\n",
       " 8,\n",
       " 9,\n",
       " 10,\n",
       " 11,\n",
       " 12,\n",
       " 13,\n",
       " 14,\n",
       " 15,\n",
       " 16,\n",
       " 17,\n",
       " 18,\n",
       " 19,\n",
       " 20,\n",
       " 21,\n",
       " 22,\n",
       " 23,\n",
       " 24,\n",
       " 25,\n",
       " 26,\n",
       " 27,\n",
       " 28,\n",
       " 29,\n",
       " 30,\n",
       " 31,\n",
       " 32,\n",
       " 33,\n",
       " 34,\n",
       " 35]"
      ]
     },
     "execution_count": 74,
     "metadata": {},
     "output_type": "execute_result"
    }
   ],
   "source": [
    "# generate values from 5 to 35(included)\n",
    "list(range(5,36))"
   ]
  },
  {
   "cell_type": "code",
   "execution_count": 75,
   "id": "4bb80ecf",
   "metadata": {},
   "outputs": [
    {
     "data": {
      "text/plain": [
       "[2, 4, 6, 8, 10, 12, 14, 16, 18, 20]"
      ]
     },
     "execution_count": 75,
     "metadata": {},
     "output_type": "execute_result"
    }
   ],
   "source": [
    "# generate first 10 even numbers(2,4,6,8,10,12,14,16,18,20)\n",
    "# range(start_num,end_num,step)\n",
    "# end_num not included\n",
    "list(range(2,21,2))"
   ]
  },
  {
   "cell_type": "code",
   "execution_count": 76,
   "id": "a6e9d920",
   "metadata": {},
   "outputs": [
    {
     "data": {
      "text/plain": [
       "[7, 14, 21, 28, 35, 42, 49, 56, 63, 70]"
      ]
     },
     "execution_count": 76,
     "metadata": {},
     "output_type": "execute_result"
    }
   ],
   "source": [
    "# generate first 10 multiples of 7\n",
    "list(range(7,71,7))"
   ]
  },
  {
   "cell_type": "code",
   "execution_count": 77,
   "id": "eb97b69a",
   "metadata": {},
   "outputs": [
    {
     "data": {
      "text/plain": [
       "[1, 3, 5, 7, 9, 11, 13, 15, 17, 19]"
      ]
     },
     "execution_count": 77,
     "metadata": {},
     "output_type": "execute_result"
    }
   ],
   "source": [
    "# generate first 10 odd numbers(1,3,5,7,9,11,13,15,17,19)\n",
    "list(range(1,20,2))\n"
   ]
  },
  {
   "cell_type": "code",
   "execution_count": 78,
   "id": "f56183bf",
   "metadata": {},
   "outputs": [
    {
     "data": {
      "text/plain": [
       "(20, 25, 30, 35, 40, 45, 50)"
      ]
     },
     "execution_count": 78,
     "metadata": {},
     "output_type": "execute_result"
    }
   ],
   "source": [
    "# generate tuple of values like 20 , 25,30,35,40,45,50\n",
    "tuple(range(20,51,5))"
   ]
  },
  {
   "cell_type": "markdown",
   "id": "1ca85a8c",
   "metadata": {},
   "source": [
    "# help"
   ]
  },
  {
   "cell_type": "code",
   "execution_count": 79,
   "id": "73fdbeec",
   "metadata": {},
   "outputs": [
    {
     "name": "stdout",
     "output_type": "stream",
     "text": [
      "Help on built-in function print in module builtins:\n",
      "\n",
      "print(*args, sep=' ', end='\\n', file=None, flush=False)\n",
      "    Prints the values to a stream, or to sys.stdout by default.\n",
      "\n",
      "    sep\n",
      "      string inserted between values, default a space.\n",
      "    end\n",
      "      string appended after the last value, default a newline.\n",
      "    file\n",
      "      a file-like object (stream); defaults to the current sys.stdout.\n",
      "    flush\n",
      "      whether to forcibly flush the stream.\n",
      "\n"
     ]
    }
   ],
   "source": [
    "# eval\n",
    "help(print)"
   ]
  },
  {
   "cell_type": "code",
   "execution_count": 80,
   "id": "29afd1ce",
   "metadata": {},
   "outputs": [
    {
     "name": "stdout",
     "output_type": "stream",
     "text": [
      "Help on method raw_input in module ipykernel.kernelbase:\n",
      "\n",
      "raw_input(prompt='') method of ipykernel.ipkernel.IPythonKernel instance\n",
      "    Forward raw_input to frontends\n",
      "\n",
      "    Raises\n",
      "    ------\n",
      "    StdinNotImplementedError if active frontend doesn't support stdin.\n",
      "\n"
     ]
    }
   ],
   "source": [
    "help(input)"
   ]
  },
  {
   "cell_type": "code",
   "execution_count": 81,
   "id": "dba250e7",
   "metadata": {},
   "outputs": [
    {
     "name": "stdout",
     "output_type": "stream",
     "text": [
      "Help on built-in function sum in module builtins:\n",
      "\n",
      "sum(iterable, /, start=0)\n",
      "    Return the sum of a 'start' value (default: 0) plus an iterable of numbers\n",
      "\n",
      "    When the iterable is empty, return the start value.\n",
      "    This function is intended specifically for use with numeric values and may\n",
      "    reject non-numeric types.\n",
      "\n"
     ]
    }
   ],
   "source": [
    "help(sum)"
   ]
  },
  {
   "cell_type": "code",
   "execution_count": 82,
   "id": "a339ac32",
   "metadata": {},
   "outputs": [
    {
     "name": "stdout",
     "output_type": "stream",
     "text": [
      "Help on class list in module builtins:\n",
      "\n",
      "class list(object)\n",
      " |  list(iterable=(), /)\n",
      " |\n",
      " |  Built-in mutable sequence.\n",
      " |\n",
      " |  If no argument is given, the constructor creates a new empty list.\n",
      " |  The argument must be an iterable if specified.\n",
      " |\n",
      " |  Methods defined here:\n",
      " |\n",
      " |  __add__(self, value, /)\n",
      " |      Return self+value.\n",
      " |\n",
      " |  __contains__(self, key, /)\n",
      " |      Return bool(key in self).\n",
      " |\n",
      " |  __delitem__(self, key, /)\n",
      " |      Delete self[key].\n",
      " |\n",
      " |  __eq__(self, value, /)\n",
      " |      Return self==value.\n",
      " |\n",
      " |  __ge__(self, value, /)\n",
      " |      Return self>=value.\n",
      " |\n",
      " |  __getattribute__(self, name, /)\n",
      " |      Return getattr(self, name).\n",
      " |\n",
      " |  __getitem__(self, index, /)\n",
      " |      Return self[index].\n",
      " |\n",
      " |  __gt__(self, value, /)\n",
      " |      Return self>value.\n",
      " |\n",
      " |  __iadd__(self, value, /)\n",
      " |      Implement self+=value.\n",
      " |\n",
      " |  __imul__(self, value, /)\n",
      " |      Implement self*=value.\n",
      " |\n",
      " |  __init__(self, /, *args, **kwargs)\n",
      " |      Initialize self.  See help(type(self)) for accurate signature.\n",
      " |\n",
      " |  __iter__(self, /)\n",
      " |      Implement iter(self).\n",
      " |\n",
      " |  __le__(self, value, /)\n",
      " |      Return self<=value.\n",
      " |\n",
      " |  __len__(self, /)\n",
      " |      Return len(self).\n",
      " |\n",
      " |  __lt__(self, value, /)\n",
      " |      Return self<value.\n",
      " |\n",
      " |  __mul__(self, value, /)\n",
      " |      Return self*value.\n",
      " |\n",
      " |  __ne__(self, value, /)\n",
      " |      Return self!=value.\n",
      " |\n",
      " |  __repr__(self, /)\n",
      " |      Return repr(self).\n",
      " |\n",
      " |  __reversed__(self, /)\n",
      " |      Return a reverse iterator over the list.\n",
      " |\n",
      " |  __rmul__(self, value, /)\n",
      " |      Return value*self.\n",
      " |\n",
      " |  __setitem__(self, key, value, /)\n",
      " |      Set self[key] to value.\n",
      " |\n",
      " |  __sizeof__(self, /)\n",
      " |      Return the size of the list in memory, in bytes.\n",
      " |\n",
      " |  append(self, object, /)\n",
      " |      Append object to the end of the list.\n",
      " |\n",
      " |  clear(self, /)\n",
      " |      Remove all items from list.\n",
      " |\n",
      " |  copy(self, /)\n",
      " |      Return a shallow copy of the list.\n",
      " |\n",
      " |  count(self, value, /)\n",
      " |      Return number of occurrences of value.\n",
      " |\n",
      " |  extend(self, iterable, /)\n",
      " |      Extend list by appending elements from the iterable.\n",
      " |\n",
      " |  index(self, value, start=0, stop=9223372036854775807, /)\n",
      " |      Return first index of value.\n",
      " |\n",
      " |      Raises ValueError if the value is not present.\n",
      " |\n",
      " |  insert(self, index, object, /)\n",
      " |      Insert object before index.\n",
      " |\n",
      " |  pop(self, index=-1, /)\n",
      " |      Remove and return item at index (default last).\n",
      " |\n",
      " |      Raises IndexError if list is empty or index is out of range.\n",
      " |\n",
      " |  remove(self, value, /)\n",
      " |      Remove first occurrence of value.\n",
      " |\n",
      " |      Raises ValueError if the value is not present.\n",
      " |\n",
      " |  reverse(self, /)\n",
      " |      Reverse *IN PLACE*.\n",
      " |\n",
      " |  sort(self, /, *, key=None, reverse=False)\n",
      " |      Sort the list in ascending order and return None.\n",
      " |\n",
      " |      The sort is in-place (i.e. the list itself is modified) and stable (i.e. the\n",
      " |      order of two equal elements is maintained).\n",
      " |\n",
      " |      If a key function is given, apply it once to each list item and sort them,\n",
      " |      ascending or descending, according to their function values.\n",
      " |\n",
      " |      The reverse flag can be set to sort in descending order.\n",
      " |\n",
      " |  ----------------------------------------------------------------------\n",
      " |  Class methods defined here:\n",
      " |\n",
      " |  __class_getitem__(object, /)\n",
      " |      See PEP 585\n",
      " |\n",
      " |  ----------------------------------------------------------------------\n",
      " |  Static methods defined here:\n",
      " |\n",
      " |  __new__(*args, **kwargs)\n",
      " |      Create and return a new object.  See help(type) for accurate signature.\n",
      " |\n",
      " |  ----------------------------------------------------------------------\n",
      " |  Data and other attributes defined here:\n",
      " |\n",
      " |  __hash__ = None\n",
      "\n"
     ]
    }
   ],
   "source": [
    "help(list)"
   ]
  },
  {
   "cell_type": "code",
   "execution_count": 83,
   "id": "c48970f8",
   "metadata": {},
   "outputs": [
    {
     "name": "stdout",
     "output_type": "stream",
     "text": [
      "Help on class str in module builtins:\n",
      "\n",
      "class str(object)\n",
      " |  str(object='') -> str\n",
      " |  str(bytes_or_buffer[, encoding[, errors]]) -> str\n",
      " |\n",
      " |  Create a new string object from the given object. If encoding or\n",
      " |  errors is specified, then the object must expose a data buffer\n",
      " |  that will be decoded using the given encoding and error handler.\n",
      " |  Otherwise, returns the result of object.__str__() (if defined)\n",
      " |  or repr(object).\n",
      " |  encoding defaults to 'utf-8'.\n",
      " |  errors defaults to 'strict'.\n",
      " |\n",
      " |  Methods defined here:\n",
      " |\n",
      " |  __add__(self, value, /)\n",
      " |      Return self+value.\n",
      " |\n",
      " |  __contains__(self, key, /)\n",
      " |      Return bool(key in self).\n",
      " |\n",
      " |  __eq__(self, value, /)\n",
      " |      Return self==value.\n",
      " |\n",
      " |  __format__(self, format_spec, /)\n",
      " |      Return a formatted version of the string as described by format_spec.\n",
      " |\n",
      " |  __ge__(self, value, /)\n",
      " |      Return self>=value.\n",
      " |\n",
      " |  __getitem__(self, key, /)\n",
      " |      Return self[key].\n",
      " |\n",
      " |  __getnewargs__(self, /)\n",
      " |\n",
      " |  __gt__(self, value, /)\n",
      " |      Return self>value.\n",
      " |\n",
      " |  __hash__(self, /)\n",
      " |      Return hash(self).\n",
      " |\n",
      " |  __iter__(self, /)\n",
      " |      Implement iter(self).\n",
      " |\n",
      " |  __le__(self, value, /)\n",
      " |      Return self<=value.\n",
      " |\n",
      " |  __len__(self, /)\n",
      " |      Return len(self).\n",
      " |\n",
      " |  __lt__(self, value, /)\n",
      " |      Return self<value.\n",
      " |\n",
      " |  __mod__(self, value, /)\n",
      " |      Return self%value.\n",
      " |\n",
      " |  __mul__(self, value, /)\n",
      " |      Return self*value.\n",
      " |\n",
      " |  __ne__(self, value, /)\n",
      " |      Return self!=value.\n",
      " |\n",
      " |  __repr__(self, /)\n",
      " |      Return repr(self).\n",
      " |\n",
      " |  __rmod__(self, value, /)\n",
      " |      Return value%self.\n",
      " |\n",
      " |  __rmul__(self, value, /)\n",
      " |      Return value*self.\n",
      " |\n",
      " |  __sizeof__(self, /)\n",
      " |      Return the size of the string in memory, in bytes.\n",
      " |\n",
      " |  __str__(self, /)\n",
      " |      Return str(self).\n",
      " |\n",
      " |  capitalize(self, /)\n",
      " |      Return a capitalized version of the string.\n",
      " |\n",
      " |      More specifically, make the first character have upper case and the rest lower\n",
      " |      case.\n",
      " |\n",
      " |  casefold(self, /)\n",
      " |      Return a version of the string suitable for caseless comparisons.\n",
      " |\n",
      " |  center(self, width, fillchar=' ', /)\n",
      " |      Return a centered string of length width.\n",
      " |\n",
      " |      Padding is done using the specified fill character (default is a space).\n",
      " |\n",
      " |  count(self, sub[, start[, end]], /)\n",
      " |      Return the number of non-overlapping occurrences of substring sub in string S[start:end].\n",
      " |\n",
      " |      Optional arguments start and end are interpreted as in slice notation.\n",
      " |\n",
      " |  encode(self, /, encoding='utf-8', errors='strict')\n",
      " |      Encode the string using the codec registered for encoding.\n",
      " |\n",
      " |      encoding\n",
      " |        The encoding in which to encode the string.\n",
      " |      errors\n",
      " |        The error handling scheme to use for encoding errors.\n",
      " |        The default is 'strict' meaning that encoding errors raise a\n",
      " |        UnicodeEncodeError.  Other possible values are 'ignore', 'replace' and\n",
      " |        'xmlcharrefreplace' as well as any other name registered with\n",
      " |        codecs.register_error that can handle UnicodeEncodeErrors.\n",
      " |\n",
      " |  endswith(self, suffix[, start[, end]], /)\n",
      " |      Return True if the string ends with the specified suffix, False otherwise.\n",
      " |\n",
      " |      suffix\n",
      " |        A string or a tuple of strings to try.\n",
      " |      start\n",
      " |        Optional start position. Default: start of the string.\n",
      " |      end\n",
      " |        Optional stop position. Default: end of the string.\n",
      " |\n",
      " |  expandtabs(self, /, tabsize=8)\n",
      " |      Return a copy where all tab characters are expanded using spaces.\n",
      " |\n",
      " |      If tabsize is not given, a tab size of 8 characters is assumed.\n",
      " |\n",
      " |  find(self, sub[, start[, end]], /)\n",
      " |      Return the lowest index in S where substring sub is found, such that sub is contained within S[start:end].\n",
      " |\n",
      " |      Optional arguments start and end are interpreted as in slice notation.\n",
      " |      Return -1 on failure.\n",
      " |\n",
      " |  format(self, /, *args, **kwargs)\n",
      " |      Return a formatted version of the string, using substitutions from args and kwargs.\n",
      " |      The substitutions are identified by braces ('{' and '}').\n",
      " |\n",
      " |  format_map(self, mapping, /)\n",
      " |      Return a formatted version of the string, using substitutions from mapping.\n",
      " |      The substitutions are identified by braces ('{' and '}').\n",
      " |\n",
      " |  index(self, sub[, start[, end]], /)\n",
      " |      Return the lowest index in S where substring sub is found, such that sub is contained within S[start:end].\n",
      " |\n",
      " |      Optional arguments start and end are interpreted as in slice notation.\n",
      " |      Raises ValueError when the substring is not found.\n",
      " |\n",
      " |  isalnum(self, /)\n",
      " |      Return True if the string is an alpha-numeric string, False otherwise.\n",
      " |\n",
      " |      A string is alpha-numeric if all characters in the string are alpha-numeric and\n",
      " |      there is at least one character in the string.\n",
      " |\n",
      " |  isalpha(self, /)\n",
      " |      Return True if the string is an alphabetic string, False otherwise.\n",
      " |\n",
      " |      A string is alphabetic if all characters in the string are alphabetic and there\n",
      " |      is at least one character in the string.\n",
      " |\n",
      " |  isascii(self, /)\n",
      " |      Return True if all characters in the string are ASCII, False otherwise.\n",
      " |\n",
      " |      ASCII characters have code points in the range U+0000-U+007F.\n",
      " |      Empty string is ASCII too.\n",
      " |\n",
      " |  isdecimal(self, /)\n",
      " |      Return True if the string is a decimal string, False otherwise.\n",
      " |\n",
      " |      A string is a decimal string if all characters in the string are decimal and\n",
      " |      there is at least one character in the string.\n",
      " |\n",
      " |  isdigit(self, /)\n",
      " |      Return True if the string is a digit string, False otherwise.\n",
      " |\n",
      " |      A string is a digit string if all characters in the string are digits and there\n",
      " |      is at least one character in the string.\n",
      " |\n",
      " |  isidentifier(self, /)\n",
      " |      Return True if the string is a valid Python identifier, False otherwise.\n",
      " |\n",
      " |      Call keyword.iskeyword(s) to test whether string s is a reserved identifier,\n",
      " |      such as \"def\" or \"class\".\n",
      " |\n",
      " |  islower(self, /)\n",
      " |      Return True if the string is a lowercase string, False otherwise.\n",
      " |\n",
      " |      A string is lowercase if all cased characters in the string are lowercase and\n",
      " |      there is at least one cased character in the string.\n",
      " |\n",
      " |  isnumeric(self, /)\n",
      " |      Return True if the string is a numeric string, False otherwise.\n",
      " |\n",
      " |      A string is numeric if all characters in the string are numeric and there is at\n",
      " |      least one character in the string.\n",
      " |\n",
      " |  isprintable(self, /)\n",
      " |      Return True if all characters in the string are printable, False otherwise.\n",
      " |\n",
      " |      A character is printable if repr() may use it in its output.\n",
      " |\n",
      " |  isspace(self, /)\n",
      " |      Return True if the string is a whitespace string, False otherwise.\n",
      " |\n",
      " |      A string is whitespace if all characters in the string are whitespace and there\n",
      " |      is at least one character in the string.\n",
      " |\n",
      " |  istitle(self, /)\n",
      " |      Return True if the string is a title-cased string, False otherwise.\n",
      " |\n",
      " |      In a title-cased string, upper- and title-case characters may only\n",
      " |      follow uncased characters and lowercase characters only cased ones.\n",
      " |\n",
      " |  isupper(self, /)\n",
      " |      Return True if the string is an uppercase string, False otherwise.\n",
      " |\n",
      " |      A string is uppercase if all cased characters in the string are uppercase and\n",
      " |      there is at least one cased character in the string.\n",
      " |\n",
      " |  join(self, iterable, /)\n",
      " |      Concatenate any number of strings.\n",
      " |\n",
      " |      The string whose method is called is inserted in between each given string.\n",
      " |      The result is returned as a new string.\n",
      " |\n",
      " |      Example: '.'.join(['ab', 'pq', 'rs']) -> 'ab.pq.rs'\n",
      " |\n",
      " |  ljust(self, width, fillchar=' ', /)\n",
      " |      Return a left-justified string of length width.\n",
      " |\n",
      " |      Padding is done using the specified fill character (default is a space).\n",
      " |\n",
      " |  lower(self, /)\n",
      " |      Return a copy of the string converted to lowercase.\n",
      " |\n",
      " |  lstrip(self, chars=None, /)\n",
      " |      Return a copy of the string with leading whitespace removed.\n",
      " |\n",
      " |      If chars is given and not None, remove characters in chars instead.\n",
      " |\n",
      " |  partition(self, sep, /)\n",
      " |      Partition the string into three parts using the given separator.\n",
      " |\n",
      " |      This will search for the separator in the string.  If the separator is found,\n",
      " |      returns a 3-tuple containing the part before the separator, the separator\n",
      " |      itself, and the part after it.\n",
      " |\n",
      " |      If the separator is not found, returns a 3-tuple containing the original string\n",
      " |      and two empty strings.\n",
      " |\n",
      " |  removeprefix(self, prefix, /)\n",
      " |      Return a str with the given prefix string removed if present.\n",
      " |\n",
      " |      If the string starts with the prefix string, return string[len(prefix):].\n",
      " |      Otherwise, return a copy of the original string.\n",
      " |\n",
      " |  removesuffix(self, suffix, /)\n",
      " |      Return a str with the given suffix string removed if present.\n",
      " |\n",
      " |      If the string ends with the suffix string and that suffix is not empty,\n",
      " |      return string[:-len(suffix)]. Otherwise, return a copy of the original\n",
      " |      string.\n",
      " |\n",
      " |  replace(self, old, new, /, count=-1)\n",
      " |      Return a copy with all occurrences of substring old replaced by new.\n",
      " |\n",
      " |        count\n",
      " |          Maximum number of occurrences to replace.\n",
      " |          -1 (the default value) means replace all occurrences.\n",
      " |\n",
      " |      If the optional argument count is given, only the first count occurrences are\n",
      " |      replaced.\n",
      " |\n",
      " |  rfind(self, sub[, start[, end]], /)\n",
      " |      Return the highest index in S where substring sub is found, such that sub is contained within S[start:end].\n",
      " |\n",
      " |      Optional arguments start and end are interpreted as in slice notation.\n",
      " |      Return -1 on failure.\n",
      " |\n",
      " |  rindex(self, sub[, start[, end]], /)\n",
      " |      Return the highest index in S where substring sub is found, such that sub is contained within S[start:end].\n",
      " |\n",
      " |      Optional arguments start and end are interpreted as in slice notation.\n",
      " |      Raises ValueError when the substring is not found.\n",
      " |\n",
      " |  rjust(self, width, fillchar=' ', /)\n",
      " |      Return a right-justified string of length width.\n",
      " |\n",
      " |      Padding is done using the specified fill character (default is a space).\n",
      " |\n",
      " |  rpartition(self, sep, /)\n",
      " |      Partition the string into three parts using the given separator.\n",
      " |\n",
      " |      This will search for the separator in the string, starting at the end. If\n",
      " |      the separator is found, returns a 3-tuple containing the part before the\n",
      " |      separator, the separator itself, and the part after it.\n",
      " |\n",
      " |      If the separator is not found, returns a 3-tuple containing two empty strings\n",
      " |      and the original string.\n",
      " |\n",
      " |  rsplit(self, /, sep=None, maxsplit=-1)\n",
      " |      Return a list of the substrings in the string, using sep as the separator string.\n",
      " |\n",
      " |        sep\n",
      " |          The separator used to split the string.\n",
      " |\n",
      " |          When set to None (the default value), will split on any whitespace\n",
      " |          character (including \\n \\r \\t \\f and spaces) and will discard\n",
      " |          empty strings from the result.\n",
      " |        maxsplit\n",
      " |          Maximum number of splits.\n",
      " |          -1 (the default value) means no limit.\n",
      " |\n",
      " |      Splitting starts at the end of the string and works to the front.\n",
      " |\n",
      " |  rstrip(self, chars=None, /)\n",
      " |      Return a copy of the string with trailing whitespace removed.\n",
      " |\n",
      " |      If chars is given and not None, remove characters in chars instead.\n",
      " |\n",
      " |  split(self, /, sep=None, maxsplit=-1)\n",
      " |      Return a list of the substrings in the string, using sep as the separator string.\n",
      " |\n",
      " |        sep\n",
      " |          The separator used to split the string.\n",
      " |\n",
      " |          When set to None (the default value), will split on any whitespace\n",
      " |          character (including \\n \\r \\t \\f and spaces) and will discard\n",
      " |          empty strings from the result.\n",
      " |        maxsplit\n",
      " |          Maximum number of splits.\n",
      " |          -1 (the default value) means no limit.\n",
      " |\n",
      " |      Splitting starts at the front of the string and works to the end.\n",
      " |\n",
      " |      Note, str.split() is mainly useful for data that has been intentionally\n",
      " |      delimited.  With natural text that includes punctuation, consider using\n",
      " |      the regular expression module.\n",
      " |\n",
      " |  splitlines(self, /, keepends=False)\n",
      " |      Return a list of the lines in the string, breaking at line boundaries.\n",
      " |\n",
      " |      Line breaks are not included in the resulting list unless keepends is given and\n",
      " |      true.\n",
      " |\n",
      " |  startswith(self, prefix[, start[, end]], /)\n",
      " |      Return True if the string starts with the specified prefix, False otherwise.\n",
      " |\n",
      " |      prefix\n",
      " |        A string or a tuple of strings to try.\n",
      " |      start\n",
      " |        Optional start position. Default: start of the string.\n",
      " |      end\n",
      " |        Optional stop position. Default: end of the string.\n",
      " |\n",
      " |  strip(self, chars=None, /)\n",
      " |      Return a copy of the string with leading and trailing whitespace removed.\n",
      " |\n",
      " |      If chars is given and not None, remove characters in chars instead.\n",
      " |\n",
      " |  swapcase(self, /)\n",
      " |      Convert uppercase characters to lowercase and lowercase characters to uppercase.\n",
      " |\n",
      " |  title(self, /)\n",
      " |      Return a version of the string where each word is titlecased.\n",
      " |\n",
      " |      More specifically, words start with uppercased characters and all remaining\n",
      " |      cased characters have lower case.\n",
      " |\n",
      " |  translate(self, table, /)\n",
      " |      Replace each character in the string using the given translation table.\n",
      " |\n",
      " |        table\n",
      " |          Translation table, which must be a mapping of Unicode ordinals to\n",
      " |          Unicode ordinals, strings, or None.\n",
      " |\n",
      " |      The table must implement lookup/indexing via __getitem__, for instance a\n",
      " |      dictionary or list.  If this operation raises LookupError, the character is\n",
      " |      left untouched.  Characters mapped to None are deleted.\n",
      " |\n",
      " |  upper(self, /)\n",
      " |      Return a copy of the string converted to uppercase.\n",
      " |\n",
      " |  zfill(self, width, /)\n",
      " |      Pad a numeric string with zeros on the left, to fill a field of the given width.\n",
      " |\n",
      " |      The string is never truncated.\n",
      " |\n",
      " |  ----------------------------------------------------------------------\n",
      " |  Static methods defined here:\n",
      " |\n",
      " |  __new__(*args, **kwargs)\n",
      " |      Create and return a new object.  See help(type) for accurate signature.\n",
      " |\n",
      " |  maketrans(x, y=<unrepresentable>, z=<unrepresentable>, /)\n",
      " |      Return a translation table usable for str.translate().\n",
      " |\n",
      " |      If there is only one argument, it must be a dictionary mapping Unicode\n",
      " |      ordinals (integers) or characters to Unicode ordinals, strings or None.\n",
      " |      Character keys will be then converted to ordinals.\n",
      " |      If there are two arguments, they must be strings of equal length, and\n",
      " |      in the resulting dictionary, each character in x will be mapped to the\n",
      " |      character at the same position in y. If there is a third argument, it\n",
      " |      must be a string, whose characters will be mapped to None in the result.\n",
      "\n"
     ]
    }
   ],
   "source": [
    "help(str)"
   ]
  },
  {
   "cell_type": "code",
   "execution_count": 84,
   "id": "30621f71",
   "metadata": {},
   "outputs": [
    {
     "name": "stdout",
     "output_type": "stream",
     "text": [
      "Help on bool object:\n",
      "\n",
      "class bool(int)\n",
      " |  bool(object=False, /)\n",
      " |\n",
      " |  Returns True when the argument is true, False otherwise.\n",
      " |  The builtins True and False are the only two instances of the class bool.\n",
      " |  The class bool is a subclass of the class int, and cannot be subclassed.\n",
      " |\n",
      " |  Method resolution order:\n",
      " |      bool\n",
      " |      int\n",
      " |      object\n",
      " |\n",
      " |  Methods defined here:\n",
      " |\n",
      " |  __and__(self, value, /)\n",
      " |      Return self&value.\n",
      " |\n",
      " |  __invert__(self, /)\n",
      " |      ~self\n",
      " |\n",
      " |  __or__(self, value, /)\n",
      " |      Return self|value.\n",
      " |\n",
      " |  __rand__(self, value, /)\n",
      " |      Return value&self.\n",
      " |\n",
      " |  __repr__(self, /)\n",
      " |      Return repr(self).\n",
      " |\n",
      " |  __ror__(self, value, /)\n",
      " |      Return value|self.\n",
      " |\n",
      " |  __rxor__(self, value, /)\n",
      " |      Return value^self.\n",
      " |\n",
      " |  __xor__(self, value, /)\n",
      " |      Return self^value.\n",
      " |\n",
      " |  ----------------------------------------------------------------------\n",
      " |  Static methods defined here:\n",
      " |\n",
      " |  __new__(*args, **kwargs)\n",
      " |      Create and return a new object.  See help(type) for accurate signature.\n",
      " |\n",
      " |  ----------------------------------------------------------------------\n",
      " |  Methods inherited from int:\n",
      " |\n",
      " |  __abs__(self, /)\n",
      " |      abs(self)\n",
      " |\n",
      " |  __add__(self, value, /)\n",
      " |      Return self+value.\n",
      " |\n",
      " |  __bool__(self, /)\n",
      " |      True if self else False\n",
      " |\n",
      " |  __ceil__(self, /)\n",
      " |      Ceiling of an Integral returns itself.\n",
      " |\n",
      " |  __divmod__(self, value, /)\n",
      " |      Return divmod(self, value).\n",
      " |\n",
      " |  __eq__(self, value, /)\n",
      " |      Return self==value.\n",
      " |\n",
      " |  __float__(self, /)\n",
      " |      float(self)\n",
      " |\n",
      " |  __floor__(self, /)\n",
      " |      Flooring an Integral returns itself.\n",
      " |\n",
      " |  __floordiv__(self, value, /)\n",
      " |      Return self//value.\n",
      " |\n",
      " |  __format__(self, format_spec, /)\n",
      " |      Convert to a string according to format_spec.\n",
      " |\n",
      " |  __ge__(self, value, /)\n",
      " |      Return self>=value.\n",
      " |\n",
      " |  __getattribute__(self, name, /)\n",
      " |      Return getattr(self, name).\n",
      " |\n",
      " |  __getnewargs__(self, /)\n",
      " |\n",
      " |  __gt__(self, value, /)\n",
      " |      Return self>value.\n",
      " |\n",
      " |  __hash__(self, /)\n",
      " |      Return hash(self).\n",
      " |\n",
      " |  __index__(self, /)\n",
      " |      Return self converted to an integer, if self is suitable for use as an index into a list.\n",
      " |\n",
      " |  __int__(self, /)\n",
      " |      int(self)\n",
      " |\n",
      " |  __le__(self, value, /)\n",
      " |      Return self<=value.\n",
      " |\n",
      " |  __lshift__(self, value, /)\n",
      " |      Return self<<value.\n",
      " |\n",
      " |  __lt__(self, value, /)\n",
      " |      Return self<value.\n",
      " |\n",
      " |  __mod__(self, value, /)\n",
      " |      Return self%value.\n",
      " |\n",
      " |  __mul__(self, value, /)\n",
      " |      Return self*value.\n",
      " |\n",
      " |  __ne__(self, value, /)\n",
      " |      Return self!=value.\n",
      " |\n",
      " |  __neg__(self, /)\n",
      " |      -self\n",
      " |\n",
      " |  __pos__(self, /)\n",
      " |      +self\n",
      " |\n",
      " |  __pow__(self, value, mod=None, /)\n",
      " |      Return pow(self, value, mod).\n",
      " |\n",
      " |  __radd__(self, value, /)\n",
      " |      Return value+self.\n",
      " |\n",
      " |  __rdivmod__(self, value, /)\n",
      " |      Return divmod(value, self).\n",
      " |\n",
      " |  __rfloordiv__(self, value, /)\n",
      " |      Return value//self.\n",
      " |\n",
      " |  __rlshift__(self, value, /)\n",
      " |      Return value<<self.\n",
      " |\n",
      " |  __rmod__(self, value, /)\n",
      " |      Return value%self.\n",
      " |\n",
      " |  __rmul__(self, value, /)\n",
      " |      Return value*self.\n",
      " |\n",
      " |  __round__(self, ndigits=<unrepresentable>, /)\n",
      " |      Rounding an Integral returns itself.\n",
      " |\n",
      " |      Rounding with an ndigits argument also returns an integer.\n",
      " |\n",
      " |  __rpow__(self, value, mod=None, /)\n",
      " |      Return pow(value, self, mod).\n",
      " |\n",
      " |  __rrshift__(self, value, /)\n",
      " |      Return value>>self.\n",
      " |\n",
      " |  __rshift__(self, value, /)\n",
      " |      Return self>>value.\n",
      " |\n",
      " |  __rsub__(self, value, /)\n",
      " |      Return value-self.\n",
      " |\n",
      " |  __rtruediv__(self, value, /)\n",
      " |      Return value/self.\n",
      " |\n",
      " |  __sizeof__(self, /)\n",
      " |      Returns size in memory, in bytes.\n",
      " |\n",
      " |  __sub__(self, value, /)\n",
      " |      Return self-value.\n",
      " |\n",
      " |  __truediv__(self, value, /)\n",
      " |      Return self/value.\n",
      " |\n",
      " |  __trunc__(self, /)\n",
      " |      Truncating an Integral returns itself.\n",
      " |\n",
      " |  as_integer_ratio(self, /)\n",
      " |      Return a pair of integers, whose ratio is equal to the original int.\n",
      " |\n",
      " |      The ratio is in lowest terms and has a positive denominator.\n",
      " |\n",
      " |      >>> (10).as_integer_ratio()\n",
      " |      (10, 1)\n",
      " |      >>> (-10).as_integer_ratio()\n",
      " |      (-10, 1)\n",
      " |      >>> (0).as_integer_ratio()\n",
      " |      (0, 1)\n",
      " |\n",
      " |  bit_count(self, /)\n",
      " |      Number of ones in the binary representation of the absolute value of self.\n",
      " |\n",
      " |      Also known as the population count.\n",
      " |\n",
      " |      >>> bin(13)\n",
      " |      '0b1101'\n",
      " |      >>> (13).bit_count()\n",
      " |      3\n",
      " |\n",
      " |  bit_length(self, /)\n",
      " |      Number of bits necessary to represent self in binary.\n",
      " |\n",
      " |      >>> bin(37)\n",
      " |      '0b100101'\n",
      " |      >>> (37).bit_length()\n",
      " |      6\n",
      " |\n",
      " |  conjugate(self, /)\n",
      " |      Returns self, the complex conjugate of any int.\n",
      " |\n",
      " |  is_integer(self, /)\n",
      " |      Returns True. Exists for duck type compatibility with float.is_integer.\n",
      " |\n",
      " |  to_bytes(self, /, length=1, byteorder='big', *, signed=False)\n",
      " |      Return an array of bytes representing an integer.\n",
      " |\n",
      " |      length\n",
      " |        Length of bytes object to use.  An OverflowError is raised if the\n",
      " |        integer is not representable with the given number of bytes.  Default\n",
      " |        is length 1.\n",
      " |      byteorder\n",
      " |        The byte order used to represent the integer.  If byteorder is 'big',\n",
      " |        the most significant byte is at the beginning of the byte array.  If\n",
      " |        byteorder is 'little', the most significant byte is at the end of the\n",
      " |        byte array.  To request the native byte order of the host system, use\n",
      " |        sys.byteorder as the byte order value.  Default is to use 'big'.\n",
      " |      signed\n",
      " |        Determines whether two's complement is used to represent the integer.\n",
      " |        If signed is False and a negative integer is given, an OverflowError\n",
      " |        is raised.\n",
      " |\n",
      " |  ----------------------------------------------------------------------\n",
      " |  Class methods inherited from int:\n",
      " |\n",
      " |  from_bytes(bytes, byteorder='big', *, signed=False)\n",
      " |      Return the integer represented by the given array of bytes.\n",
      " |\n",
      " |      bytes\n",
      " |        Holds the array of bytes to convert.  The argument must either\n",
      " |        support the buffer protocol or be an iterable object producing bytes.\n",
      " |        Bytes and bytearray are examples of built-in objects that support the\n",
      " |        buffer protocol.\n",
      " |      byteorder\n",
      " |        The byte order used to represent the integer.  If byteorder is 'big',\n",
      " |        the most significant byte is at the beginning of the byte array.  If\n",
      " |        byteorder is 'little', the most significant byte is at the end of the\n",
      " |        byte array.  To request the native byte order of the host system, use\n",
      " |        sys.byteorder as the byte order value.  Default is to use 'big'.\n",
      " |      signed\n",
      " |        Indicates whether two's complement is used to represent the integer.\n",
      " |\n",
      " |  ----------------------------------------------------------------------\n",
      " |  Data descriptors inherited from int:\n",
      " |\n",
      " |  denominator\n",
      " |      the denominator of a rational number in lowest terms\n",
      " |\n",
      " |  imag\n",
      " |      the imaginary part of a complex number\n",
      " |\n",
      " |  numerator\n",
      " |      the numerator of a rational number in lowest terms\n",
      " |\n",
      " |  real\n",
      " |      the real part of a complex number\n",
      "\n"
     ]
    }
   ],
   "source": [
    "help(True)"
   ]
  },
  {
   "cell_type": "markdown",
   "id": "784bc0e5",
   "metadata": {},
   "source": [
    "# exec\n",
    "It is used to execute the expression"
   ]
  },
  {
   "cell_type": "code",
   "execution_count": 85,
   "id": "86a3cdc0",
   "metadata": {},
   "outputs": [
    {
     "name": "stdout",
     "output_type": "stream",
     "text": [
      "30\n"
     ]
    }
   ],
   "source": [
    "a = 10\n",
    "b = 20\n",
    "print(a+b)"
   ]
  },
  {
   "cell_type": "code",
   "execution_count": 86,
   "id": "f9bdbe73",
   "metadata": {},
   "outputs": [
    {
     "name": "stdout",
     "output_type": "stream",
     "text": [
      "30\n"
     ]
    }
   ],
   "source": [
    "exec(\"a=10 \\nb=20 \\nprint(a+b)\")\n",
    "# \\n : new line"
   ]
  },
  {
   "cell_type": "code",
   "execution_count": 87,
   "id": "c58408d7",
   "metadata": {},
   "outputs": [
    {
     "name": "stdout",
     "output_type": "stream",
     "text": [
      "10\n"
     ]
    }
   ],
   "source": [
    "A=[1,2,3,4]\n",
    "print(sum(A))"
   ]
  },
  {
   "cell_type": "code",
   "execution_count": 88,
   "id": "b3ce4276",
   "metadata": {},
   "outputs": [
    {
     "name": "stdout",
     "output_type": "stream",
     "text": [
      "10\n"
     ]
    }
   ],
   "source": [
    "exec(\"A=[1,2,3,4] \\nprint(sum(A))\")"
   ]
  },
  {
   "cell_type": "code",
   "execution_count": 89,
   "id": "a431ab05",
   "metadata": {},
   "outputs": [
    {
     "name": "stdout",
     "output_type": "stream",
     "text": [
      "10\n",
      "40\n"
     ]
    }
   ],
   "source": [
    "A =[10,20,30,40]\n",
    "print(min(A))\n",
    "print(max(A))"
   ]
  },
  {
   "cell_type": "code",
   "execution_count": 90,
   "id": "0f3a86d4",
   "metadata": {},
   "outputs": [
    {
     "name": "stdout",
     "output_type": "stream",
     "text": [
      "10\n",
      "40\n"
     ]
    }
   ],
   "source": [
    "exec(\"A=[10,20,30,40] \\nprint(min(A)) \\nprint(max(A))\")"
   ]
  },
  {
   "cell_type": "markdown",
   "id": "345114db",
   "metadata": {},
   "source": [
    "\n",
    "# zip\n",
    "It is used to combine elements of two objects(list,tuple)."
   ]
  },
  {
   "cell_type": "code",
   "execution_count": 91,
   "id": "c70e9851",
   "metadata": {},
   "outputs": [
    {
     "data": {
      "text/plain": [
       "[(1, 'a'), (2, 'b'), (3, 'c'), (4, 'd')]"
      ]
     },
     "execution_count": 91,
     "metadata": {},
     "output_type": "execute_result"
    }
   ],
   "source": [
    "A =[1,2,3,4]\n",
    "B = ['a','b','c','d']\n",
    "list(zip(A,B))"
   ]
  },
  {
   "cell_type": "code",
   "execution_count": 92,
   "id": "45caa863",
   "metadata": {},
   "outputs": [
    {
     "data": {
      "text/plain": [
       "[('name', 'Jeevitha'), ('Age', 30)]"
      ]
     },
     "execution_count": 92,
     "metadata": {},
     "output_type": "execute_result"
    }
   ],
   "source": [
    "X = ['name','Age']\n",
    "Y = ['Jeevitha',30]\n",
    "list(zip(X,Y))"
   ]
  },
  {
   "cell_type": "code",
   "execution_count": 93,
   "id": "3f039dd8",
   "metadata": {},
   "outputs": [
    {
     "data": {
      "text/plain": [
       "[('name', 'Jeevitha', 'Female'), ('Age', 30, True)]"
      ]
     },
     "execution_count": 93,
     "metadata": {},
     "output_type": "execute_result"
    }
   ],
   "source": [
    "x = ('name','Age')\n",
    "y = ('Jeevitha',30)\n",
    "z = ('Female',True) \n",
    "list(zip(x,y,z))"
   ]
  },
  {
   "cell_type": "code",
   "execution_count": 94,
   "id": "5aadadc8",
   "metadata": {},
   "outputs": [
    {
     "data": {
      "text/plain": [
       "(('name', 'Jeevitha'), ('Age', 30))"
      ]
     },
     "execution_count": 94,
     "metadata": {},
     "output_type": "execute_result"
    }
   ],
   "source": [
    "tuple(zip(X,Y))"
   ]
  },
  {
   "cell_type": "code",
   "execution_count": 96,
   "id": "56c9e5b5",
   "metadata": {},
   "outputs": [
    {
     "data": {
      "text/plain": [
       "(('name', 'Jeevitha'), ('Age', 30))"
      ]
     },
     "execution_count": 96,
     "metadata": {},
     "output_type": "execute_result"
    }
   ],
   "source": [
    "tuple(zip(X,Y))"
   ]
  },
  {
   "cell_type": "code",
   "execution_count": 97,
   "id": "5b44fa8a",
   "metadata": {},
   "outputs": [
    {
     "data": {
      "text/plain": [
       "{'name': 'Jeevitha', 'Age': 30}"
      ]
     },
     "execution_count": 97,
     "metadata": {},
     "output_type": "execute_result"
    }
   ],
   "source": [
    "dict(zip(X,Y))"
   ]
  },
  {
   "cell_type": "code",
   "execution_count": 98,
   "id": "3780f1b1",
   "metadata": {},
   "outputs": [
    {
     "data": {
      "text/plain": [
       "[('name', 'Jeevitha')]"
      ]
     },
     "execution_count": 98,
     "metadata": {},
     "output_type": "execute_result"
    }
   ],
   "source": [
    "X = ['name','Age']\n",
    "Y = ['Jeevitha']\n",
    "list(zip(X,Y))"
   ]
  },
  {
   "cell_type": "code",
   "execution_count": 99,
   "id": "cbdc4c1f",
   "metadata": {},
   "outputs": [
    {
     "data": {
      "text/plain": [
       "[('a', 'b')]"
      ]
     },
     "execution_count": 99,
     "metadata": {},
     "output_type": "execute_result"
    }
   ],
   "source": [
    "x='a'\n",
    "y='b'\n",
    "list(zip(x,y))"
   ]
  },
  {
   "cell_type": "code",
   "execution_count": 100,
   "id": "b22c584b",
   "metadata": {},
   "outputs": [
    {
     "data": {
      "text/plain": [
       "{('a', 'b')}"
      ]
     },
     "execution_count": 100,
     "metadata": {},
     "output_type": "execute_result"
    }
   ],
   "source": [
    "x='a'\n",
    "y='b'\n",
    "set(zip(x,y))"
   ]
  },
  {
   "cell_type": "code",
   "execution_count": 101,
   "id": "894dec3b",
   "metadata": {},
   "outputs": [
    {
     "data": {
      "text/plain": [
       "[(1, 'a'), (2, 'b'), (3, 'c')]"
      ]
     },
     "execution_count": 101,
     "metadata": {},
     "output_type": "execute_result"
    }
   ],
   "source": [
    "A =[1,2,3]\n",
    "B=['a','b','c','d']\n",
    "list(zip(A,B))"
   ]
  },
  {
   "cell_type": "code",
   "execution_count": 102,
   "id": "44063d02",
   "metadata": {},
   "outputs": [
    {
     "data": {
      "text/plain": [
       "[('a', 1), ('b', 2), ('c', 3)]"
      ]
     },
     "execution_count": 102,
     "metadata": {},
     "output_type": "execute_result"
    }
   ],
   "source": [
    "A =[1,2,3]\n",
    "B=['a','b','c','d']\n",
    "list(zip(B,A))"
   ]
  },
  {
   "cell_type": "code",
   "execution_count": 103,
   "id": "8c2a963e",
   "metadata": {},
   "outputs": [
    {
     "name": "stdout",
     "output_type": "stream",
     "text": [
      "[(1, 'a'), (2, 'b'), (3, 'c')]\n"
     ]
    }
   ],
   "source": [
    "print(list(zip(A,B)))"
   ]
  },
  {
   "cell_type": "code",
   "execution_count": 104,
   "id": "03727043",
   "metadata": {},
   "outputs": [
    {
     "name": "stdout",
     "output_type": "stream",
     "text": [
      "2+3**2+1000\n",
      "1011\n"
     ]
    }
   ],
   "source": [
    "# eval: Used to evaluate the string expression\n",
    "A = \"2+3**2+1000\"\n",
    "print(A)\n",
    "print(eval(A))"
   ]
  },
  {
   "cell_type": "code",
   "execution_count": 105,
   "id": "3edff9ce",
   "metadata": {},
   "outputs": [
    {
     "name": "stdout",
     "output_type": "stream",
     "text": [
      "2+3**2+1000\n",
      "1011\n"
     ]
    }
   ],
   "source": [
    "print(A)\n",
    "print(2+3**2+1000)"
   ]
  },
  {
   "cell_type": "code",
   "execution_count": 106,
   "id": "e289863c",
   "metadata": {},
   "outputs": [
    {
     "name": "stdout",
     "output_type": "stream",
     "text": [
      "1011\n"
     ]
    }
   ],
   "source": [
    "print(eval(A))"
   ]
  },
  {
   "cell_type": "code",
   "execution_count": 107,
   "id": "77ea5e85",
   "metadata": {},
   "outputs": [
    {
     "name": "stdout",
     "output_type": "stream",
     "text": [
      "1011\n"
     ]
    }
   ],
   "source": [
    "A = 2+3**2+1000\n",
    "print(A)"
   ]
  },
  {
   "cell_type": "markdown",
   "id": "7b34063c",
   "metadata": {},
   "source": [
    "# Nested list\n",
    "list within list"
   ]
  },
  {
   "cell_type": "code",
   "execution_count": 108,
   "id": "ad9423f9",
   "metadata": {},
   "outputs": [
    {
     "name": "stdout",
     "output_type": "stream",
     "text": [
      "[[1, 2], [3.4, 5.6], [True, False], ['sql', 'python']]\n"
     ]
    }
   ],
   "source": [
    "A =[[1,2],[3.4,5.6],[True,False],['sql','python']]\n",
    "print(A)"
   ]
  },
  {
   "cell_type": "markdown",
   "id": "3eab6ef6",
   "metadata": {},
   "source": [
    "# Nested tuple\n",
    "tuple within tuple"
   ]
  },
  {
   "cell_type": "code",
   "execution_count": 109,
   "id": "e13b6395",
   "metadata": {},
   "outputs": [
    {
     "name": "stdout",
     "output_type": "stream",
     "text": [
      "((1, 2), (3, 4, (True, False)))\n"
     ]
    }
   ],
   "source": [
    "B = ((1,2),(3,4,(True,False)))\n",
    "print(B)"
   ]
  },
  {
   "cell_type": "markdown",
   "id": "2d269270",
   "metadata": {},
   "source": [
    "# Nested dict"
   ]
  },
  {
   "cell_type": "code",
   "execution_count": 110,
   "id": "5bfcd62a",
   "metadata": {},
   "outputs": [
    {
     "name": "stdout",
     "output_type": "stream",
     "text": [
      "{'classA': {'name': 'Satvik'}, 'classB': {'name': 'Arya'}}\n"
     ]
    }
   ],
   "source": [
    "C = {'classA':{'name':'Satvik'},'classB':{'name':'Arya'}}\n",
    "print(C)"
   ]
  },
  {
   "cell_type": "code",
   "execution_count": 111,
   "id": "839230a5",
   "metadata": {},
   "outputs": [
    {
     "name": "stdout",
     "output_type": "stream",
     "text": [
      "[[1, 2], [3.4, 5.6], [True, False], ['sql', 'python']]\n"
     ]
    }
   ],
   "source": [
    "A =[[1,2],[3.4,5.6],[True,False],['sql','python']]\n",
    "print(A)"
   ]
  },
  {
   "cell_type": "code",
   "execution_count": 112,
   "id": "5df7ed0a",
   "metadata": {},
   "outputs": [
    {
     "data": {
      "text/plain": [
       "True"
      ]
     },
     "execution_count": 112,
     "metadata": {},
     "output_type": "execute_result"
    }
   ],
   "source": [
    "# fetch True\n",
    "A[2][0]"
   ]
  },
  {
   "cell_type": "code",
   "execution_count": 113,
   "id": "16ebb59f",
   "metadata": {},
   "outputs": [
    {
     "data": {
      "text/plain": [
       "'python'"
      ]
     },
     "execution_count": 113,
     "metadata": {},
     "output_type": "execute_result"
    }
   ],
   "source": [
    "# fetch python\n",
    "A[3][1]"
   ]
  },
  {
   "cell_type": "code",
   "execution_count": 115,
   "id": "272816df",
   "metadata": {},
   "outputs": [
    {
     "data": {
      "text/plain": [
       "False"
      ]
     },
     "execution_count": 115,
     "metadata": {},
     "output_type": "execute_result"
    }
   ],
   "source": [
    "# fetch false\n",
    "A[2][1]"
   ]
  },
  {
   "cell_type": "code",
   "execution_count": 116,
   "id": "7c18717a",
   "metadata": {},
   "outputs": [
    {
     "data": {
      "text/plain": [
       "True"
      ]
     },
     "execution_count": 116,
     "metadata": {},
     "output_type": "execute_result"
    }
   ],
   "source": [
    "# fetch True\n",
    "A[2][0]"
   ]
  },
  {
   "cell_type": "code",
   "execution_count": 117,
   "id": "6495311a",
   "metadata": {},
   "outputs": [
    {
     "data": {
      "text/plain": [
       "'python'"
      ]
     },
     "execution_count": 117,
     "metadata": {},
     "output_type": "execute_result"
    }
   ],
   "source": [
    "#fetch python\n",
    "A[-1][1]"
   ]
  },
  {
   "cell_type": "code",
   "execution_count": 118,
   "id": "853c7f98",
   "metadata": {},
   "outputs": [
    {
     "data": {
      "text/plain": [
       "'python'"
      ]
     },
     "execution_count": 118,
     "metadata": {},
     "output_type": "execute_result"
    }
   ],
   "source": [
    "A[3][1]"
   ]
  },
  {
   "cell_type": "markdown",
   "id": "1f699de0",
   "metadata": {},
   "source": [
    "# Methods\n",
    "👉 Methods are like special tools that come with an object, like a string or a list. They are specific to that object, and you use them by putting a dot . after the object's name. For example, \"hello\".upper() is a method that makes the string all uppercase."
   ]
  },
  {
   "cell_type": "code",
   "execution_count": 119,
   "id": "6132bd02",
   "metadata": {},
   "outputs": [
    {
     "data": {
      "text/plain": [
       "6"
      ]
     },
     "execution_count": 119,
     "metadata": {},
     "output_type": "execute_result"
    }
   ],
   "source": [
    "A = 'python'\n",
    "len(A)"
   ]
  },
  {
   "cell_type": "code",
   "execution_count": 120,
   "id": "9f81729f",
   "metadata": {},
   "outputs": [
    {
     "data": {
      "text/plain": [
       "'PYTHON'"
      ]
     },
     "execution_count": 120,
     "metadata": {},
     "output_type": "execute_result"
    }
   ],
   "source": [
    "A.upper()"
   ]
  },
  {
   "cell_type": "code",
   "execution_count": 121,
   "id": "7c4b8bbd",
   "metadata": {},
   "outputs": [
    {
     "data": {
      "text/plain": [
       "'python'"
      ]
     },
     "execution_count": 121,
     "metadata": {},
     "output_type": "execute_result"
    }
   ],
   "source": [
    "A.lower()"
   ]
  },
  {
   "cell_type": "code",
   "execution_count": 122,
   "id": "1b36d0d0",
   "metadata": {},
   "outputs": [
    {
     "data": {
      "text/plain": [
       "'HELLO WORLD'"
      ]
     },
     "execution_count": 122,
     "metadata": {},
     "output_type": "execute_result"
    }
   ],
   "source": [
    "\"hello world\".upper()"
   ]
  },
  {
   "cell_type": "markdown",
   "id": "e42eb75a",
   "metadata": {},
   "source": [
    "# CRUD operations\n",
    "\n",
    "* C: create\n",
    "* R : read\n",
    "* U : update\n",
    "* D : delete"
   ]
  },
  {
   "cell_type": "markdown",
   "id": "100327ca",
   "metadata": {},
   "source": [
    "# List methods and functions"
   ]
  },
  {
   "cell_type": "code",
   "execution_count": 123,
   "id": "bbbdb847",
   "metadata": {},
   "outputs": [
    {
     "name": "stdout",
     "output_type": "stream",
     "text": [
      "[10, 20, 30, 40, 50]\n"
     ]
    }
   ],
   "source": [
    "# creating list\n",
    "A =[10,20,30,40,50]\n",
    "print(A)"
   ]
  },
  {
   "cell_type": "code",
   "execution_count": 124,
   "id": "eba4441d",
   "metadata": {},
   "outputs": [
    {
     "name": "stdout",
     "output_type": "stream",
     "text": [
      "['blue', 'green', 'orange']\n"
     ]
    }
   ],
   "source": [
    "colors = list(('blue','green','orange'))\n",
    "print(colors)"
   ]
  },
  {
   "cell_type": "code",
   "execution_count": 125,
   "id": "efd8484d",
   "metadata": {},
   "outputs": [],
   "source": [
    "# List functions: sum,type,min,max,len,range,enumerate,eval"
   ]
  },
  {
   "cell_type": "markdown",
   "id": "77e53071",
   "metadata": {},
   "source": [
    "# Update:Modify the list elements\n",
    "* append\n",
    "* insert\n",
    "* extend\n"
   ]
  },
  {
   "cell_type": "code",
   "execution_count": 126,
   "id": "3ae3f906",
   "metadata": {},
   "outputs": [
    {
     "name": "stdout",
     "output_type": "stream",
     "text": [
      "[100, 200, 'sql', 400, 500, 600, 'python']\n"
     ]
    }
   ],
   "source": [
    "A = [100 , 200 , 'sql' , 400 , 500, 600,'python']\n",
    "print(A)\n"
   ]
  },
  {
   "cell_type": "code",
   "execution_count": 127,
   "id": "9ba1ea9d",
   "metadata": {},
   "outputs": [
    {
     "name": "stdout",
     "output_type": "stream",
     "text": [
      "[100, 200, 300, 400, 500, 600, 'python']\n"
     ]
    }
   ],
   "source": [
    "# changing sql as 300\n",
    "A[2] = 300\n",
    "print(A) # changing element using indexing or slicing\n"
   ]
  },
  {
   "cell_type": "markdown",
   "id": "2563c954",
   "metadata": {},
   "source": [
    "# append\n",
    "append is method which is used to add single element at the end of list."
   ]
  },
  {
   "cell_type": "code",
   "execution_count": 129,
   "id": "dbae72ec",
   "metadata": {},
   "outputs": [
    {
     "name": "stdout",
     "output_type": "stream",
     "text": [
      "['IBM', 'Oracle', 'Almabetter', 'Amazon', 'Google']\n"
     ]
    }
   ],
   "source": [
    "companies=['IBM','Oracle','Almabetter','Amazon','Google']\n",
    "# add Infosys at the end of list\n",
    "\n",
    "print(companies)"
   ]
  },
  {
   "cell_type": "code",
   "execution_count": 130,
   "id": "cc3796fa",
   "metadata": {},
   "outputs": [
    {
     "name": "stdout",
     "output_type": "stream",
     "text": [
      "['IBM', 'Oracle', 'Almabetter', 'Amazon', 'Google', 'Infosys']\n"
     ]
    }
   ],
   "source": [
    "companies.append('Infosys')\n",
    "print(companies)"
   ]
  },
  {
   "cell_type": "code",
   "execution_count": 131,
   "id": "bccac96b",
   "metadata": {},
   "outputs": [
    {
     "name": "stdout",
     "output_type": "stream",
     "text": [
      "['IBM', 'Oracle', 'Almabetter', 'Amazon', 'Google', 'Infosys', 'TCS']\n"
     ]
    }
   ],
   "source": [
    "# add TCS at the end of list\n",
    "companies.append('TCS')\n",
    "print(companies)"
   ]
  },
  {
   "cell_type": "markdown",
   "id": "1817819b",
   "metadata": {},
   "source": [
    "# Insert\n",
    "It is a method in list used to add new element at certain index position."
   ]
  },
  {
   "cell_type": "code",
   "execution_count": 132,
   "id": "417a4a06",
   "metadata": {},
   "outputs": [
    {
     "name": "stdout",
     "output_type": "stream",
     "text": [
      "[1000, 2000, 3000, 4000, 6000]\n"
     ]
    }
   ],
   "source": [
    "A = [1000,2000,4000,6000]\n",
    "# insert 3000 between 2000 and 4000\n",
    "# A.insert(index_num,value)\n",
    "A.insert(2 , 3000)\n",
    "print(A)"
   ]
  },
  {
   "cell_type": "code",
   "execution_count": 133,
   "id": "ca77aefc",
   "metadata": {},
   "outputs": [
    {
     "name": "stdout",
     "output_type": "stream",
     "text": [
      "[1000, 2000, 3000, 4000, 5000, 6000]\n"
     ]
    }
   ],
   "source": [
    "# insert 5000 after 4000\n",
    "A.insert(4,5000)\n",
    "print(A)\n"
   ]
  },
  {
   "cell_type": "code",
   "execution_count": 134,
   "id": "07f73254",
   "metadata": {},
   "outputs": [
    {
     "name": "stdout",
     "output_type": "stream",
     "text": [
      "[1000, 2000, 3000, 'Hello', 4000, 5000, 6000]\n"
     ]
    }
   ],
   "source": [
    "# insert hello at 3rd index position\n",
    "A.insert(3,\"Hello\")\n",
    "print(A)"
   ]
  },
  {
   "cell_type": "markdown",
   "id": "1b90a180",
   "metadata": {},
   "source": [
    "# Extend\n",
    "* It is a method used to combine elements of multiple list into one\n",
    "* Used to add multiple values at the end of list"
   ]
  },
  {
   "cell_type": "code",
   "execution_count": 135,
   "id": "9ba4606b",
   "metadata": {},
   "outputs": [
    {
     "name": "stdout",
     "output_type": "stream",
     "text": [
      "[1, 2, 3, 4, 'a', 'b', 'c', 'e']\n"
     ]
    }
   ],
   "source": [
    "A =[1,2,3,4]\n",
    "B = ['a','b','c','e']\n",
    "# add all the elements of B at the end of A\n",
    "A.extend(B)\n",
    "print(A)"
   ]
  },
  {
   "cell_type": "code",
   "execution_count": 136,
   "id": "e84da596",
   "metadata": {},
   "outputs": [
    {
     "name": "stdout",
     "output_type": "stream",
     "text": [
      "['a', 'b', 'c', 'e', 1, 2, 3, 4]\n"
     ]
    }
   ],
   "source": [
    "A =[1,2,3,4]\n",
    "B = ['a','b','c','e']\n",
    "B.extend(A)\n",
    "print(B)"
   ]
  },
  {
   "cell_type": "markdown",
   "id": "f6c0bd43",
   "metadata": {},
   "source": [
    "# How to drop list elements\n",
    "* remove\n",
    "* pop\n",
    "* del\n",
    "* clear"
   ]
  },
  {
   "cell_type": "markdown",
   "id": "0d6188a6",
   "metadata": {},
   "source": [
    "# remove\n",
    "It is used to remove specific element by its name."
   ]
  },
  {
   "cell_type": "code",
   "execution_count": 137,
   "id": "8b443b15",
   "metadata": {},
   "outputs": [
    {
     "name": "stdout",
     "output_type": "stream",
     "text": [
      "['Maths', 'physics', 'Biology', 'English']\n"
     ]
    }
   ],
   "source": [
    "subjects = [\"Maths\",\"physics\",\"chemistry\",\"Biology\",\"English\"]\n",
    "# remove chemistry\n",
    "subjects.remove('chemistry')\n",
    "print(subjects)"
   ]
  },
  {
   "cell_type": "code",
   "execution_count": 138,
   "id": "0db04f4d",
   "metadata": {},
   "outputs": [
    {
     "name": "stdout",
     "output_type": "stream",
     "text": [
      "['Maths', 'physics', 'English']\n"
     ]
    }
   ],
   "source": [
    "subjects.remove('Biology')\n",
    "print(subjects)"
   ]
  },
  {
   "cell_type": "code",
   "execution_count": 139,
   "id": "1204ecb4",
   "metadata": {},
   "outputs": [
    {
     "name": "stdout",
     "output_type": "stream",
     "text": [
      "['Maths', 'physics']\n"
     ]
    }
   ],
   "source": [
    "subjects.remove('English')\n",
    "print(subjects)"
   ]
  },
  {
   "cell_type": "code",
   "execution_count": 143,
   "id": "3f2110e3",
   "metadata": {},
   "outputs": [
    {
     "ename": "ValueError",
     "evalue": "list.remove(x): x not in list",
     "output_type": "error",
     "traceback": [
      "\u001b[31m---------------------------------------------------------------------------\u001b[39m",
      "\u001b[31mValueError\u001b[39m                                Traceback (most recent call last)",
      "\u001b[36mCell\u001b[39m\u001b[36m \u001b[39m\u001b[32mIn[143]\u001b[39m\u001b[32m, line 1\u001b[39m\n\u001b[32m----> \u001b[39m\u001b[32m1\u001b[39m \u001b[43msubjects\u001b[49m\u001b[43m.\u001b[49m\u001b[43mremove\u001b[49m\u001b[43m(\u001b[49m\u001b[33;43m'\u001b[39;49m\u001b[33;43mMaths\u001b[39;49m\u001b[33;43m'\u001b[39;49m\u001b[43m)\u001b[49m\n\u001b[32m      2\u001b[39m \u001b[38;5;28mprint\u001b[39m(subjects)\n",
      "\u001b[31mValueError\u001b[39m: list.remove(x): x not in list"
     ]
    }
   ],
   "source": [
    "subjects.remove('Maths')\n",
    "print(subjects)"
   ]
  },
  {
   "cell_type": "markdown",
   "id": "a42ed73a",
   "metadata": {},
   "source": [
    "# pop\n",
    "* Used to remove the last element\n",
    "* Used to remove element using index"
   ]
  },
  {
   "cell_type": "code",
   "execution_count": 145,
   "id": "cf86800c",
   "metadata": {},
   "outputs": [
    {
     "name": "stdout",
     "output_type": "stream",
     "text": [
      "['Maths', 'physics', 'chemistry', 'Biology', 'English']\n"
     ]
    }
   ],
   "source": [
    "subjects = [\"Maths\",\"physics\",\"chemistry\",\"Biology\",\"English\"]\n",
    "print(subjects)"
   ]
  },
  {
   "cell_type": "code",
   "execution_count": 146,
   "id": "fe213526",
   "metadata": {},
   "outputs": [
    {
     "name": "stdout",
     "output_type": "stream",
     "text": [
      "['Maths', 'physics', 'chemistry', 'Biology']\n"
     ]
    }
   ],
   "source": [
    "subjects.pop()\n",
    "print(subjects)"
   ]
  },
  {
   "cell_type": "code",
   "execution_count": 147,
   "id": "04b94941",
   "metadata": {},
   "outputs": [
    {
     "name": "stdout",
     "output_type": "stream",
     "text": [
      "['Maths', 'physics', 'chemistry']\n"
     ]
    }
   ],
   "source": [
    "subjects.pop()\n",
    "print(subjects)"
   ]
  },
  {
   "cell_type": "code",
   "execution_count": 150,
   "id": "37ae3fa7",
   "metadata": {},
   "outputs": [
    {
     "data": {
      "text/plain": [
       "'pyspark'"
      ]
     },
     "execution_count": 150,
     "metadata": {},
     "output_type": "execute_result"
    }
   ],
   "source": [
    "skills = [\"python\",\"R\",\"Java\",\"C+\",\"pyspark\"]\n",
    "skills.pop()\n"
   ]
  },
  {
   "cell_type": "code",
   "execution_count": 151,
   "id": "aff95840",
   "metadata": {},
   "outputs": [
    {
     "name": "stdout",
     "output_type": "stream",
     "text": [
      "['python', 'R', 'Java', 'C+']\n"
     ]
    }
   ],
   "source": [
    "print(skills)"
   ]
  },
  {
   "cell_type": "code",
   "execution_count": 152,
   "id": "3c67b5a8",
   "metadata": {},
   "outputs": [
    {
     "name": "stdout",
     "output_type": "stream",
     "text": [
      "['python', 'Java', 'C+', 'pyspark']\n"
     ]
    }
   ],
   "source": [
    "skills = [\"python\",\"R\",\"Java\",\"C+\",\"pyspark\"]\n",
    "# remove R using pop\n",
    "skills.pop(1)\n",
    "print(skills)"
   ]
  },
  {
   "cell_type": "code",
   "execution_count": 153,
   "id": "1dcf1780",
   "metadata": {},
   "outputs": [
    {
     "name": "stdout",
     "output_type": "stream",
     "text": [
      "['python', 'Java', 'pyspark']\n"
     ]
    }
   ],
   "source": [
    "# remove C+\n",
    "skills.pop(2)\n",
    "print(skills)\n"
   ]
  },
  {
   "cell_type": "markdown",
   "id": "dd834d2f",
   "metadata": {},
   "source": [
    "# del\n",
    "It is used to remove element of list using index."
   ]
  },
  {
   "cell_type": "code",
   "execution_count": 154,
   "id": "988ff204",
   "metadata": {},
   "outputs": [
    {
     "name": "stdout",
     "output_type": "stream",
     "text": [
      "['python', 'R', 'C+', 'pyspark']\n"
     ]
    }
   ],
   "source": [
    "skills = [\"python\",\"R\",\"Java\",\"C+\",\"pyspark\"]\n",
    "# remove Java\n",
    "del skills[2]\n",
    "print(skills)\n"
   ]
  },
  {
   "cell_type": "code",
   "execution_count": 155,
   "id": "b88921db",
   "metadata": {},
   "outputs": [
    {
     "name": "stdout",
     "output_type": "stream",
     "text": [
      "['python', 'C+', 'pyspark']\n"
     ]
    }
   ],
   "source": [
    "del skills[1]\n",
    "print(skills)"
   ]
  },
  {
   "cell_type": "code",
   "execution_count": 156,
   "id": "bc129183",
   "metadata": {},
   "outputs": [
    {
     "name": "stdout",
     "output_type": "stream",
     "text": [
      "['python', 'C+']\n"
     ]
    }
   ],
   "source": [
    "del skills[-1]\n",
    "print(skills)"
   ]
  },
  {
   "cell_type": "markdown",
   "id": "29c4bc42",
   "metadata": {},
   "source": [
    "# clear\n",
    "It is used to remove all the elements"
   ]
  },
  {
   "cell_type": "code",
   "execution_count": 159,
   "id": "0b6edfac",
   "metadata": {},
   "outputs": [
    {
     "name": "stdout",
     "output_type": "stream",
     "text": [
      "[]\n"
     ]
    }
   ],
   "source": [
    "A=[10,20,30,40]\n",
    "A.clear()\n",
    "print(A)"
   ]
  },
  {
   "cell_type": "code",
   "execution_count": 158,
   "id": "f0b230b1",
   "metadata": {},
   "outputs": [
    {
     "name": "stdout",
     "output_type": "stream",
     "text": [
      "[]\n"
     ]
    }
   ],
   "source": [
    "print(A)"
   ]
  },
  {
   "cell_type": "code",
   "execution_count": 160,
   "id": "fe9a58ca",
   "metadata": {},
   "outputs": [],
   "source": [
    "# del:delete the list\n",
    "A =[10,20,30]\n",
    "del A"
   ]
  },
  {
   "cell_type": "code",
   "execution_count": 161,
   "id": "99f9c1f6",
   "metadata": {},
   "outputs": [
    {
     "ename": "NameError",
     "evalue": "name 'A' is not defined",
     "output_type": "error",
     "traceback": [
      "\u001b[31m---------------------------------------------------------------------------\u001b[39m",
      "\u001b[31mNameError\u001b[39m                                 Traceback (most recent call last)",
      "\u001b[36mCell\u001b[39m\u001b[36m \u001b[39m\u001b[32mIn[161]\u001b[39m\u001b[32m, line 1\u001b[39m\n\u001b[32m----> \u001b[39m\u001b[32m1\u001b[39m \u001b[38;5;28mprint\u001b[39m(\u001b[43mA\u001b[49m)\n",
      "\u001b[31mNameError\u001b[39m: name 'A' is not defined"
     ]
    }
   ],
   "source": [
    "print(A)"
   ]
  },
  {
   "cell_type": "markdown",
   "id": "d9252856",
   "metadata": {},
   "source": [
    "# sort\n",
    "Used to arrange lista elements in increasing or decreasing"
   ]
  },
  {
   "cell_type": "code",
   "execution_count": 162,
   "id": "8a46ccd4",
   "metadata": {},
   "outputs": [
    {
     "name": "stdout",
     "output_type": "stream",
     "text": [
      "[1, 5, 6, 20, 40, 79, 500, 2000, 3000, 10000]\n"
     ]
    }
   ],
   "source": [
    "A =[10000,1,20,3000,40,500,5,6,79,2000]\n",
    "# arrange in increasing order\n",
    "A.sort()\n",
    "print(A)"
   ]
  },
  {
   "cell_type": "code",
   "execution_count": 163,
   "id": "1394f635",
   "metadata": {},
   "outputs": [
    {
     "name": "stdout",
     "output_type": "stream",
     "text": [
      "[10000, 3000, 2000, 500, 79, 40, 20, 6, 5, 1]\n"
     ]
    }
   ],
   "source": [
    "# descending: decreasing\n",
    "A.sort(reverse=True)\n",
    "print(A)"
   ]
  },
  {
   "cell_type": "markdown",
   "id": "af77e0ec",
   "metadata": {},
   "source": [
    "# Reverse list\n"
   ]
  },
  {
   "cell_type": "code",
   "execution_count": 165,
   "id": "cd6a23af",
   "metadata": {},
   "outputs": [
    {
     "data": {
      "text/plain": [
       "[2000, 79, 6, 5, 500, 40, 3000, 20, 1, 10000]"
      ]
     },
     "execution_count": 165,
     "metadata": {},
     "output_type": "execute_result"
    }
   ],
   "source": [
    "A =[10000,1,20,3000,40,500,5,6,79,2000]\n",
    "A[::-1]"
   ]
  },
  {
   "cell_type": "code",
   "execution_count": 166,
   "id": "549e0b99",
   "metadata": {},
   "outputs": [
    {
     "name": "stdout",
     "output_type": "stream",
     "text": [
      "[2000, 79, 6, 5, 500, 40, 3000, 20, 1, 10000]\n"
     ]
    }
   ],
   "source": [
    "A =[10000,1,20,3000,40,500,5,6,79,2000]\n",
    "A.reverse()\n",
    "print(A)"
   ]
  },
  {
   "cell_type": "markdown",
   "id": "25e54295",
   "metadata": {},
   "source": [
    "# count\n",
    "Used to find count of elements/occurence"
   ]
  },
  {
   "cell_type": "code",
   "execution_count": 167,
   "id": "d78611f5",
   "metadata": {},
   "outputs": [
    {
     "data": {
      "text/plain": [
       "3"
      ]
     },
     "execution_count": 167,
     "metadata": {},
     "output_type": "execute_result"
    }
   ],
   "source": [
    "A = [\"a\",\"b\",\"a\",\"c\",\"a\",\"d\",\"f\"]\n",
    "# find count of A\n",
    "A.count('a')"
   ]
  },
  {
   "cell_type": "code",
   "execution_count": 168,
   "id": "fd3bcefb",
   "metadata": {},
   "outputs": [
    {
     "name": "stdout",
     "output_type": "stream",
     "text": [
      "7\n"
     ]
    }
   ],
   "source": [
    "print(len(A))"
   ]
  },
  {
   "cell_type": "code",
   "execution_count": 169,
   "id": "7cda4c73",
   "metadata": {},
   "outputs": [
    {
     "data": {
      "text/plain": [
       "1"
      ]
     },
     "execution_count": 169,
     "metadata": {},
     "output_type": "execute_result"
    }
   ],
   "source": [
    "# count of f\n",
    "A.count('f')"
   ]
  },
  {
   "cell_type": "markdown",
   "id": "5410eade",
   "metadata": {},
   "source": [
    "# Index\n",
    "Used to find index number of element"
   ]
  },
  {
   "cell_type": "code",
   "execution_count": 170,
   "id": "96e79ebf",
   "metadata": {},
   "outputs": [
    {
     "data": {
      "text/plain": [
       "0"
      ]
     },
     "execution_count": 170,
     "metadata": {},
     "output_type": "execute_result"
    }
   ],
   "source": [
    "A =[1000,2000,3000,4000]\n",
    "A.index(1000)"
   ]
  },
  {
   "cell_type": "code",
   "execution_count": 171,
   "id": "4ce72098",
   "metadata": {},
   "outputs": [
    {
     "data": {
      "text/plain": [
       "2"
      ]
     },
     "execution_count": 171,
     "metadata": {},
     "output_type": "execute_result"
    }
   ],
   "source": [
    "A.index(3000)"
   ]
  },
  {
   "cell_type": "code",
   "execution_count": 172,
   "id": "256d7c55",
   "metadata": {},
   "outputs": [
    {
     "data": {
      "text/plain": [
       "3"
      ]
     },
     "execution_count": 172,
     "metadata": {},
     "output_type": "execute_result"
    }
   ],
   "source": [
    "A.index(4000)"
   ]
  },
  {
   "cell_type": "code",
   "execution_count": 173,
   "id": "15daa3ea",
   "metadata": {},
   "outputs": [
    {
     "data": {
      "text/plain": [
       "0"
      ]
     },
     "execution_count": 173,
     "metadata": {},
     "output_type": "execute_result"
    }
   ],
   "source": [
    "A =[1000,2000,1000,3000,4000]\n",
    "A.index(1000)"
   ]
  },
  {
   "cell_type": "markdown",
   "id": "a5699a21",
   "metadata": {},
   "source": [
    "# copy\n",
    "Used to create copy of list"
   ]
  },
  {
   "cell_type": "code",
   "execution_count": 174,
   "id": "5a0cfa31",
   "metadata": {},
   "outputs": [
    {
     "name": "stdout",
     "output_type": "stream",
     "text": [
      "[1, 2, 3, 4]\n"
     ]
    }
   ],
   "source": [
    "A =[1,2,3,4]\n",
    "B = A.copy()\n",
    "print(B)"
   ]
  },
  {
   "cell_type": "code",
   "execution_count": 175,
   "id": "2c4561b9",
   "metadata": {},
   "outputs": [],
   "source": [
    "# shallow copy and deep copy\n"
   ]
  },
  {
   "cell_type": "code",
   "execution_count": 176,
   "id": "8a07bd23",
   "metadata": {},
   "outputs": [],
   "source": [
    "A =[1,2,3,4,5,6]\n",
    "del A[0:3]"
   ]
  },
  {
   "cell_type": "code",
   "execution_count": 177,
   "id": "82685c2e",
   "metadata": {},
   "outputs": [
    {
     "data": {
      "text/plain": [
       "[4, 5, 6]"
      ]
     },
     "execution_count": 177,
     "metadata": {},
     "output_type": "execute_result"
    }
   ],
   "source": [
    "A"
   ]
  },
  {
   "cell_type": "markdown",
   "id": "5bb5d284",
   "metadata": {},
   "source": [
    "# List\n",
    "* functions: print , type ,len ,max ,min,sum , enumerate\n",
    "* Methods: reverse , sort , count , index , append , insert , extend , pop ,remove , del , clear ,copy"
   ]
  },
  {
   "cell_type": "markdown",
   "id": "32cd3f86",
   "metadata": {},
   "source": [
    "# Tuple Methods\n",
    "* ordered\n",
    "* Immutable\n",
    "* Allows duplicates"
   ]
  },
  {
   "cell_type": "code",
   "execution_count": 178,
   "id": "c065416f",
   "metadata": {},
   "outputs": [
    {
     "name": "stdout",
     "output_type": "stream",
     "text": [
      "(10, 20, 30, 40, 50)\n"
     ]
    }
   ],
   "source": [
    "A = (10,20,30,40,50)\n",
    "print(A)"
   ]
  },
  {
   "cell_type": "code",
   "execution_count": 179,
   "id": "225249cc",
   "metadata": {},
   "outputs": [
    {
     "name": "stdout",
     "output_type": "stream",
     "text": [
      "(1, 2, 3, 4)\n",
      "<class 'tuple'>\n",
      "4\n",
      "1\n",
      "10\n",
      "4\n"
     ]
    }
   ],
   "source": [
    "B =tuple((1,2,3,4))\n",
    "print(B)\n",
    "print(type(B))\n",
    "print(max(B))\n",
    "print(min(B))\n",
    "print(sum(B))\n",
    "print(len(B))"
   ]
  },
  {
   "cell_type": "code",
   "execution_count": 180,
   "id": "2e96bd5d",
   "metadata": {},
   "outputs": [],
   "source": [
    "# tuple functions:type,max,min,sum,"
   ]
  },
  {
   "cell_type": "markdown",
   "id": "1cddc028",
   "metadata": {},
   "source": [
    "# Index\n",
    "Used to find index position of elements"
   ]
  },
  {
   "cell_type": "code",
   "execution_count": 181,
   "id": "2cf16520",
   "metadata": {},
   "outputs": [
    {
     "data": {
      "text/plain": [
       "2"
      ]
     },
     "execution_count": 181,
     "metadata": {},
     "output_type": "execute_result"
    }
   ],
   "source": [
    "A =('sql','python','Java','R')\n",
    "# find index position of Java\n",
    "A.index('Java')"
   ]
  },
  {
   "cell_type": "code",
   "execution_count": 182,
   "id": "d29a3a8c",
   "metadata": {},
   "outputs": [
    {
     "name": "stdout",
     "output_type": "stream",
     "text": [
      "('a', 'b', 'c', 'd', 'e', 'f', 'g', 'h', 'i', 'j', 'k', 'l', 'm', 'n', 'o')\n"
     ]
    }
   ],
   "source": [
    "A =('a','b','c','d','e','f','g','h','i','j','k','l','m','n','o')\n",
    "print(A)"
   ]
  },
  {
   "cell_type": "code",
   "execution_count": 183,
   "id": "2533847e",
   "metadata": {},
   "outputs": [
    {
     "data": {
      "text/plain": [
       "6"
      ]
     },
     "execution_count": 183,
     "metadata": {},
     "output_type": "execute_result"
    }
   ],
   "source": [
    "A.index('g')"
   ]
  },
  {
   "cell_type": "code",
   "execution_count": 184,
   "id": "a8a3d7d5",
   "metadata": {},
   "outputs": [
    {
     "data": {
      "text/plain": [
       "11"
      ]
     },
     "execution_count": 184,
     "metadata": {},
     "output_type": "execute_result"
    }
   ],
   "source": [
    "# fetch l\n",
    "A.index('l')\n"
   ]
  },
  {
   "cell_type": "code",
   "execution_count": 185,
   "id": "6a226c11",
   "metadata": {},
   "outputs": [
    {
     "data": {
      "text/plain": [
       "'l'"
      ]
     },
     "execution_count": 185,
     "metadata": {},
     "output_type": "execute_result"
    }
   ],
   "source": [
    "A[A.index('l')]"
   ]
  },
  {
   "cell_type": "code",
   "execution_count": 186,
   "id": "afa51b23",
   "metadata": {},
   "outputs": [
    {
     "data": {
      "text/plain": [
       "7"
      ]
     },
     "execution_count": 186,
     "metadata": {},
     "output_type": "execute_result"
    }
   ],
   "source": [
    "A.index('h')"
   ]
  },
  {
   "cell_type": "code",
   "execution_count": 187,
   "id": "f5783451",
   "metadata": {},
   "outputs": [
    {
     "data": {
      "text/plain": [
       "'h'"
      ]
     },
     "execution_count": 187,
     "metadata": {},
     "output_type": "execute_result"
    }
   ],
   "source": [
    "# fetch h\n",
    "A[A.index('h')]"
   ]
  },
  {
   "cell_type": "code",
   "execution_count": 188,
   "id": "39bbb30a",
   "metadata": {},
   "outputs": [
    {
     "data": {
      "text/plain": [
       "'h'"
      ]
     },
     "execution_count": 188,
     "metadata": {},
     "output_type": "execute_result"
    }
   ],
   "source": [
    "A[7]"
   ]
  },
  {
   "cell_type": "markdown",
   "id": "d1799da2",
   "metadata": {},
   "source": [
    "# count"
   ]
  },
  {
   "cell_type": "code",
   "execution_count": 189,
   "id": "75502c13",
   "metadata": {},
   "outputs": [
    {
     "data": {
      "text/plain": [
       "4"
      ]
     },
     "execution_count": 189,
     "metadata": {},
     "output_type": "execute_result"
    }
   ],
   "source": [
    "A =('sql','sql','python','R','R','sql','R','R')\n",
    "# find count of R\n",
    "A.count('R')"
   ]
  },
  {
   "cell_type": "code",
   "execution_count": 190,
   "id": "3007b1cb",
   "metadata": {},
   "outputs": [
    {
     "data": {
      "text/plain": [
       "3"
      ]
     },
     "execution_count": 190,
     "metadata": {},
     "output_type": "execute_result"
    }
   ],
   "source": [
    "# find the count of sql\n",
    "# A.count(value)\n",
    "# A.index(value)\n",
    "A.count('sql')\n"
   ]
  },
  {
   "cell_type": "markdown",
   "id": "1aea017c",
   "metadata": {},
   "source": [
    "# sorted\n"
   ]
  },
  {
   "cell_type": "code",
   "execution_count": 191,
   "id": "8b008b9f",
   "metadata": {},
   "outputs": [
    {
     "data": {
      "text/plain": [
       "[1, 40, 300, 500, 2000, 7000]"
      ]
     },
     "execution_count": 191,
     "metadata": {},
     "output_type": "execute_result"
    }
   ],
   "source": [
    "B =(1,2000,300,40,500,7000)\n",
    "sorted(B)"
   ]
  },
  {
   "cell_type": "code",
   "execution_count": 192,
   "id": "5ad0471c",
   "metadata": {},
   "outputs": [
    {
     "name": "stdout",
     "output_type": "stream",
     "text": [
      "(1, 2000, 300, 40, 500, 7000)\n"
     ]
    }
   ],
   "source": [
    "print(B)"
   ]
  },
  {
   "cell_type": "code",
   "execution_count": 193,
   "id": "f6eb0413",
   "metadata": {},
   "outputs": [],
   "source": [
    "A =[100,1,230,40]\n",
    "A.sort() # sort is a method which rearrange elements in increasing order in original list"
   ]
  },
  {
   "cell_type": "code",
   "execution_count": 194,
   "id": "2f37adb4",
   "metadata": {},
   "outputs": [
    {
     "data": {
      "text/plain": [
       "[1, 40, 100, 230]"
      ]
     },
     "execution_count": 194,
     "metadata": {},
     "output_type": "execute_result"
    }
   ],
   "source": [
    "A"
   ]
  },
  {
   "cell_type": "code",
   "execution_count": 195,
   "id": "4c47a519",
   "metadata": {},
   "outputs": [
    {
     "data": {
      "text/plain": [
       "[1, 40, 300, 500, 2000, 7000]"
      ]
     },
     "execution_count": 195,
     "metadata": {},
     "output_type": "execute_result"
    }
   ],
   "source": [
    "X=(1,2000,300,40,500,7000)\n",
    "sorted(X)\n"
   ]
  },
  {
   "cell_type": "code",
   "execution_count": 196,
   "id": "7205d20d",
   "metadata": {},
   "outputs": [
    {
     "name": "stdout",
     "output_type": "stream",
     "text": [
      "(1, 2000, 300, 40, 500, 7000)\n"
     ]
    }
   ],
   "source": [
    "print(X)"
   ]
  },
  {
   "cell_type": "code",
   "execution_count": 197,
   "id": "b645b046",
   "metadata": {},
   "outputs": [],
   "source": [
    "Y=[1,2000,300,40,500,7000]\n",
    "Y.sort()"
   ]
  },
  {
   "cell_type": "code",
   "execution_count": 198,
   "id": "863d7b4c",
   "metadata": {},
   "outputs": [
    {
     "data": {
      "text/plain": [
       "[1, 40, 300, 500, 2000, 7000]"
      ]
     },
     "execution_count": 198,
     "metadata": {},
     "output_type": "execute_result"
    }
   ],
   "source": [
    "Y"
   ]
  },
  {
   "cell_type": "code",
   "execution_count": 199,
   "id": "78e6ddd8",
   "metadata": {},
   "outputs": [
    {
     "name": "stdout",
     "output_type": "stream",
     "text": [
      "[1, 40, 300, 500, 2000, 7000]\n"
     ]
    }
   ],
   "source": [
    "print(Y)"
   ]
  },
  {
   "cell_type": "code",
   "execution_count": 200,
   "id": "27eb3bf1",
   "metadata": {},
   "outputs": [
    {
     "data": {
      "text/plain": [
       "[1, 40, 300, 500, 2000, 7000]"
      ]
     },
     "execution_count": 200,
     "metadata": {},
     "output_type": "execute_result"
    }
   ],
   "source": [
    "sorted(Y)"
   ]
  },
  {
   "cell_type": "code",
   "execution_count": 201,
   "id": "f1a5f28a",
   "metadata": {},
   "outputs": [
    {
     "data": {
      "text/plain": [
       "[1, 40, 300, 500, 2000, 7000]"
      ]
     },
     "execution_count": 201,
     "metadata": {},
     "output_type": "execute_result"
    }
   ],
   "source": [
    "Y"
   ]
  },
  {
   "cell_type": "markdown",
   "id": "49919cd1",
   "metadata": {},
   "source": [
    "# Note\n",
    "* Sorted is a function which can be applied on both list or tuple but it will not do any change sin original list or tuple\n",
    "* sort : It is a method used only with list to re arrange elements into increasing or decreasing order and all the changes will be seen in original list."
   ]
  },
  {
   "cell_type": "code",
   "execution_count": 202,
   "id": "f087fd47",
   "metadata": {},
   "outputs": [
    {
     "data": {
      "text/plain": [
       "[1, 40, 300, 500, 2000, 7000]"
      ]
     },
     "execution_count": 202,
     "metadata": {},
     "output_type": "execute_result"
    }
   ],
   "source": [
    "X=(1,2000,300,40,500,7000)\n",
    "sorted(X)"
   ]
  },
  {
   "cell_type": "code",
   "execution_count": 203,
   "id": "aa33149c",
   "metadata": {},
   "outputs": [
    {
     "data": {
      "text/plain": [
       "[7000, 2000, 500, 300, 40, 1]"
      ]
     },
     "execution_count": 203,
     "metadata": {},
     "output_type": "execute_result"
    }
   ],
   "source": [
    "X=(1,2000,300,40,500,7000)\n",
    "sorted(X,reverse=True)"
   ]
  },
  {
   "cell_type": "markdown",
   "id": "42d065b9",
   "metadata": {},
   "source": [
    "# Note\n",
    "If in case we need to do any changes to tuple(add,deleteing,changing) , convert tuple into list using list() function."
   ]
  },
  {
   "cell_type": "code",
   "execution_count": 204,
   "id": "1217692d",
   "metadata": {},
   "outputs": [
    {
     "name": "stdout",
     "output_type": "stream",
     "text": [
      "[10, 20, 30, 40]\n"
     ]
    }
   ],
   "source": [
    "A =(10,20,30,40)\n",
    "# add 50\n",
    "# converted tuple to list\n",
    "B = list(A)\n",
    "print(B)"
   ]
  },
  {
   "cell_type": "code",
   "execution_count": 205,
   "id": "79e7be30",
   "metadata": {},
   "outputs": [
    {
     "name": "stdout",
     "output_type": "stream",
     "text": [
      "[10, 20, 30, 40, 50]\n"
     ]
    }
   ],
   "source": [
    "# add 50\n",
    "B.append(50)\n",
    "print(B)"
   ]
  },
  {
   "cell_type": "code",
   "execution_count": 206,
   "id": "2538ee84",
   "metadata": {},
   "outputs": [
    {
     "name": "stdout",
     "output_type": "stream",
     "text": [
      "(10, 20, 30, 40, 50)\n"
     ]
    }
   ],
   "source": [
    "# convert list back into tuple\n",
    "A = tuple(B)\n",
    "print(A)"
   ]
  },
  {
   "cell_type": "markdown",
   "id": "a46902c0",
   "metadata": {},
   "source": [
    "# Sets Methods\n",
    "* Unordered\n",
    "* Sets are Mutable , set elements are Immutable.\n",
    "* No duplicates"
   ]
  },
  {
   "cell_type": "code",
   "execution_count": 207,
   "id": "a4939e4c",
   "metadata": {},
   "outputs": [
    {
     "name": "stdout",
     "output_type": "stream",
     "text": [
      "{1, 2, 3, 4}\n"
     ]
    }
   ],
   "source": [
    "A ={1,2,3,4}\n",
    "print(A)"
   ]
  },
  {
   "cell_type": "code",
   "execution_count": 208,
   "id": "23374050",
   "metadata": {},
   "outputs": [
    {
     "name": "stdout",
     "output_type": "stream",
     "text": [
      "{40, 10, 20, 30}\n"
     ]
    }
   ],
   "source": [
    "B =set((10,20,30,40))\n",
    "print(B)"
   ]
  },
  {
   "cell_type": "code",
   "execution_count": 209,
   "id": "fea259e6",
   "metadata": {},
   "outputs": [
    {
     "name": "stdout",
     "output_type": "stream",
     "text": [
      "{40, 10, 20, 30}\n",
      "<class 'set'>\n",
      "40\n",
      "10\n",
      "100\n"
     ]
    }
   ],
   "source": [
    "# Sets:set(),type,len,max,min,sum,sorted\n",
    "B =set((10,20,30,40))\n",
    "print(B)\n",
    "print(type(B))\n",
    "print(max(B))\n",
    "print(min(B))\n",
    "print(sum(B))"
   ]
  },
  {
   "cell_type": "code",
   "execution_count": 210,
   "id": "72862bba",
   "metadata": {},
   "outputs": [
    {
     "data": {
      "text/plain": [
       "[1, 10, 20, 300, 1000, 40000]"
      ]
     },
     "execution_count": 210,
     "metadata": {},
     "output_type": "execute_result"
    }
   ],
   "source": [
    "A ={1000,10,1,20,300,40000}\n",
    "sorted(A) #ascending"
   ]
  },
  {
   "cell_type": "code",
   "execution_count": 211,
   "id": "b4b11257",
   "metadata": {},
   "outputs": [
    {
     "data": {
      "text/plain": [
       "[40000, 1000, 300, 20, 10, 1]"
      ]
     },
     "execution_count": 211,
     "metadata": {},
     "output_type": "execute_result"
    }
   ],
   "source": [
    "A ={1000,10,1,20,300,40000}\n",
    "sorted(A,reverse=True)#descending"
   ]
  },
  {
   "cell_type": "markdown",
   "id": "a5a920c7",
   "metadata": {},
   "source": [
    "# Modify the set"
   ]
  },
  {
   "cell_type": "markdown",
   "id": "749ede14",
   "metadata": {},
   "source": [
    "# add\n",
    "It is a method used with sets to add new element into set(at random position)"
   ]
  },
  {
   "cell_type": "code",
   "execution_count": 213,
   "id": "3c24f6ad",
   "metadata": {},
   "outputs": [
    {
     "name": "stdout",
     "output_type": "stream",
     "text": [
      "{'blue', 'orange', 'green'}\n",
      "{'blue', 'pink', 'orange', 'green'}\n"
     ]
    }
   ],
   "source": [
    "colors={'blue','green','orange'}\n",
    "print(colors)\n",
    "# add pink color\n",
    "colors.add('pink')\n",
    "print(colors)"
   ]
  },
  {
   "cell_type": "code",
   "execution_count": 214,
   "id": "4616a402",
   "metadata": {},
   "outputs": [
    {
     "name": "stdout",
     "output_type": "stream",
     "text": [
      "{'pink', 'green', 1000, 'orange', 'blue'}\n"
     ]
    }
   ],
   "source": [
    "# add 1000 into colors\n",
    "colors.add(1000)\n",
    "print(colors)"
   ]
  },
  {
   "cell_type": "markdown",
   "id": "08b41e4b",
   "metadata": {},
   "source": [
    "# remove\n",
    "Used to remove specific element from set by its name\n"
   ]
  },
  {
   "cell_type": "code",
   "execution_count": 215,
   "id": "fbde3c73",
   "metadata": {},
   "outputs": [
    {
     "name": "stdout",
     "output_type": "stream",
     "text": [
      "{'blue', 'orange'}\n"
     ]
    }
   ],
   "source": [
    "colors={'blue','green','orange'}\n",
    "# remove green\n",
    "colors.remove('green')\n",
    "print(colors)"
   ]
  },
  {
   "cell_type": "markdown",
   "id": "c0f38e7d",
   "metadata": {},
   "source": [
    "# Discard\n",
    "Used to remove element by its name"
   ]
  },
  {
   "cell_type": "code",
   "execution_count": 216,
   "id": "5f1c0cb7",
   "metadata": {},
   "outputs": [
    {
     "name": "stdout",
     "output_type": "stream",
     "text": [
      "{'orange', 'green'}\n"
     ]
    }
   ],
   "source": [
    "colors={'blue','green','orange'}\n",
    "# remove blue\n",
    "colors.discard('blue')\n",
    "print(colors)"
   ]
  },
  {
   "cell_type": "code",
   "execution_count": 217,
   "id": "987ea461",
   "metadata": {},
   "outputs": [
    {
     "ename": "KeyError",
     "evalue": "'pink'",
     "output_type": "error",
     "traceback": [
      "\u001b[31m---------------------------------------------------------------------------\u001b[39m",
      "\u001b[31mKeyError\u001b[39m                                  Traceback (most recent call last)",
      "\u001b[36mCell\u001b[39m\u001b[36m \u001b[39m\u001b[32mIn[217]\u001b[39m\u001b[32m, line 3\u001b[39m\n\u001b[32m      1\u001b[39m colors={\u001b[33m'\u001b[39m\u001b[33mblue\u001b[39m\u001b[33m'\u001b[39m,\u001b[33m'\u001b[39m\u001b[33mgreen\u001b[39m\u001b[33m'\u001b[39m,\u001b[33m'\u001b[39m\u001b[33morange\u001b[39m\u001b[33m'\u001b[39m}\n\u001b[32m      2\u001b[39m \u001b[38;5;66;03m# remove pink\u001b[39;00m\n\u001b[32m----> \u001b[39m\u001b[32m3\u001b[39m \u001b[43mcolors\u001b[49m\u001b[43m.\u001b[49m\u001b[43mremove\u001b[49m\u001b[43m(\u001b[49m\u001b[33;43m'\u001b[39;49m\u001b[33;43mpink\u001b[39;49m\u001b[33;43m'\u001b[39;49m\u001b[43m)\u001b[49m\n",
      "\u001b[31mKeyError\u001b[39m: 'pink'"
     ]
    }
   ],
   "source": [
    "colors={'blue','green','orange'}\n",
    "# remove pink\n",
    "colors.remove('pink')"
   ]
  },
  {
   "cell_type": "code",
   "execution_count": 218,
   "id": "ffd0a6b5",
   "metadata": {},
   "outputs": [],
   "source": [
    "colors.discard('pink')"
   ]
  },
  {
   "cell_type": "markdown",
   "id": "5f4fd6d9",
   "metadata": {},
   "source": [
    "# remove v/s discard\n",
    "* Both are used to remove values by its name\n",
    "* remove throws an error when an element is not found.\n",
    "* Discard will not throw any error if something is not found."
   ]
  },
  {
   "cell_type": "markdown",
   "id": "956d8fb7",
   "metadata": {},
   "source": [
    "# pop\n",
    "It is used remove random element from a set"
   ]
  },
  {
   "cell_type": "code",
   "execution_count": 219,
   "id": "cf7ef590",
   "metadata": {},
   "outputs": [
    {
     "data": {
      "text/plain": [
       "200"
      ]
     },
     "execution_count": 219,
     "metadata": {},
     "output_type": "execute_result"
    }
   ],
   "source": [
    "A ={100,200,300,400}\n",
    "A.pop()"
   ]
  },
  {
   "cell_type": "code",
   "execution_count": 220,
   "id": "0e073e8a",
   "metadata": {},
   "outputs": [
    {
     "name": "stdout",
     "output_type": "stream",
     "text": [
      "{100, 400, 300}\n"
     ]
    }
   ],
   "source": [
    "print(A)"
   ]
  },
  {
   "cell_type": "markdown",
   "id": "3a4be834",
   "metadata": {},
   "source": [
    "# clear\n",
    "removes all the elemnts"
   ]
  },
  {
   "cell_type": "code",
   "execution_count": 221,
   "id": "ff199feb",
   "metadata": {},
   "outputs": [
    {
     "name": "stdout",
     "output_type": "stream",
     "text": [
      "set()\n"
     ]
    }
   ],
   "source": [
    "A ={100,200,300,400}\n",
    "A.clear()\n",
    "print(A)"
   ]
  },
  {
   "cell_type": "code",
   "execution_count": 222,
   "id": "16748559",
   "metadata": {},
   "outputs": [
    {
     "name": "stdout",
     "output_type": "stream",
     "text": [
      "{1, 2, 3}\n"
     ]
    }
   ],
   "source": [
    "# copy of set\n",
    "A ={1,2,3}\n",
    "B = A.copy()\n",
    "print(B)"
   ]
  },
  {
   "cell_type": "markdown",
   "id": "02c5bd16",
   "metadata": {},
   "source": [
    "# Union\n",
    "It gives all the elements from both sets."
   ]
  },
  {
   "cell_type": "code",
   "execution_count": 223,
   "id": "daa6b658",
   "metadata": {},
   "outputs": [
    {
     "data": {
      "text/plain": [
       "{1, 2, 3, 4, 5, 6}"
      ]
     },
     "execution_count": 223,
     "metadata": {},
     "output_type": "execute_result"
    }
   ],
   "source": [
    "A ={1,2,3,4}\n",
    "B={3,5,6,4}\n",
    "A.union(B)\n"
   ]
  },
  {
   "cell_type": "code",
   "execution_count": 224,
   "id": "61e18493",
   "metadata": {},
   "outputs": [
    {
     "data": {
      "text/plain": [
       "{1, 2, 3, 4, 5, 7, 8}"
      ]
     },
     "execution_count": 224,
     "metadata": {},
     "output_type": "execute_result"
    }
   ],
   "source": [
    "A={1,2,3}\n",
    "B={4,2,5}\n",
    "C={7,8,2}\n",
    "A.union(B,C)"
   ]
  },
  {
   "cell_type": "code",
   "execution_count": 225,
   "id": "ac6b3e22",
   "metadata": {},
   "outputs": [
    {
     "data": {
      "text/plain": [
       "{1, 2, 3, 4, 5, 7, 8}"
      ]
     },
     "execution_count": 225,
     "metadata": {},
     "output_type": "execute_result"
    }
   ],
   "source": [
    "A.union(B.union(C))"
   ]
  },
  {
   "cell_type": "markdown",
   "id": "e11ef7cb",
   "metadata": {},
   "source": [
    "# Intersection\n",
    "It gives common elements from both the sets."
   ]
  },
  {
   "cell_type": "code",
   "execution_count": 226,
   "id": "250986d0",
   "metadata": {},
   "outputs": [
    {
     "data": {
      "text/plain": [
       "{3, 4}"
      ]
     },
     "execution_count": 226,
     "metadata": {},
     "output_type": "execute_result"
    }
   ],
   "source": [
    "A ={1,2,3,4}\n",
    "B={3,5,6,4}\n",
    "A.intersection(B)"
   ]
  },
  {
   "cell_type": "code",
   "execution_count": 227,
   "id": "bdd7d2d4",
   "metadata": {},
   "outputs": [
    {
     "data": {
      "text/plain": [
       "{2}"
      ]
     },
     "execution_count": 227,
     "metadata": {},
     "output_type": "execute_result"
    }
   ],
   "source": [
    "A={1,2,3}\n",
    "B={4,2,5}\n",
    "C={7,8,2}\n",
    "A.intersection(B,C)"
   ]
  },
  {
   "cell_type": "markdown",
   "id": "d720f8db",
   "metadata": {},
   "source": [
    "# DIFFERENCE\n"
   ]
  },
  {
   "cell_type": "code",
   "execution_count": 228,
   "id": "b0fd63b1",
   "metadata": {},
   "outputs": [
    {
     "data": {
      "text/plain": [
       "{1, 2}"
      ]
     },
     "execution_count": 228,
     "metadata": {},
     "output_type": "execute_result"
    }
   ],
   "source": [
    "A ={1,2,3,4}\n",
    "B={3,5,6,4}\n",
    "# A-B\n",
    "# All the elemnts of A which are not in B\n",
    "A.difference(B)"
   ]
  },
  {
   "cell_type": "code",
   "execution_count": 229,
   "id": "b0897d55",
   "metadata": {},
   "outputs": [
    {
     "data": {
      "text/plain": [
       "{5, 6}"
      ]
     },
     "execution_count": 229,
     "metadata": {},
     "output_type": "execute_result"
    }
   ],
   "source": [
    "# B-A:All the elements of B which are not in A\n",
    "B.difference(A)"
   ]
  },
  {
   "cell_type": "code",
   "execution_count": 230,
   "id": "c9bba742",
   "metadata": {},
   "outputs": [
    {
     "data": {
      "text/plain": [
       "{1, 2, 3, 4}"
      ]
     },
     "execution_count": 230,
     "metadata": {},
     "output_type": "execute_result"
    }
   ],
   "source": [
    "{1,2,3}|{3,4} #union"
   ]
  },
  {
   "cell_type": "code",
   "execution_count": 231,
   "id": "9f1d18d2",
   "metadata": {},
   "outputs": [
    {
     "data": {
      "text/plain": [
       "{3}"
      ]
     },
     "execution_count": 231,
     "metadata": {},
     "output_type": "execute_result"
    }
   ],
   "source": [
    "{1,2,3}&{3,4} #Intersection"
   ]
  },
  {
   "cell_type": "code",
   "execution_count": 232,
   "id": "905cec93",
   "metadata": {},
   "outputs": [
    {
     "data": {
      "text/plain": [
       "{1, 2}"
      ]
     },
     "execution_count": 232,
     "metadata": {},
     "output_type": "execute_result"
    }
   ],
   "source": [
    "{1,2,3}-{3,4} # difference"
   ]
  },
  {
   "cell_type": "markdown",
   "id": "4ca41bb1",
   "metadata": {},
   "source": [
    "# dict"
   ]
  },
  {
   "cell_type": "code",
   "execution_count": 233,
   "id": "6167902e",
   "metadata": {},
   "outputs": [
    {
     "name": "stdout",
     "output_type": "stream",
     "text": [
      "{'name': 'John', 'Age': 30, 'job': 'HR', 'company': 'IBM'}\n"
     ]
    }
   ],
   "source": [
    "A ={'name':'John','Age':30,'job':'HR','company':'IBM'}\n",
    "print(A)"
   ]
  },
  {
   "cell_type": "markdown",
   "id": "7ab1f428",
   "metadata": {},
   "source": [
    "# keys\n",
    "Used to get all the dictionary keys\n"
   ]
  },
  {
   "cell_type": "code",
   "execution_count": 234,
   "id": "2e425344",
   "metadata": {},
   "outputs": [
    {
     "data": {
      "text/plain": [
       "dict_keys(['name', 'Age', 'job', 'company'])"
      ]
     },
     "execution_count": 234,
     "metadata": {},
     "output_type": "execute_result"
    }
   ],
   "source": [
    "A.keys()"
   ]
  },
  {
   "cell_type": "markdown",
   "id": "29c7bffc",
   "metadata": {},
   "source": [
    "# values\n",
    "Used to get all the values of dictionary"
   ]
  },
  {
   "cell_type": "code",
   "execution_count": 235,
   "id": "0e4376a9",
   "metadata": {},
   "outputs": [
    {
     "data": {
      "text/plain": [
       "dict_values(['John', 30, 'HR', 'IBM'])"
      ]
     },
     "execution_count": 235,
     "metadata": {},
     "output_type": "execute_result"
    }
   ],
   "source": [
    "A.values()"
   ]
  },
  {
   "cell_type": "markdown",
   "id": "05604346",
   "metadata": {},
   "source": [
    "# Items\n",
    "Used to get key-value pairs"
   ]
  },
  {
   "cell_type": "code",
   "execution_count": 236,
   "id": "5dd6af2b",
   "metadata": {},
   "outputs": [
    {
     "data": {
      "text/plain": [
       "dict_items([('name', 'John'), ('Age', 30), ('job', 'HR'), ('company', 'IBM')])"
      ]
     },
     "execution_count": 236,
     "metadata": {},
     "output_type": "execute_result"
    }
   ],
   "source": [
    "A.items()"
   ]
  },
  {
   "cell_type": "markdown",
   "id": "56f242b5",
   "metadata": {},
   "source": [
    "# get\n",
    "Used to find value of certain key"
   ]
  },
  {
   "cell_type": "code",
   "execution_count": 237,
   "id": "513b6cee",
   "metadata": {},
   "outputs": [
    {
     "data": {
      "text/plain": [
       "'John'"
      ]
     },
     "execution_count": 237,
     "metadata": {},
     "output_type": "execute_result"
    }
   ],
   "source": [
    "A.get('name')"
   ]
  },
  {
   "cell_type": "code",
   "execution_count": 238,
   "id": "39f46d85",
   "metadata": {},
   "outputs": [
    {
     "data": {
      "text/plain": [
       "30"
      ]
     },
     "execution_count": 238,
     "metadata": {},
     "output_type": "execute_result"
    }
   ],
   "source": [
    "A.get('Age')"
   ]
  },
  {
   "cell_type": "code",
   "execution_count": 239,
   "id": "70ebf478",
   "metadata": {},
   "outputs": [],
   "source": [
    "A.get('place')"
   ]
  },
  {
   "cell_type": "code",
   "execution_count": 240,
   "id": "b1aef4dc",
   "metadata": {},
   "outputs": [
    {
     "data": {
      "text/plain": [
       "{'name': 'John', 'Age': 30, 'job': 'HR', 'company': 'IBM'}"
      ]
     },
     "execution_count": 240,
     "metadata": {},
     "output_type": "execute_result"
    }
   ],
   "source": [
    "A"
   ]
  },
  {
   "cell_type": "markdown",
   "id": "e39d672f",
   "metadata": {},
   "source": [
    "# update\n",
    "* Used to change value of a key\n",
    "* Used to add new key-value pair"
   ]
  },
  {
   "cell_type": "code",
   "execution_count": 241,
   "id": "8ff5e0f5",
   "metadata": {},
   "outputs": [
    {
     "name": "stdout",
     "output_type": "stream",
     "text": [
      "{'name': 'John', 'Age': 30, 'job': 'HR', 'company': 'Oracle'}\n"
     ]
    }
   ],
   "source": [
    "# change company name as 'Oracle'\n",
    "A.update({'company':'Oracle'})\n",
    "print(A)\n"
   ]
  },
  {
   "cell_type": "code",
   "execution_count": 242,
   "id": "5f1ad04a",
   "metadata": {},
   "outputs": [
    {
     "name": "stdout",
     "output_type": "stream",
     "text": [
      "{'name': 'John', 'Age': '40', 'job': 'HR', 'company': 'Oracle'}\n"
     ]
    }
   ],
   "source": [
    "# change age to 40\n",
    "A.update({'Age':'40'})\n",
    "print(A)"
   ]
  },
  {
   "cell_type": "code",
   "execution_count": 243,
   "id": "fac1320a",
   "metadata": {},
   "outputs": [
    {
     "name": "stdout",
     "output_type": "stream",
     "text": [
      "{'name': 'John', 'Age': '40', 'job': 'HR', 'company': 'Oracle', 'Place': 'Bangalore'}\n"
     ]
    }
   ],
   "source": [
    "# add palce=Bangalore\n",
    "A.update({'Place':'Bangalore'})\n",
    "print(A)"
   ]
  },
  {
   "cell_type": "markdown",
   "id": "96e88d57",
   "metadata": {},
   "source": [
    "# setdefault\n",
    "Used to add new key value pair"
   ]
  },
  {
   "cell_type": "code",
   "execution_count": 244,
   "id": "b18802a5",
   "metadata": {},
   "outputs": [
    {
     "data": {
      "text/plain": [
       "{'name': 'John',\n",
       " 'Age': '40',\n",
       " 'job': 'HR',\n",
       " 'company': 'Oracle',\n",
       " 'Place': 'Bangalore'}"
      ]
     },
     "execution_count": 244,
     "metadata": {},
     "output_type": "execute_result"
    }
   ],
   "source": [
    "A"
   ]
  },
  {
   "cell_type": "code",
   "execution_count": 245,
   "id": "556f5500",
   "metadata": {},
   "outputs": [
    {
     "name": "stdout",
     "output_type": "stream",
     "text": [
      "{'name': 'John', 'Age': '40', 'job': 'HR', 'company': 'Oracle', 'Place': 'Bangalore', 'salary': 70000}\n"
     ]
    }
   ],
   "source": [
    "# add salary = 70000\n",
    "# A.setdefault(key,val)\n",
    "# A.update({key:val})\n",
    "A.setdefault('salary',70000)\n",
    "print(A)"
   ]
  },
  {
   "cell_type": "markdown",
   "id": "37202216",
   "metadata": {},
   "source": [
    "# update v/s setdefault\n",
    "* Update is used to add new key-value pair : It is used to update key value\n",
    "* Set default is used to add new key-value pairs; USing this we cannot update keys"
   ]
  },
  {
   "cell_type": "code",
   "execution_count": 246,
   "id": "e27e1de7",
   "metadata": {},
   "outputs": [
    {
     "name": "stdout",
     "output_type": "stream",
     "text": [
      "{'name': 'John', 'Age': '40', 'job': 'HR', 'company': 'Oracle', 'Place': 'Bangalore', 'salary': 70000}\n"
     ]
    }
   ],
   "source": [
    "A.setdefault('salary',700000)\n",
    "print(A)"
   ]
  },
  {
   "cell_type": "markdown",
   "id": "2b2408a3",
   "metadata": {},
   "source": [
    "# deleting key-value pairs\n",
    "* pop\n",
    "* popitem\n",
    "* clear"
   ]
  },
  {
   "cell_type": "markdown",
   "id": "04f6d28a",
   "metadata": {},
   "source": [
    "# pop\n",
    "Used to remove key-value pair by giving key name.\n"
   ]
  },
  {
   "cell_type": "code",
   "execution_count": 247,
   "id": "ac9fb299",
   "metadata": {},
   "outputs": [
    {
     "data": {
      "text/plain": [
       "{'name': 'John',\n",
       " 'Age': '40',\n",
       " 'job': 'HR',\n",
       " 'company': 'Oracle',\n",
       " 'Place': 'Bangalore',\n",
       " 'salary': 70000}"
      ]
     },
     "execution_count": 247,
     "metadata": {},
     "output_type": "execute_result"
    }
   ],
   "source": [
    "A"
   ]
  },
  {
   "cell_type": "code",
   "execution_count": 248,
   "id": "7c6d81c5",
   "metadata": {},
   "outputs": [
    {
     "name": "stdout",
     "output_type": "stream",
     "text": [
      "{'name': 'John', 'Age': '40', 'job': 'HR', 'company': 'Oracle', 'Place': 'Bangalore'}\n"
     ]
    }
   ],
   "source": [
    "# remove salary\n",
    "A.pop('salary')\n",
    "print(A)"
   ]
  },
  {
   "cell_type": "code",
   "execution_count": 249,
   "id": "7326cc01",
   "metadata": {},
   "outputs": [
    {
     "name": "stdout",
     "output_type": "stream",
     "text": [
      "{'name': 'John', 'Age': '40', 'company': 'Oracle', 'Place': 'Bangalore'}\n"
     ]
    }
   ],
   "source": [
    "# remove job\n",
    "A.pop('job')\n",
    "print(A)"
   ]
  },
  {
   "cell_type": "markdown",
   "id": "4972f59b",
   "metadata": {},
   "source": [
    "# popitem\n",
    "Used to remove last element in a dict"
   ]
  },
  {
   "cell_type": "code",
   "execution_count": 250,
   "id": "c3d58b75",
   "metadata": {},
   "outputs": [
    {
     "data": {
      "text/plain": [
       "{'day1': 'Mon', 'day2': 'Tues', 'day3': 'Wed'}"
      ]
     },
     "execution_count": 250,
     "metadata": {},
     "output_type": "execute_result"
    }
   ],
   "source": [
    "A={'day1':'Mon','day2':'Tues','day3':'Wed'}\n",
    "A"
   ]
  },
  {
   "cell_type": "code",
   "execution_count": 251,
   "id": "fb06fc55",
   "metadata": {},
   "outputs": [
    {
     "name": "stdout",
     "output_type": "stream",
     "text": [
      "{'day1': 'Mon', 'day2': 'Tues'}\n"
     ]
    }
   ],
   "source": [
    "A.popitem()\n",
    "print(A)"
   ]
  },
  {
   "cell_type": "code",
   "execution_count": 252,
   "id": "15ac518c",
   "metadata": {},
   "outputs": [
    {
     "name": "stdout",
     "output_type": "stream",
     "text": [
      "{'day1': 'Mon'}\n"
     ]
    }
   ],
   "source": [
    "A.popitem()\n",
    "print(A)"
   ]
  },
  {
   "cell_type": "code",
   "execution_count": 253,
   "id": "b1f50690",
   "metadata": {},
   "outputs": [],
   "source": [
    "A.clear()"
   ]
  },
  {
   "cell_type": "code",
   "execution_count": 254,
   "id": "9bc7a19e",
   "metadata": {},
   "outputs": [
    {
     "data": {
      "text/plain": [
       "{}"
      ]
     },
     "execution_count": 254,
     "metadata": {},
     "output_type": "execute_result"
    }
   ],
   "source": [
    "A"
   ]
  },
  {
   "cell_type": "markdown",
   "id": "a82ab163",
   "metadata": {},
   "source": [
    "# string Methods"
   ]
  },
  {
   "cell_type": "code",
   "execution_count": 255,
   "id": "65c5b298",
   "metadata": {},
   "outputs": [
    {
     "data": {
      "text/plain": [
       "'Life is crazy'"
      ]
     },
     "execution_count": 255,
     "metadata": {},
     "output_type": "execute_result"
    }
   ],
   "source": [
    "A ='Life is crazy'\n",
    "A"
   ]
  },
  {
   "cell_type": "code",
   "execution_count": 256,
   "id": "9dbd7909",
   "metadata": {},
   "outputs": [
    {
     "data": {
      "text/plain": [
       "'LIFE IS CRAZY'"
      ]
     },
     "execution_count": 256,
     "metadata": {},
     "output_type": "execute_result"
    }
   ],
   "source": [
    "# upper: Method Used to convert string into upper case\n",
    "A.upper()"
   ]
  },
  {
   "cell_type": "code",
   "execution_count": 257,
   "id": "b8e02a8e",
   "metadata": {},
   "outputs": [
    {
     "data": {
      "text/plain": [
       "'life is crazy'"
      ]
     },
     "execution_count": 257,
     "metadata": {},
     "output_type": "execute_result"
    }
   ],
   "source": [
    "# lower : Method used to convert string into lower case\n",
    "A.lower()"
   ]
  },
  {
   "cell_type": "code",
   "execution_count": 258,
   "id": "3ea594c8",
   "metadata": {},
   "outputs": [
    {
     "data": {
      "text/plain": [
       "'Jeevitha'"
      ]
     },
     "execution_count": 258,
     "metadata": {},
     "output_type": "execute_result"
    }
   ],
   "source": [
    "# capitalize : Method Used to convert first letter to upper cases\n",
    "name ='jeevitha'\n",
    "name.capitalize()"
   ]
  },
  {
   "cell_type": "code",
   "execution_count": 259,
   "id": "60ba6bb5",
   "metadata": {},
   "outputs": [
    {
     "data": {
      "text/plain": [
       "'Times Of India'"
      ]
     },
     "execution_count": 259,
     "metadata": {},
     "output_type": "execute_result"
    }
   ],
   "source": [
    "# title : Each word first letter should be capital\n",
    "B = 'times of india'\n",
    "B.title()"
   ]
  },
  {
   "cell_type": "code",
   "execution_count": 260,
   "id": "73a8a72f",
   "metadata": {},
   "outputs": [
    {
     "data": {
      "text/plain": [
       "'PYTHON'"
      ]
     },
     "execution_count": 260,
     "metadata": {},
     "output_type": "execute_result"
    }
   ],
   "source": [
    "# swapcase : It converts lower case to upper case and vice versa.\n",
    "A =\"python\"\n",
    "A.swapcase()"
   ]
  },
  {
   "cell_type": "code",
   "execution_count": 261,
   "id": "12e9102e",
   "metadata": {},
   "outputs": [
    {
     "data": {
      "text/plain": [
       "'pYTHOn'"
      ]
     },
     "execution_count": 261,
     "metadata": {},
     "output_type": "execute_result"
    }
   ],
   "source": [
    "B ='PythoN'\n",
    "B.swapcase()"
   ]
  },
  {
   "cell_type": "code",
   "execution_count": 262,
   "id": "97a66990",
   "metadata": {},
   "outputs": [
    {
     "data": {
      "text/plain": [
       "1"
      ]
     },
     "execution_count": 262,
     "metadata": {},
     "output_type": "execute_result"
    }
   ],
   "source": [
    "# count: It is used to find count of words or characters\n",
    "A = \"Python is easy only if we practice more python problems\"\n",
    "# find count of Python\n",
    "A.count('Python')\n"
   ]
  },
  {
   "cell_type": "code",
   "execution_count": 263,
   "id": "72c847f0",
   "metadata": {},
   "outputs": [
    {
     "data": {
      "text/plain": [
       "2"
      ]
     },
     "execution_count": 263,
     "metadata": {},
     "output_type": "execute_result"
    }
   ],
   "source": [
    "# count of python irrespective of case\n",
    "A = \"Python is easy only if we practice more python problems\"\n",
    "A.lower().count('python')"
   ]
  },
  {
   "cell_type": "code",
   "execution_count": 264,
   "id": "9de7b97b",
   "metadata": {},
   "outputs": [
    {
     "data": {
      "text/plain": [
       "2"
      ]
     },
     "execution_count": 264,
     "metadata": {},
     "output_type": "execute_result"
    }
   ],
   "source": [
    "A.upper().count('PYTHON')"
   ]
  },
  {
   "cell_type": "code",
   "execution_count": 265,
   "id": "c1813921",
   "metadata": {},
   "outputs": [
    {
     "data": {
      "text/plain": [
       "7"
      ]
     },
     "execution_count": 265,
     "metadata": {},
     "output_type": "execute_result"
    }
   ],
   "source": [
    "# index: it gives index position of first character when we have repeated ones\n",
    "A =\"Python is easy\"\n",
    "# find index of i\n",
    "A.index('i')"
   ]
  },
  {
   "cell_type": "code",
   "execution_count": 266,
   "id": "d3b8fef3",
   "metadata": {},
   "outputs": [
    {
     "data": {
      "text/plain": [
       "4"
      ]
     },
     "execution_count": 266,
     "metadata": {},
     "output_type": "execute_result"
    }
   ],
   "source": [
    "A ='one two one two'\n",
    "# index of t\n",
    "A.index('t')"
   ]
  },
  {
   "cell_type": "code",
   "execution_count": 267,
   "id": "40caf537",
   "metadata": {},
   "outputs": [
    {
     "data": {
      "text/plain": [
       "7"
      ]
     },
     "execution_count": 267,
     "metadata": {},
     "output_type": "execute_result"
    }
   ],
   "source": [
    "# find: it gives index position of first character when we have repeated ones\n",
    "A =\"Python is easy\"\n",
    "# find index of i\n",
    "A.find('i')\n"
   ]
  },
  {
   "cell_type": "code",
   "execution_count": 268,
   "id": "5d0dc1f2",
   "metadata": {},
   "outputs": [
    {
     "data": {
      "text/plain": [
       "4"
      ]
     },
     "execution_count": 268,
     "metadata": {},
     "output_type": "execute_result"
    }
   ],
   "source": [
    "A ='one two one two'\n",
    "# index of t\n",
    "A.find('t')"
   ]
  },
  {
   "cell_type": "markdown",
   "id": "3003dd73",
   "metadata": {},
   "source": [
    "# difefrence between index and find"
   ]
  },
  {
   "cell_type": "code",
   "execution_count": 269,
   "id": "f621683a",
   "metadata": {},
   "outputs": [
    {
     "data": {
      "text/plain": [
       "-1"
      ]
     },
     "execution_count": 269,
     "metadata": {},
     "output_type": "execute_result"
    }
   ],
   "source": [
    "A =\"Python is easy\"\n",
    "# find index of z\n",
    "A.find('z')"
   ]
  },
  {
   "cell_type": "code",
   "execution_count": 270,
   "id": "07a54ae5",
   "metadata": {},
   "outputs": [
    {
     "ename": "ValueError",
     "evalue": "substring not found",
     "output_type": "error",
     "traceback": [
      "\u001b[31m---------------------------------------------------------------------------\u001b[39m",
      "\u001b[31mValueError\u001b[39m                                Traceback (most recent call last)",
      "\u001b[36mCell\u001b[39m\u001b[36m \u001b[39m\u001b[32mIn[270]\u001b[39m\u001b[32m, line 3\u001b[39m\n\u001b[32m      1\u001b[39m A =\u001b[33m\"\u001b[39m\u001b[33mPython is easy\u001b[39m\u001b[33m\"\u001b[39m\n\u001b[32m      2\u001b[39m \u001b[38;5;66;03m# find index of z\u001b[39;00m\n\u001b[32m----> \u001b[39m\u001b[32m3\u001b[39m \u001b[43mA\u001b[49m\u001b[43m.\u001b[49m\u001b[43mindex\u001b[49m\u001b[43m(\u001b[49m\u001b[33;43m'\u001b[39;49m\u001b[33;43mz\u001b[39;49m\u001b[33;43m'\u001b[39;49m\u001b[43m)\u001b[49m\n",
      "\u001b[31mValueError\u001b[39m: substring not found"
     ]
    }
   ],
   "source": [
    "A =\"Python is easy\"\n",
    "# find index of z\n",
    "A.index('z')"
   ]
  },
  {
   "cell_type": "markdown",
   "id": "5ba9fac5",
   "metadata": {},
   "source": [
    "# Note\n",
    "* similarity: Both find and index are used to find index values\n",
    "* difference : Index gives error when character is not present ;\n",
    "* but find doesn't give any error instead it gives -1"
   ]
  },
  {
   "cell_type": "code",
   "execution_count": 271,
   "id": "67773ec0",
   "metadata": {},
   "outputs": [
    {
     "data": {
      "text/plain": [
       "'Sql is easy'"
      ]
     },
     "execution_count": 271,
     "metadata": {},
     "output_type": "execute_result"
    }
   ],
   "source": [
    "# replace : It is used to replace old value with new value\n",
    "A = \"Python is easy\"\n",
    "# replace python as Sql\n",
    "# A.replace(old_val,new_val)\n",
    "A.replace('Python','Sql')\n"
   ]
  },
  {
   "cell_type": "markdown",
   "id": "8c005e39",
   "metadata": {},
   "source": [
    "\n",
    "# split\n",
    "Used to split string into list of substrings based on delimeter."
   ]
  },
  {
   "cell_type": "code",
   "execution_count": 272,
   "id": "12c3c155",
   "metadata": {},
   "outputs": [
    {
     "data": {
      "text/plain": [
       "['Python', 'is', 'easy']"
      ]
     },
     "execution_count": 272,
     "metadata": {},
     "output_type": "execute_result"
    }
   ],
   "source": [
    "A = \"Python is easy\"\n",
    "# ['Python','is','easy']\n",
    "A.split() #Splitted based on space\n",
    "# by default delimeter=space\n"
   ]
  },
  {
   "cell_type": "code",
   "execution_count": 273,
   "id": "b5d1b95b",
   "metadata": {},
   "outputs": [
    {
     "data": {
      "text/plain": [
       "['one', 'two', 'three', 'four']"
      ]
     },
     "execution_count": 273,
     "metadata": {},
     "output_type": "execute_result"
    }
   ],
   "source": [
    "B=\"one@two@three@four\"\n",
    "# ['One','two','three','four']\n",
    "B.split('@')"
   ]
  },
  {
   "cell_type": "code",
   "execution_count": 274,
   "id": "96ddf127",
   "metadata": {},
   "outputs": [
    {
     "data": {
      "text/plain": [
       "['blue', 'orange', 'yellow', 'green']"
      ]
     },
     "execution_count": 274,
     "metadata": {},
     "output_type": "execute_result"
    }
   ],
   "source": [
    "C = \"blue,orange,yellow,green\"\n",
    "#['blue','Orange','yellow','green']\n",
    "C.split(',')"
   ]
  },
  {
   "cell_type": "markdown",
   "id": "09e88dc8",
   "metadata": {},
   "source": [
    "# Join\n",
    "Method used convert list into a string"
   ]
  },
  {
   "cell_type": "code",
   "execution_count": 275,
   "id": "813ba0e5",
   "metadata": {},
   "outputs": [
    {
     "data": {
      "text/plain": [
       "'Python is easy'"
      ]
     },
     "execution_count": 275,
     "metadata": {},
     "output_type": "execute_result"
    }
   ],
   "source": [
    "A =['Python','is','easy']\n",
    "# convert the list into string\n",
    "' '.join(A)\n"
   ]
  },
  {
   "cell_type": "code",
   "execution_count": 276,
   "id": "1b2d375d",
   "metadata": {},
   "outputs": [
    {
     "data": {
      "text/plain": [
       "'Sql is easy only if we practice'"
      ]
     },
     "execution_count": 276,
     "metadata": {},
     "output_type": "execute_result"
    }
   ],
   "source": [
    "B =['Sql', 'is','easy','only','if','we','practice']\n",
    "\" \".join(B)"
   ]
  },
  {
   "cell_type": "code",
   "execution_count": 277,
   "id": "a1033e94",
   "metadata": {},
   "outputs": [
    {
     "data": {
      "text/plain": [
       "'one,two,three'"
      ]
     },
     "execution_count": 277,
     "metadata": {},
     "output_type": "execute_result"
    }
   ],
   "source": [
    "C =[\"one\",\"two\",\"three\"]\n",
    "# \"one,two,three\"\n",
    "\",\".join(C)\n"
   ]
  },
  {
   "cell_type": "code",
   "execution_count": 278,
   "id": "185e46e8",
   "metadata": {},
   "outputs": [
    {
     "data": {
      "text/plain": [
       "'jeevitha@gmail.com'"
      ]
     },
     "execution_count": 278,
     "metadata": {},
     "output_type": "execute_result"
    }
   ],
   "source": [
    "D =['jeevitha','gmail.com']\n",
    "# jeevitha@gmail.com\n",
    "'@'.join(D)"
   ]
  },
  {
   "cell_type": "code",
   "execution_count": 279,
   "id": "3f699efa",
   "metadata": {},
   "outputs": [
    {
     "data": {
      "text/plain": [
       "'jeevitha@gmail.com'"
      ]
     },
     "execution_count": 279,
     "metadata": {},
     "output_type": "execute_result"
    }
   ],
   "source": [
    "D =('jeevitha','gmail.com')\n",
    "# jeevitha@gmail.com\n",
    "'@'.join(D)"
   ]
  },
  {
   "cell_type": "code",
   "execution_count": 280,
   "id": "c86846d0",
   "metadata": {},
   "outputs": [
    {
     "data": {
      "text/plain": [
       "'jeevitha@gmail.com'"
      ]
     },
     "execution_count": 280,
     "metadata": {},
     "output_type": "execute_result"
    }
   ],
   "source": [
    "D ={'jeevitha','gmail.com'}\n",
    "# jeevitha@gmail.com\n",
    "'@'.join(D)"
   ]
  },
  {
   "cell_type": "markdown",
   "id": "f08a1e10",
   "metadata": {},
   "source": [
    "# startswith , endswith\n",
    "The startswith() and endswith() string methods can be used to check if a string starts or ends with a specific substring or character."
   ]
  },
  {
   "cell_type": "code",
   "execution_count": 281,
   "id": "eb43ffb2",
   "metadata": {},
   "outputs": [
    {
     "data": {
      "text/plain": [
       "True"
      ]
     },
     "execution_count": 281,
     "metadata": {},
     "output_type": "execute_result"
    }
   ],
   "source": [
    "A =\"python\"\n",
    "# check whether given string starts with p\n",
    "A.startswith('p')"
   ]
  },
  {
   "cell_type": "code",
   "execution_count": 282,
   "id": "0c95b6df",
   "metadata": {},
   "outputs": [
    {
     "data": {
      "text/plain": [
       "False"
      ]
     },
     "execution_count": 282,
     "metadata": {},
     "output_type": "execute_result"
    }
   ],
   "source": [
    "A.startswith('z')"
   ]
  },
  {
   "cell_type": "code",
   "execution_count": 283,
   "id": "ce05974e",
   "metadata": {},
   "outputs": [
    {
     "data": {
      "text/plain": [
       "True"
      ]
     },
     "execution_count": 283,
     "metadata": {},
     "output_type": "execute_result"
    }
   ],
   "source": [
    "# check whether given string endswith n\n",
    "A.endswith('n')\n"
   ]
  },
  {
   "cell_type": "code",
   "execution_count": 284,
   "id": "10902c8d",
   "metadata": {},
   "outputs": [
    {
     "data": {
      "text/plain": [
       "False"
      ]
     },
     "execution_count": 284,
     "metadata": {},
     "output_type": "execute_result"
    }
   ],
   "source": [
    "# check whether given string endswith p\n",
    "A.endswith('p')"
   ]
  },
  {
   "cell_type": "markdown",
   "id": "1b76f983",
   "metadata": {},
   "source": [
    "# strip\n",
    "Used to remove whitespaces or special characters before and after string"
   ]
  },
  {
   "cell_type": "code",
   "execution_count": 285,
   "id": "00cdbb85",
   "metadata": {},
   "outputs": [
    {
     "name": "stdout",
     "output_type": "stream",
     "text": [
      "           Python               \n"
     ]
    }
   ],
   "source": [
    "A =\"           Python               \"\n",
    "print(A)\n"
   ]
  },
  {
   "cell_type": "code",
   "execution_count": 286,
   "id": "0e4eb878",
   "metadata": {},
   "outputs": [
    {
     "data": {
      "text/plain": [
       "'Python'"
      ]
     },
     "execution_count": 286,
     "metadata": {},
     "output_type": "execute_result"
    }
   ],
   "source": [
    "A.strip()"
   ]
  },
  {
   "cell_type": "code",
   "execution_count": 287,
   "id": "e79e311c",
   "metadata": {},
   "outputs": [
    {
     "data": {
      "text/plain": [
       "'python'"
      ]
     },
     "execution_count": 287,
     "metadata": {},
     "output_type": "execute_result"
    }
   ],
   "source": [
    "B ='@@@@@@@@@@@@python@@@@@@@@@@@@@@@@'\n",
    "B.strip('@')"
   ]
  },
  {
   "cell_type": "code",
   "execution_count": 288,
   "id": "a007fe3a",
   "metadata": {},
   "outputs": [
    {
     "data": {
      "text/plain": [
       "'python@@@@@@@@@@@@@@@@'"
      ]
     },
     "execution_count": 288,
     "metadata": {},
     "output_type": "execute_result"
    }
   ],
   "source": [
    "B ='@@@@@@@@@@@@python@@@@@@@@@@@@@@@@'\n",
    "# remove only left side\n",
    "B.lstrip('@')"
   ]
  },
  {
   "cell_type": "code",
   "execution_count": 289,
   "id": "254ea81e",
   "metadata": {},
   "outputs": [
    {
     "data": {
      "text/plain": [
       "'@@@@@@@@@@@@python'"
      ]
     },
     "execution_count": 289,
     "metadata": {},
     "output_type": "execute_result"
    }
   ],
   "source": [
    "B ='@@@@@@@@@@@@python@@@@@@@@@@@@@@@@'\n",
    "# remove only right side\n",
    "B.rstrip('@')"
   ]
  },
  {
   "cell_type": "code",
   "execution_count": 290,
   "id": "d1ff1e58",
   "metadata": {},
   "outputs": [
    {
     "data": {
      "text/plain": [
       "'2024'"
      ]
     },
     "execution_count": 290,
     "metadata": {},
     "output_type": "execute_result"
    }
   ],
   "source": [
    "C = '(2024)'\n",
    "C.strip('()')\n"
   ]
  },
  {
   "cell_type": "code",
   "execution_count": 291,
   "id": "0fa92afe",
   "metadata": {},
   "outputs": [
    {
     "data": {
      "text/plain": [
       "'Python is easy'"
      ]
     },
     "execution_count": 291,
     "metadata": {},
     "output_type": "execute_result"
    }
   ],
   "source": [
    "D = '**********@@@@@@@@Python is easy%%%%%%%%%%%$$$$$$$$$$'\n",
    "D.strip('*@%$')"
   ]
  },
  {
   "cell_type": "code",
   "execution_count": 292,
   "id": "90097e25",
   "metadata": {},
   "outputs": [
    {
     "data": {
      "text/plain": [
       "[(0, '*'),\n",
       " (1, '*'),\n",
       " (2, '*'),\n",
       " (3, '*'),\n",
       " (4, '*'),\n",
       " (5, '*'),\n",
       " (6, '*'),\n",
       " (7, '*'),\n",
       " (8, '*'),\n",
       " (9, '*'),\n",
       " (10, '@'),\n",
       " (11, '@'),\n",
       " (12, '@'),\n",
       " (13, '@'),\n",
       " (14, '@'),\n",
       " (15, '@'),\n",
       " (16, '@'),\n",
       " (17, '@'),\n",
       " (18, 'P'),\n",
       " (19, 'y'),\n",
       " (20, 't'),\n",
       " (21, 'h'),\n",
       " (22, 'o'),\n",
       " (23, 'n'),\n",
       " (24, ' '),\n",
       " (25, 'i'),\n",
       " (26, 's'),\n",
       " (27, ' '),\n",
       " (28, 'e'),\n",
       " (29, 'a'),\n",
       " (30, 's'),\n",
       " (31, 'y'),\n",
       " (32, '%'),\n",
       " (33, '%'),\n",
       " (34, '%'),\n",
       " (35, '%'),\n",
       " (36, '%'),\n",
       " (37, '%'),\n",
       " (38, '%'),\n",
       " (39, '%'),\n",
       " (40, '%'),\n",
       " (41, '%'),\n",
       " (42, '%'),\n",
       " (43, '$'),\n",
       " (44, '$'),\n",
       " (45, '$'),\n",
       " (46, '$'),\n",
       " (47, '$'),\n",
       " (48, '$'),\n",
       " (49, '$'),\n",
       " (50, '$'),\n",
       " (51, '$'),\n",
       " (52, '$')]"
      ]
     },
     "execution_count": 292,
     "metadata": {},
     "output_type": "execute_result"
    }
   ],
   "source": [
    "list(enumerate(D))"
   ]
  },
  {
   "cell_type": "code",
   "execution_count": 293,
   "id": "040bcaa8",
   "metadata": {},
   "outputs": [
    {
     "data": {
      "text/plain": [
       "'Python is easy'"
      ]
     },
     "execution_count": 293,
     "metadata": {},
     "output_type": "execute_result"
    }
   ],
   "source": [
    "D[18:32]"
   ]
  },
  {
   "cell_type": "markdown",
   "id": "a0c52900",
   "metadata": {},
   "source": [
    "# format"
   ]
  },
  {
   "cell_type": "code",
   "execution_count": 294,
   "id": "cac22b84",
   "metadata": {},
   "outputs": [
    {
     "name": "stdout",
     "output_type": "stream",
     "text": [
      "Helloeveryone\n",
      "Hello everyone\n",
      "Hello!everyone\n"
     ]
    }
   ],
   "source": [
    "# combine strings\n",
    "a =\"Hello\"\n",
    "b = \"everyone\"\n",
    "print(a + b) #combining without space\n",
    "print(a+\" \" +b) # combined by giving space\n",
    "print(a+'!'+b) # combine by giving !"
   ]
  },
  {
   "cell_type": "code",
   "execution_count": 295,
   "id": "d6225eaa",
   "metadata": {},
   "outputs": [
    {
     "name": "stdout",
     "output_type": "stream",
     "text": [
      "onetwothree\n",
      "one,two,three\n"
     ]
    }
   ],
   "source": [
    "a =\"one\"\n",
    "b=\"two\"\n",
    "c='three'\n",
    "# one,two,three\n",
    "print(a+b+c)\n",
    "print(a+','+b+','+c)"
   ]
  },
  {
   "cell_type": "code",
   "execution_count": 296,
   "id": "5afa54bb",
   "metadata": {},
   "outputs": [
    {
     "name": "stdout",
     "output_type": "stream",
     "text": [
      "hellohello\n"
     ]
    }
   ],
   "source": [
    "A =\"hello\"\n",
    "print(A*2)\n"
   ]
  },
  {
   "cell_type": "code",
   "execution_count": 297,
   "id": "0d99e886",
   "metadata": {},
   "outputs": [
    {
     "data": {
      "text/plain": [
       "'aaaaaaaaaa'"
      ]
     },
     "execution_count": 297,
     "metadata": {},
     "output_type": "execute_result"
    }
   ],
   "source": [
    "'a'*10"
   ]
  },
  {
   "cell_type": "code",
   "execution_count": 298,
   "id": "d073c583",
   "metadata": {},
   "outputs": [
    {
     "data": {
      "text/plain": [
       "'ab ab ab ab ab ab ab ab ab ab '"
      ]
     },
     "execution_count": 298,
     "metadata": {},
     "output_type": "execute_result"
    }
   ],
   "source": [
    "'ab '*10"
   ]
  },
  {
   "cell_type": "code",
   "execution_count": 299,
   "id": "249bdf12",
   "metadata": {},
   "outputs": [
    {
     "name": "stdout",
     "output_type": "stream",
     "text": [
      "[1, 2, 3, 5, 6, 7]\n"
     ]
    }
   ],
   "source": [
    "A=[1,2,3]\n",
    "B=[5,6,7]\n",
    "print(A+B)"
   ]
  },
  {
   "cell_type": "code",
   "execution_count": 300,
   "id": "676f44ed",
   "metadata": {},
   "outputs": [
    {
     "data": {
      "text/plain": [
       "[1, 2, 3, 1, 2, 3, 1, 2, 3, 1, 2, 3]"
      ]
     },
     "execution_count": 300,
     "metadata": {},
     "output_type": "execute_result"
    }
   ],
   "source": [
    "A=[1,2,3]\n",
    "A*4"
   ]
  },
  {
   "cell_type": "code",
   "execution_count": 301,
   "id": "044e9714",
   "metadata": {},
   "outputs": [
    {
     "name": "stdout",
     "output_type": "stream",
     "text": [
      "(1, 2, 3, 4, 3, 5)\n"
     ]
    }
   ],
   "source": [
    "x =(1,2,3)\n",
    "y=(4,3,5)\n",
    "print(x+y)"
   ]
  },
  {
   "cell_type": "code",
   "execution_count": 302,
   "id": "b36c16c2",
   "metadata": {},
   "outputs": [
    {
     "data": {
      "text/plain": [
       "(1, 2, 3, 1, 2, 3)"
      ]
     },
     "execution_count": 302,
     "metadata": {},
     "output_type": "execute_result"
    }
   ],
   "source": [
    "x =(1,2,3)\n",
    "x*2"
   ]
  },
  {
   "cell_type": "code",
   "execution_count": 303,
   "id": "25af2a45",
   "metadata": {},
   "outputs": [
    {
     "name": "stdout",
     "output_type": "stream",
     "text": [
      "10 apples\n"
     ]
    }
   ],
   "source": [
    "A= 10\n",
    "B=\"apples\"\n",
    "# 10 apples\n",
    "print(A,B)"
   ]
  },
  {
   "cell_type": "code",
   "execution_count": 304,
   "id": "a02e4bed",
   "metadata": {},
   "outputs": [
    {
     "name": "stdout",
     "output_type": "stream",
     "text": [
      "sum of 10 and 20 is 30\n"
     ]
    }
   ],
   "source": [
    "a = int(input())\n",
    "b = int(input())\n",
    "c=a+b\n",
    "# sum of a and b is a+b\n",
    "print(f\"sum of {a} and {b} is {c}\")"
   ]
  },
  {
   "cell_type": "code",
   "execution_count": 305,
   "id": "1c2a6730",
   "metadata": {},
   "outputs": [
    {
     "name": "stdout",
     "output_type": "stream",
     "text": [
      "My name is vivek and I'm 25 year old\n"
     ]
    }
   ],
   "source": [
    "name=input()\n",
    "age=int(input())\n",
    "# My name is Jeevitha and I'm 30 year old\n",
    "print(f\"My name is {name} and I'm {age} year old\")"
   ]
  },
  {
   "cell_type": "code",
   "execution_count": 306,
   "id": "2d248060",
   "metadata": {},
   "outputs": [
    {
     "name": "stdout",
     "output_type": "stream",
     "text": [
      "sum of 10 and 20 is 30\n"
     ]
    }
   ],
   "source": [
    "a = 10\n",
    "b = 20\n",
    "c=a+b\n",
    "print(f\"sum of {a} and {b} is {c}\")\n"
   ]
  },
  {
   "cell_type": "code",
   "execution_count": 307,
   "id": "b9e2ca0c",
   "metadata": {},
   "outputs": [
    {
     "name": "stdout",
     "output_type": "stream",
     "text": [
      "sum of 10 and 20 is 30\n"
     ]
    }
   ],
   "source": [
    "a = 10\n",
    "b = 20\n",
    "c=a+b\n",
    "print(\"sum of {} and {} is {}\".format(a,b,c))"
   ]
  },
  {
   "cell_type": "code",
   "execution_count": 308,
   "id": "f12afac4",
   "metadata": {},
   "outputs": [
    {
     "name": "stdout",
     "output_type": "stream",
     "text": [
      "In a basket there are 10 apples and 20 oranges\n"
     ]
    }
   ],
   "source": [
    "A = 10\n",
    "B = 20\n",
    "# In a basket there are 10 apples and 20 oranges\n",
    "print(\"In a basket there are {} apples and {} oranges\".format(A,B))"
   ]
  },
  {
   "cell_type": "code",
   "execution_count": 309,
   "id": "6319edc2",
   "metadata": {},
   "outputs": [
    {
     "name": "stdout",
     "output_type": "stream",
     "text": [
      "In a basket there are 10 apples and 20 oranges\n"
     ]
    }
   ],
   "source": [
    "print(f\"In a basket there are {A} apples and {B} oranges\")"
   ]
  },
  {
   "cell_type": "code",
   "execution_count": 310,
   "id": "f33b3063",
   "metadata": {},
   "outputs": [
    {
     "data": {
      "text/plain": [
       "1"
      ]
     },
     "execution_count": 310,
     "metadata": {},
     "output_type": "execute_result"
    }
   ],
   "source": [
    "A =\"Python is easy\"\n",
    "A.split().count('is')"
   ]
  },
  {
   "cell_type": "code",
   "execution_count": 311,
   "id": "e2b21a27",
   "metadata": {},
   "outputs": [
    {
     "data": {
      "text/plain": [
       "['Python', 'is', 'easy']"
      ]
     },
     "execution_count": 311,
     "metadata": {},
     "output_type": "execute_result"
    }
   ],
   "source": [
    "A.split()"
   ]
  },
  {
   "cell_type": "code",
   "execution_count": 312,
   "id": "10f16b15",
   "metadata": {},
   "outputs": [
    {
     "name": "stdout",
     "output_type": "stream",
     "text": [
      "{10, 20}\n"
     ]
    }
   ],
   "source": [
    "set_a = {10}\n",
    "se_b ={20}\n",
    "print(set_a | se_b)"
   ]
  },
  {
   "cell_type": "markdown",
   "id": "26f5c581",
   "metadata": {},
   "source": [
    "# split\n",
    "\n",
    "Used to split string into list of substrings based on delimeter."
   ]
  },
  {
   "cell_type": "code",
   "execution_count": 1,
   "id": "31ed7b0a",
   "metadata": {},
   "outputs": [
    {
     "data": {
      "text/plain": [
       "['python',\n",
       " 'is',\n",
       " 'easy',\n",
       " 'only',\n",
       " 'if',\n",
       " 'we',\n",
       " 'practice',\n",
       " 'more',\n",
       " 'python',\n",
       " 'problems']"
      ]
     },
     "execution_count": 1,
     "metadata": {},
     "output_type": "execute_result"
    }
   ],
   "source": [
    "A = \"python is easy only if we practice more python problems\"\n",
    "# ['python', 'is', 'easy', 'only', 'if', 'we', 'practice', 'more', 'python', 'problems']\n",
    "A.split() # Splitted based on space\n",
    "# by default delimeter=space"
   ]
  },
  {
   "cell_type": "code",
   "execution_count": null,
   "id": "ede7c5de",
   "metadata": {},
   "outputs": [
    {
     "data": {
      "text/plain": [
       "['one', 'two', 'three', 'four']"
      ]
     },
     "execution_count": 2,
     "metadata": {},
     "output_type": "execute_result"
    }
   ],
   "source": [
    "B = \"one@two@three@four\"\n",
    "# ['one','two','three','four']\n",
    "B.split('@') # here delimeter is @"
   ]
  },
  {
   "cell_type": "code",
   "execution_count": 3,
   "id": "f3d61657",
   "metadata": {},
   "outputs": [
    {
     "data": {
      "text/plain": [
       "['blue', 'orange', 'yellow', 'green']"
      ]
     },
     "execution_count": 3,
     "metadata": {},
     "output_type": "execute_result"
    }
   ],
   "source": [
    "c = \"blue,orange,yellow,green\"\n",
    "c.split(',') # here delimeter is ,"
   ]
  },
  {
   "cell_type": "code",
   "execution_count": 6,
   "id": "49cd19f0",
   "metadata": {},
   "outputs": [
    {
     "data": {
      "text/plain": [
       "['monday', 'tuesday*wednesday+thursday']"
      ]
     },
     "execution_count": 6,
     "metadata": {},
     "output_type": "execute_result"
    }
   ],
   "source": [
    "c = \"monday@tuesday*wednesday+thursday\"\n",
    "c.split('@') # here delimeter is @  \n"
   ]
  },
  {
   "cell_type": "markdown",
   "id": "6b2e12a6",
   "metadata": {},
   "source": [
    "# join\n",
    "join method is used to convert list in to  string."
   ]
  },
  {
   "cell_type": "code",
   "execution_count": 7,
   "id": "18f06cdc",
   "metadata": {},
   "outputs": [
    {
     "data": {
      "text/plain": [
       "'python is easy only if we practice more python problems'"
      ]
     },
     "execution_count": 7,
     "metadata": {},
     "output_type": "execute_result"
    }
   ],
   "source": [
    "A = ['python', 'is', 'easy', 'only', 'if', 'we', 'practice', 'more', 'python', 'problems']\n",
    "#convert list in to string\n",
    "' '.join(A)"
   ]
  },
  {
   "cell_type": "code",
   "execution_count": 9,
   "id": "b8753d87",
   "metadata": {},
   "outputs": [
    {
     "name": "stdout",
     "output_type": "stream",
     "text": [
      "sql is easy only if we practice\n"
     ]
    }
   ],
   "source": [
    "B = ['sql', 'is','easy','only','if','we','practice']\n",
    "B = ' '.join(B)\n",
    "print(B)"
   ]
  },
  {
   "cell_type": "code",
   "execution_count": 10,
   "id": "f060ee61",
   "metadata": {},
   "outputs": [
    {
     "data": {
      "text/plain": [
       "'one two three four'"
      ]
     },
     "execution_count": 10,
     "metadata": {},
     "output_type": "execute_result"
    }
   ],
   "source": [
    "C = ['one','two','three','four']\n",
    "\" \".join(C)"
   ]
  },
  {
   "cell_type": "code",
   "execution_count": 12,
   "id": "05756bdf",
   "metadata": {},
   "outputs": [
    {
     "data": {
      "text/plain": [
       "'one,two,three,four'"
      ]
     },
     "execution_count": 12,
     "metadata": {},
     "output_type": "execute_result"
    }
   ],
   "source": [
    "\",\".join(C)"
   ]
  },
  {
   "cell_type": "code",
   "execution_count": null,
   "id": "d6852486",
   "metadata": {},
   "outputs": [
    {
     "data": {
      "text/plain": [
       "'iitvivekroper@gmail.com'"
      ]
     },
     "execution_count": 13,
     "metadata": {},
     "output_type": "execute_result"
    }
   ],
   "source": [
    "D = ['iitvivek','roper','@gmail.com'] # list to string\n",
    "\"\".join(D)"
   ]
  },
  {
   "cell_type": "code",
   "execution_count": 14,
   "id": "f0c75be3",
   "metadata": {},
   "outputs": [
    {
     "data": {
      "text/plain": [
       "'iitvivekroper@gmail.com'"
      ]
     },
     "execution_count": 14,
     "metadata": {},
     "output_type": "execute_result"
    }
   ],
   "source": [
    "# tuple to string\n",
    "E = ('iitvivek','roper','@gmail.com')\n",
    "\"\".join(E)"
   ]
  },
  {
   "cell_type": "code",
   "execution_count": 16,
   "id": "e9bf0d80",
   "metadata": {},
   "outputs": [
    {
     "data": {
      "text/plain": [
       "'namedomain'"
      ]
     },
     "execution_count": 16,
     "metadata": {},
     "output_type": "execute_result"
    }
   ],
   "source": [
    "# dictionary to string is not possible\n",
    "F = {'name': 'iitvivek', 'domain': 'gmail.com'}\n",
    "# \"\".join(F)\n",
    "\"\".join(F)"
   ]
  },
  {
   "cell_type": "code",
   "execution_count": 24,
   "id": "6ffe5a3e",
   "metadata": {},
   "outputs": [
    {
     "data": {
      "text/plain": [
       "'gmail.com@jeevitha'"
      ]
     },
     "execution_count": 24,
     "metadata": {},
     "output_type": "execute_result"
    }
   ],
   "source": [
    "f = {'jeevitha','gmail.com'}\n",
    "# \"\".join(f)\n",
    "\"@\".join(f)"
   ]
  },
  {
   "cell_type": "markdown",
   "id": "6224014f",
   "metadata": {},
   "source": [
    "# startswith, endswith\n",
    "The startwith() endwith() string methods can be used to check if a string start or ends with a specific substring or characther."
   ]
  },
  {
   "cell_type": "code",
   "execution_count": 25,
   "id": "900ba6c7",
   "metadata": {},
   "outputs": [
    {
     "data": {
      "text/plain": [
       "True"
      ]
     },
     "execution_count": 25,
     "metadata": {},
     "output_type": "execute_result"
    }
   ],
   "source": [
    "A = \"python\"\n",
    "# check whether given string starts with p\n",
    "A.startswith('p')"
   ]
  },
  {
   "cell_type": "code",
   "execution_count": 26,
   "id": "0f0cb7cf",
   "metadata": {},
   "outputs": [
    {
     "data": {
      "text/plain": [
       "False"
      ]
     },
     "execution_count": 26,
     "metadata": {},
     "output_type": "execute_result"
    }
   ],
   "source": [
    "A.startswith('z')"
   ]
  },
  {
   "cell_type": "code",
   "execution_count": null,
   "id": "d07914cc",
   "metadata": {},
   "outputs": [
    {
     "data": {
      "text/plain": [
       "True"
      ]
     },
     "execution_count": 27,
     "metadata": {},
     "output_type": "execute_result"
    }
   ],
   "source": [
    "# check whether given string endswith n\n",
    "A.endswith('n')"
   ]
  },
  {
   "cell_type": "code",
   "execution_count": 28,
   "id": "f2500561",
   "metadata": {},
   "outputs": [
    {
     "data": {
      "text/plain": [
       "False"
      ]
     },
     "execution_count": 28,
     "metadata": {},
     "output_type": "execute_result"
    }
   ],
   "source": [
    "# check whether given string endswith p\n",
    "A.endswith('p')"
   ]
  },
  {
   "cell_type": "markdown",
   "id": "0a0cc556",
   "metadata": {},
   "source": [
    "# strip\n",
    "\n",
    "used to remove whitespaces or special characgters before and after string."
   ]
  },
  {
   "cell_type": "code",
   "execution_count": 30,
   "id": "5afe57d0",
   "metadata": {},
   "outputs": [
    {
     "data": {
      "text/plain": [
       "'python'"
      ]
     },
     "execution_count": 30,
     "metadata": {},
     "output_type": "execute_result"
    }
   ],
   "source": [
    "A = \"                 python                \"\n",
    "A.strip()"
   ]
  },
  {
   "cell_type": "code",
   "execution_count": 31,
   "id": "8fc93448",
   "metadata": {},
   "outputs": [
    {
     "data": {
      "text/plain": [
       "'python'"
      ]
     },
     "execution_count": 31,
     "metadata": {},
     "output_type": "execute_result"
    }
   ],
   "source": [
    "B = \"@@@@@@@@@@@@python@@@@@@@@@@@@@@@@\"\n",
    "B.strip(\"@\")"
   ]
  },
  {
   "cell_type": "code",
   "execution_count": 35,
   "id": "e67f036b",
   "metadata": {},
   "outputs": [
    {
     "data": {
      "text/plain": [
       "'python@@@@@@@@@@@@@@@@'"
      ]
     },
     "execution_count": 35,
     "metadata": {},
     "output_type": "execute_result"
    }
   ],
   "source": [
    "# remove only right side\n",
    "B.lstrip(\"@\")"
   ]
  },
  {
   "cell_type": "code",
   "execution_count": 34,
   "id": "4493ebee",
   "metadata": {},
   "outputs": [
    {
     "data": {
      "text/plain": [
       "'@@@@@@@@@@@@python'"
      ]
     },
     "execution_count": 34,
     "metadata": {},
     "output_type": "execute_result"
    }
   ],
   "source": [
    "# remove only right side\n",
    "B.rstrip(\"@\")"
   ]
  },
  {
   "cell_type": "code",
   "execution_count": 36,
   "id": "336045bc",
   "metadata": {},
   "outputs": [
    {
     "data": {
      "text/plain": [
       "'2024'"
      ]
     },
     "execution_count": 36,
     "metadata": {},
     "output_type": "execute_result"
    }
   ],
   "source": [
    "c = '(2024)'\n",
    "c.strip(\"()\")   "
   ]
  },
  {
   "cell_type": "code",
   "execution_count": 37,
   "id": "eb34c60a",
   "metadata": {},
   "outputs": [
    {
     "data": {
      "text/plain": [
       "'Python is easy%%%%%%%%%%%$$$$$$$$$$'"
      ]
     },
     "execution_count": 37,
     "metadata": {},
     "output_type": "execute_result"
    }
   ],
   "source": [
    "D = '**********@@@@@@@@Python is easy%%%%%%%%%%%$$$$$$$$$$'\n",
    "D.lstrip('*@')    "
   ]
  },
  {
   "cell_type": "code",
   "execution_count": 38,
   "id": "09c10d00",
   "metadata": {},
   "outputs": [
    {
     "data": {
      "text/plain": [
       "'**********@@@@@@@@Python is easy'"
      ]
     },
     "execution_count": 38,
     "metadata": {},
     "output_type": "execute_result"
    }
   ],
   "source": [
    "D.rstrip('%$')"
   ]
  },
  {
   "cell_type": "code",
   "execution_count": 39,
   "id": "38f3970f",
   "metadata": {},
   "outputs": [
    {
     "data": {
      "text/plain": [
       "'Python is easy'"
      ]
     },
     "execution_count": 39,
     "metadata": {},
     "output_type": "execute_result"
    }
   ],
   "source": [
    "D.strip('*@%$') "
   ]
  },
  {
   "cell_type": "code",
   "execution_count": 40,
   "id": "1691bd24",
   "metadata": {},
   "outputs": [
    {
     "data": {
      "text/plain": [
       "[(0, '*'),\n",
       " (1, '*'),\n",
       " (2, '*'),\n",
       " (3, '*'),\n",
       " (4, '*'),\n",
       " (5, '*'),\n",
       " (6, '*'),\n",
       " (7, '*'),\n",
       " (8, '*'),\n",
       " (9, '*'),\n",
       " (10, '@'),\n",
       " (11, '@'),\n",
       " (12, '@'),\n",
       " (13, '@'),\n",
       " (14, '@'),\n",
       " (15, '@'),\n",
       " (16, '@'),\n",
       " (17, '@'),\n",
       " (18, 'P'),\n",
       " (19, 'y'),\n",
       " (20, 't'),\n",
       " (21, 'h'),\n",
       " (22, 'o'),\n",
       " (23, 'n'),\n",
       " (24, ' '),\n",
       " (25, 'i'),\n",
       " (26, 's'),\n",
       " (27, ' '),\n",
       " (28, 'e'),\n",
       " (29, 'a'),\n",
       " (30, 's'),\n",
       " (31, 'y'),\n",
       " (32, '%'),\n",
       " (33, '%'),\n",
       " (34, '%'),\n",
       " (35, '%'),\n",
       " (36, '%'),\n",
       " (37, '%'),\n",
       " (38, '%'),\n",
       " (39, '%'),\n",
       " (40, '%'),\n",
       " (41, '%'),\n",
       " (42, '%'),\n",
       " (43, '$'),\n",
       " (44, '$'),\n",
       " (45, '$'),\n",
       " (46, '$'),\n",
       " (47, '$'),\n",
       " (48, '$'),\n",
       " (49, '$'),\n",
       " (50, '$'),\n",
       " (51, '$'),\n",
       " (52, '$')]"
      ]
     },
     "execution_count": 40,
     "metadata": {},
     "output_type": "execute_result"
    }
   ],
   "source": [
    "list(enumerate(D))"
   ]
  },
  {
   "cell_type": "code",
   "execution_count": null,
   "id": "bdff7102",
   "metadata": {},
   "outputs": [],
   "source": []
  }
 ],
 "metadata": {
  "kernelspec": {
   "display_name": "Python 3",
   "language": "python",
   "name": "python3"
  },
  "language_info": {
   "codemirror_mode": {
    "name": "ipython",
    "version": 3
   },
   "file_extension": ".py",
   "mimetype": "text/x-python",
   "name": "python",
   "nbconvert_exporter": "python",
   "pygments_lexer": "ipython3",
   "version": "3.13.7"
  }
 },
 "nbformat": 4,
 "nbformat_minor": 5
}
