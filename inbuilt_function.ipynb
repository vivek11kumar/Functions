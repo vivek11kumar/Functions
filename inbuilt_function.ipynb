{
 "cells": [
  {
   "cell_type": "markdown",
   "id": "277d9559",
   "metadata": {},
   "source": [
    "# Functions\n",
    "* Functions are piece of code used to perform sprcific task.\n",
    "* Functions can be called directly using its name."
   ]
  },
  {
   "cell_type": "markdown",
   "id": "ca0a1c71",
   "metadata": {},
   "source": [
    "👉 Functions are like a hammer that you can use to drive a nail into a piece of wood. It doesn't matter what kind of wood it is or where the nail goes. You just use the hammer to do a general task."
   ]
  },
  {
   "cell_type": "markdown",
   "id": "175d469a",
   "metadata": {},
   "source": [
    "# Functions\n",
    "* print\n",
    "* type\n",
    "* len\n",
    "* sum\n",
    "* int\n",
    "* float\n",
    "* str\n",
    "* list\n",
    "* set\n",
    "* tuple\n",
    "* dict\n",
    "* help\n",
    "* input\n",
    "* range\n",
    "* round\n",
    "* max\n",
    "* min\n",
    "* abs\n",
    "* enumerate\n",
    "* zip\n",
    "* eval\n",
    "* exec\n",
    "* bool"
   ]
  },
  {
   "cell_type": "markdown",
   "id": "004f692f",
   "metadata": {},
   "source": [
    "# print()\n",
    "Display the output"
   ]
  },
  {
   "cell_type": "code",
   "execution_count": 9,
   "id": "abcd8322",
   "metadata": {},
   "outputs": [
    {
     "name": "stdout",
     "output_type": "stream",
     "text": [
      "10\n"
     ]
    }
   ],
   "source": [
    "# print function use to display output\n",
    "a = 10\n",
    "print(a)\n"
   ]
  },
  {
   "cell_type": "code",
   "execution_count": 10,
   "id": "7af0f96f",
   "metadata": {},
   "outputs": [
    {
     "name": "stdout",
     "output_type": "stream",
     "text": [
      "data science\n"
     ]
    }
   ],
   "source": [
    "b = 'data science'\n",
    "print(b)\n"
   ]
  },
  {
   "cell_type": "code",
   "execution_count": 11,
   "id": "040b92e3",
   "metadata": {},
   "outputs": [
    {
     "name": "stdout",
     "output_type": "stream",
     "text": [
      "hello world\n"
     ]
    }
   ],
   "source": [
    "print(\"hello world\")\n"
   ]
  },
  {
   "cell_type": "code",
   "execution_count": 12,
   "id": "31a57804",
   "metadata": {},
   "outputs": [
    {
     "name": "stdout",
     "output_type": "stream",
     "text": [
      "10.5\n"
     ]
    }
   ],
   "source": [
    "a = 10.5\n",
    "print(a)\n"
   ]
  },
  {
   "cell_type": "markdown",
   "id": "c809b2fb",
   "metadata": {},
   "source": [
    "# type()\n",
    "Type is used to find data type of any object(int,float,str,bool,complex,list,tuple,dict,set)\n"
   ]
  },
  {
   "cell_type": "code",
   "execution_count": 8,
   "id": "9c8e07da",
   "metadata": {},
   "outputs": [
    {
     "name": "stdout",
     "output_type": "stream",
     "text": [
      "<class 'int'>\n"
     ]
    }
   ],
   "source": [
    "a = 10\n",
    "print(type(a))"
   ]
  },
  {
   "cell_type": "code",
   "execution_count": null,
   "id": "09616130",
   "metadata": {},
   "outputs": [
    {
     "data": {
      "text/plain": [
       "float"
      ]
     },
     "execution_count": 13,
     "metadata": {},
     "output_type": "execute_result"
    }
   ],
   "source": [
    "type(3.4)"
   ]
  },
  {
   "cell_type": "code",
   "execution_count": 14,
   "id": "33d6cb61",
   "metadata": {},
   "outputs": [
    {
     "data": {
      "text/plain": [
       "str"
      ]
     },
     "execution_count": 14,
     "metadata": {},
     "output_type": "execute_result"
    }
   ],
   "source": [
    "type('data science')"
   ]
  },
  {
   "cell_type": "code",
   "execution_count": 15,
   "id": "0e66d1c4",
   "metadata": {},
   "outputs": [
    {
     "data": {
      "text/plain": [
       "str"
      ]
     },
     "execution_count": 15,
     "metadata": {},
     "output_type": "execute_result"
    }
   ],
   "source": [
    "type(\"hello world\")"
   ]
  },
  {
   "cell_type": "markdown",
   "id": "846c1752",
   "metadata": {},
   "source": [
    "# len()\n",
    "Length of an object(string , tuple,list,set,dict)"
   ]
  },
  {
   "cell_type": "code",
   "execution_count": 24,
   "id": "ae3e0c47",
   "metadata": {},
   "outputs": [
    {
     "name": "stdout",
     "output_type": "stream",
     "text": [
      "<class 'str'>\n",
      "6\n"
     ]
    }
   ],
   "source": [
    "A = \"python\"\n",
    "print(type(A))\n",
    "print(len(A))"
   ]
  },
  {
   "cell_type": "code",
   "execution_count": 23,
   "id": "540ea2cf",
   "metadata": {},
   "outputs": [
    {
     "name": "stdout",
     "output_type": "stream",
     "text": [
      "<class 'str'>\n",
      "12\n"
     ]
    }
   ],
   "source": [
    "b = \"data science\"\n",
    "print(type(b))\n",
    "print(len(b))"
   ]
  },
  {
   "cell_type": "code",
   "execution_count": 22,
   "id": "8b4edc62",
   "metadata": {},
   "outputs": [
    {
     "name": "stdout",
     "output_type": "stream",
     "text": [
      "<class 'list'>\n",
      "7\n"
     ]
    }
   ],
   "source": [
    "B =[10,20,30,40,50,60,70]\n",
    "print(type(B))\n",
    "print(len(B))"
   ]
  },
  {
   "cell_type": "code",
   "execution_count": 25,
   "id": "e65966b7",
   "metadata": {},
   "outputs": [
    {
     "name": "stdout",
     "output_type": "stream",
     "text": [
      "<class 'tuple'>\n",
      "7\n"
     ]
    }
   ],
   "source": [
    "C=(10,20,30,40,50,60,70)\n",
    "print(type(C))\n",
    "print(len(C))"
   ]
  },
  {
   "cell_type": "code",
   "execution_count": 26,
   "id": "a9ddb5e7",
   "metadata": {},
   "outputs": [
    {
     "name": "stdout",
     "output_type": "stream",
     "text": [
      "<class 'set'>\n",
      "7\n"
     ]
    }
   ],
   "source": [
    "d = {10,20,30,40,50,60,70}\n",
    "print(type(d))\n",
    "print(len(d))"
   ]
  },
  {
   "cell_type": "code",
   "execution_count": 27,
   "id": "8321bc5c",
   "metadata": {},
   "outputs": [
    {
     "name": "stdout",
     "output_type": "stream",
     "text": [
      "<class 'dict'>\n",
      "4\n"
     ]
    }
   ],
   "source": [
    "e = {10:'a',20:'b',30:'c',40:'d'}\n",
    "print(type(e))  \n",
    "print(len(e))"
   ]
  },
  {
   "cell_type": "code",
   "execution_count": 28,
   "id": "bfa389c8",
   "metadata": {},
   "outputs": [
    {
     "name": "stdout",
     "output_type": "stream",
     "text": [
      "<class 'dict'>\n",
      "3\n"
     ]
    }
   ],
   "source": [
    "info = {'name':'john', 'age':25, 'city':'new york'}\n",
    "print(type(info))\n",
    "print(len(info))"
   ]
  },
  {
   "cell_type": "markdown",
   "id": "d12f9ac5",
   "metadata": {},
   "source": [
    "# sum()\n",
    "Used to find sum of elements(list,tuple,set)\n"
   ]
  },
  {
   "cell_type": "code",
   "execution_count": 30,
   "id": "fcf74d3e",
   "metadata": {},
   "outputs": [
    {
     "name": "stdout",
     "output_type": "stream",
     "text": [
      "<class 'list'>\n",
      "7\n",
      "340\n"
     ]
    }
   ],
   "source": [
    "A = [10,20,30,40,60,80,100]\n",
    "print(type(A))\n",
    "print(len(A))\n",
    "print(sum(A))"
   ]
  },
  {
   "cell_type": "code",
   "execution_count": 31,
   "id": "c389bd7e",
   "metadata": {},
   "outputs": [
    {
     "name": "stdout",
     "output_type": "stream",
     "text": [
      "<class 'tuple'>\n",
      "5\n",
      "15\n"
     ]
    }
   ],
   "source": [
    "b = (1, 2, 3, 4, 5)\n",
    "print(type(b))\n",
    "print(len(b))\n",
    "print(sum(b))"
   ]
  },
  {
   "cell_type": "markdown",
   "id": "580e63d1",
   "metadata": {},
   "source": [
    "# max()\n",
    "It is used to find maximum element of any object(list,tuple,set)"
   ]
  },
  {
   "cell_type": "code",
   "execution_count": 3,
   "id": "f3335e09",
   "metadata": {},
   "outputs": [
    {
     "name": "stdout",
     "output_type": "stream",
     "text": [
      "400\n"
     ]
    }
   ],
   "source": [
    "# Find the maximum value from a list\n",
    "A = [10,20,50,100,200,300,400]\n",
    "print(max(A))"
   ]
  },
  {
   "cell_type": "code",
   "execution_count": 4,
   "id": "0529cb6f",
   "metadata": {},
   "outputs": [
    {
     "name": "stdout",
     "output_type": "stream",
     "text": [
      "400\n"
     ]
    }
   ],
   "source": [
    "# find the maximum value from a tuple\n",
    "A = (10,20,50,100,200,300,400)\n",
    "print(max(A))"
   ]
  },
  {
   "cell_type": "code",
   "execution_count": 5,
   "id": "1e31edf4",
   "metadata": {},
   "outputs": [
    {
     "name": "stdout",
     "output_type": "stream",
     "text": [
      "400\n"
     ]
    }
   ],
   "source": [
    "# Find the maximum value from a set\n",
    "A = {10,20,50,100,200,300,400}\n",
    "print(max(A))"
   ]
  },
  {
   "cell_type": "code",
   "execution_count": 6,
   "id": "c1a4a4fa",
   "metadata": {},
   "outputs": [
    {
     "name": "stdout",
     "output_type": "stream",
     "text": [
      "10\n"
     ]
    }
   ],
   "source": [
    "# Find the minimum value from a dictionary\n",
    "A = {10:'a',20:'b',30:'c',40:'d'}\n",
    "print(min(A))"
   ]
  },
  {
   "cell_type": "markdown",
   "id": "a154687b",
   "metadata": {},
   "source": [
    "# min()\n",
    "Used to find minimum element in any object(list,tuple,set)"
   ]
  },
  {
   "cell_type": "code",
   "execution_count": 7,
   "id": "76cce656",
   "metadata": {},
   "outputs": [
    {
     "name": "stdout",
     "output_type": "stream",
     "text": [
      "10\n"
     ]
    }
   ],
   "source": [
    "# Find the min value from a list\n",
    "A = [10,20,50,100,200,300,400]\n",
    "print(min(A))"
   ]
  },
  {
   "cell_type": "code",
   "execution_count": 8,
   "id": "82ecb5fb",
   "metadata": {},
   "outputs": [
    {
     "name": "stdout",
     "output_type": "stream",
     "text": [
      "10\n"
     ]
    }
   ],
   "source": [
    "# Find the minimum value from a tuple\n",
    "A = (10,20,50,100,200,300,400)  \n",
    "print(min(A))"
   ]
  },
  {
   "cell_type": "code",
   "execution_count": 9,
   "id": "cf14b19e",
   "metadata": {},
   "outputs": [
    {
     "name": "stdout",
     "output_type": "stream",
     "text": [
      "10\n"
     ]
    }
   ],
   "source": [
    "# Find the minimum value from a set\n",
    "A = {10,20,50,100,200,300,400}  \n",
    "print(min(A))"
   ]
  },
  {
   "cell_type": "code",
   "execution_count": 10,
   "id": "8fdf42c5",
   "metadata": {},
   "outputs": [
    {
     "name": "stdout",
     "output_type": "stream",
     "text": [
      "10\n"
     ]
    }
   ],
   "source": [
    "# Find the minimum value from a dictionary\n",
    "A = {10:'a',20:'b',30:'c',40:'d'}   \n",
    "print(min(A))"
   ]
  },
  {
   "cell_type": "code",
   "execution_count": 11,
   "id": "e3daf635",
   "metadata": {},
   "outputs": [
    {
     "name": "stdout",
     "output_type": "stream",
     "text": [
      "10\n"
     ]
    }
   ],
   "source": [
    "# Find the minimum value from a tuple\n",
    "A = (10,20,50,100,200,300,400)  \n",
    "print(min(A))"
   ]
  },
  {
   "cell_type": "code",
   "execution_count": 13,
   "id": "3b47a1f8",
   "metadata": {},
   "outputs": [
    {
     "name": "stdout",
     "output_type": "stream",
     "text": [
      "Maximum value is : 5\n",
      "Minimum value is : 1\n",
      "sum of elements in A: 15\n",
      "length of list: 5\n"
     ]
    }
   ],
   "source": [
    "# Find the maximum, minimum, sum and length of elements in a list\n",
    "A =[1,2,3,4,5]\n",
    "print(\"Maximum value is :\" ,max(A))\n",
    "print(\"Minimum value is :\",min(A))\n",
    "print(\"sum of elements in A:\",sum(A))\n",
    "print(\"length of list:\",len(A))"
   ]
  },
  {
   "cell_type": "code",
   "execution_count": 14,
   "id": "8b44f0c0",
   "metadata": {},
   "outputs": [
    {
     "name": "stdout",
     "output_type": "stream",
     "text": [
      "Maximum value is : 5\n",
      "Minimum value is : 1\n",
      "sum of elements in A: 15\n",
      "length of list: 5\n"
     ]
    }
   ],
   "source": [
    "# Find the maximum, minimum, sum and length of elements in a tuple\n",
    "A =(1,2,3,4,5)\n",
    "print(\"Maximum value is :\" ,max(A))\n",
    "print(\"Minimum value is :\",min(A))\n",
    "print(\"sum of elements in A:\",sum(A))\n",
    "print(\"length of list:\",len(A))"
   ]
  },
  {
   "cell_type": "code",
   "execution_count": 19,
   "id": "4437f9cb",
   "metadata": {},
   "outputs": [
    {
     "name": "stdout",
     "output_type": "stream",
     "text": [
      "Maximum value is : 5\n",
      "Minimum value is : 1\n",
      "length of list: 5\n"
     ]
    }
   ],
   "source": [
    "# Find the maximum, minimum, sum and length of elements in a dictionary\n",
    "b = {1:'a',2:'b',3:'c',4:'d',5:'e'}\n",
    "print(\"Maximum value is :\" ,max(b))\n",
    "print(\"Minimum value is :\",min(b))\n",
    "print(\"length of list:\",len(b))"
   ]
  },
  {
   "cell_type": "code",
   "execution_count": 20,
   "id": "51d2df5e",
   "metadata": {},
   "outputs": [
    {
     "name": "stdout",
     "output_type": "stream",
     "text": [
      "Maximum value is : 5\n",
      "Minimum value is : 1\n",
      "sum of elements in c: 15\n",
      "length of set: 5\n"
     ]
    }
   ],
   "source": [
    "# find the maximum, minimum, sum and length of elements in a set\n",
    "c = {1,2,3,4,5}\n",
    "print(\"Maximum value is :\" ,max(c))\n",
    "print(\"Minimum value is :\",min(c))\n",
    "print(\"sum of elements in c:\",sum(c))\n",
    "print(\"length of set:\",len(c))  "
   ]
  },
  {
   "cell_type": "markdown",
   "id": "5cf0fd3d",
   "metadata": {},
   "source": [
    "# abs\n",
    "It is used to convert negative value into positive(int,float)."
   ]
  },
  {
   "cell_type": "code",
   "execution_count": 22,
   "id": "c3fb8f91",
   "metadata": {},
   "outputs": [
    {
     "name": "stdout",
     "output_type": "stream",
     "text": [
      "10\n"
     ]
    }
   ],
   "source": [
    "# abs function returns the absolute value of a number\n",
    "a = -10\n",
    "print(abs(a))\n"
   ]
  },
  {
   "cell_type": "code",
   "execution_count": 23,
   "id": "3b21c1ae",
   "metadata": {},
   "outputs": [
    {
     "name": "stdout",
     "output_type": "stream",
     "text": [
      "200.5\n"
     ]
    }
   ],
   "source": [
    "# abs function returns the absolute value of a number\n",
    "a = -200.5\n",
    "print(abs(a))"
   ]
  },
  {
   "cell_type": "code",
   "execution_count": 25,
   "id": "ee6f60b0",
   "metadata": {},
   "outputs": [
    {
     "data": {
      "text/plain": [
       "3"
      ]
     },
     "execution_count": 25,
     "metadata": {},
     "output_type": "execute_result"
    }
   ],
   "source": [
    "abs(-3)\n"
   ]
  },
  {
   "cell_type": "code",
   "execution_count": 27,
   "id": "a4970200",
   "metadata": {},
   "outputs": [
    {
     "data": {
      "text/plain": [
       "3"
      ]
     },
     "execution_count": 27,
     "metadata": {},
     "output_type": "execute_result"
    }
   ],
   "source": [
    "abs(-3)\n"
   ]
  },
  {
   "cell_type": "code",
   "execution_count": 28,
   "id": "62b596b4",
   "metadata": {},
   "outputs": [
    {
     "data": {
      "text/plain": [
       "3"
      ]
     },
     "execution_count": 28,
     "metadata": {},
     "output_type": "execute_result"
    }
   ],
   "source": [
    "abs(3)"
   ]
  },
  {
   "cell_type": "markdown",
   "id": "292e2249",
   "metadata": {},
   "source": [
    "# round\n",
    "It is used to round number to a given decimal palces\n",
    "\n",
    "round(number , decimal_places)"
   ]
  },
  {
   "cell_type": "code",
   "execution_count": 29,
   "id": "cbafe075",
   "metadata": {},
   "outputs": [
    {
     "name": "stdout",
     "output_type": "stream",
     "text": [
      "3.4568\n"
     ]
    }
   ],
   "source": [
    "a = 3.456789\n",
    "# round a to 4 decimal places\n",
    "print(round(a,4))"
   ]
  },
  {
   "cell_type": "code",
   "execution_count": 30,
   "id": "40df7aea",
   "metadata": {},
   "outputs": [
    {
     "data": {
      "text/plain": [
       "7.895"
      ]
     },
     "execution_count": 30,
     "metadata": {},
     "output_type": "execute_result"
    }
   ],
   "source": [
    "# round to 3 decimal\n",
    "round(7.89543,3)\n"
   ]
  },
  {
   "cell_type": "code",
   "execution_count": 31,
   "id": "2bf75f6a",
   "metadata": {},
   "outputs": [
    {
     "data": {
      "text/plain": [
       "3"
      ]
     },
     "execution_count": 31,
     "metadata": {},
     "output_type": "execute_result"
    }
   ],
   "source": [
    "round(3.456)"
   ]
  },
  {
   "cell_type": "code",
   "execution_count": 32,
   "id": "23878ea7",
   "metadata": {},
   "outputs": [
    {
     "data": {
      "text/plain": [
       "4"
      ]
     },
     "execution_count": 32,
     "metadata": {},
     "output_type": "execute_result"
    }
   ],
   "source": [
    "round(3.678)\n"
   ]
  },
  {
   "cell_type": "code",
   "execution_count": 33,
   "id": "7c5508aa",
   "metadata": {},
   "outputs": [
    {
     "data": {
      "text/plain": [
       "10"
      ]
     },
     "execution_count": 33,
     "metadata": {},
     "output_type": "execute_result"
    }
   ],
   "source": [
    "round(10.324)\n"
   ]
  },
  {
   "cell_type": "code",
   "execution_count": 34,
   "id": "6c345602",
   "metadata": {},
   "outputs": [
    {
     "data": {
      "text/plain": [
       "121"
      ]
     },
     "execution_count": 34,
     "metadata": {},
     "output_type": "execute_result"
    }
   ],
   "source": [
    "round(120.98652)\n"
   ]
  },
  {
   "cell_type": "code",
   "execution_count": 35,
   "id": "c73b7a03",
   "metadata": {},
   "outputs": [
    {
     "data": {
      "text/plain": [
       "3.14"
      ]
     },
     "execution_count": 35,
     "metadata": {},
     "output_type": "execute_result"
    }
   ],
   "source": [
    "round(3.14159,2)"
   ]
  },
  {
   "cell_type": "code",
   "execution_count": 36,
   "id": "74c423d1",
   "metadata": {},
   "outputs": [
    {
     "data": {
      "text/plain": [
       "-3.14"
      ]
     },
     "execution_count": 36,
     "metadata": {},
     "output_type": "execute_result"
    }
   ],
   "source": [
    "round(-3.14159,2)"
   ]
  },
  {
   "cell_type": "code",
   "execution_count": 37,
   "id": "fde45ec1",
   "metadata": {},
   "outputs": [
    {
     "data": {
      "text/plain": [
       "-200.246"
      ]
     },
     "execution_count": 37,
     "metadata": {},
     "output_type": "execute_result"
    }
   ],
   "source": [
    "round(-200.2457833,3)"
   ]
  },
  {
   "cell_type": "markdown",
   "id": "732bb58e",
   "metadata": {},
   "source": [
    "# Type casting\n",
    "Used to convert one data type into other data type."
   ]
  },
  {
   "cell_type": "markdown",
   "id": "8c7b75b9",
   "metadata": {},
   "source": [
    "# int\n",
    "* It converts given value to a integer"
   ]
  },
  {
   "cell_type": "code",
   "execution_count": 38,
   "id": "8689b368",
   "metadata": {},
   "outputs": [
    {
     "name": "stdout",
     "output_type": "stream",
     "text": [
      "<class 'float'>\n",
      "3\n"
     ]
    }
   ],
   "source": [
    "a = 3.45\n",
    "print(type(a))\n",
    "b = int(a)\n",
    "print(b)\n"
   ]
  },
  {
   "cell_type": "code",
   "execution_count": 39,
   "id": "dea25f5c",
   "metadata": {},
   "outputs": [
    {
     "name": "stdout",
     "output_type": "stream",
     "text": [
      "7\n",
      "<class 'int'>\n"
     ]
    }
   ],
   "source": [
    "# convert float to int\n",
    "a = 7.89\n",
    "b = int(a)\n",
    "print(b)\n",
    "print(type(b))"
   ]
  },
  {
   "cell_type": "code",
   "execution_count": 44,
   "id": "41d2832c",
   "metadata": {},
   "outputs": [
    {
     "name": "stdout",
     "output_type": "stream",
     "text": [
      "123\n",
      "<class 'int'>\n"
     ]
    }
   ],
   "source": [
    "# str to integer\n",
    "a = int(\"123\")   \n",
    "print(a)\n",
    "print(type(a))\n",
    "\n"
   ]
  },
  {
   "cell_type": "code",
   "execution_count": 45,
   "id": "b2719327",
   "metadata": {},
   "outputs": [
    {
     "name": "stdout",
     "output_type": "stream",
     "text": [
      "4\n",
      "1234\n",
      "1\n",
      "0\n"
     ]
    }
   ],
   "source": [
    "# float to integer\n",
    "# Integer within string into int\n",
    "# boolean to integer\n",
    "print(int(4.5))\n",
    "print(int(\"1234\"))\n",
    "print(int(True))\n",
    "print(int(False))"
   ]
  },
  {
   "cell_type": "code",
   "execution_count": 1,
   "id": "565b990f",
   "metadata": {},
   "outputs": [
    {
     "ename": "ValueError",
     "evalue": "invalid literal for int() with base 10: 'hello'",
     "output_type": "error",
     "traceback": [
      "\u001b[31m---------------------------------------------------------------------------\u001b[39m",
      "\u001b[31mValueError\u001b[39m                                Traceback (most recent call last)",
      "\u001b[36mCell\u001b[39m\u001b[36m \u001b[39m\u001b[32mIn[1]\u001b[39m\u001b[32m, line 1\u001b[39m\n\u001b[32m----> \u001b[39m\u001b[32m1\u001b[39m \u001b[38;5;28;43mint\u001b[39;49m\u001b[43m(\u001b[49m\u001b[33;43m\"\u001b[39;49m\u001b[33;43mhello\u001b[39;49m\u001b[33;43m\"\u001b[39;49m\u001b[43m)\u001b[49m \u001b[38;5;66;03m# string cannot be converted into integer\u001b[39;00m\n",
      "\u001b[31mValueError\u001b[39m: invalid literal for int() with base 10: 'hello'"
     ]
    }
   ],
   "source": [
    "int(\"hello\") # string cannot be converted into integer"
   ]
  },
  {
   "cell_type": "code",
   "execution_count": 2,
   "id": "3ef75c08",
   "metadata": {},
   "outputs": [
    {
     "ename": "ValueError",
     "evalue": "invalid literal for int() with base 10: '3.45'",
     "output_type": "error",
     "traceback": [
      "\u001b[31m---------------------------------------------------------------------------\u001b[39m",
      "\u001b[31mValueError\u001b[39m                                Traceback (most recent call last)",
      "\u001b[36mCell\u001b[39m\u001b[36m \u001b[39m\u001b[32mIn[2]\u001b[39m\u001b[32m, line 1\u001b[39m\n\u001b[32m----> \u001b[39m\u001b[32m1\u001b[39m \u001b[38;5;28;43mint\u001b[39;49m\u001b[43m(\u001b[49m\u001b[33;43m'\u001b[39;49m\u001b[33;43m3.45\u001b[39;49m\u001b[33;43m'\u001b[39;49m\u001b[43m)\u001b[49m \u001b[38;5;66;03m# float within string cannot be converted into int\u001b[39;00m\n",
      "\u001b[31mValueError\u001b[39m: invalid literal for int() with base 10: '3.45'"
     ]
    }
   ],
   "source": [
    "int('3.45') # float within string cannot be converted into int"
   ]
  },
  {
   "cell_type": "code",
   "execution_count": 3,
   "id": "982317e7",
   "metadata": {},
   "outputs": [
    {
     "ename": "TypeError",
     "evalue": "int() argument must be a string, a bytes-like object or a real number, not 'complex'",
     "output_type": "error",
     "traceback": [
      "\u001b[31m---------------------------------------------------------------------------\u001b[39m",
      "\u001b[31mTypeError\u001b[39m                                 Traceback (most recent call last)",
      "\u001b[36mCell\u001b[39m\u001b[36m \u001b[39m\u001b[32mIn[3]\u001b[39m\u001b[32m, line 1\u001b[39m\n\u001b[32m----> \u001b[39m\u001b[32m1\u001b[39m \u001b[38;5;28;43mint\u001b[39;49m\u001b[43m(\u001b[49m\u001b[32;43m3\u001b[39;49m\u001b[43m+\u001b[49m\u001b[32;43m4\u001b[39;49m\u001b[43mj\u001b[49m\u001b[43m)\u001b[49m\u001b[38;5;66;03m# complex number cannot be converted into int\u001b[39;00m\n",
      "\u001b[31mTypeError\u001b[39m: int() argument must be a string, a bytes-like object or a real number, not 'complex'"
     ]
    }
   ],
   "source": [
    "int(3+4j)# complex number cannot be converted into int"
   ]
  },
  {
   "cell_type": "markdown",
   "id": "5808d448",
   "metadata": {},
   "source": [
    "# float\n",
    "It is used to convert value into float"
   ]
  },
  {
   "cell_type": "code",
   "execution_count": 4,
   "id": "da1c8baa",
   "metadata": {},
   "outputs": [
    {
     "data": {
      "text/plain": [
       "10.0"
      ]
     },
     "execution_count": 4,
     "metadata": {},
     "output_type": "execute_result"
    }
   ],
   "source": [
    "# convert int to float\n",
    "float(10)\n"
   ]
  },
  {
   "cell_type": "code",
   "execution_count": 5,
   "id": "b3239992",
   "metadata": {},
   "outputs": [
    {
     "data": {
      "text/plain": [
       "123.0"
      ]
     },
     "execution_count": 5,
     "metadata": {},
     "output_type": "execute_result"
    }
   ],
   "source": [
    "# convert str '123' into float\n",
    "float('123')"
   ]
  },
  {
   "cell_type": "code",
   "execution_count": 8,
   "id": "f77e851a",
   "metadata": {},
   "outputs": [
    {
     "data": {
      "text/plain": [
       "23.45"
      ]
     },
     "execution_count": 8,
     "metadata": {},
     "output_type": "execute_result"
    }
   ],
   "source": [
    "# convert str '23.45' into float\n",
    "float('23.45')"
   ]
  },
  {
   "cell_type": "code",
   "execution_count": 9,
   "id": "917ed461",
   "metadata": {},
   "outputs": [
    {
     "name": "stdout",
     "output_type": "stream",
     "text": [
      "1.0\n",
      "0.0\n"
     ]
    }
   ],
   "source": [
    "# convert bool to float\n",
    "print(float(True))\n",
    "print(float(False))"
   ]
  },
  {
   "cell_type": "code",
   "execution_count": 10,
   "id": "25ee2df5",
   "metadata": {},
   "outputs": [
    {
     "ename": "ValueError",
     "evalue": "could not convert string to float: 'hello'",
     "output_type": "error",
     "traceback": [
      "\u001b[31m---------------------------------------------------------------------------\u001b[39m",
      "\u001b[31mValueError\u001b[39m                                Traceback (most recent call last)",
      "\u001b[36mCell\u001b[39m\u001b[36m \u001b[39m\u001b[32mIn[10]\u001b[39m\u001b[32m, line 2\u001b[39m\n\u001b[32m      1\u001b[39m \u001b[38;5;66;03m# converting str to float is not possible\u001b[39;00m\n\u001b[32m----> \u001b[39m\u001b[32m2\u001b[39m \u001b[38;5;28;43mfloat\u001b[39;49m\u001b[43m(\u001b[49m\u001b[33;43m\"\u001b[39;49m\u001b[33;43mhello\u001b[39;49m\u001b[33;43m\"\u001b[39;49m\u001b[43m)\u001b[49m\n",
      "\u001b[31mValueError\u001b[39m: could not convert string to float: 'hello'"
     ]
    }
   ],
   "source": [
    "# converting str to float is not possible\n",
    "float(\"hello\")"
   ]
  },
  {
   "cell_type": "code",
   "execution_count": 11,
   "id": "384ea276",
   "metadata": {},
   "outputs": [
    {
     "ename": "TypeError",
     "evalue": "float() argument must be a string or a real number, not 'complex'",
     "output_type": "error",
     "traceback": [
      "\u001b[31m---------------------------------------------------------------------------\u001b[39m",
      "\u001b[31mTypeError\u001b[39m                                 Traceback (most recent call last)",
      "\u001b[36mCell\u001b[39m\u001b[36m \u001b[39m\u001b[32mIn[11]\u001b[39m\u001b[32m, line 2\u001b[39m\n\u001b[32m      1\u001b[39m \u001b[38;5;66;03m# converting complex to float is not possible\u001b[39;00m\n\u001b[32m----> \u001b[39m\u001b[32m2\u001b[39m \u001b[38;5;28;43mfloat\u001b[39;49m\u001b[43m(\u001b[49m\u001b[32;43m3\u001b[39;49m\u001b[43m+\u001b[49m\u001b[32;43m6\u001b[39;49m\u001b[43mj\u001b[49m\u001b[43m)\u001b[49m\n",
      "\u001b[31mTypeError\u001b[39m: float() argument must be a string or a real number, not 'complex'"
     ]
    }
   ],
   "source": [
    "# converting complex to float is not possible\n",
    "float(3+6j)"
   ]
  },
  {
   "cell_type": "markdown",
   "id": "ca723bd6",
   "metadata": {},
   "source": [
    "# bool()\n",
    "boolean converts all values into True or False."
   ]
  },
  {
   "cell_type": "code",
   "execution_count": 12,
   "id": "a6a7f26c",
   "metadata": {},
   "outputs": [
    {
     "data": {
      "text/plain": [
       "True"
      ]
     },
     "execution_count": 12,
     "metadata": {},
     "output_type": "execute_result"
    }
   ],
   "source": [
    "bool(True)"
   ]
  },
  {
   "cell_type": "code",
   "execution_count": 13,
   "id": "d23c2974",
   "metadata": {},
   "outputs": [
    {
     "data": {
      "text/plain": [
       "False"
      ]
     },
     "execution_count": 13,
     "metadata": {},
     "output_type": "execute_result"
    }
   ],
   "source": [
    "bool(False)"
   ]
  },
  {
   "cell_type": "code",
   "execution_count": 14,
   "id": "463111cc",
   "metadata": {},
   "outputs": [
    {
     "data": {
      "text/plain": [
       "False"
      ]
     },
     "execution_count": 14,
     "metadata": {},
     "output_type": "execute_result"
    }
   ],
   "source": [
    "bool(0)"
   ]
  },
  {
   "cell_type": "code",
   "execution_count": 15,
   "id": "78477261",
   "metadata": {},
   "outputs": [
    {
     "data": {
      "text/plain": [
       "True"
      ]
     },
     "execution_count": 15,
     "metadata": {},
     "output_type": "execute_result"
    }
   ],
   "source": [
    "bool(1)"
   ]
  },
  {
   "cell_type": "code",
   "execution_count": 16,
   "id": "7a5a477e",
   "metadata": {},
   "outputs": [
    {
     "name": "stdout",
     "output_type": "stream",
     "text": [
      "True\n",
      "True\n",
      "True\n",
      "True\n"
     ]
    }
   ],
   "source": [
    "# Boolean will be true for all values except for 0 , False ,None,[],()\n",
    "print(bool(10))\n",
    "print(bool(\"Jeevitha\"))\n",
    "print(bool(-10))\n",
    "print(bool(3+5j))"
   ]
  },
  {
   "cell_type": "code",
   "execution_count": 17,
   "id": "522fb846",
   "metadata": {},
   "outputs": [
    {
     "name": "stdout",
     "output_type": "stream",
     "text": [
      "False\n",
      "False\n",
      "False\n",
      "False\n",
      "False\n"
     ]
    }
   ],
   "source": [
    "print(bool(0))\n",
    "print(bool(False))\n",
    "print(bool(None))\n",
    "print(bool([]))\n",
    "print(bool(()))"
   ]
  },
  {
   "cell_type": "markdown",
   "id": "0cb5c929",
   "metadata": {},
   "source": [
    "# complex\n",
    "Used to convert value to complex"
   ]
  },
  {
   "cell_type": "code",
   "execution_count": 18,
   "id": "c401a5c0",
   "metadata": {},
   "outputs": [
    {
     "data": {
      "text/plain": [
       "(10+0j)"
      ]
     },
     "execution_count": 18,
     "metadata": {},
     "output_type": "execute_result"
    }
   ],
   "source": [
    "# int to complex\n",
    "complex(10)"
   ]
  },
  {
   "cell_type": "code",
   "execution_count": 19,
   "id": "36bf0e83",
   "metadata": {},
   "outputs": [
    {
     "data": {
      "text/plain": [
       "(12.3+0j)"
      ]
     },
     "execution_count": 19,
     "metadata": {},
     "output_type": "execute_result"
    }
   ],
   "source": [
    "# float to complex\n",
    "complex(12.3)"
   ]
  },
  {
   "cell_type": "code",
   "execution_count": 20,
   "id": "5690d5e5",
   "metadata": {},
   "outputs": [
    {
     "data": {
      "text/plain": [
       "(1+0j)"
      ]
     },
     "execution_count": 20,
     "metadata": {},
     "output_type": "execute_result"
    }
   ],
   "source": [
    "# bool to complex\n",
    "complex(True)"
   ]
  },
  {
   "cell_type": "code",
   "execution_count": 21,
   "id": "448ddd1f",
   "metadata": {},
   "outputs": [
    {
     "data": {
      "text/plain": [
       "(4+5j)"
      ]
     },
     "execution_count": 21,
     "metadata": {},
     "output_type": "execute_result"
    }
   ],
   "source": [
    "# complex within str to complex\n",
    "complex('4+5j')"
   ]
  },
  {
   "cell_type": "code",
   "execution_count": 22,
   "id": "42c34fe8",
   "metadata": {},
   "outputs": [
    {
     "ename": "ValueError",
     "evalue": "complex() arg is a malformed string",
     "output_type": "error",
     "traceback": [
      "\u001b[31m---------------------------------------------------------------------------\u001b[39m",
      "\u001b[31mValueError\u001b[39m                                Traceback (most recent call last)",
      "\u001b[36mCell\u001b[39m\u001b[36m \u001b[39m\u001b[32mIn[22]\u001b[39m\u001b[32m, line 2\u001b[39m\n\u001b[32m      1\u001b[39m \u001b[38;5;66;03m# converting str to complex is not possible\u001b[39;00m\n\u001b[32m----> \u001b[39m\u001b[32m2\u001b[39m \u001b[38;5;28;43mcomplex\u001b[39;49m\u001b[43m(\u001b[49m\u001b[33;43m\"\u001b[39;49m\u001b[33;43mHello\u001b[39;49m\u001b[33;43m\"\u001b[39;49m\u001b[43m)\u001b[49m\n",
      "\u001b[31mValueError\u001b[39m: complex() arg is a malformed string"
     ]
    }
   ],
   "source": [
    "# converting str to complex is not possible\n",
    "complex(\"Hello\")"
   ]
  },
  {
   "cell_type": "markdown",
   "id": "a346df5b",
   "metadata": {},
   "source": [
    "# str()\n",
    "Use to convert value into string\n"
   ]
  },
  {
   "cell_type": "code",
   "execution_count": 23,
   "id": "1e627150",
   "metadata": {},
   "outputs": [
    {
     "name": "stdout",
     "output_type": "stream",
     "text": [
      "10\n",
      "<class 'str'>\n"
     ]
    }
   ],
   "source": [
    "# int to str\n",
    "a = str(10)\n",
    "print(a)\n",
    "print(type(a))\n"
   ]
  },
  {
   "cell_type": "code",
   "execution_count": 24,
   "id": "4751404f",
   "metadata": {},
   "outputs": [
    {
     "name": "stdout",
     "output_type": "stream",
     "text": [
      "10.5\n",
      "<class 'str'>\n"
     ]
    }
   ],
   "source": [
    "# float to str\n",
    "a = str(10.5)\n",
    "print(a)\n",
    "print(type(a))"
   ]
  },
  {
   "cell_type": "code",
   "execution_count": 25,
   "id": "6f5171b1",
   "metadata": {},
   "outputs": [
    {
     "name": "stdout",
     "output_type": "stream",
     "text": [
      "True\n",
      "<class 'str'>\n"
     ]
    }
   ],
   "source": [
    "# bool to str\n",
    "a = str(True)\n",
    "print(a)\n",
    "print(type(a))"
   ]
  },
  {
   "cell_type": "code",
   "execution_count": 26,
   "id": "7753064a",
   "metadata": {},
   "outputs": [
    {
     "name": "stdout",
     "output_type": "stream",
     "text": [
      "(3+4j)\n",
      "<class 'str'>\n"
     ]
    }
   ],
   "source": [
    "# complex to str\n",
    "a = str(3+4j)\n",
    "print(a)\n",
    "print(type(a))"
   ]
  },
  {
   "cell_type": "markdown",
   "id": "69880776",
   "metadata": {},
   "source": [
    "# str-->complex-->float-->int-->bool\n"
   ]
  },
  {
   "cell_type": "markdown",
   "id": "893a8756",
   "metadata": {},
   "source": [
    "# input()\n",
    "Used take input from users"
   ]
  },
  {
   "cell_type": "code",
   "execution_count": 28,
   "id": "e0eef32d",
   "metadata": {},
   "outputs": [
    {
     "name": "stdout",
     "output_type": "stream",
     "text": [
      "3000\n"
     ]
    }
   ],
   "source": [
    "a = 1000\n",
    "b = 2000\n",
    "print(a+b)"
   ]
  },
  {
   "cell_type": "code",
   "execution_count": 29,
   "id": "8aa1168d",
   "metadata": {},
   "outputs": [
    {
     "name": "stdout",
     "output_type": "stream",
     "text": [
      "sum of a and b is  30\n"
     ]
    }
   ],
   "source": [
    "# int(input()):takes onlt integer values\n",
    "a = int(input(\"enter only integer value a\"))\n",
    "b = int(input(\"enter only integer value b\"))\n",
    "print(\"sum of a and b is \",a+b)"
   ]
  },
  {
   "cell_type": "code",
   "execution_count": 30,
   "id": "779e24a6",
   "metadata": {},
   "outputs": [
    {
     "name": "stdout",
     "output_type": "stream",
     "text": [
      "20\n"
     ]
    }
   ],
   "source": [
    "x =int(input())\n",
    "print(x) # it throws error if we input float,str,bool,complex"
   ]
  },
  {
   "cell_type": "code",
   "execution_count": 31,
   "id": "e6fcc02a",
   "metadata": {},
   "outputs": [
    {
     "name": "stdout",
     "output_type": "stream",
     "text": [
      "30.0\n"
     ]
    }
   ],
   "source": [
    "# float(input()): used to take float and integer as its inputs from user\n",
    "a = float(input(\"enter float or int: \"))\n",
    "print(a)"
   ]
  },
  {
   "cell_type": "code",
   "execution_count": 32,
   "id": "22c0c2b4",
   "metadata": {},
   "outputs": [
    {
     "name": "stdout",
     "output_type": "stream",
     "text": [
      "30.0\n"
     ]
    }
   ],
   "source": [
    "a = float(input(\"enter float or int: \"))\n",
    "print(a)"
   ]
  },
  {
   "cell_type": "code",
   "execution_count": 33,
   "id": "cf65aaa5",
   "metadata": {},
   "outputs": [
    {
     "name": "stdout",
     "output_type": "stream",
     "text": [
      "True\n"
     ]
    }
   ],
   "source": [
    "# bool(input())\n",
    "b = bool(input())\n",
    "print(b)"
   ]
  },
  {
   "cell_type": "code",
   "execution_count": 34,
   "id": "8af1a220",
   "metadata": {},
   "outputs": [
    {
     "name": "stdout",
     "output_type": "stream",
     "text": [
      "True\n"
     ]
    }
   ],
   "source": [
    "b = bool(input())\n",
    "print(b)\n",
    "# it always returns true except empty string"
   ]
  },
  {
   "cell_type": "code",
   "execution_count": 35,
   "id": "5665ecc0",
   "metadata": {},
   "outputs": [
    {
     "name": "stdout",
     "output_type": "stream",
     "text": [
      "True\n"
     ]
    }
   ],
   "source": [
    "b = bool(input())\n",
    "print(b)"
   ]
  },
  {
   "cell_type": "code",
   "execution_count": 36,
   "id": "a412e81d",
   "metadata": {},
   "outputs": [
    {
     "name": "stdout",
     "output_type": "stream",
     "text": [
      "vivek\n"
     ]
    }
   ],
   "source": [
    "#input(): By default it takes string from user\n",
    "name = input()\n",
    "print(name)"
   ]
  },
  {
   "cell_type": "code",
   "execution_count": 37,
   "id": "2c0dda9f",
   "metadata": {},
   "outputs": [
    {
     "name": "stdout",
     "output_type": "stream",
     "text": [
      "vivek\n",
      "<class 'str'>\n"
     ]
    }
   ],
   "source": [
    "a = input()\n",
    "print(a)\n",
    "print(type(a))\n"
   ]
  },
  {
   "cell_type": "code",
   "execution_count": 38,
   "id": "d8337e8a",
   "metadata": {},
   "outputs": [
    {
     "name": "stdout",
     "output_type": "stream",
     "text": [
      "10\n",
      "<class 'str'>\n"
     ]
    }
   ],
   "source": [
    "a = input()\n",
    "print(a)\n",
    "print(type(a))"
   ]
  },
  {
   "cell_type": "code",
   "execution_count": 40,
   "id": "f97e1ed3",
   "metadata": {},
   "outputs": [
    {
     "name": "stdout",
     "output_type": "stream",
     "text": [
      "1\n",
      "<class 'str'>\n"
     ]
    }
   ],
   "source": [
    "a = input()\n",
    "print(a)\n",
    "print(type(a))\n",
    "# it always takes string as input from user"
   ]
  },
  {
   "cell_type": "markdown",
   "id": "546fe956",
   "metadata": {},
   "source": [
    "# List , tuple,set,dict"
   ]
  },
  {
   "cell_type": "code",
   "execution_count": 41,
   "id": "d29128f5",
   "metadata": {},
   "outputs": [
    {
     "name": "stdout",
     "output_type": "stream",
     "text": [
      "[1, 2, 3, 4]\n"
     ]
    }
   ],
   "source": [
    "# creating list\n",
    "A = list((1,2,3,4))\n",
    "print(A)"
   ]
  },
  {
   "cell_type": "code",
   "execution_count": 42,
   "id": "70620256",
   "metadata": {},
   "outputs": [
    {
     "data": {
      "text/plain": [
       "(1, 2, 3, 4)"
      ]
     },
     "execution_count": 42,
     "metadata": {},
     "output_type": "execute_result"
    }
   ],
   "source": [
    "# convert list to tuple\n",
    "tuple(A)"
   ]
  },
  {
   "cell_type": "code",
   "execution_count": 43,
   "id": "b3630895",
   "metadata": {},
   "outputs": [
    {
     "name": "stdout",
     "output_type": "stream",
     "text": [
      "(10, 20, 30, 40)\n"
     ]
    }
   ],
   "source": [
    "# creating tuple\n",
    "B = tuple((10,20,30,40))\n",
    "print(B)"
   ]
  },
  {
   "cell_type": "code",
   "execution_count": 44,
   "id": "64141029",
   "metadata": {},
   "outputs": [
    {
     "data": {
      "text/plain": [
       "[10, 20, 30, 40]"
      ]
     },
     "execution_count": 44,
     "metadata": {},
     "output_type": "execute_result"
    }
   ],
   "source": [
    "#tuple to list\n",
    "list(B)"
   ]
  },
  {
   "cell_type": "code",
   "execution_count": 45,
   "id": "af302018",
   "metadata": {},
   "outputs": [
    {
     "data": {
      "text/plain": [
       "{1, 2, 3, 4}"
      ]
     },
     "execution_count": 45,
     "metadata": {},
     "output_type": "execute_result"
    }
   ],
   "source": [
    "# list to set\n",
    "set(A)"
   ]
  },
  {
   "cell_type": "code",
   "execution_count": 46,
   "id": "7cd3d264",
   "metadata": {},
   "outputs": [
    {
     "data": {
      "text/plain": [
       "{10, 20, 30, 40}"
      ]
     },
     "execution_count": 46,
     "metadata": {},
     "output_type": "execute_result"
    }
   ],
   "source": [
    "# tuple into set\n",
    "set(B)"
   ]
  },
  {
   "cell_type": "code",
   "execution_count": 47,
   "id": "a6f23ad0",
   "metadata": {},
   "outputs": [
    {
     "name": "stdout",
     "output_type": "stream",
     "text": [
      "{1, 2, 3, 4}\n"
     ]
    }
   ],
   "source": [
    "C = set((1,2,3,4))\n",
    "print(C)"
   ]
  },
  {
   "cell_type": "code",
   "execution_count": 48,
   "id": "a6683b55",
   "metadata": {},
   "outputs": [
    {
     "data": {
      "text/plain": [
       "[1, 2, 3, 4]"
      ]
     },
     "execution_count": 48,
     "metadata": {},
     "output_type": "execute_result"
    }
   ],
   "source": [
    "# set to list\n",
    "list(C)"
   ]
  },
  {
   "cell_type": "code",
   "execution_count": 49,
   "id": "9c3683a3",
   "metadata": {},
   "outputs": [
    {
     "data": {
      "text/plain": [
       "(1, 2, 3, 4)"
      ]
     },
     "execution_count": 49,
     "metadata": {},
     "output_type": "execute_result"
    }
   ],
   "source": [
    "# set to tuple\n",
    "tuple(C)"
   ]
  },
  {
   "cell_type": "markdown",
   "id": "d1579879",
   "metadata": {},
   "source": [
    "# set to tuple or list\n",
    "# tuple to set or list\n",
    "# list to set or tuple\n"
   ]
  },
  {
   "cell_type": "code",
   "execution_count": 50,
   "id": "08e42321",
   "metadata": {},
   "outputs": [
    {
     "name": "stdout",
     "output_type": "stream",
     "text": [
      "{'name': 'Zara', 'Age': 20}\n"
     ]
    }
   ],
   "source": [
    "# dict\n",
    "D =dict({'name':'Zara','Age':20})\n",
    "print(D)\n"
   ]
  },
  {
   "cell_type": "code",
   "execution_count": 51,
   "id": "d565d5e4",
   "metadata": {},
   "outputs": [
    {
     "data": {
      "text/plain": [
       "['name', 'Age']"
      ]
     },
     "execution_count": 51,
     "metadata": {},
     "output_type": "execute_result"
    }
   ],
   "source": [
    "# dict into list:list of keys\n",
    "list(D)"
   ]
  },
  {
   "cell_type": "code",
   "execution_count": 52,
   "id": "8aee46e8",
   "metadata": {},
   "outputs": [
    {
     "data": {
      "text/plain": [
       "('name', 'Age')"
      ]
     },
     "execution_count": 52,
     "metadata": {},
     "output_type": "execute_result"
    }
   ],
   "source": [
    "# dict into tuple : tuple of keys\n",
    "tuple(D)"
   ]
  },
  {
   "cell_type": "code",
   "execution_count": 53,
   "id": "c75b6979",
   "metadata": {},
   "outputs": [
    {
     "data": {
      "text/plain": [
       "{'Age', 'name'}"
      ]
     },
     "execution_count": 53,
     "metadata": {},
     "output_type": "execute_result"
    }
   ],
   "source": [
    "# dict to set:set of keys\n",
    "set(D)"
   ]
  },
  {
   "cell_type": "code",
   "execution_count": null,
   "id": "1e9f6645",
   "metadata": {},
   "outputs": [
    {
     "ename": "TypeError",
     "evalue": "cannot convert dictionary update sequence element #0 to a sequence",
     "output_type": "error",
     "traceback": [
      "\u001b[31m---------------------------------------------------------------------------\u001b[39m",
      "\u001b[31mTypeError\u001b[39m                                 Traceback (most recent call last)",
      "\u001b[36mCell\u001b[39m\u001b[36m \u001b[39m\u001b[32mIn[54]\u001b[39m\u001b[32m, line 2\u001b[39m\n\u001b[32m      1\u001b[39m \u001b[38;5;66;03m# list,tuple,set to dict is not possible\u001b[39;00m\n\u001b[32m----> \u001b[39m\u001b[32m2\u001b[39m \u001b[38;5;28;43mdict\u001b[39;49m\u001b[43m(\u001b[49m\u001b[43mA\u001b[49m\u001b[43m)\u001b[49m\n",
      "\u001b[31mTypeError\u001b[39m: cannot convert dictionary update sequence element #0 to a sequence"
     ]
    }
   ],
   "source": [
    "# list,tuple,set to dict is not possible\n",
    "dict(A)"
   ]
  },
  {
   "cell_type": "markdown",
   "id": "1a611d46",
   "metadata": {},
   "source": [
    "# eval\n",
    "It takes list,tuple,set,dict from users"
   ]
  },
  {
   "cell_type": "code",
   "execution_count": 55,
   "id": "ec336221",
   "metadata": {},
   "outputs": [
    {
     "name": "stdout",
     "output_type": "stream",
     "text": [
      "{'name': 'john', 'age': 25, 'city': 'new york'}\n",
      "<class 'dict'>\n"
     ]
    }
   ],
   "source": [
    "A =eval(input())\n",
    "print(A)\n",
    "print(type(A)) \n",
    "# it takes list,tuple,set,dictionary as input from user\n",
    "# example input:{'name':'john', 'age':25, 'city':'new york'}\n",
    "# example input:[10,20,30,40]"
   ]
  },
  {
   "cell_type": "code",
   "execution_count": 56,
   "id": "666dd0a7",
   "metadata": {},
   "outputs": [
    {
     "name": "stdout",
     "output_type": "stream",
     "text": [
      "[10, 20, 30, 40]\n",
      "<class 'list'>\n"
     ]
    }
   ],
   "source": [
    "A =eval(input())\n",
    "print(A)\n",
    "print(type(A)) \n",
    "# it takes list,tuple,set,dictionary as input from user\n",
    "# example input:{'name':'john', 'age':25, 'city':'new york'}\n",
    "# example input:[10,20,30,40]"
   ]
  },
  {
   "cell_type": "code",
   "execution_count": 57,
   "id": "0abcca27",
   "metadata": {},
   "outputs": [
    {
     "name": "stdout",
     "output_type": "stream",
     "text": [
      "{40, 10, 20, 30}\n",
      "<class 'set'>\n"
     ]
    }
   ],
   "source": [
    "A =eval(input())\n",
    "print(A)\n",
    "print(type(A)) # example input set :{10,20,30,40}"
   ]
  },
  {
   "cell_type": "code",
   "execution_count": 58,
   "id": "1973ff55",
   "metadata": {},
   "outputs": [
    {
     "name": "stdout",
     "output_type": "stream",
     "text": [
      "(10, 20, 30, 40)\n",
      "<class 'tuple'>\n"
     ]
    }
   ],
   "source": [
    "# example input tuple :(10,20,30,40)\n",
    "A = eval(input())\n",
    "print(A)\n",
    "print(type(A)) # example input tuple :(10,20,30,40)"
   ]
  },
  {
   "cell_type": "markdown",
   "id": "30aa8471",
   "metadata": {},
   "source": [
    "# enumerate\n",
    "It is used to find index number of each element or character in list or tuple or string."
   ]
  },
  {
   "cell_type": "code",
   "execution_count": 61,
   "id": "f590d651",
   "metadata": {},
   "outputs": [
    {
     "name": "stdout",
     "output_type": "stream",
     "text": [
      "<class 'str'>\n"
     ]
    },
    {
     "data": {
      "text/plain": [
       "[(0, 'p'), (1, 'y'), (2, 't'), (3, 'h'), (4, 'o'), (5, 'n')]"
      ]
     },
     "execution_count": 61,
     "metadata": {},
     "output_type": "execute_result"
    }
   ],
   "source": [
    "A = 'python'\n",
    "print(type(A))\n",
    "list(enumerate(A))\n"
   ]
  },
  {
   "cell_type": "code",
   "execution_count": 62,
   "id": "9c8f5e3b",
   "metadata": {},
   "outputs": [
    {
     "data": {
      "text/plain": [
       "((0, 'p'), (1, 'y'), (2, 't'), (3, 'h'), (4, 'o'), (5, 'n'))"
      ]
     },
     "execution_count": 62,
     "metadata": {},
     "output_type": "execute_result"
    }
   ],
   "source": [
    "tuple(enumerate(A))"
   ]
  },
  {
   "cell_type": "code",
   "execution_count": 63,
   "id": "20d21cce",
   "metadata": {},
   "outputs": [
    {
     "data": {
      "text/plain": [
       "{0: 'p', 1: 'y', 2: 't', 3: 'h', 4: 'o', 5: 'n'}"
      ]
     },
     "execution_count": 63,
     "metadata": {},
     "output_type": "execute_result"
    }
   ],
   "source": [
    "dict(enumerate(A))"
   ]
  },
  {
   "cell_type": "code",
   "execution_count": 64,
   "id": "401fcfe3",
   "metadata": {},
   "outputs": [
    {
     "data": {
      "text/plain": [
       "{(0, 'p'), (1, 'y'), (2, 't'), (3, 'h'), (4, 'o'), (5, 'n')}"
      ]
     },
     "execution_count": 64,
     "metadata": {},
     "output_type": "execute_result"
    }
   ],
   "source": [
    "set(enumerate(A))"
   ]
  },
  {
   "cell_type": "code",
   "execution_count": 65,
   "id": "ffe6554c",
   "metadata": {},
   "outputs": [
    {
     "data": {
      "text/plain": [
       "[(0, 'p'), (1, 'y'), (2, 't'), (3, 'h'), (4, 'o'), (5, 'n')]"
      ]
     },
     "execution_count": 65,
     "metadata": {},
     "output_type": "execute_result"
    }
   ],
   "source": [
    "list(enumerate(A))"
   ]
  },
  {
   "cell_type": "code",
   "execution_count": 66,
   "id": "663db6dd",
   "metadata": {},
   "outputs": [
    {
     "data": {
      "text/plain": [
       "[(0, 'apple'), (1, 'orange'), (2, 'grapes')]"
      ]
     },
     "execution_count": 66,
     "metadata": {},
     "output_type": "execute_result"
    }
   ],
   "source": [
    "B = ['apple','orange','grapes']\n",
    "list(enumerate(B))\n"
   ]
  },
  {
   "cell_type": "code",
   "execution_count": 67,
   "id": "e78a0e46",
   "metadata": {},
   "outputs": [
    {
     "data": {
      "text/plain": [
       "((0, 'apple'), (1, 'orange'), (2, 'grapes'))"
      ]
     },
     "execution_count": 67,
     "metadata": {},
     "output_type": "execute_result"
    }
   ],
   "source": [
    "tuple(enumerate(B))"
   ]
  },
  {
   "cell_type": "code",
   "execution_count": 68,
   "id": "acabb8ff",
   "metadata": {},
   "outputs": [
    {
     "data": {
      "text/plain": [
       "{0: 'apple', 1: 'orange', 2: 'grapes'}"
      ]
     },
     "execution_count": 68,
     "metadata": {},
     "output_type": "execute_result"
    }
   ],
   "source": [
    "dict(enumerate(B))"
   ]
  },
  {
   "cell_type": "markdown",
   "id": "d72e8dfc",
   "metadata": {},
   "source": [
    "# range\n",
    "Used to generate n number of values/numbers"
   ]
  },
  {
   "cell_type": "code",
   "execution_count": 69,
   "id": "bf8c585e",
   "metadata": {},
   "outputs": [
    {
     "data": {
      "text/plain": [
       "[0, 1, 2, 3, 4, 5, 6, 7, 8, 9]"
      ]
     },
     "execution_count": 69,
     "metadata": {},
     "output_type": "execute_result"
    }
   ],
   "source": [
    "# generate list of 10 numbers(0 to 9)\n",
    "list(range(10)) # end value is not include\n",
    "# range by default generates values from 0 and end value is not included"
   ]
  },
  {
   "cell_type": "code",
   "execution_count": 70,
   "id": "8d40ef08",
   "metadata": {},
   "outputs": [
    {
     "data": {
      "text/plain": [
       "(0,\n",
       " 1,\n",
       " 2,\n",
       " 3,\n",
       " 4,\n",
       " 5,\n",
       " 6,\n",
       " 7,\n",
       " 8,\n",
       " 9,\n",
       " 10,\n",
       " 11,\n",
       " 12,\n",
       " 13,\n",
       " 14,\n",
       " 15,\n",
       " 16,\n",
       " 17,\n",
       " 18,\n",
       " 19,\n",
       " 20,\n",
       " 21,\n",
       " 22,\n",
       " 23,\n",
       " 24,\n",
       " 25,\n",
       " 26,\n",
       " 27,\n",
       " 28,\n",
       " 29)"
      ]
     },
     "execution_count": 70,
     "metadata": {},
     "output_type": "execute_result"
    }
   ],
   "source": [
    "# generate tuple of 30 numbers starting from 0\n",
    "tuple(range(30)) #end value(30) not included (0 to 29)"
   ]
  },
  {
   "cell_type": "code",
   "execution_count": 71,
   "id": "640b61d7",
   "metadata": {},
   "outputs": [
    {
     "data": {
      "text/plain": [
       "[1, 2, 3, 4, 5, 6, 7, 8, 9, 10]"
      ]
     },
     "execution_count": 71,
     "metadata": {},
     "output_type": "execute_result"
    }
   ],
   "source": [
    "# generate values from 1 to 10(included) within a list\n",
    "# range(start_num,end_num)\n",
    "list(range(1,11))"
   ]
  },
  {
   "cell_type": "code",
   "execution_count": null,
   "id": "df127206",
   "metadata": {},
   "outputs": [
    {
     "data": {
      "text/plain": [
       "[0, 1, 2, 3, 4, 5, 6, 7, 8, 9, 10, 11, 12, 13, 14, 15, 16, 17, 18, 19]"
      ]
     },
     "execution_count": 72,
     "metadata": {},
     "output_type": "execute_result"
    }
   ],
   "source": [
    "list(range(20)) "
   ]
  },
  {
   "cell_type": "code",
   "execution_count": 73,
   "id": "d0511c57",
   "metadata": {},
   "outputs": [
    {
     "data": {
      "text/plain": [
       "[1, 2, 3, 4, 5, 6, 7, 8, 9, 10, 11, 12, 13, 14, 15, 16, 17, 18, 19]"
      ]
     },
     "execution_count": 73,
     "metadata": {},
     "output_type": "execute_result"
    }
   ],
   "source": [
    "list(range(1,20))"
   ]
  },
  {
   "cell_type": "code",
   "execution_count": 74,
   "id": "f4a87009",
   "metadata": {},
   "outputs": [
    {
     "data": {
      "text/plain": [
       "[5,\n",
       " 6,\n",
       " 7,\n",
       " 8,\n",
       " 9,\n",
       " 10,\n",
       " 11,\n",
       " 12,\n",
       " 13,\n",
       " 14,\n",
       " 15,\n",
       " 16,\n",
       " 17,\n",
       " 18,\n",
       " 19,\n",
       " 20,\n",
       " 21,\n",
       " 22,\n",
       " 23,\n",
       " 24,\n",
       " 25,\n",
       " 26,\n",
       " 27,\n",
       " 28,\n",
       " 29,\n",
       " 30,\n",
       " 31,\n",
       " 32,\n",
       " 33,\n",
       " 34,\n",
       " 35]"
      ]
     },
     "execution_count": 74,
     "metadata": {},
     "output_type": "execute_result"
    }
   ],
   "source": [
    "# generate values from 5 to 35(included)\n",
    "list(range(5,36))"
   ]
  },
  {
   "cell_type": "code",
   "execution_count": 75,
   "id": "4bb80ecf",
   "metadata": {},
   "outputs": [
    {
     "data": {
      "text/plain": [
       "[2, 4, 6, 8, 10, 12, 14, 16, 18, 20]"
      ]
     },
     "execution_count": 75,
     "metadata": {},
     "output_type": "execute_result"
    }
   ],
   "source": [
    "# generate first 10 even numbers(2,4,6,8,10,12,14,16,18,20)\n",
    "# range(start_num,end_num,step)\n",
    "# end_num not included\n",
    "list(range(2,21,2))"
   ]
  },
  {
   "cell_type": "code",
   "execution_count": 76,
   "id": "a6e9d920",
   "metadata": {},
   "outputs": [
    {
     "data": {
      "text/plain": [
       "[7, 14, 21, 28, 35, 42, 49, 56, 63, 70]"
      ]
     },
     "execution_count": 76,
     "metadata": {},
     "output_type": "execute_result"
    }
   ],
   "source": [
    "# generate first 10 multiples of 7\n",
    "list(range(7,71,7))"
   ]
  },
  {
   "cell_type": "code",
   "execution_count": 77,
   "id": "eb97b69a",
   "metadata": {},
   "outputs": [
    {
     "data": {
      "text/plain": [
       "[1, 3, 5, 7, 9, 11, 13, 15, 17, 19]"
      ]
     },
     "execution_count": 77,
     "metadata": {},
     "output_type": "execute_result"
    }
   ],
   "source": [
    "# generate first 10 odd numbers(1,3,5,7,9,11,13,15,17,19)\n",
    "list(range(1,20,2))\n"
   ]
  },
  {
   "cell_type": "code",
   "execution_count": 78,
   "id": "f56183bf",
   "metadata": {},
   "outputs": [
    {
     "data": {
      "text/plain": [
       "(20, 25, 30, 35, 40, 45, 50)"
      ]
     },
     "execution_count": 78,
     "metadata": {},
     "output_type": "execute_result"
    }
   ],
   "source": [
    "# generate tuple of values like 20 , 25,30,35,40,45,50\n",
    "tuple(range(20,51,5))"
   ]
  },
  {
   "cell_type": "markdown",
   "id": "1ca85a8c",
   "metadata": {},
   "source": [
    "# help"
   ]
  },
  {
   "cell_type": "code",
   "execution_count": 79,
   "id": "73fdbeec",
   "metadata": {},
   "outputs": [
    {
     "name": "stdout",
     "output_type": "stream",
     "text": [
      "Help on built-in function print in module builtins:\n",
      "\n",
      "print(*args, sep=' ', end='\\n', file=None, flush=False)\n",
      "    Prints the values to a stream, or to sys.stdout by default.\n",
      "\n",
      "    sep\n",
      "      string inserted between values, default a space.\n",
      "    end\n",
      "      string appended after the last value, default a newline.\n",
      "    file\n",
      "      a file-like object (stream); defaults to the current sys.stdout.\n",
      "    flush\n",
      "      whether to forcibly flush the stream.\n",
      "\n"
     ]
    }
   ],
   "source": [
    "# eval\n",
    "help(print)"
   ]
  },
  {
   "cell_type": "code",
   "execution_count": 80,
   "id": "29afd1ce",
   "metadata": {},
   "outputs": [
    {
     "name": "stdout",
     "output_type": "stream",
     "text": [
      "Help on method raw_input in module ipykernel.kernelbase:\n",
      "\n",
      "raw_input(prompt='') method of ipykernel.ipkernel.IPythonKernel instance\n",
      "    Forward raw_input to frontends\n",
      "\n",
      "    Raises\n",
      "    ------\n",
      "    StdinNotImplementedError if active frontend doesn't support stdin.\n",
      "\n"
     ]
    }
   ],
   "source": [
    "help(input)"
   ]
  },
  {
   "cell_type": "code",
   "execution_count": 81,
   "id": "dba250e7",
   "metadata": {},
   "outputs": [
    {
     "name": "stdout",
     "output_type": "stream",
     "text": [
      "Help on built-in function sum in module builtins:\n",
      "\n",
      "sum(iterable, /, start=0)\n",
      "    Return the sum of a 'start' value (default: 0) plus an iterable of numbers\n",
      "\n",
      "    When the iterable is empty, return the start value.\n",
      "    This function is intended specifically for use with numeric values and may\n",
      "    reject non-numeric types.\n",
      "\n"
     ]
    }
   ],
   "source": [
    "help(sum)"
   ]
  },
  {
   "cell_type": "code",
   "execution_count": 82,
   "id": "a339ac32",
   "metadata": {},
   "outputs": [
    {
     "name": "stdout",
     "output_type": "stream",
     "text": [
      "Help on class list in module builtins:\n",
      "\n",
      "class list(object)\n",
      " |  list(iterable=(), /)\n",
      " |\n",
      " |  Built-in mutable sequence.\n",
      " |\n",
      " |  If no argument is given, the constructor creates a new empty list.\n",
      " |  The argument must be an iterable if specified.\n",
      " |\n",
      " |  Methods defined here:\n",
      " |\n",
      " |  __add__(self, value, /)\n",
      " |      Return self+value.\n",
      " |\n",
      " |  __contains__(self, key, /)\n",
      " |      Return bool(key in self).\n",
      " |\n",
      " |  __delitem__(self, key, /)\n",
      " |      Delete self[key].\n",
      " |\n",
      " |  __eq__(self, value, /)\n",
      " |      Return self==value.\n",
      " |\n",
      " |  __ge__(self, value, /)\n",
      " |      Return self>=value.\n",
      " |\n",
      " |  __getattribute__(self, name, /)\n",
      " |      Return getattr(self, name).\n",
      " |\n",
      " |  __getitem__(self, index, /)\n",
      " |      Return self[index].\n",
      " |\n",
      " |  __gt__(self, value, /)\n",
      " |      Return self>value.\n",
      " |\n",
      " |  __iadd__(self, value, /)\n",
      " |      Implement self+=value.\n",
      " |\n",
      " |  __imul__(self, value, /)\n",
      " |      Implement self*=value.\n",
      " |\n",
      " |  __init__(self, /, *args, **kwargs)\n",
      " |      Initialize self.  See help(type(self)) for accurate signature.\n",
      " |\n",
      " |  __iter__(self, /)\n",
      " |      Implement iter(self).\n",
      " |\n",
      " |  __le__(self, value, /)\n",
      " |      Return self<=value.\n",
      " |\n",
      " |  __len__(self, /)\n",
      " |      Return len(self).\n",
      " |\n",
      " |  __lt__(self, value, /)\n",
      " |      Return self<value.\n",
      " |\n",
      " |  __mul__(self, value, /)\n",
      " |      Return self*value.\n",
      " |\n",
      " |  __ne__(self, value, /)\n",
      " |      Return self!=value.\n",
      " |\n",
      " |  __repr__(self, /)\n",
      " |      Return repr(self).\n",
      " |\n",
      " |  __reversed__(self, /)\n",
      " |      Return a reverse iterator over the list.\n",
      " |\n",
      " |  __rmul__(self, value, /)\n",
      " |      Return value*self.\n",
      " |\n",
      " |  __setitem__(self, key, value, /)\n",
      " |      Set self[key] to value.\n",
      " |\n",
      " |  __sizeof__(self, /)\n",
      " |      Return the size of the list in memory, in bytes.\n",
      " |\n",
      " |  append(self, object, /)\n",
      " |      Append object to the end of the list.\n",
      " |\n",
      " |  clear(self, /)\n",
      " |      Remove all items from list.\n",
      " |\n",
      " |  copy(self, /)\n",
      " |      Return a shallow copy of the list.\n",
      " |\n",
      " |  count(self, value, /)\n",
      " |      Return number of occurrences of value.\n",
      " |\n",
      " |  extend(self, iterable, /)\n",
      " |      Extend list by appending elements from the iterable.\n",
      " |\n",
      " |  index(self, value, start=0, stop=9223372036854775807, /)\n",
      " |      Return first index of value.\n",
      " |\n",
      " |      Raises ValueError if the value is not present.\n",
      " |\n",
      " |  insert(self, index, object, /)\n",
      " |      Insert object before index.\n",
      " |\n",
      " |  pop(self, index=-1, /)\n",
      " |      Remove and return item at index (default last).\n",
      " |\n",
      " |      Raises IndexError if list is empty or index is out of range.\n",
      " |\n",
      " |  remove(self, value, /)\n",
      " |      Remove first occurrence of value.\n",
      " |\n",
      " |      Raises ValueError if the value is not present.\n",
      " |\n",
      " |  reverse(self, /)\n",
      " |      Reverse *IN PLACE*.\n",
      " |\n",
      " |  sort(self, /, *, key=None, reverse=False)\n",
      " |      Sort the list in ascending order and return None.\n",
      " |\n",
      " |      The sort is in-place (i.e. the list itself is modified) and stable (i.e. the\n",
      " |      order of two equal elements is maintained).\n",
      " |\n",
      " |      If a key function is given, apply it once to each list item and sort them,\n",
      " |      ascending or descending, according to their function values.\n",
      " |\n",
      " |      The reverse flag can be set to sort in descending order.\n",
      " |\n",
      " |  ----------------------------------------------------------------------\n",
      " |  Class methods defined here:\n",
      " |\n",
      " |  __class_getitem__(object, /)\n",
      " |      See PEP 585\n",
      " |\n",
      " |  ----------------------------------------------------------------------\n",
      " |  Static methods defined here:\n",
      " |\n",
      " |  __new__(*args, **kwargs)\n",
      " |      Create and return a new object.  See help(type) for accurate signature.\n",
      " |\n",
      " |  ----------------------------------------------------------------------\n",
      " |  Data and other attributes defined here:\n",
      " |\n",
      " |  __hash__ = None\n",
      "\n"
     ]
    }
   ],
   "source": [
    "help(list)"
   ]
  },
  {
   "cell_type": "code",
   "execution_count": 83,
   "id": "c48970f8",
   "metadata": {},
   "outputs": [
    {
     "name": "stdout",
     "output_type": "stream",
     "text": [
      "Help on class str in module builtins:\n",
      "\n",
      "class str(object)\n",
      " |  str(object='') -> str\n",
      " |  str(bytes_or_buffer[, encoding[, errors]]) -> str\n",
      " |\n",
      " |  Create a new string object from the given object. If encoding or\n",
      " |  errors is specified, then the object must expose a data buffer\n",
      " |  that will be decoded using the given encoding and error handler.\n",
      " |  Otherwise, returns the result of object.__str__() (if defined)\n",
      " |  or repr(object).\n",
      " |  encoding defaults to 'utf-8'.\n",
      " |  errors defaults to 'strict'.\n",
      " |\n",
      " |  Methods defined here:\n",
      " |\n",
      " |  __add__(self, value, /)\n",
      " |      Return self+value.\n",
      " |\n",
      " |  __contains__(self, key, /)\n",
      " |      Return bool(key in self).\n",
      " |\n",
      " |  __eq__(self, value, /)\n",
      " |      Return self==value.\n",
      " |\n",
      " |  __format__(self, format_spec, /)\n",
      " |      Return a formatted version of the string as described by format_spec.\n",
      " |\n",
      " |  __ge__(self, value, /)\n",
      " |      Return self>=value.\n",
      " |\n",
      " |  __getitem__(self, key, /)\n",
      " |      Return self[key].\n",
      " |\n",
      " |  __getnewargs__(self, /)\n",
      " |\n",
      " |  __gt__(self, value, /)\n",
      " |      Return self>value.\n",
      " |\n",
      " |  __hash__(self, /)\n",
      " |      Return hash(self).\n",
      " |\n",
      " |  __iter__(self, /)\n",
      " |      Implement iter(self).\n",
      " |\n",
      " |  __le__(self, value, /)\n",
      " |      Return self<=value.\n",
      " |\n",
      " |  __len__(self, /)\n",
      " |      Return len(self).\n",
      " |\n",
      " |  __lt__(self, value, /)\n",
      " |      Return self<value.\n",
      " |\n",
      " |  __mod__(self, value, /)\n",
      " |      Return self%value.\n",
      " |\n",
      " |  __mul__(self, value, /)\n",
      " |      Return self*value.\n",
      " |\n",
      " |  __ne__(self, value, /)\n",
      " |      Return self!=value.\n",
      " |\n",
      " |  __repr__(self, /)\n",
      " |      Return repr(self).\n",
      " |\n",
      " |  __rmod__(self, value, /)\n",
      " |      Return value%self.\n",
      " |\n",
      " |  __rmul__(self, value, /)\n",
      " |      Return value*self.\n",
      " |\n",
      " |  __sizeof__(self, /)\n",
      " |      Return the size of the string in memory, in bytes.\n",
      " |\n",
      " |  __str__(self, /)\n",
      " |      Return str(self).\n",
      " |\n",
      " |  capitalize(self, /)\n",
      " |      Return a capitalized version of the string.\n",
      " |\n",
      " |      More specifically, make the first character have upper case and the rest lower\n",
      " |      case.\n",
      " |\n",
      " |  casefold(self, /)\n",
      " |      Return a version of the string suitable for caseless comparisons.\n",
      " |\n",
      " |  center(self, width, fillchar=' ', /)\n",
      " |      Return a centered string of length width.\n",
      " |\n",
      " |      Padding is done using the specified fill character (default is a space).\n",
      " |\n",
      " |  count(self, sub[, start[, end]], /)\n",
      " |      Return the number of non-overlapping occurrences of substring sub in string S[start:end].\n",
      " |\n",
      " |      Optional arguments start and end are interpreted as in slice notation.\n",
      " |\n",
      " |  encode(self, /, encoding='utf-8', errors='strict')\n",
      " |      Encode the string using the codec registered for encoding.\n",
      " |\n",
      " |      encoding\n",
      " |        The encoding in which to encode the string.\n",
      " |      errors\n",
      " |        The error handling scheme to use for encoding errors.\n",
      " |        The default is 'strict' meaning that encoding errors raise a\n",
      " |        UnicodeEncodeError.  Other possible values are 'ignore', 'replace' and\n",
      " |        'xmlcharrefreplace' as well as any other name registered with\n",
      " |        codecs.register_error that can handle UnicodeEncodeErrors.\n",
      " |\n",
      " |  endswith(self, suffix[, start[, end]], /)\n",
      " |      Return True if the string ends with the specified suffix, False otherwise.\n",
      " |\n",
      " |      suffix\n",
      " |        A string or a tuple of strings to try.\n",
      " |      start\n",
      " |        Optional start position. Default: start of the string.\n",
      " |      end\n",
      " |        Optional stop position. Default: end of the string.\n",
      " |\n",
      " |  expandtabs(self, /, tabsize=8)\n",
      " |      Return a copy where all tab characters are expanded using spaces.\n",
      " |\n",
      " |      If tabsize is not given, a tab size of 8 characters is assumed.\n",
      " |\n",
      " |  find(self, sub[, start[, end]], /)\n",
      " |      Return the lowest index in S where substring sub is found, such that sub is contained within S[start:end].\n",
      " |\n",
      " |      Optional arguments start and end are interpreted as in slice notation.\n",
      " |      Return -1 on failure.\n",
      " |\n",
      " |  format(self, /, *args, **kwargs)\n",
      " |      Return a formatted version of the string, using substitutions from args and kwargs.\n",
      " |      The substitutions are identified by braces ('{' and '}').\n",
      " |\n",
      " |  format_map(self, mapping, /)\n",
      " |      Return a formatted version of the string, using substitutions from mapping.\n",
      " |      The substitutions are identified by braces ('{' and '}').\n",
      " |\n",
      " |  index(self, sub[, start[, end]], /)\n",
      " |      Return the lowest index in S where substring sub is found, such that sub is contained within S[start:end].\n",
      " |\n",
      " |      Optional arguments start and end are interpreted as in slice notation.\n",
      " |      Raises ValueError when the substring is not found.\n",
      " |\n",
      " |  isalnum(self, /)\n",
      " |      Return True if the string is an alpha-numeric string, False otherwise.\n",
      " |\n",
      " |      A string is alpha-numeric if all characters in the string are alpha-numeric and\n",
      " |      there is at least one character in the string.\n",
      " |\n",
      " |  isalpha(self, /)\n",
      " |      Return True if the string is an alphabetic string, False otherwise.\n",
      " |\n",
      " |      A string is alphabetic if all characters in the string are alphabetic and there\n",
      " |      is at least one character in the string.\n",
      " |\n",
      " |  isascii(self, /)\n",
      " |      Return True if all characters in the string are ASCII, False otherwise.\n",
      " |\n",
      " |      ASCII characters have code points in the range U+0000-U+007F.\n",
      " |      Empty string is ASCII too.\n",
      " |\n",
      " |  isdecimal(self, /)\n",
      " |      Return True if the string is a decimal string, False otherwise.\n",
      " |\n",
      " |      A string is a decimal string if all characters in the string are decimal and\n",
      " |      there is at least one character in the string.\n",
      " |\n",
      " |  isdigit(self, /)\n",
      " |      Return True if the string is a digit string, False otherwise.\n",
      " |\n",
      " |      A string is a digit string if all characters in the string are digits and there\n",
      " |      is at least one character in the string.\n",
      " |\n",
      " |  isidentifier(self, /)\n",
      " |      Return True if the string is a valid Python identifier, False otherwise.\n",
      " |\n",
      " |      Call keyword.iskeyword(s) to test whether string s is a reserved identifier,\n",
      " |      such as \"def\" or \"class\".\n",
      " |\n",
      " |  islower(self, /)\n",
      " |      Return True if the string is a lowercase string, False otherwise.\n",
      " |\n",
      " |      A string is lowercase if all cased characters in the string are lowercase and\n",
      " |      there is at least one cased character in the string.\n",
      " |\n",
      " |  isnumeric(self, /)\n",
      " |      Return True if the string is a numeric string, False otherwise.\n",
      " |\n",
      " |      A string is numeric if all characters in the string are numeric and there is at\n",
      " |      least one character in the string.\n",
      " |\n",
      " |  isprintable(self, /)\n",
      " |      Return True if all characters in the string are printable, False otherwise.\n",
      " |\n",
      " |      A character is printable if repr() may use it in its output.\n",
      " |\n",
      " |  isspace(self, /)\n",
      " |      Return True if the string is a whitespace string, False otherwise.\n",
      " |\n",
      " |      A string is whitespace if all characters in the string are whitespace and there\n",
      " |      is at least one character in the string.\n",
      " |\n",
      " |  istitle(self, /)\n",
      " |      Return True if the string is a title-cased string, False otherwise.\n",
      " |\n",
      " |      In a title-cased string, upper- and title-case characters may only\n",
      " |      follow uncased characters and lowercase characters only cased ones.\n",
      " |\n",
      " |  isupper(self, /)\n",
      " |      Return True if the string is an uppercase string, False otherwise.\n",
      " |\n",
      " |      A string is uppercase if all cased characters in the string are uppercase and\n",
      " |      there is at least one cased character in the string.\n",
      " |\n",
      " |  join(self, iterable, /)\n",
      " |      Concatenate any number of strings.\n",
      " |\n",
      " |      The string whose method is called is inserted in between each given string.\n",
      " |      The result is returned as a new string.\n",
      " |\n",
      " |      Example: '.'.join(['ab', 'pq', 'rs']) -> 'ab.pq.rs'\n",
      " |\n",
      " |  ljust(self, width, fillchar=' ', /)\n",
      " |      Return a left-justified string of length width.\n",
      " |\n",
      " |      Padding is done using the specified fill character (default is a space).\n",
      " |\n",
      " |  lower(self, /)\n",
      " |      Return a copy of the string converted to lowercase.\n",
      " |\n",
      " |  lstrip(self, chars=None, /)\n",
      " |      Return a copy of the string with leading whitespace removed.\n",
      " |\n",
      " |      If chars is given and not None, remove characters in chars instead.\n",
      " |\n",
      " |  partition(self, sep, /)\n",
      " |      Partition the string into three parts using the given separator.\n",
      " |\n",
      " |      This will search for the separator in the string.  If the separator is found,\n",
      " |      returns a 3-tuple containing the part before the separator, the separator\n",
      " |      itself, and the part after it.\n",
      " |\n",
      " |      If the separator is not found, returns a 3-tuple containing the original string\n",
      " |      and two empty strings.\n",
      " |\n",
      " |  removeprefix(self, prefix, /)\n",
      " |      Return a str with the given prefix string removed if present.\n",
      " |\n",
      " |      If the string starts with the prefix string, return string[len(prefix):].\n",
      " |      Otherwise, return a copy of the original string.\n",
      " |\n",
      " |  removesuffix(self, suffix, /)\n",
      " |      Return a str with the given suffix string removed if present.\n",
      " |\n",
      " |      If the string ends with the suffix string and that suffix is not empty,\n",
      " |      return string[:-len(suffix)]. Otherwise, return a copy of the original\n",
      " |      string.\n",
      " |\n",
      " |  replace(self, old, new, /, count=-1)\n",
      " |      Return a copy with all occurrences of substring old replaced by new.\n",
      " |\n",
      " |        count\n",
      " |          Maximum number of occurrences to replace.\n",
      " |          -1 (the default value) means replace all occurrences.\n",
      " |\n",
      " |      If the optional argument count is given, only the first count occurrences are\n",
      " |      replaced.\n",
      " |\n",
      " |  rfind(self, sub[, start[, end]], /)\n",
      " |      Return the highest index in S where substring sub is found, such that sub is contained within S[start:end].\n",
      " |\n",
      " |      Optional arguments start and end are interpreted as in slice notation.\n",
      " |      Return -1 on failure.\n",
      " |\n",
      " |  rindex(self, sub[, start[, end]], /)\n",
      " |      Return the highest index in S where substring sub is found, such that sub is contained within S[start:end].\n",
      " |\n",
      " |      Optional arguments start and end are interpreted as in slice notation.\n",
      " |      Raises ValueError when the substring is not found.\n",
      " |\n",
      " |  rjust(self, width, fillchar=' ', /)\n",
      " |      Return a right-justified string of length width.\n",
      " |\n",
      " |      Padding is done using the specified fill character (default is a space).\n",
      " |\n",
      " |  rpartition(self, sep, /)\n",
      " |      Partition the string into three parts using the given separator.\n",
      " |\n",
      " |      This will search for the separator in the string, starting at the end. If\n",
      " |      the separator is found, returns a 3-tuple containing the part before the\n",
      " |      separator, the separator itself, and the part after it.\n",
      " |\n",
      " |      If the separator is not found, returns a 3-tuple containing two empty strings\n",
      " |      and the original string.\n",
      " |\n",
      " |  rsplit(self, /, sep=None, maxsplit=-1)\n",
      " |      Return a list of the substrings in the string, using sep as the separator string.\n",
      " |\n",
      " |        sep\n",
      " |          The separator used to split the string.\n",
      " |\n",
      " |          When set to None (the default value), will split on any whitespace\n",
      " |          character (including \\n \\r \\t \\f and spaces) and will discard\n",
      " |          empty strings from the result.\n",
      " |        maxsplit\n",
      " |          Maximum number of splits.\n",
      " |          -1 (the default value) means no limit.\n",
      " |\n",
      " |      Splitting starts at the end of the string and works to the front.\n",
      " |\n",
      " |  rstrip(self, chars=None, /)\n",
      " |      Return a copy of the string with trailing whitespace removed.\n",
      " |\n",
      " |      If chars is given and not None, remove characters in chars instead.\n",
      " |\n",
      " |  split(self, /, sep=None, maxsplit=-1)\n",
      " |      Return a list of the substrings in the string, using sep as the separator string.\n",
      " |\n",
      " |        sep\n",
      " |          The separator used to split the string.\n",
      " |\n",
      " |          When set to None (the default value), will split on any whitespace\n",
      " |          character (including \\n \\r \\t \\f and spaces) and will discard\n",
      " |          empty strings from the result.\n",
      " |        maxsplit\n",
      " |          Maximum number of splits.\n",
      " |          -1 (the default value) means no limit.\n",
      " |\n",
      " |      Splitting starts at the front of the string and works to the end.\n",
      " |\n",
      " |      Note, str.split() is mainly useful for data that has been intentionally\n",
      " |      delimited.  With natural text that includes punctuation, consider using\n",
      " |      the regular expression module.\n",
      " |\n",
      " |  splitlines(self, /, keepends=False)\n",
      " |      Return a list of the lines in the string, breaking at line boundaries.\n",
      " |\n",
      " |      Line breaks are not included in the resulting list unless keepends is given and\n",
      " |      true.\n",
      " |\n",
      " |  startswith(self, prefix[, start[, end]], /)\n",
      " |      Return True if the string starts with the specified prefix, False otherwise.\n",
      " |\n",
      " |      prefix\n",
      " |        A string or a tuple of strings to try.\n",
      " |      start\n",
      " |        Optional start position. Default: start of the string.\n",
      " |      end\n",
      " |        Optional stop position. Default: end of the string.\n",
      " |\n",
      " |  strip(self, chars=None, /)\n",
      " |      Return a copy of the string with leading and trailing whitespace removed.\n",
      " |\n",
      " |      If chars is given and not None, remove characters in chars instead.\n",
      " |\n",
      " |  swapcase(self, /)\n",
      " |      Convert uppercase characters to lowercase and lowercase characters to uppercase.\n",
      " |\n",
      " |  title(self, /)\n",
      " |      Return a version of the string where each word is titlecased.\n",
      " |\n",
      " |      More specifically, words start with uppercased characters and all remaining\n",
      " |      cased characters have lower case.\n",
      " |\n",
      " |  translate(self, table, /)\n",
      " |      Replace each character in the string using the given translation table.\n",
      " |\n",
      " |        table\n",
      " |          Translation table, which must be a mapping of Unicode ordinals to\n",
      " |          Unicode ordinals, strings, or None.\n",
      " |\n",
      " |      The table must implement lookup/indexing via __getitem__, for instance a\n",
      " |      dictionary or list.  If this operation raises LookupError, the character is\n",
      " |      left untouched.  Characters mapped to None are deleted.\n",
      " |\n",
      " |  upper(self, /)\n",
      " |      Return a copy of the string converted to uppercase.\n",
      " |\n",
      " |  zfill(self, width, /)\n",
      " |      Pad a numeric string with zeros on the left, to fill a field of the given width.\n",
      " |\n",
      " |      The string is never truncated.\n",
      " |\n",
      " |  ----------------------------------------------------------------------\n",
      " |  Static methods defined here:\n",
      " |\n",
      " |  __new__(*args, **kwargs)\n",
      " |      Create and return a new object.  See help(type) for accurate signature.\n",
      " |\n",
      " |  maketrans(x, y=<unrepresentable>, z=<unrepresentable>, /)\n",
      " |      Return a translation table usable for str.translate().\n",
      " |\n",
      " |      If there is only one argument, it must be a dictionary mapping Unicode\n",
      " |      ordinals (integers) or characters to Unicode ordinals, strings or None.\n",
      " |      Character keys will be then converted to ordinals.\n",
      " |      If there are two arguments, they must be strings of equal length, and\n",
      " |      in the resulting dictionary, each character in x will be mapped to the\n",
      " |      character at the same position in y. If there is a third argument, it\n",
      " |      must be a string, whose characters will be mapped to None in the result.\n",
      "\n"
     ]
    }
   ],
   "source": [
    "help(str)"
   ]
  },
  {
   "cell_type": "code",
   "execution_count": 84,
   "id": "30621f71",
   "metadata": {},
   "outputs": [
    {
     "name": "stdout",
     "output_type": "stream",
     "text": [
      "Help on bool object:\n",
      "\n",
      "class bool(int)\n",
      " |  bool(object=False, /)\n",
      " |\n",
      " |  Returns True when the argument is true, False otherwise.\n",
      " |  The builtins True and False are the only two instances of the class bool.\n",
      " |  The class bool is a subclass of the class int, and cannot be subclassed.\n",
      " |\n",
      " |  Method resolution order:\n",
      " |      bool\n",
      " |      int\n",
      " |      object\n",
      " |\n",
      " |  Methods defined here:\n",
      " |\n",
      " |  __and__(self, value, /)\n",
      " |      Return self&value.\n",
      " |\n",
      " |  __invert__(self, /)\n",
      " |      ~self\n",
      " |\n",
      " |  __or__(self, value, /)\n",
      " |      Return self|value.\n",
      " |\n",
      " |  __rand__(self, value, /)\n",
      " |      Return value&self.\n",
      " |\n",
      " |  __repr__(self, /)\n",
      " |      Return repr(self).\n",
      " |\n",
      " |  __ror__(self, value, /)\n",
      " |      Return value|self.\n",
      " |\n",
      " |  __rxor__(self, value, /)\n",
      " |      Return value^self.\n",
      " |\n",
      " |  __xor__(self, value, /)\n",
      " |      Return self^value.\n",
      " |\n",
      " |  ----------------------------------------------------------------------\n",
      " |  Static methods defined here:\n",
      " |\n",
      " |  __new__(*args, **kwargs)\n",
      " |      Create and return a new object.  See help(type) for accurate signature.\n",
      " |\n",
      " |  ----------------------------------------------------------------------\n",
      " |  Methods inherited from int:\n",
      " |\n",
      " |  __abs__(self, /)\n",
      " |      abs(self)\n",
      " |\n",
      " |  __add__(self, value, /)\n",
      " |      Return self+value.\n",
      " |\n",
      " |  __bool__(self, /)\n",
      " |      True if self else False\n",
      " |\n",
      " |  __ceil__(self, /)\n",
      " |      Ceiling of an Integral returns itself.\n",
      " |\n",
      " |  __divmod__(self, value, /)\n",
      " |      Return divmod(self, value).\n",
      " |\n",
      " |  __eq__(self, value, /)\n",
      " |      Return self==value.\n",
      " |\n",
      " |  __float__(self, /)\n",
      " |      float(self)\n",
      " |\n",
      " |  __floor__(self, /)\n",
      " |      Flooring an Integral returns itself.\n",
      " |\n",
      " |  __floordiv__(self, value, /)\n",
      " |      Return self//value.\n",
      " |\n",
      " |  __format__(self, format_spec, /)\n",
      " |      Convert to a string according to format_spec.\n",
      " |\n",
      " |  __ge__(self, value, /)\n",
      " |      Return self>=value.\n",
      " |\n",
      " |  __getattribute__(self, name, /)\n",
      " |      Return getattr(self, name).\n",
      " |\n",
      " |  __getnewargs__(self, /)\n",
      " |\n",
      " |  __gt__(self, value, /)\n",
      " |      Return self>value.\n",
      " |\n",
      " |  __hash__(self, /)\n",
      " |      Return hash(self).\n",
      " |\n",
      " |  __index__(self, /)\n",
      " |      Return self converted to an integer, if self is suitable for use as an index into a list.\n",
      " |\n",
      " |  __int__(self, /)\n",
      " |      int(self)\n",
      " |\n",
      " |  __le__(self, value, /)\n",
      " |      Return self<=value.\n",
      " |\n",
      " |  __lshift__(self, value, /)\n",
      " |      Return self<<value.\n",
      " |\n",
      " |  __lt__(self, value, /)\n",
      " |      Return self<value.\n",
      " |\n",
      " |  __mod__(self, value, /)\n",
      " |      Return self%value.\n",
      " |\n",
      " |  __mul__(self, value, /)\n",
      " |      Return self*value.\n",
      " |\n",
      " |  __ne__(self, value, /)\n",
      " |      Return self!=value.\n",
      " |\n",
      " |  __neg__(self, /)\n",
      " |      -self\n",
      " |\n",
      " |  __pos__(self, /)\n",
      " |      +self\n",
      " |\n",
      " |  __pow__(self, value, mod=None, /)\n",
      " |      Return pow(self, value, mod).\n",
      " |\n",
      " |  __radd__(self, value, /)\n",
      " |      Return value+self.\n",
      " |\n",
      " |  __rdivmod__(self, value, /)\n",
      " |      Return divmod(value, self).\n",
      " |\n",
      " |  __rfloordiv__(self, value, /)\n",
      " |      Return value//self.\n",
      " |\n",
      " |  __rlshift__(self, value, /)\n",
      " |      Return value<<self.\n",
      " |\n",
      " |  __rmod__(self, value, /)\n",
      " |      Return value%self.\n",
      " |\n",
      " |  __rmul__(self, value, /)\n",
      " |      Return value*self.\n",
      " |\n",
      " |  __round__(self, ndigits=<unrepresentable>, /)\n",
      " |      Rounding an Integral returns itself.\n",
      " |\n",
      " |      Rounding with an ndigits argument also returns an integer.\n",
      " |\n",
      " |  __rpow__(self, value, mod=None, /)\n",
      " |      Return pow(value, self, mod).\n",
      " |\n",
      " |  __rrshift__(self, value, /)\n",
      " |      Return value>>self.\n",
      " |\n",
      " |  __rshift__(self, value, /)\n",
      " |      Return self>>value.\n",
      " |\n",
      " |  __rsub__(self, value, /)\n",
      " |      Return value-self.\n",
      " |\n",
      " |  __rtruediv__(self, value, /)\n",
      " |      Return value/self.\n",
      " |\n",
      " |  __sizeof__(self, /)\n",
      " |      Returns size in memory, in bytes.\n",
      " |\n",
      " |  __sub__(self, value, /)\n",
      " |      Return self-value.\n",
      " |\n",
      " |  __truediv__(self, value, /)\n",
      " |      Return self/value.\n",
      " |\n",
      " |  __trunc__(self, /)\n",
      " |      Truncating an Integral returns itself.\n",
      " |\n",
      " |  as_integer_ratio(self, /)\n",
      " |      Return a pair of integers, whose ratio is equal to the original int.\n",
      " |\n",
      " |      The ratio is in lowest terms and has a positive denominator.\n",
      " |\n",
      " |      >>> (10).as_integer_ratio()\n",
      " |      (10, 1)\n",
      " |      >>> (-10).as_integer_ratio()\n",
      " |      (-10, 1)\n",
      " |      >>> (0).as_integer_ratio()\n",
      " |      (0, 1)\n",
      " |\n",
      " |  bit_count(self, /)\n",
      " |      Number of ones in the binary representation of the absolute value of self.\n",
      " |\n",
      " |      Also known as the population count.\n",
      " |\n",
      " |      >>> bin(13)\n",
      " |      '0b1101'\n",
      " |      >>> (13).bit_count()\n",
      " |      3\n",
      " |\n",
      " |  bit_length(self, /)\n",
      " |      Number of bits necessary to represent self in binary.\n",
      " |\n",
      " |      >>> bin(37)\n",
      " |      '0b100101'\n",
      " |      >>> (37).bit_length()\n",
      " |      6\n",
      " |\n",
      " |  conjugate(self, /)\n",
      " |      Returns self, the complex conjugate of any int.\n",
      " |\n",
      " |  is_integer(self, /)\n",
      " |      Returns True. Exists for duck type compatibility with float.is_integer.\n",
      " |\n",
      " |  to_bytes(self, /, length=1, byteorder='big', *, signed=False)\n",
      " |      Return an array of bytes representing an integer.\n",
      " |\n",
      " |      length\n",
      " |        Length of bytes object to use.  An OverflowError is raised if the\n",
      " |        integer is not representable with the given number of bytes.  Default\n",
      " |        is length 1.\n",
      " |      byteorder\n",
      " |        The byte order used to represent the integer.  If byteorder is 'big',\n",
      " |        the most significant byte is at the beginning of the byte array.  If\n",
      " |        byteorder is 'little', the most significant byte is at the end of the\n",
      " |        byte array.  To request the native byte order of the host system, use\n",
      " |        sys.byteorder as the byte order value.  Default is to use 'big'.\n",
      " |      signed\n",
      " |        Determines whether two's complement is used to represent the integer.\n",
      " |        If signed is False and a negative integer is given, an OverflowError\n",
      " |        is raised.\n",
      " |\n",
      " |  ----------------------------------------------------------------------\n",
      " |  Class methods inherited from int:\n",
      " |\n",
      " |  from_bytes(bytes, byteorder='big', *, signed=False)\n",
      " |      Return the integer represented by the given array of bytes.\n",
      " |\n",
      " |      bytes\n",
      " |        Holds the array of bytes to convert.  The argument must either\n",
      " |        support the buffer protocol or be an iterable object producing bytes.\n",
      " |        Bytes and bytearray are examples of built-in objects that support the\n",
      " |        buffer protocol.\n",
      " |      byteorder\n",
      " |        The byte order used to represent the integer.  If byteorder is 'big',\n",
      " |        the most significant byte is at the beginning of the byte array.  If\n",
      " |        byteorder is 'little', the most significant byte is at the end of the\n",
      " |        byte array.  To request the native byte order of the host system, use\n",
      " |        sys.byteorder as the byte order value.  Default is to use 'big'.\n",
      " |      signed\n",
      " |        Indicates whether two's complement is used to represent the integer.\n",
      " |\n",
      " |  ----------------------------------------------------------------------\n",
      " |  Data descriptors inherited from int:\n",
      " |\n",
      " |  denominator\n",
      " |      the denominator of a rational number in lowest terms\n",
      " |\n",
      " |  imag\n",
      " |      the imaginary part of a complex number\n",
      " |\n",
      " |  numerator\n",
      " |      the numerator of a rational number in lowest terms\n",
      " |\n",
      " |  real\n",
      " |      the real part of a complex number\n",
      "\n"
     ]
    }
   ],
   "source": [
    "help(True)"
   ]
  },
  {
   "cell_type": "markdown",
   "id": "784bc0e5",
   "metadata": {},
   "source": [
    "# exec\n",
    "It is used to execute the expression"
   ]
  },
  {
   "cell_type": "code",
   "execution_count": 85,
   "id": "86a3cdc0",
   "metadata": {},
   "outputs": [
    {
     "name": "stdout",
     "output_type": "stream",
     "text": [
      "30\n"
     ]
    }
   ],
   "source": [
    "a = 10\n",
    "b = 20\n",
    "print(a+b)"
   ]
  },
  {
   "cell_type": "code",
   "execution_count": 86,
   "id": "f9bdbe73",
   "metadata": {},
   "outputs": [
    {
     "name": "stdout",
     "output_type": "stream",
     "text": [
      "30\n"
     ]
    }
   ],
   "source": [
    "exec(\"a=10 \\nb=20 \\nprint(a+b)\")\n",
    "# \\n : new line"
   ]
  },
  {
   "cell_type": "code",
   "execution_count": 87,
   "id": "c58408d7",
   "metadata": {},
   "outputs": [
    {
     "name": "stdout",
     "output_type": "stream",
     "text": [
      "10\n"
     ]
    }
   ],
   "source": [
    "A=[1,2,3,4]\n",
    "print(sum(A))"
   ]
  },
  {
   "cell_type": "code",
   "execution_count": 88,
   "id": "b3ce4276",
   "metadata": {},
   "outputs": [
    {
     "name": "stdout",
     "output_type": "stream",
     "text": [
      "10\n"
     ]
    }
   ],
   "source": [
    "exec(\"A=[1,2,3,4] \\nprint(sum(A))\")"
   ]
  },
  {
   "cell_type": "code",
   "execution_count": 89,
   "id": "a431ab05",
   "metadata": {},
   "outputs": [
    {
     "name": "stdout",
     "output_type": "stream",
     "text": [
      "10\n",
      "40\n"
     ]
    }
   ],
   "source": [
    "A =[10,20,30,40]\n",
    "print(min(A))\n",
    "print(max(A))"
   ]
  },
  {
   "cell_type": "code",
   "execution_count": 90,
   "id": "0f3a86d4",
   "metadata": {},
   "outputs": [
    {
     "name": "stdout",
     "output_type": "stream",
     "text": [
      "10\n",
      "40\n"
     ]
    }
   ],
   "source": [
    "exec(\"A=[10,20,30,40] \\nprint(min(A)) \\nprint(max(A))\")"
   ]
  },
  {
   "cell_type": "markdown",
   "id": "345114db",
   "metadata": {},
   "source": [
    "\n",
    "# zip\n",
    "It is used to combine elements of two objects(list,tuple)."
   ]
  },
  {
   "cell_type": "code",
   "execution_count": 91,
   "id": "c70e9851",
   "metadata": {},
   "outputs": [
    {
     "data": {
      "text/plain": [
       "[(1, 'a'), (2, 'b'), (3, 'c'), (4, 'd')]"
      ]
     },
     "execution_count": 91,
     "metadata": {},
     "output_type": "execute_result"
    }
   ],
   "source": [
    "A =[1,2,3,4]\n",
    "B = ['a','b','c','d']\n",
    "list(zip(A,B))"
   ]
  },
  {
   "cell_type": "code",
   "execution_count": 92,
   "id": "45caa863",
   "metadata": {},
   "outputs": [
    {
     "data": {
      "text/plain": [
       "[('name', 'Jeevitha'), ('Age', 30)]"
      ]
     },
     "execution_count": 92,
     "metadata": {},
     "output_type": "execute_result"
    }
   ],
   "source": [
    "X = ['name','Age']\n",
    "Y = ['Jeevitha',30]\n",
    "list(zip(X,Y))"
   ]
  },
  {
   "cell_type": "code",
   "execution_count": 93,
   "id": "3f039dd8",
   "metadata": {},
   "outputs": [
    {
     "data": {
      "text/plain": [
       "[('name', 'Jeevitha', 'Female'), ('Age', 30, True)]"
      ]
     },
     "execution_count": 93,
     "metadata": {},
     "output_type": "execute_result"
    }
   ],
   "source": [
    "x = ('name','Age')\n",
    "y = ('Jeevitha',30)\n",
    "z = ('Female',True) \n",
    "list(zip(x,y,z))"
   ]
  },
  {
   "cell_type": "code",
   "execution_count": 94,
   "id": "5aadadc8",
   "metadata": {},
   "outputs": [
    {
     "data": {
      "text/plain": [
       "(('name', 'Jeevitha'), ('Age', 30))"
      ]
     },
     "execution_count": 94,
     "metadata": {},
     "output_type": "execute_result"
    }
   ],
   "source": [
    "tuple(zip(X,Y))"
   ]
  },
  {
   "cell_type": "code",
   "execution_count": 96,
   "id": "56c9e5b5",
   "metadata": {},
   "outputs": [
    {
     "data": {
      "text/plain": [
       "(('name', 'Jeevitha'), ('Age', 30))"
      ]
     },
     "execution_count": 96,
     "metadata": {},
     "output_type": "execute_result"
    }
   ],
   "source": [
    "tuple(zip(X,Y))"
   ]
  },
  {
   "cell_type": "code",
   "execution_count": 97,
   "id": "5b44fa8a",
   "metadata": {},
   "outputs": [
    {
     "data": {
      "text/plain": [
       "{'name': 'Jeevitha', 'Age': 30}"
      ]
     },
     "execution_count": 97,
     "metadata": {},
     "output_type": "execute_result"
    }
   ],
   "source": [
    "dict(zip(X,Y))"
   ]
  },
  {
   "cell_type": "code",
   "execution_count": 98,
   "id": "3780f1b1",
   "metadata": {},
   "outputs": [
    {
     "data": {
      "text/plain": [
       "[('name', 'Jeevitha')]"
      ]
     },
     "execution_count": 98,
     "metadata": {},
     "output_type": "execute_result"
    }
   ],
   "source": [
    "X = ['name','Age']\n",
    "Y = ['Jeevitha']\n",
    "list(zip(X,Y))"
   ]
  },
  {
   "cell_type": "code",
   "execution_count": 99,
   "id": "cbdc4c1f",
   "metadata": {},
   "outputs": [
    {
     "data": {
      "text/plain": [
       "[('a', 'b')]"
      ]
     },
     "execution_count": 99,
     "metadata": {},
     "output_type": "execute_result"
    }
   ],
   "source": [
    "x='a'\n",
    "y='b'\n",
    "list(zip(x,y))"
   ]
  },
  {
   "cell_type": "code",
   "execution_count": 100,
   "id": "b22c584b",
   "metadata": {},
   "outputs": [
    {
     "data": {
      "text/plain": [
       "{('a', 'b')}"
      ]
     },
     "execution_count": 100,
     "metadata": {},
     "output_type": "execute_result"
    }
   ],
   "source": [
    "x='a'\n",
    "y='b'\n",
    "set(zip(x,y))"
   ]
  },
  {
   "cell_type": "code",
   "execution_count": 101,
   "id": "894dec3b",
   "metadata": {},
   "outputs": [
    {
     "data": {
      "text/plain": [
       "[(1, 'a'), (2, 'b'), (3, 'c')]"
      ]
     },
     "execution_count": 101,
     "metadata": {},
     "output_type": "execute_result"
    }
   ],
   "source": [
    "A =[1,2,3]\n",
    "B=['a','b','c','d']\n",
    "list(zip(A,B))"
   ]
  },
  {
   "cell_type": "code",
   "execution_count": 102,
   "id": "44063d02",
   "metadata": {},
   "outputs": [
    {
     "data": {
      "text/plain": [
       "[('a', 1), ('b', 2), ('c', 3)]"
      ]
     },
     "execution_count": 102,
     "metadata": {},
     "output_type": "execute_result"
    }
   ],
   "source": [
    "A =[1,2,3]\n",
    "B=['a','b','c','d']\n",
    "list(zip(B,A))"
   ]
  },
  {
   "cell_type": "code",
   "execution_count": 103,
   "id": "8c2a963e",
   "metadata": {},
   "outputs": [
    {
     "name": "stdout",
     "output_type": "stream",
     "text": [
      "[(1, 'a'), (2, 'b'), (3, 'c')]\n"
     ]
    }
   ],
   "source": [
    "print(list(zip(A,B)))"
   ]
  },
  {
   "cell_type": "code",
   "execution_count": 104,
   "id": "03727043",
   "metadata": {},
   "outputs": [
    {
     "name": "stdout",
     "output_type": "stream",
     "text": [
      "2+3**2+1000\n",
      "1011\n"
     ]
    }
   ],
   "source": [
    "# eval: Used to evaluate the string expression\n",
    "A = \"2+3**2+1000\"\n",
    "print(A)\n",
    "print(eval(A))"
   ]
  },
  {
   "cell_type": "code",
   "execution_count": 105,
   "id": "3edff9ce",
   "metadata": {},
   "outputs": [
    {
     "name": "stdout",
     "output_type": "stream",
     "text": [
      "2+3**2+1000\n",
      "1011\n"
     ]
    }
   ],
   "source": [
    "print(A)\n",
    "print(2+3**2+1000)"
   ]
  },
  {
   "cell_type": "code",
   "execution_count": 106,
   "id": "e289863c",
   "metadata": {},
   "outputs": [
    {
     "name": "stdout",
     "output_type": "stream",
     "text": [
      "1011\n"
     ]
    }
   ],
   "source": [
    "print(eval(A))"
   ]
  },
  {
   "cell_type": "code",
   "execution_count": 107,
   "id": "77ea5e85",
   "metadata": {},
   "outputs": [
    {
     "name": "stdout",
     "output_type": "stream",
     "text": [
      "1011\n"
     ]
    }
   ],
   "source": [
    "A = 2+3**2+1000\n",
    "print(A)"
   ]
  },
  {
   "cell_type": "markdown",
   "id": "7b34063c",
   "metadata": {},
   "source": [
    "# Nested list\n",
    "list within list"
   ]
  },
  {
   "cell_type": "code",
   "execution_count": 108,
   "id": "ad9423f9",
   "metadata": {},
   "outputs": [
    {
     "name": "stdout",
     "output_type": "stream",
     "text": [
      "[[1, 2], [3.4, 5.6], [True, False], ['sql', 'python']]\n"
     ]
    }
   ],
   "source": [
    "A =[[1,2],[3.4,5.6],[True,False],['sql','python']]\n",
    "print(A)"
   ]
  },
  {
   "cell_type": "markdown",
   "id": "3eab6ef6",
   "metadata": {},
   "source": [
    "# Nested tuple\n",
    "tuple within tuple"
   ]
  },
  {
   "cell_type": "code",
   "execution_count": 109,
   "id": "e13b6395",
   "metadata": {},
   "outputs": [
    {
     "name": "stdout",
     "output_type": "stream",
     "text": [
      "((1, 2), (3, 4, (True, False)))\n"
     ]
    }
   ],
   "source": [
    "B = ((1,2),(3,4,(True,False)))\n",
    "print(B)"
   ]
  },
  {
   "cell_type": "markdown",
   "id": "2d269270",
   "metadata": {},
   "source": [
    "# Nested dict"
   ]
  },
  {
   "cell_type": "code",
   "execution_count": 110,
   "id": "5bfcd62a",
   "metadata": {},
   "outputs": [
    {
     "name": "stdout",
     "output_type": "stream",
     "text": [
      "{'classA': {'name': 'Satvik'}, 'classB': {'name': 'Arya'}}\n"
     ]
    }
   ],
   "source": [
    "C = {'classA':{'name':'Satvik'},'classB':{'name':'Arya'}}\n",
    "print(C)"
   ]
  },
  {
   "cell_type": "code",
   "execution_count": 111,
   "id": "839230a5",
   "metadata": {},
   "outputs": [
    {
     "name": "stdout",
     "output_type": "stream",
     "text": [
      "[[1, 2], [3.4, 5.6], [True, False], ['sql', 'python']]\n"
     ]
    }
   ],
   "source": [
    "A =[[1,2],[3.4,5.6],[True,False],['sql','python']]\n",
    "print(A)"
   ]
  },
  {
   "cell_type": "code",
   "execution_count": 112,
   "id": "5df7ed0a",
   "metadata": {},
   "outputs": [
    {
     "data": {
      "text/plain": [
       "True"
      ]
     },
     "execution_count": 112,
     "metadata": {},
     "output_type": "execute_result"
    }
   ],
   "source": [
    "# fetch True\n",
    "A[2][0]"
   ]
  },
  {
   "cell_type": "code",
   "execution_count": 113,
   "id": "16ebb59f",
   "metadata": {},
   "outputs": [
    {
     "data": {
      "text/plain": [
       "'python'"
      ]
     },
     "execution_count": 113,
     "metadata": {},
     "output_type": "execute_result"
    }
   ],
   "source": [
    "# fetch python\n",
    "A[3][1]"
   ]
  },
  {
   "cell_type": "code",
   "execution_count": 115,
   "id": "272816df",
   "metadata": {},
   "outputs": [
    {
     "data": {
      "text/plain": [
       "False"
      ]
     },
     "execution_count": 115,
     "metadata": {},
     "output_type": "execute_result"
    }
   ],
   "source": [
    "# fetch false\n",
    "A[2][1]"
   ]
  },
  {
   "cell_type": "code",
   "execution_count": 116,
   "id": "7c18717a",
   "metadata": {},
   "outputs": [
    {
     "data": {
      "text/plain": [
       "True"
      ]
     },
     "execution_count": 116,
     "metadata": {},
     "output_type": "execute_result"
    }
   ],
   "source": [
    "# fetch True\n",
    "A[2][0]"
   ]
  },
  {
   "cell_type": "code",
   "execution_count": 117,
   "id": "6495311a",
   "metadata": {},
   "outputs": [
    {
     "data": {
      "text/plain": [
       "'python'"
      ]
     },
     "execution_count": 117,
     "metadata": {},
     "output_type": "execute_result"
    }
   ],
   "source": [
    "#fetch python\n",
    "A[-1][1]"
   ]
  },
  {
   "cell_type": "code",
   "execution_count": 118,
   "id": "853c7f98",
   "metadata": {},
   "outputs": [
    {
     "data": {
      "text/plain": [
       "'python'"
      ]
     },
     "execution_count": 118,
     "metadata": {},
     "output_type": "execute_result"
    }
   ],
   "source": [
    "A[3][1]"
   ]
  },
  {
   "cell_type": "markdown",
   "id": "1f699de0",
   "metadata": {},
   "source": [
    "# Methods\n",
    "👉 Methods are like special tools that come with an object, like a string or a list. They are specific to that object, and you use them by putting a dot . after the object's name. For example, \"hello\".upper() is a method that makes the string all uppercase."
   ]
  },
  {
   "cell_type": "code",
   "execution_count": 119,
   "id": "6132bd02",
   "metadata": {},
   "outputs": [
    {
     "data": {
      "text/plain": [
       "6"
      ]
     },
     "execution_count": 119,
     "metadata": {},
     "output_type": "execute_result"
    }
   ],
   "source": [
    "A = 'python'\n",
    "len(A)"
   ]
  },
  {
   "cell_type": "code",
   "execution_count": 120,
   "id": "9f81729f",
   "metadata": {},
   "outputs": [
    {
     "data": {
      "text/plain": [
       "'PYTHON'"
      ]
     },
     "execution_count": 120,
     "metadata": {},
     "output_type": "execute_result"
    }
   ],
   "source": [
    "A.upper()"
   ]
  },
  {
   "cell_type": "code",
   "execution_count": 121,
   "id": "7c4b8bbd",
   "metadata": {},
   "outputs": [
    {
     "data": {
      "text/plain": [
       "'python'"
      ]
     },
     "execution_count": 121,
     "metadata": {},
     "output_type": "execute_result"
    }
   ],
   "source": [
    "A.lower()"
   ]
  },
  {
   "cell_type": "code",
   "execution_count": 122,
   "id": "1b36d0d0",
   "metadata": {},
   "outputs": [
    {
     "data": {
      "text/plain": [
       "'HELLO WORLD'"
      ]
     },
     "execution_count": 122,
     "metadata": {},
     "output_type": "execute_result"
    }
   ],
   "source": [
    "\"hello world\".upper()"
   ]
  },
  {
   "cell_type": "markdown",
   "id": "e42eb75a",
   "metadata": {},
   "source": [
    "# CRUD operations\n",
    "\n",
    "* C: create\n",
    "* R : read\n",
    "* U : update\n",
    "* D : delete"
   ]
  },
  {
   "cell_type": "markdown",
   "id": "100327ca",
   "metadata": {},
   "source": [
    "# List methods and functions"
   ]
  },
  {
   "cell_type": "code",
   "execution_count": 123,
   "id": "bbbdb847",
   "metadata": {},
   "outputs": [
    {
     "name": "stdout",
     "output_type": "stream",
     "text": [
      "[10, 20, 30, 40, 50]\n"
     ]
    }
   ],
   "source": [
    "# creating list\n",
    "A =[10,20,30,40,50]\n",
    "print(A)"
   ]
  },
  {
   "cell_type": "code",
   "execution_count": 124,
   "id": "eba4441d",
   "metadata": {},
   "outputs": [
    {
     "name": "stdout",
     "output_type": "stream",
     "text": [
      "['blue', 'green', 'orange']\n"
     ]
    }
   ],
   "source": [
    "colors = list(('blue','green','orange'))\n",
    "print(colors)"
   ]
  },
  {
   "cell_type": "code",
   "execution_count": 125,
   "id": "efd8484d",
   "metadata": {},
   "outputs": [],
   "source": [
    "# List functions: sum,type,min,max,len,range,enumerate,eval"
   ]
  },
  {
   "cell_type": "markdown",
   "id": "77e53071",
   "metadata": {},
   "source": [
    "# Update:Modify the list elements\n",
    "* append\n",
    "* insert\n",
    "* extend\n"
   ]
  },
  {
   "cell_type": "code",
   "execution_count": 126,
   "id": "3ae3f906",
   "metadata": {},
   "outputs": [
    {
     "name": "stdout",
     "output_type": "stream",
     "text": [
      "[100, 200, 'sql', 400, 500, 600, 'python']\n"
     ]
    }
   ],
   "source": [
    "A = [100 , 200 , 'sql' , 400 , 500, 600,'python']\n",
    "print(A)\n"
   ]
  },
  {
   "cell_type": "code",
   "execution_count": 127,
   "id": "9ba1ea9d",
   "metadata": {},
   "outputs": [
    {
     "name": "stdout",
     "output_type": "stream",
     "text": [
      "[100, 200, 300, 400, 500, 600, 'python']\n"
     ]
    }
   ],
   "source": [
    "# changing sql as 300\n",
    "A[2] = 300\n",
    "print(A) # changing element using indexing or slicing\n"
   ]
  },
  {
   "cell_type": "markdown",
   "id": "2563c954",
   "metadata": {},
   "source": [
    "# append\n",
    "append is method which is used to add single element at the end of list."
   ]
  },
  {
   "cell_type": "code",
   "execution_count": 129,
   "id": "dbae72ec",
   "metadata": {},
   "outputs": [
    {
     "name": "stdout",
     "output_type": "stream",
     "text": [
      "['IBM', 'Oracle', 'Almabetter', 'Amazon', 'Google']\n"
     ]
    }
   ],
   "source": [
    "companies=['IBM','Oracle','Almabetter','Amazon','Google']\n",
    "# add Infosys at the end of list\n",
    "\n",
    "print(companies)"
   ]
  },
  {
   "cell_type": "code",
   "execution_count": 130,
   "id": "cc3796fa",
   "metadata": {},
   "outputs": [
    {
     "name": "stdout",
     "output_type": "stream",
     "text": [
      "['IBM', 'Oracle', 'Almabetter', 'Amazon', 'Google', 'Infosys']\n"
     ]
    }
   ],
   "source": [
    "companies.append('Infosys')\n",
    "print(companies)"
   ]
  },
  {
   "cell_type": "code",
   "execution_count": 131,
   "id": "bccac96b",
   "metadata": {},
   "outputs": [
    {
     "name": "stdout",
     "output_type": "stream",
     "text": [
      "['IBM', 'Oracle', 'Almabetter', 'Amazon', 'Google', 'Infosys', 'TCS']\n"
     ]
    }
   ],
   "source": [
    "# add TCS at the end of list\n",
    "companies.append('TCS')\n",
    "print(companies)"
   ]
  },
  {
   "cell_type": "markdown",
   "id": "1817819b",
   "metadata": {},
   "source": [
    "# Insert\n",
    "It is a method in list used to add new element at certain index position."
   ]
  },
  {
   "cell_type": "code",
   "execution_count": 132,
   "id": "417a4a06",
   "metadata": {},
   "outputs": [
    {
     "name": "stdout",
     "output_type": "stream",
     "text": [
      "[1000, 2000, 3000, 4000, 6000]\n"
     ]
    }
   ],
   "source": [
    "A = [1000,2000,4000,6000]\n",
    "# insert 3000 between 2000 and 4000\n",
    "# A.insert(index_num,value)\n",
    "A.insert(2 , 3000)\n",
    "print(A)"
   ]
  },
  {
   "cell_type": "code",
   "execution_count": 133,
   "id": "ca77aefc",
   "metadata": {},
   "outputs": [
    {
     "name": "stdout",
     "output_type": "stream",
     "text": [
      "[1000, 2000, 3000, 4000, 5000, 6000]\n"
     ]
    }
   ],
   "source": [
    "# insert 5000 after 4000\n",
    "A.insert(4,5000)\n",
    "print(A)\n"
   ]
  },
  {
   "cell_type": "code",
   "execution_count": 134,
   "id": "07f73254",
   "metadata": {},
   "outputs": [
    {
     "name": "stdout",
     "output_type": "stream",
     "text": [
      "[1000, 2000, 3000, 'Hello', 4000, 5000, 6000]\n"
     ]
    }
   ],
   "source": [
    "# insert hello at 3rd index position\n",
    "A.insert(3,\"Hello\")\n",
    "print(A)"
   ]
  },
  {
   "cell_type": "markdown",
   "id": "1b90a180",
   "metadata": {},
   "source": [
    "# Extend\n",
    "* It is a method used to combine elements of multiple list into one\n",
    "* Used to add multiple values at the end of list"
   ]
  },
  {
   "cell_type": "code",
   "execution_count": 135,
   "id": "9ba4606b",
   "metadata": {},
   "outputs": [
    {
     "name": "stdout",
     "output_type": "stream",
     "text": [
      "[1, 2, 3, 4, 'a', 'b', 'c', 'e']\n"
     ]
    }
   ],
   "source": [
    "A =[1,2,3,4]\n",
    "B = ['a','b','c','e']\n",
    "# add all the elements of B at the end of A\n",
    "A.extend(B)\n",
    "print(A)"
   ]
  },
  {
   "cell_type": "code",
   "execution_count": 136,
   "id": "e84da596",
   "metadata": {},
   "outputs": [
    {
     "name": "stdout",
     "output_type": "stream",
     "text": [
      "['a', 'b', 'c', 'e', 1, 2, 3, 4]\n"
     ]
    }
   ],
   "source": [
    "A =[1,2,3,4]\n",
    "B = ['a','b','c','e']\n",
    "B.extend(A)\n",
    "print(B)"
   ]
  },
  {
   "cell_type": "markdown",
   "id": "f6c0bd43",
   "metadata": {},
   "source": [
    "# How to drop list elements\n",
    "* remove\n",
    "* pop\n",
    "* del\n",
    "* clear"
   ]
  },
  {
   "cell_type": "markdown",
   "id": "0d6188a6",
   "metadata": {},
   "source": [
    "# remove\n",
    "It is used to remove specific element by its name."
   ]
  },
  {
   "cell_type": "code",
   "execution_count": 137,
   "id": "8b443b15",
   "metadata": {},
   "outputs": [
    {
     "name": "stdout",
     "output_type": "stream",
     "text": [
      "['Maths', 'physics', 'Biology', 'English']\n"
     ]
    }
   ],
   "source": [
    "subjects = [\"Maths\",\"physics\",\"chemistry\",\"Biology\",\"English\"]\n",
    "# remove chemistry\n",
    "subjects.remove('chemistry')\n",
    "print(subjects)"
   ]
  },
  {
   "cell_type": "code",
   "execution_count": 138,
   "id": "0db04f4d",
   "metadata": {},
   "outputs": [
    {
     "name": "stdout",
     "output_type": "stream",
     "text": [
      "['Maths', 'physics', 'English']\n"
     ]
    }
   ],
   "source": [
    "subjects.remove('Biology')\n",
    "print(subjects)"
   ]
  },
  {
   "cell_type": "code",
   "execution_count": 139,
   "id": "1204ecb4",
   "metadata": {},
   "outputs": [
    {
     "name": "stdout",
     "output_type": "stream",
     "text": [
      "['Maths', 'physics']\n"
     ]
    }
   ],
   "source": [
    "subjects.remove('English')\n",
    "print(subjects)"
   ]
  },
  {
   "cell_type": "code",
   "execution_count": 143,
   "id": "3f2110e3",
   "metadata": {},
   "outputs": [
    {
     "ename": "ValueError",
     "evalue": "list.remove(x): x not in list",
     "output_type": "error",
     "traceback": [
      "\u001b[31m---------------------------------------------------------------------------\u001b[39m",
      "\u001b[31mValueError\u001b[39m                                Traceback (most recent call last)",
      "\u001b[36mCell\u001b[39m\u001b[36m \u001b[39m\u001b[32mIn[143]\u001b[39m\u001b[32m, line 1\u001b[39m\n\u001b[32m----> \u001b[39m\u001b[32m1\u001b[39m \u001b[43msubjects\u001b[49m\u001b[43m.\u001b[49m\u001b[43mremove\u001b[49m\u001b[43m(\u001b[49m\u001b[33;43m'\u001b[39;49m\u001b[33;43mMaths\u001b[39;49m\u001b[33;43m'\u001b[39;49m\u001b[43m)\u001b[49m\n\u001b[32m      2\u001b[39m \u001b[38;5;28mprint\u001b[39m(subjects)\n",
      "\u001b[31mValueError\u001b[39m: list.remove(x): x not in list"
     ]
    }
   ],
   "source": [
    "subjects.remove('Maths')\n",
    "print(subjects)"
   ]
  },
  {
   "cell_type": "markdown",
   "id": "a42ed73a",
   "metadata": {},
   "source": [
    "# pop\n",
    "* Used to remove the last element\n",
    "* Used to remove element using index"
   ]
  },
  {
   "cell_type": "code",
   "execution_count": 145,
   "id": "cf86800c",
   "metadata": {},
   "outputs": [
    {
     "name": "stdout",
     "output_type": "stream",
     "text": [
      "['Maths', 'physics', 'chemistry', 'Biology', 'English']\n"
     ]
    }
   ],
   "source": [
    "subjects = [\"Maths\",\"physics\",\"chemistry\",\"Biology\",\"English\"]\n",
    "print(subjects)"
   ]
  },
  {
   "cell_type": "code",
   "execution_count": 146,
   "id": "fe213526",
   "metadata": {},
   "outputs": [
    {
     "name": "stdout",
     "output_type": "stream",
     "text": [
      "['Maths', 'physics', 'chemistry', 'Biology']\n"
     ]
    }
   ],
   "source": [
    "subjects.pop()\n",
    "print(subjects)"
   ]
  },
  {
   "cell_type": "code",
   "execution_count": 147,
   "id": "04b94941",
   "metadata": {},
   "outputs": [
    {
     "name": "stdout",
     "output_type": "stream",
     "text": [
      "['Maths', 'physics', 'chemistry']\n"
     ]
    }
   ],
   "source": [
    "subjects.pop()\n",
    "print(subjects)"
   ]
  },
  {
   "cell_type": "code",
   "execution_count": 150,
   "id": "37ae3fa7",
   "metadata": {},
   "outputs": [
    {
     "data": {
      "text/plain": [
       "'pyspark'"
      ]
     },
     "execution_count": 150,
     "metadata": {},
     "output_type": "execute_result"
    }
   ],
   "source": [
    "skills = [\"python\",\"R\",\"Java\",\"C+\",\"pyspark\"]\n",
    "skills.pop()\n"
   ]
  },
  {
   "cell_type": "code",
   "execution_count": 151,
   "id": "aff95840",
   "metadata": {},
   "outputs": [
    {
     "name": "stdout",
     "output_type": "stream",
     "text": [
      "['python', 'R', 'Java', 'C+']\n"
     ]
    }
   ],
   "source": [
    "print(skills)"
   ]
  },
  {
   "cell_type": "code",
   "execution_count": 152,
   "id": "3c67b5a8",
   "metadata": {},
   "outputs": [
    {
     "name": "stdout",
     "output_type": "stream",
     "text": [
      "['python', 'Java', 'C+', 'pyspark']\n"
     ]
    }
   ],
   "source": [
    "skills = [\"python\",\"R\",\"Java\",\"C+\",\"pyspark\"]\n",
    "# remove R using pop\n",
    "skills.pop(1)\n",
    "print(skills)"
   ]
  },
  {
   "cell_type": "code",
   "execution_count": 153,
   "id": "1dcf1780",
   "metadata": {},
   "outputs": [
    {
     "name": "stdout",
     "output_type": "stream",
     "text": [
      "['python', 'Java', 'pyspark']\n"
     ]
    }
   ],
   "source": [
    "# remove C+\n",
    "skills.pop(2)\n",
    "print(skills)\n"
   ]
  },
  {
   "cell_type": "markdown",
   "id": "dd834d2f",
   "metadata": {},
   "source": [
    "# del\n",
    "It is used to remove element of list using index."
   ]
  },
  {
   "cell_type": "code",
   "execution_count": 154,
   "id": "988ff204",
   "metadata": {},
   "outputs": [
    {
     "name": "stdout",
     "output_type": "stream",
     "text": [
      "['python', 'R', 'C+', 'pyspark']\n"
     ]
    }
   ],
   "source": [
    "skills = [\"python\",\"R\",\"Java\",\"C+\",\"pyspark\"]\n",
    "# remove Java\n",
    "del skills[2]\n",
    "print(skills)\n"
   ]
  },
  {
   "cell_type": "code",
   "execution_count": 155,
   "id": "b88921db",
   "metadata": {},
   "outputs": [
    {
     "name": "stdout",
     "output_type": "stream",
     "text": [
      "['python', 'C+', 'pyspark']\n"
     ]
    }
   ],
   "source": [
    "del skills[1]\n",
    "print(skills)"
   ]
  },
  {
   "cell_type": "code",
   "execution_count": 156,
   "id": "bc129183",
   "metadata": {},
   "outputs": [
    {
     "name": "stdout",
     "output_type": "stream",
     "text": [
      "['python', 'C+']\n"
     ]
    }
   ],
   "source": [
    "del skills[-1]\n",
    "print(skills)"
   ]
  },
  {
   "cell_type": "code",
   "execution_count": null,
   "id": "0b6edfac",
   "metadata": {},
   "outputs": [],
   "source": []
  }
 ],
 "metadata": {
  "kernelspec": {
   "display_name": "Python 3",
   "language": "python",
   "name": "python3"
  },
  "language_info": {
   "codemirror_mode": {
    "name": "ipython",
    "version": 3
   },
   "file_extension": ".py",
   "mimetype": "text/x-python",
   "name": "python",
   "nbconvert_exporter": "python",
   "pygments_lexer": "ipython3",
   "version": "3.13.7"
  }
 },
 "nbformat": 4,
 "nbformat_minor": 5
}
