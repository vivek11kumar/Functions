{
 "cells": [
  {
   "cell_type": "markdown",
   "id": "277d9559",
   "metadata": {},
   "source": [
    "# Functions\n",
    "* Functions are piece of code used to perform sprcific task.\n",
    "* Functions can be called directly using its name."
   ]
  },
  {
   "cell_type": "markdown",
   "id": "ca0a1c71",
   "metadata": {},
   "source": [
    "👉 Functions are like a hammer that you can use to drive a nail into a piece of wood. It doesn't matter what kind of wood it is or where the nail goes. You just use the hammer to do a general task."
   ]
  },
  {
   "cell_type": "markdown",
   "id": "175d469a",
   "metadata": {},
   "source": [
    "# Functions\n",
    "* print\n",
    "* type\n",
    "* len\n",
    "* sum\n",
    "* int\n",
    "* float\n",
    "* str\n",
    "* list\n",
    "* set\n",
    "* tuple\n",
    "* dict\n",
    "* help\n",
    "* input\n",
    "* range\n",
    "* round\n",
    "* max\n",
    "* min\n",
    "* abs\n",
    "* enumerate\n",
    "* zip\n",
    "* eval\n",
    "* exec\n",
    "* bool"
   ]
  },
  {
   "cell_type": "markdown",
   "id": "004f692f",
   "metadata": {},
   "source": [
    "# print()\n",
    "Display the output"
   ]
  },
  {
   "cell_type": "code",
   "execution_count": 9,
   "id": "abcd8322",
   "metadata": {},
   "outputs": [
    {
     "name": "stdout",
     "output_type": "stream",
     "text": [
      "10\n"
     ]
    }
   ],
   "source": [
    "# print function use to display output\n",
    "a = 10\n",
    "print(a)\n"
   ]
  },
  {
   "cell_type": "code",
   "execution_count": 10,
   "id": "7af0f96f",
   "metadata": {},
   "outputs": [
    {
     "name": "stdout",
     "output_type": "stream",
     "text": [
      "data science\n"
     ]
    }
   ],
   "source": [
    "b = 'data science'\n",
    "print(b)\n"
   ]
  },
  {
   "cell_type": "code",
   "execution_count": 11,
   "id": "040b92e3",
   "metadata": {},
   "outputs": [
    {
     "name": "stdout",
     "output_type": "stream",
     "text": [
      "hello world\n"
     ]
    }
   ],
   "source": [
    "print(\"hello world\")\n"
   ]
  },
  {
   "cell_type": "code",
   "execution_count": 12,
   "id": "31a57804",
   "metadata": {},
   "outputs": [
    {
     "name": "stdout",
     "output_type": "stream",
     "text": [
      "10.5\n"
     ]
    }
   ],
   "source": [
    "a = 10.5\n",
    "print(a)\n"
   ]
  },
  {
   "cell_type": "markdown",
   "id": "c809b2fb",
   "metadata": {},
   "source": [
    "# type()\n",
    "Type is used to find data type of any object(int,float,str,bool,complex,list,tuple,dict,set)\n"
   ]
  },
  {
   "cell_type": "code",
   "execution_count": 8,
   "id": "9c8e07da",
   "metadata": {},
   "outputs": [
    {
     "name": "stdout",
     "output_type": "stream",
     "text": [
      "<class 'int'>\n"
     ]
    }
   ],
   "source": [
    "a = 10\n",
    "print(type(a))"
   ]
  },
  {
   "cell_type": "code",
   "execution_count": null,
   "id": "09616130",
   "metadata": {},
   "outputs": [
    {
     "data": {
      "text/plain": [
       "float"
      ]
     },
     "execution_count": 13,
     "metadata": {},
     "output_type": "execute_result"
    }
   ],
   "source": [
    "type(3.4)"
   ]
  },
  {
   "cell_type": "code",
   "execution_count": 14,
   "id": "33d6cb61",
   "metadata": {},
   "outputs": [
    {
     "data": {
      "text/plain": [
       "str"
      ]
     },
     "execution_count": 14,
     "metadata": {},
     "output_type": "execute_result"
    }
   ],
   "source": [
    "type('data science')"
   ]
  },
  {
   "cell_type": "code",
   "execution_count": 15,
   "id": "0e66d1c4",
   "metadata": {},
   "outputs": [
    {
     "data": {
      "text/plain": [
       "str"
      ]
     },
     "execution_count": 15,
     "metadata": {},
     "output_type": "execute_result"
    }
   ],
   "source": [
    "type(\"hello world\")"
   ]
  },
  {
   "cell_type": "markdown",
   "id": "846c1752",
   "metadata": {},
   "source": [
    "# len()\n",
    "Length of an object(string , tuple,list,set,dict)"
   ]
  },
  {
   "cell_type": "code",
   "execution_count": 24,
   "id": "ae3e0c47",
   "metadata": {},
   "outputs": [
    {
     "name": "stdout",
     "output_type": "stream",
     "text": [
      "<class 'str'>\n",
      "6\n"
     ]
    }
   ],
   "source": [
    "A = \"python\"\n",
    "print(type(A))\n",
    "print(len(A))"
   ]
  },
  {
   "cell_type": "code",
   "execution_count": 23,
   "id": "540ea2cf",
   "metadata": {},
   "outputs": [
    {
     "name": "stdout",
     "output_type": "stream",
     "text": [
      "<class 'str'>\n",
      "12\n"
     ]
    }
   ],
   "source": [
    "b = \"data science\"\n",
    "print(type(b))\n",
    "print(len(b))"
   ]
  },
  {
   "cell_type": "code",
   "execution_count": 22,
   "id": "8b4edc62",
   "metadata": {},
   "outputs": [
    {
     "name": "stdout",
     "output_type": "stream",
     "text": [
      "<class 'list'>\n",
      "7\n"
     ]
    }
   ],
   "source": [
    "B =[10,20,30,40,50,60,70]\n",
    "print(type(B))\n",
    "print(len(B))"
   ]
  },
  {
   "cell_type": "code",
   "execution_count": 25,
   "id": "e65966b7",
   "metadata": {},
   "outputs": [
    {
     "name": "stdout",
     "output_type": "stream",
     "text": [
      "<class 'tuple'>\n",
      "7\n"
     ]
    }
   ],
   "source": [
    "C=(10,20,30,40,50,60,70)\n",
    "print(type(C))\n",
    "print(len(C))"
   ]
  },
  {
   "cell_type": "code",
   "execution_count": 26,
   "id": "a9ddb5e7",
   "metadata": {},
   "outputs": [
    {
     "name": "stdout",
     "output_type": "stream",
     "text": [
      "<class 'set'>\n",
      "7\n"
     ]
    }
   ],
   "source": [
    "d = {10,20,30,40,50,60,70}\n",
    "print(type(d))\n",
    "print(len(d))"
   ]
  },
  {
   "cell_type": "code",
   "execution_count": 27,
   "id": "8321bc5c",
   "metadata": {},
   "outputs": [
    {
     "name": "stdout",
     "output_type": "stream",
     "text": [
      "<class 'dict'>\n",
      "4\n"
     ]
    }
   ],
   "source": [
    "e = {10:'a',20:'b',30:'c',40:'d'}\n",
    "print(type(e))  \n",
    "print(len(e))"
   ]
  },
  {
   "cell_type": "code",
   "execution_count": 28,
   "id": "bfa389c8",
   "metadata": {},
   "outputs": [
    {
     "name": "stdout",
     "output_type": "stream",
     "text": [
      "<class 'dict'>\n",
      "3\n"
     ]
    }
   ],
   "source": [
    "info = {'name':'john', 'age':25, 'city':'new york'}\n",
    "print(type(info))\n",
    "print(len(info))"
   ]
  },
  {
   "cell_type": "markdown",
   "id": "d12f9ac5",
   "metadata": {},
   "source": [
    "# sum()\n",
    "Used to find sum of elements(list,tuple,set)\n"
   ]
  },
  {
   "cell_type": "code",
   "execution_count": 30,
   "id": "fcf74d3e",
   "metadata": {},
   "outputs": [
    {
     "name": "stdout",
     "output_type": "stream",
     "text": [
      "<class 'list'>\n",
      "7\n",
      "340\n"
     ]
    }
   ],
   "source": [
    "A = [10,20,30,40,60,80,100]\n",
    "print(type(A))\n",
    "print(len(A))\n",
    "print(sum(A))"
   ]
  },
  {
   "cell_type": "code",
   "execution_count": 31,
   "id": "c389bd7e",
   "metadata": {},
   "outputs": [
    {
     "name": "stdout",
     "output_type": "stream",
     "text": [
      "<class 'tuple'>\n",
      "5\n",
      "15\n"
     ]
    }
   ],
   "source": [
    "b = (1, 2, 3, 4, 5)\n",
    "print(type(b))\n",
    "print(len(b))\n",
    "print(sum(b))"
   ]
  },
  {
   "cell_type": "markdown",
   "id": "580e63d1",
   "metadata": {},
   "source": [
    "# max()\n",
    "It is used to find maximum element of any object(list,tuple,set)"
   ]
  },
  {
   "cell_type": "code",
   "execution_count": 3,
   "id": "f3335e09",
   "metadata": {},
   "outputs": [
    {
     "name": "stdout",
     "output_type": "stream",
     "text": [
      "400\n"
     ]
    }
   ],
   "source": [
    "# Find the maximum value from a list\n",
    "A = [10,20,50,100,200,300,400]\n",
    "print(max(A))"
   ]
  },
  {
   "cell_type": "code",
   "execution_count": 4,
   "id": "0529cb6f",
   "metadata": {},
   "outputs": [
    {
     "name": "stdout",
     "output_type": "stream",
     "text": [
      "400\n"
     ]
    }
   ],
   "source": [
    "# find the maximum value from a tuple\n",
    "A = (10,20,50,100,200,300,400)\n",
    "print(max(A))"
   ]
  },
  {
   "cell_type": "code",
   "execution_count": 5,
   "id": "1e31edf4",
   "metadata": {},
   "outputs": [
    {
     "name": "stdout",
     "output_type": "stream",
     "text": [
      "400\n"
     ]
    }
   ],
   "source": [
    "# Find the maximum value from a set\n",
    "A = {10,20,50,100,200,300,400}\n",
    "print(max(A))"
   ]
  },
  {
   "cell_type": "code",
   "execution_count": 6,
   "id": "c1a4a4fa",
   "metadata": {},
   "outputs": [
    {
     "name": "stdout",
     "output_type": "stream",
     "text": [
      "10\n"
     ]
    }
   ],
   "source": [
    "# Find the minimum value from a dictionary\n",
    "A = {10:'a',20:'b',30:'c',40:'d'}\n",
    "print(min(A))"
   ]
  },
  {
   "cell_type": "markdown",
   "id": "a154687b",
   "metadata": {},
   "source": [
    "# min()\n",
    "Used to find minimum element in any object(list,tuple,set)"
   ]
  },
  {
   "cell_type": "code",
   "execution_count": 7,
   "id": "76cce656",
   "metadata": {},
   "outputs": [
    {
     "name": "stdout",
     "output_type": "stream",
     "text": [
      "10\n"
     ]
    }
   ],
   "source": [
    "# Find the min value from a list\n",
    "A = [10,20,50,100,200,300,400]\n",
    "print(min(A))"
   ]
  },
  {
   "cell_type": "code",
   "execution_count": 8,
   "id": "82ecb5fb",
   "metadata": {},
   "outputs": [
    {
     "name": "stdout",
     "output_type": "stream",
     "text": [
      "10\n"
     ]
    }
   ],
   "source": [
    "# Find the minimum value from a tuple\n",
    "A = (10,20,50,100,200,300,400)  \n",
    "print(min(A))"
   ]
  },
  {
   "cell_type": "code",
   "execution_count": 9,
   "id": "cf14b19e",
   "metadata": {},
   "outputs": [
    {
     "name": "stdout",
     "output_type": "stream",
     "text": [
      "10\n"
     ]
    }
   ],
   "source": [
    "# Find the minimum value from a set\n",
    "A = {10,20,50,100,200,300,400}  \n",
    "print(min(A))"
   ]
  },
  {
   "cell_type": "code",
   "execution_count": 10,
   "id": "8fdf42c5",
   "metadata": {},
   "outputs": [
    {
     "name": "stdout",
     "output_type": "stream",
     "text": [
      "10\n"
     ]
    }
   ],
   "source": [
    "# Find the minimum value from a dictionary\n",
    "A = {10:'a',20:'b',30:'c',40:'d'}   \n",
    "print(min(A))"
   ]
  },
  {
   "cell_type": "code",
   "execution_count": 11,
   "id": "e3daf635",
   "metadata": {},
   "outputs": [
    {
     "name": "stdout",
     "output_type": "stream",
     "text": [
      "10\n"
     ]
    }
   ],
   "source": [
    "# Find the minimum value from a tuple\n",
    "A = (10,20,50,100,200,300,400)  \n",
    "print(min(A))"
   ]
  },
  {
   "cell_type": "code",
   "execution_count": 13,
   "id": "3b47a1f8",
   "metadata": {},
   "outputs": [
    {
     "name": "stdout",
     "output_type": "stream",
     "text": [
      "Maximum value is : 5\n",
      "Minimum value is : 1\n",
      "sum of elements in A: 15\n",
      "length of list: 5\n"
     ]
    }
   ],
   "source": [
    "# Find the maximum, minimum, sum and length of elements in a list\n",
    "A =[1,2,3,4,5]\n",
    "print(\"Maximum value is :\" ,max(A))\n",
    "print(\"Minimum value is :\",min(A))\n",
    "print(\"sum of elements in A:\",sum(A))\n",
    "print(\"length of list:\",len(A))"
   ]
  },
  {
   "cell_type": "code",
   "execution_count": 14,
   "id": "8b44f0c0",
   "metadata": {},
   "outputs": [
    {
     "name": "stdout",
     "output_type": "stream",
     "text": [
      "Maximum value is : 5\n",
      "Minimum value is : 1\n",
      "sum of elements in A: 15\n",
      "length of list: 5\n"
     ]
    }
   ],
   "source": [
    "# Find the maximum, minimum, sum and length of elements in a tuple\n",
    "A =(1,2,3,4,5)\n",
    "print(\"Maximum value is :\" ,max(A))\n",
    "print(\"Minimum value is :\",min(A))\n",
    "print(\"sum of elements in A:\",sum(A))\n",
    "print(\"length of list:\",len(A))"
   ]
  },
  {
   "cell_type": "code",
   "execution_count": 19,
   "id": "4437f9cb",
   "metadata": {},
   "outputs": [
    {
     "name": "stdout",
     "output_type": "stream",
     "text": [
      "Maximum value is : 5\n",
      "Minimum value is : 1\n",
      "length of list: 5\n"
     ]
    }
   ],
   "source": [
    "# Find the maximum, minimum, sum and length of elements in a dictionary\n",
    "b = {1:'a',2:'b',3:'c',4:'d',5:'e'}\n",
    "print(\"Maximum value is :\" ,max(b))\n",
    "print(\"Minimum value is :\",min(b))\n",
    "print(\"length of list:\",len(b))"
   ]
  },
  {
   "cell_type": "code",
   "execution_count": 20,
   "id": "51d2df5e",
   "metadata": {},
   "outputs": [
    {
     "name": "stdout",
     "output_type": "stream",
     "text": [
      "Maximum value is : 5\n",
      "Minimum value is : 1\n",
      "sum of elements in c: 15\n",
      "length of set: 5\n"
     ]
    }
   ],
   "source": [
    "# find the maximum, minimum, sum and length of elements in a set\n",
    "c = {1,2,3,4,5}\n",
    "print(\"Maximum value is :\" ,max(c))\n",
    "print(\"Minimum value is :\",min(c))\n",
    "print(\"sum of elements in c:\",sum(c))\n",
    "print(\"length of set:\",len(c))  "
   ]
  },
  {
   "cell_type": "markdown",
   "id": "5cf0fd3d",
   "metadata": {},
   "source": [
    "# abs\n",
    "It is used to convert negative value into positive(int,float)."
   ]
  },
  {
   "cell_type": "code",
   "execution_count": 22,
   "id": "c3fb8f91",
   "metadata": {},
   "outputs": [
    {
     "name": "stdout",
     "output_type": "stream",
     "text": [
      "10\n"
     ]
    }
   ],
   "source": [
    "# abs function returns the absolute value of a number\n",
    "a = -10\n",
    "print(abs(a))\n"
   ]
  },
  {
   "cell_type": "code",
   "execution_count": 23,
   "id": "3b21c1ae",
   "metadata": {},
   "outputs": [
    {
     "name": "stdout",
     "output_type": "stream",
     "text": [
      "200.5\n"
     ]
    }
   ],
   "source": [
    "# abs function returns the absolute value of a number\n",
    "a = -200.5\n",
    "print(abs(a))"
   ]
  },
  {
   "cell_type": "code",
   "execution_count": 25,
   "id": "ee6f60b0",
   "metadata": {},
   "outputs": [
    {
     "data": {
      "text/plain": [
       "3"
      ]
     },
     "execution_count": 25,
     "metadata": {},
     "output_type": "execute_result"
    }
   ],
   "source": [
    "abs(-3)\n"
   ]
  },
  {
   "cell_type": "code",
   "execution_count": 27,
   "id": "a4970200",
   "metadata": {},
   "outputs": [
    {
     "data": {
      "text/plain": [
       "3"
      ]
     },
     "execution_count": 27,
     "metadata": {},
     "output_type": "execute_result"
    }
   ],
   "source": [
    "abs(-3)\n"
   ]
  },
  {
   "cell_type": "code",
   "execution_count": 28,
   "id": "62b596b4",
   "metadata": {},
   "outputs": [
    {
     "data": {
      "text/plain": [
       "3"
      ]
     },
     "execution_count": 28,
     "metadata": {},
     "output_type": "execute_result"
    }
   ],
   "source": [
    "abs(3)"
   ]
  },
  {
   "cell_type": "markdown",
   "id": "292e2249",
   "metadata": {},
   "source": [
    "# round\n",
    "It is used to round number to a given decimal palces\n",
    "\n",
    "round(number , decimal_places)"
   ]
  },
  {
   "cell_type": "code",
   "execution_count": 29,
   "id": "cbafe075",
   "metadata": {},
   "outputs": [
    {
     "name": "stdout",
     "output_type": "stream",
     "text": [
      "3.4568\n"
     ]
    }
   ],
   "source": [
    "a = 3.456789\n",
    "# round a to 4 decimal places\n",
    "print(round(a,4))"
   ]
  },
  {
   "cell_type": "code",
   "execution_count": 30,
   "id": "40df7aea",
   "metadata": {},
   "outputs": [
    {
     "data": {
      "text/plain": [
       "7.895"
      ]
     },
     "execution_count": 30,
     "metadata": {},
     "output_type": "execute_result"
    }
   ],
   "source": [
    "# round to 3 decimal\n",
    "round(7.89543,3)\n"
   ]
  },
  {
   "cell_type": "code",
   "execution_count": 31,
   "id": "2bf75f6a",
   "metadata": {},
   "outputs": [
    {
     "data": {
      "text/plain": [
       "3"
      ]
     },
     "execution_count": 31,
     "metadata": {},
     "output_type": "execute_result"
    }
   ],
   "source": [
    "round(3.456)"
   ]
  },
  {
   "cell_type": "code",
   "execution_count": 32,
   "id": "23878ea7",
   "metadata": {},
   "outputs": [
    {
     "data": {
      "text/plain": [
       "4"
      ]
     },
     "execution_count": 32,
     "metadata": {},
     "output_type": "execute_result"
    }
   ],
   "source": [
    "round(3.678)\n"
   ]
  },
  {
   "cell_type": "code",
   "execution_count": 33,
   "id": "7c5508aa",
   "metadata": {},
   "outputs": [
    {
     "data": {
      "text/plain": [
       "10"
      ]
     },
     "execution_count": 33,
     "metadata": {},
     "output_type": "execute_result"
    }
   ],
   "source": [
    "round(10.324)\n"
   ]
  },
  {
   "cell_type": "code",
   "execution_count": 34,
   "id": "6c345602",
   "metadata": {},
   "outputs": [
    {
     "data": {
      "text/plain": [
       "121"
      ]
     },
     "execution_count": 34,
     "metadata": {},
     "output_type": "execute_result"
    }
   ],
   "source": [
    "round(120.98652)\n"
   ]
  },
  {
   "cell_type": "code",
   "execution_count": 35,
   "id": "c73b7a03",
   "metadata": {},
   "outputs": [
    {
     "data": {
      "text/plain": [
       "3.14"
      ]
     },
     "execution_count": 35,
     "metadata": {},
     "output_type": "execute_result"
    }
   ],
   "source": [
    "round(3.14159,2)"
   ]
  },
  {
   "cell_type": "code",
   "execution_count": 36,
   "id": "74c423d1",
   "metadata": {},
   "outputs": [
    {
     "data": {
      "text/plain": [
       "-3.14"
      ]
     },
     "execution_count": 36,
     "metadata": {},
     "output_type": "execute_result"
    }
   ],
   "source": [
    "round(-3.14159,2)"
   ]
  },
  {
   "cell_type": "code",
   "execution_count": 37,
   "id": "fde45ec1",
   "metadata": {},
   "outputs": [
    {
     "data": {
      "text/plain": [
       "-200.246"
      ]
     },
     "execution_count": 37,
     "metadata": {},
     "output_type": "execute_result"
    }
   ],
   "source": [
    "round(-200.2457833,3)"
   ]
  },
  {
   "cell_type": "markdown",
   "id": "732bb58e",
   "metadata": {},
   "source": [
    "# Type casting\n",
    "Used to convert one data type into other data type."
   ]
  },
  {
   "cell_type": "markdown",
   "id": "8c7b75b9",
   "metadata": {},
   "source": [
    "# int\n",
    "* It converts given value to a integer"
   ]
  },
  {
   "cell_type": "code",
   "execution_count": 38,
   "id": "8689b368",
   "metadata": {},
   "outputs": [
    {
     "name": "stdout",
     "output_type": "stream",
     "text": [
      "<class 'float'>\n",
      "3\n"
     ]
    }
   ],
   "source": [
    "a = 3.45\n",
    "print(type(a))\n",
    "b = int(a)\n",
    "print(b)\n"
   ]
  },
  {
   "cell_type": "code",
   "execution_count": 39,
   "id": "dea25f5c",
   "metadata": {},
   "outputs": [
    {
     "name": "stdout",
     "output_type": "stream",
     "text": [
      "7\n",
      "<class 'int'>\n"
     ]
    }
   ],
   "source": [
    "# convert float to int\n",
    "a = 7.89\n",
    "b = int(a)\n",
    "print(b)\n",
    "print(type(b))"
   ]
  },
  {
   "cell_type": "code",
   "execution_count": 44,
   "id": "41d2832c",
   "metadata": {},
   "outputs": [
    {
     "name": "stdout",
     "output_type": "stream",
     "text": [
      "123\n",
      "<class 'int'>\n"
     ]
    }
   ],
   "source": [
    "# str to integer\n",
    "a = int(\"123\")   \n",
    "print(a)\n",
    "print(type(a))\n",
    "\n"
   ]
  },
  {
   "cell_type": "code",
   "execution_count": 45,
   "id": "b2719327",
   "metadata": {},
   "outputs": [
    {
     "name": "stdout",
     "output_type": "stream",
     "text": [
      "4\n",
      "1234\n",
      "1\n",
      "0\n"
     ]
    }
   ],
   "source": [
    "# float to integer\n",
    "# Integer within string into int\n",
    "# boolean to integer\n",
    "print(int(4.5))\n",
    "print(int(\"1234\"))\n",
    "print(int(True))\n",
    "print(int(False))"
   ]
  },
  {
   "cell_type": "code",
   "execution_count": null,
   "id": "565b990f",
   "metadata": {},
   "outputs": [],
   "source": []
  }
 ],
 "metadata": {
  "kernelspec": {
   "display_name": "Python 3",
   "language": "python",
   "name": "python3"
  },
  "language_info": {
   "codemirror_mode": {
    "name": "ipython",
    "version": 3
   },
   "file_extension": ".py",
   "mimetype": "text/x-python",
   "name": "python",
   "nbconvert_exporter": "python",
   "pygments_lexer": "ipython3",
   "version": "3.13.7"
  }
 },
 "nbformat": 4,
 "nbformat_minor": 5
}
