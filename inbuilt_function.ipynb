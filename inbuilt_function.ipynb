{
 "cells": [
  {
   "cell_type": "markdown",
   "id": "277d9559",
   "metadata": {},
   "source": [
    "# Functions\n",
    "* Functions are piece of code used to perform sprcific task.\n",
    "* Functions can be called directly using its name."
   ]
  },
  {
   "cell_type": "markdown",
   "id": "ca0a1c71",
   "metadata": {},
   "source": [
    "👉 Functions are like a hammer that you can use to drive a nail into a piece of wood. It doesn't matter what kind of wood it is or where the nail goes. You just use the hammer to do a general task."
   ]
  },
  {
   "cell_type": "markdown",
   "id": "175d469a",
   "metadata": {},
   "source": [
    "# Functions\n",
    "* print\n",
    "* type\n",
    "* len\n",
    "* sum\n",
    "* int\n",
    "* float\n",
    "* str\n",
    "* list\n",
    "* set\n",
    "* tuple\n",
    "* dict\n",
    "* help\n",
    "* input\n",
    "* range\n",
    "* round\n",
    "* max\n",
    "* min\n",
    "* abs\n",
    "* enumerate\n",
    "* zip\n",
    "* eval\n",
    "* exec\n",
    "* bool"
   ]
  },
  {
   "cell_type": "markdown",
   "id": "004f692f",
   "metadata": {},
   "source": [
    "# print()\n",
    "Display the output"
   ]
  },
  {
   "cell_type": "code",
   "execution_count": 9,
   "id": "abcd8322",
   "metadata": {},
   "outputs": [
    {
     "name": "stdout",
     "output_type": "stream",
     "text": [
      "10\n"
     ]
    }
   ],
   "source": [
    "# print function use to display output\n",
    "a = 10\n",
    "print(a)\n"
   ]
  },
  {
   "cell_type": "code",
   "execution_count": 10,
   "id": "7af0f96f",
   "metadata": {},
   "outputs": [
    {
     "name": "stdout",
     "output_type": "stream",
     "text": [
      "data science\n"
     ]
    }
   ],
   "source": [
    "b = 'data science'\n",
    "print(b)\n"
   ]
  },
  {
   "cell_type": "code",
   "execution_count": 11,
   "id": "040b92e3",
   "metadata": {},
   "outputs": [
    {
     "name": "stdout",
     "output_type": "stream",
     "text": [
      "hello world\n"
     ]
    }
   ],
   "source": [
    "print(\"hello world\")\n"
   ]
  },
  {
   "cell_type": "code",
   "execution_count": 12,
   "id": "31a57804",
   "metadata": {},
   "outputs": [
    {
     "name": "stdout",
     "output_type": "stream",
     "text": [
      "10.5\n"
     ]
    }
   ],
   "source": [
    "a = 10.5\n",
    "print(a)\n"
   ]
  },
  {
   "cell_type": "markdown",
   "id": "c809b2fb",
   "metadata": {},
   "source": [
    "# type()\n",
    "Type is used to find data type of any object(int,float,str,bool,complex,list,tuple,dict,set)\n"
   ]
  },
  {
   "cell_type": "code",
   "execution_count": 8,
   "id": "9c8e07da",
   "metadata": {},
   "outputs": [
    {
     "name": "stdout",
     "output_type": "stream",
     "text": [
      "<class 'int'>\n"
     ]
    }
   ],
   "source": [
    "a = 10\n",
    "print(type(a))"
   ]
  },
  {
   "cell_type": "code",
   "execution_count": null,
   "id": "09616130",
   "metadata": {},
   "outputs": [
    {
     "data": {
      "text/plain": [
       "float"
      ]
     },
     "execution_count": 13,
     "metadata": {},
     "output_type": "execute_result"
    }
   ],
   "source": [
    "type(3.4)"
   ]
  },
  {
   "cell_type": "code",
   "execution_count": 14,
   "id": "33d6cb61",
   "metadata": {},
   "outputs": [
    {
     "data": {
      "text/plain": [
       "str"
      ]
     },
     "execution_count": 14,
     "metadata": {},
     "output_type": "execute_result"
    }
   ],
   "source": [
    "type('data science')"
   ]
  },
  {
   "cell_type": "code",
   "execution_count": 15,
   "id": "0e66d1c4",
   "metadata": {},
   "outputs": [
    {
     "data": {
      "text/plain": [
       "str"
      ]
     },
     "execution_count": 15,
     "metadata": {},
     "output_type": "execute_result"
    }
   ],
   "source": [
    "type(\"hello world\")"
   ]
  },
  {
   "cell_type": "markdown",
   "id": "846c1752",
   "metadata": {},
   "source": [
    "# len()\n",
    "Length of an object(string , tuple,list,set,dict)"
   ]
  },
  {
   "cell_type": "code",
   "execution_count": 24,
   "id": "ae3e0c47",
   "metadata": {},
   "outputs": [
    {
     "name": "stdout",
     "output_type": "stream",
     "text": [
      "<class 'str'>\n",
      "6\n"
     ]
    }
   ],
   "source": [
    "A = \"python\"\n",
    "print(type(A))\n",
    "print(len(A))"
   ]
  },
  {
   "cell_type": "code",
   "execution_count": 23,
   "id": "540ea2cf",
   "metadata": {},
   "outputs": [
    {
     "name": "stdout",
     "output_type": "stream",
     "text": [
      "<class 'str'>\n",
      "12\n"
     ]
    }
   ],
   "source": [
    "b = \"data science\"\n",
    "print(type(b))\n",
    "print(len(b))"
   ]
  },
  {
   "cell_type": "code",
   "execution_count": 22,
   "id": "8b4edc62",
   "metadata": {},
   "outputs": [
    {
     "name": "stdout",
     "output_type": "stream",
     "text": [
      "<class 'list'>\n",
      "7\n"
     ]
    }
   ],
   "source": [
    "B =[10,20,30,40,50,60,70]\n",
    "print(type(B))\n",
    "print(len(B))"
   ]
  },
  {
   "cell_type": "code",
   "execution_count": 25,
   "id": "e65966b7",
   "metadata": {},
   "outputs": [
    {
     "name": "stdout",
     "output_type": "stream",
     "text": [
      "<class 'tuple'>\n",
      "7\n"
     ]
    }
   ],
   "source": [
    "C=(10,20,30,40,50,60,70)\n",
    "print(type(C))\n",
    "print(len(C))"
   ]
  },
  {
   "cell_type": "code",
   "execution_count": 26,
   "id": "a9ddb5e7",
   "metadata": {},
   "outputs": [
    {
     "name": "stdout",
     "output_type": "stream",
     "text": [
      "<class 'set'>\n",
      "7\n"
     ]
    }
   ],
   "source": [
    "d = {10,20,30,40,50,60,70}\n",
    "print(type(d))\n",
    "print(len(d))"
   ]
  },
  {
   "cell_type": "code",
   "execution_count": 27,
   "id": "8321bc5c",
   "metadata": {},
   "outputs": [
    {
     "name": "stdout",
     "output_type": "stream",
     "text": [
      "<class 'dict'>\n",
      "4\n"
     ]
    }
   ],
   "source": [
    "e = {10:'a',20:'b',30:'c',40:'d'}\n",
    "print(type(e))  \n",
    "print(len(e))"
   ]
  },
  {
   "cell_type": "code",
   "execution_count": 28,
   "id": "bfa389c8",
   "metadata": {},
   "outputs": [
    {
     "name": "stdout",
     "output_type": "stream",
     "text": [
      "<class 'dict'>\n",
      "3\n"
     ]
    }
   ],
   "source": [
    "info = {'name':'john', 'age':25, 'city':'new york'}\n",
    "print(type(info))\n",
    "print(len(info))"
   ]
  },
  {
   "cell_type": "markdown",
   "id": "d12f9ac5",
   "metadata": {},
   "source": [
    "# sum()\n",
    "Used to find sum of elements(list,tuple,set)\n"
   ]
  },
  {
   "cell_type": "code",
   "execution_count": 30,
   "id": "fcf74d3e",
   "metadata": {},
   "outputs": [
    {
     "name": "stdout",
     "output_type": "stream",
     "text": [
      "<class 'list'>\n",
      "7\n",
      "340\n"
     ]
    }
   ],
   "source": [
    "A = [10,20,30,40,60,80,100]\n",
    "print(type(A))\n",
    "print(len(A))\n",
    "print(sum(A))"
   ]
  },
  {
   "cell_type": "code",
   "execution_count": 31,
   "id": "c389bd7e",
   "metadata": {},
   "outputs": [
    {
     "name": "stdout",
     "output_type": "stream",
     "text": [
      "<class 'tuple'>\n",
      "5\n",
      "15\n"
     ]
    }
   ],
   "source": [
    "b = (1, 2, 3, 4, 5)\n",
    "print(type(b))\n",
    "print(len(b))\n",
    "print(sum(b))"
   ]
  },
  {
   "cell_type": "markdown",
   "id": "580e63d1",
   "metadata": {},
   "source": [
    "# max()\n",
    "It is used to find maximum element of any object(list,tuple,set)"
   ]
  },
  {
   "cell_type": "code",
   "execution_count": 3,
   "id": "f3335e09",
   "metadata": {},
   "outputs": [
    {
     "name": "stdout",
     "output_type": "stream",
     "text": [
      "400\n"
     ]
    }
   ],
   "source": [
    "# Find the maximum value from a list\n",
    "A = [10,20,50,100,200,300,400]\n",
    "print(max(A))"
   ]
  },
  {
   "cell_type": "code",
   "execution_count": 4,
   "id": "0529cb6f",
   "metadata": {},
   "outputs": [
    {
     "name": "stdout",
     "output_type": "stream",
     "text": [
      "400\n"
     ]
    }
   ],
   "source": [
    "# find the maximum value from a tuple\n",
    "A = (10,20,50,100,200,300,400)\n",
    "print(max(A))"
   ]
  },
  {
   "cell_type": "code",
   "execution_count": 5,
   "id": "1e31edf4",
   "metadata": {},
   "outputs": [
    {
     "name": "stdout",
     "output_type": "stream",
     "text": [
      "400\n"
     ]
    }
   ],
   "source": [
    "# Find the maximum value from a set\n",
    "A = {10,20,50,100,200,300,400}\n",
    "print(max(A))"
   ]
  },
  {
   "cell_type": "code",
   "execution_count": 6,
   "id": "c1a4a4fa",
   "metadata": {},
   "outputs": [
    {
     "name": "stdout",
     "output_type": "stream",
     "text": [
      "10\n"
     ]
    }
   ],
   "source": [
    "# Find the minimum value from a dictionary\n",
    "A = {10:'a',20:'b',30:'c',40:'d'}\n",
    "print(min(A))"
   ]
  },
  {
   "cell_type": "markdown",
   "id": "a154687b",
   "metadata": {},
   "source": [
    "# min()\n",
    "Used to find minimum element in any object(list,tuple,set)"
   ]
  },
  {
   "cell_type": "code",
   "execution_count": 7,
   "id": "76cce656",
   "metadata": {},
   "outputs": [
    {
     "name": "stdout",
     "output_type": "stream",
     "text": [
      "10\n"
     ]
    }
   ],
   "source": [
    "# Find the min value from a list\n",
    "A = [10,20,50,100,200,300,400]\n",
    "print(min(A))"
   ]
  },
  {
   "cell_type": "code",
   "execution_count": 8,
   "id": "82ecb5fb",
   "metadata": {},
   "outputs": [
    {
     "name": "stdout",
     "output_type": "stream",
     "text": [
      "10\n"
     ]
    }
   ],
   "source": [
    "# Find the minimum value from a tuple\n",
    "A = (10,20,50,100,200,300,400)  \n",
    "print(min(A))"
   ]
  },
  {
   "cell_type": "code",
   "execution_count": 9,
   "id": "cf14b19e",
   "metadata": {},
   "outputs": [
    {
     "name": "stdout",
     "output_type": "stream",
     "text": [
      "10\n"
     ]
    }
   ],
   "source": [
    "# Find the minimum value from a set\n",
    "A = {10,20,50,100,200,300,400}  \n",
    "print(min(A))"
   ]
  },
  {
   "cell_type": "code",
   "execution_count": 10,
   "id": "8fdf42c5",
   "metadata": {},
   "outputs": [
    {
     "name": "stdout",
     "output_type": "stream",
     "text": [
      "10\n"
     ]
    }
   ],
   "source": [
    "# Find the minimum value from a dictionary\n",
    "A = {10:'a',20:'b',30:'c',40:'d'}   \n",
    "print(min(A))"
   ]
  },
  {
   "cell_type": "code",
   "execution_count": 11,
   "id": "e3daf635",
   "metadata": {},
   "outputs": [
    {
     "name": "stdout",
     "output_type": "stream",
     "text": [
      "10\n"
     ]
    }
   ],
   "source": [
    "# Find the minimum value from a tuple\n",
    "A = (10,20,50,100,200,300,400)  \n",
    "print(min(A))"
   ]
  },
  {
   "cell_type": "code",
   "execution_count": 13,
   "id": "3b47a1f8",
   "metadata": {},
   "outputs": [
    {
     "name": "stdout",
     "output_type": "stream",
     "text": [
      "Maximum value is : 5\n",
      "Minimum value is : 1\n",
      "sum of elements in A: 15\n",
      "length of list: 5\n"
     ]
    }
   ],
   "source": [
    "# Find the maximum, minimum, sum and length of elements in a list\n",
    "A =[1,2,3,4,5]\n",
    "print(\"Maximum value is :\" ,max(A))\n",
    "print(\"Minimum value is :\",min(A))\n",
    "print(\"sum of elements in A:\",sum(A))\n",
    "print(\"length of list:\",len(A))"
   ]
  },
  {
   "cell_type": "code",
   "execution_count": 14,
   "id": "8b44f0c0",
   "metadata": {},
   "outputs": [
    {
     "name": "stdout",
     "output_type": "stream",
     "text": [
      "Maximum value is : 5\n",
      "Minimum value is : 1\n",
      "sum of elements in A: 15\n",
      "length of list: 5\n"
     ]
    }
   ],
   "source": [
    "# Find the maximum, minimum, sum and length of elements in a tuple\n",
    "A =(1,2,3,4,5)\n",
    "print(\"Maximum value is :\" ,max(A))\n",
    "print(\"Minimum value is :\",min(A))\n",
    "print(\"sum of elements in A:\",sum(A))\n",
    "print(\"length of list:\",len(A))"
   ]
  },
  {
   "cell_type": "code",
   "execution_count": 19,
   "id": "4437f9cb",
   "metadata": {},
   "outputs": [
    {
     "name": "stdout",
     "output_type": "stream",
     "text": [
      "Maximum value is : 5\n",
      "Minimum value is : 1\n",
      "length of list: 5\n"
     ]
    }
   ],
   "source": [
    "# Find the maximum, minimum, sum and length of elements in a dictionary\n",
    "b = {1:'a',2:'b',3:'c',4:'d',5:'e'}\n",
    "print(\"Maximum value is :\" ,max(b))\n",
    "print(\"Minimum value is :\",min(b))\n",
    "print(\"length of list:\",len(b))"
   ]
  },
  {
   "cell_type": "code",
   "execution_count": 20,
   "id": "51d2df5e",
   "metadata": {},
   "outputs": [
    {
     "name": "stdout",
     "output_type": "stream",
     "text": [
      "Maximum value is : 5\n",
      "Minimum value is : 1\n",
      "sum of elements in c: 15\n",
      "length of set: 5\n"
     ]
    }
   ],
   "source": [
    "# find the maximum, minimum, sum and length of elements in a set\n",
    "c = {1,2,3,4,5}\n",
    "print(\"Maximum value is :\" ,max(c))\n",
    "print(\"Minimum value is :\",min(c))\n",
    "print(\"sum of elements in c:\",sum(c))\n",
    "print(\"length of set:\",len(c))  "
   ]
  },
  {
   "cell_type": "markdown",
   "id": "5cf0fd3d",
   "metadata": {},
   "source": [
    "# abs\n",
    "It is used to convert negative value into positive(int,float)."
   ]
  },
  {
   "cell_type": "code",
   "execution_count": 22,
   "id": "c3fb8f91",
   "metadata": {},
   "outputs": [
    {
     "name": "stdout",
     "output_type": "stream",
     "text": [
      "10\n"
     ]
    }
   ],
   "source": [
    "# abs function returns the absolute value of a number\n",
    "a = -10\n",
    "print(abs(a))\n"
   ]
  },
  {
   "cell_type": "code",
   "execution_count": 23,
   "id": "3b21c1ae",
   "metadata": {},
   "outputs": [
    {
     "name": "stdout",
     "output_type": "stream",
     "text": [
      "200.5\n"
     ]
    }
   ],
   "source": [
    "# abs function returns the absolute value of a number\n",
    "a = -200.5\n",
    "print(abs(a))"
   ]
  },
  {
   "cell_type": "code",
   "execution_count": 25,
   "id": "ee6f60b0",
   "metadata": {},
   "outputs": [
    {
     "data": {
      "text/plain": [
       "3"
      ]
     },
     "execution_count": 25,
     "metadata": {},
     "output_type": "execute_result"
    }
   ],
   "source": [
    "abs(-3)\n"
   ]
  },
  {
   "cell_type": "code",
   "execution_count": 27,
   "id": "a4970200",
   "metadata": {},
   "outputs": [
    {
     "data": {
      "text/plain": [
       "3"
      ]
     },
     "execution_count": 27,
     "metadata": {},
     "output_type": "execute_result"
    }
   ],
   "source": [
    "abs(-3)\n"
   ]
  },
  {
   "cell_type": "code",
   "execution_count": 28,
   "id": "62b596b4",
   "metadata": {},
   "outputs": [
    {
     "data": {
      "text/plain": [
       "3"
      ]
     },
     "execution_count": 28,
     "metadata": {},
     "output_type": "execute_result"
    }
   ],
   "source": [
    "abs(3)"
   ]
  },
  {
   "cell_type": "markdown",
   "id": "292e2249",
   "metadata": {},
   "source": [
    "# round\n",
    "It is used to round number to a given decimal palces\n",
    "\n",
    "round(number , decimal_places)"
   ]
  },
  {
   "cell_type": "code",
   "execution_count": 29,
   "id": "cbafe075",
   "metadata": {},
   "outputs": [
    {
     "name": "stdout",
     "output_type": "stream",
     "text": [
      "3.4568\n"
     ]
    }
   ],
   "source": [
    "a = 3.456789\n",
    "# round a to 4 decimal places\n",
    "print(round(a,4))"
   ]
  },
  {
   "cell_type": "code",
   "execution_count": 30,
   "id": "40df7aea",
   "metadata": {},
   "outputs": [
    {
     "data": {
      "text/plain": [
       "7.895"
      ]
     },
     "execution_count": 30,
     "metadata": {},
     "output_type": "execute_result"
    }
   ],
   "source": [
    "# round to 3 decimal\n",
    "round(7.89543,3)\n"
   ]
  },
  {
   "cell_type": "code",
   "execution_count": 31,
   "id": "2bf75f6a",
   "metadata": {},
   "outputs": [
    {
     "data": {
      "text/plain": [
       "3"
      ]
     },
     "execution_count": 31,
     "metadata": {},
     "output_type": "execute_result"
    }
   ],
   "source": [
    "round(3.456)"
   ]
  },
  {
   "cell_type": "code",
   "execution_count": 32,
   "id": "23878ea7",
   "metadata": {},
   "outputs": [
    {
     "data": {
      "text/plain": [
       "4"
      ]
     },
     "execution_count": 32,
     "metadata": {},
     "output_type": "execute_result"
    }
   ],
   "source": [
    "round(3.678)\n"
   ]
  },
  {
   "cell_type": "code",
   "execution_count": 33,
   "id": "7c5508aa",
   "metadata": {},
   "outputs": [
    {
     "data": {
      "text/plain": [
       "10"
      ]
     },
     "execution_count": 33,
     "metadata": {},
     "output_type": "execute_result"
    }
   ],
   "source": [
    "round(10.324)\n"
   ]
  },
  {
   "cell_type": "code",
   "execution_count": 34,
   "id": "6c345602",
   "metadata": {},
   "outputs": [
    {
     "data": {
      "text/plain": [
       "121"
      ]
     },
     "execution_count": 34,
     "metadata": {},
     "output_type": "execute_result"
    }
   ],
   "source": [
    "round(120.98652)\n"
   ]
  },
  {
   "cell_type": "code",
   "execution_count": 35,
   "id": "c73b7a03",
   "metadata": {},
   "outputs": [
    {
     "data": {
      "text/plain": [
       "3.14"
      ]
     },
     "execution_count": 35,
     "metadata": {},
     "output_type": "execute_result"
    }
   ],
   "source": [
    "round(3.14159,2)"
   ]
  },
  {
   "cell_type": "code",
   "execution_count": 36,
   "id": "74c423d1",
   "metadata": {},
   "outputs": [
    {
     "data": {
      "text/plain": [
       "-3.14"
      ]
     },
     "execution_count": 36,
     "metadata": {},
     "output_type": "execute_result"
    }
   ],
   "source": [
    "round(-3.14159,2)"
   ]
  },
  {
   "cell_type": "code",
   "execution_count": 37,
   "id": "fde45ec1",
   "metadata": {},
   "outputs": [
    {
     "data": {
      "text/plain": [
       "-200.246"
      ]
     },
     "execution_count": 37,
     "metadata": {},
     "output_type": "execute_result"
    }
   ],
   "source": [
    "round(-200.2457833,3)"
   ]
  },
  {
   "cell_type": "markdown",
   "id": "732bb58e",
   "metadata": {},
   "source": [
    "# Type casting\n",
    "Used to convert one data type into other data type."
   ]
  },
  {
   "cell_type": "markdown",
   "id": "8c7b75b9",
   "metadata": {},
   "source": [
    "# int\n",
    "* It converts given value to a integer"
   ]
  },
  {
   "cell_type": "code",
   "execution_count": 38,
   "id": "8689b368",
   "metadata": {},
   "outputs": [
    {
     "name": "stdout",
     "output_type": "stream",
     "text": [
      "<class 'float'>\n",
      "3\n"
     ]
    }
   ],
   "source": [
    "a = 3.45\n",
    "print(type(a))\n",
    "b = int(a)\n",
    "print(b)\n"
   ]
  },
  {
   "cell_type": "code",
   "execution_count": 39,
   "id": "dea25f5c",
   "metadata": {},
   "outputs": [
    {
     "name": "stdout",
     "output_type": "stream",
     "text": [
      "7\n",
      "<class 'int'>\n"
     ]
    }
   ],
   "source": [
    "# convert float to int\n",
    "a = 7.89\n",
    "b = int(a)\n",
    "print(b)\n",
    "print(type(b))"
   ]
  },
  {
   "cell_type": "code",
   "execution_count": 44,
   "id": "41d2832c",
   "metadata": {},
   "outputs": [
    {
     "name": "stdout",
     "output_type": "stream",
     "text": [
      "123\n",
      "<class 'int'>\n"
     ]
    }
   ],
   "source": [
    "# str to integer\n",
    "a = int(\"123\")   \n",
    "print(a)\n",
    "print(type(a))\n",
    "\n"
   ]
  },
  {
   "cell_type": "code",
   "execution_count": 45,
   "id": "b2719327",
   "metadata": {},
   "outputs": [
    {
     "name": "stdout",
     "output_type": "stream",
     "text": [
      "4\n",
      "1234\n",
      "1\n",
      "0\n"
     ]
    }
   ],
   "source": [
    "# float to integer\n",
    "# Integer within string into int\n",
    "# boolean to integer\n",
    "print(int(4.5))\n",
    "print(int(\"1234\"))\n",
    "print(int(True))\n",
    "print(int(False))"
   ]
  },
  {
   "cell_type": "code",
   "execution_count": 1,
   "id": "565b990f",
   "metadata": {},
   "outputs": [
    {
     "ename": "ValueError",
     "evalue": "invalid literal for int() with base 10: 'hello'",
     "output_type": "error",
     "traceback": [
      "\u001b[31m---------------------------------------------------------------------------\u001b[39m",
      "\u001b[31mValueError\u001b[39m                                Traceback (most recent call last)",
      "\u001b[36mCell\u001b[39m\u001b[36m \u001b[39m\u001b[32mIn[1]\u001b[39m\u001b[32m, line 1\u001b[39m\n\u001b[32m----> \u001b[39m\u001b[32m1\u001b[39m \u001b[38;5;28;43mint\u001b[39;49m\u001b[43m(\u001b[49m\u001b[33;43m\"\u001b[39;49m\u001b[33;43mhello\u001b[39;49m\u001b[33;43m\"\u001b[39;49m\u001b[43m)\u001b[49m \u001b[38;5;66;03m# string cannot be converted into integer\u001b[39;00m\n",
      "\u001b[31mValueError\u001b[39m: invalid literal for int() with base 10: 'hello'"
     ]
    }
   ],
   "source": [
    "int(\"hello\") # string cannot be converted into integer"
   ]
  },
  {
   "cell_type": "code",
   "execution_count": 2,
   "id": "3ef75c08",
   "metadata": {},
   "outputs": [
    {
     "ename": "ValueError",
     "evalue": "invalid literal for int() with base 10: '3.45'",
     "output_type": "error",
     "traceback": [
      "\u001b[31m---------------------------------------------------------------------------\u001b[39m",
      "\u001b[31mValueError\u001b[39m                                Traceback (most recent call last)",
      "\u001b[36mCell\u001b[39m\u001b[36m \u001b[39m\u001b[32mIn[2]\u001b[39m\u001b[32m, line 1\u001b[39m\n\u001b[32m----> \u001b[39m\u001b[32m1\u001b[39m \u001b[38;5;28;43mint\u001b[39;49m\u001b[43m(\u001b[49m\u001b[33;43m'\u001b[39;49m\u001b[33;43m3.45\u001b[39;49m\u001b[33;43m'\u001b[39;49m\u001b[43m)\u001b[49m \u001b[38;5;66;03m# float within string cannot be converted into int\u001b[39;00m\n",
      "\u001b[31mValueError\u001b[39m: invalid literal for int() with base 10: '3.45'"
     ]
    }
   ],
   "source": [
    "int('3.45') # float within string cannot be converted into int"
   ]
  },
  {
   "cell_type": "code",
   "execution_count": 3,
   "id": "982317e7",
   "metadata": {},
   "outputs": [
    {
     "ename": "TypeError",
     "evalue": "int() argument must be a string, a bytes-like object or a real number, not 'complex'",
     "output_type": "error",
     "traceback": [
      "\u001b[31m---------------------------------------------------------------------------\u001b[39m",
      "\u001b[31mTypeError\u001b[39m                                 Traceback (most recent call last)",
      "\u001b[36mCell\u001b[39m\u001b[36m \u001b[39m\u001b[32mIn[3]\u001b[39m\u001b[32m, line 1\u001b[39m\n\u001b[32m----> \u001b[39m\u001b[32m1\u001b[39m \u001b[38;5;28;43mint\u001b[39;49m\u001b[43m(\u001b[49m\u001b[32;43m3\u001b[39;49m\u001b[43m+\u001b[49m\u001b[32;43m4\u001b[39;49m\u001b[43mj\u001b[49m\u001b[43m)\u001b[49m\u001b[38;5;66;03m# complex number cannot be converted into int\u001b[39;00m\n",
      "\u001b[31mTypeError\u001b[39m: int() argument must be a string, a bytes-like object or a real number, not 'complex'"
     ]
    }
   ],
   "source": [
    "int(3+4j)# complex number cannot be converted into int"
   ]
  },
  {
   "cell_type": "markdown",
   "id": "5808d448",
   "metadata": {},
   "source": [
    "# float\n",
    "It is used to convert value into float"
   ]
  },
  {
   "cell_type": "code",
   "execution_count": 4,
   "id": "da1c8baa",
   "metadata": {},
   "outputs": [
    {
     "data": {
      "text/plain": [
       "10.0"
      ]
     },
     "execution_count": 4,
     "metadata": {},
     "output_type": "execute_result"
    }
   ],
   "source": [
    "# convert int to float\n",
    "float(10)\n"
   ]
  },
  {
   "cell_type": "code",
   "execution_count": 5,
   "id": "b3239992",
   "metadata": {},
   "outputs": [
    {
     "data": {
      "text/plain": [
       "123.0"
      ]
     },
     "execution_count": 5,
     "metadata": {},
     "output_type": "execute_result"
    }
   ],
   "source": [
    "# convert str '123' into float\n",
    "float('123')"
   ]
  },
  {
   "cell_type": "code",
   "execution_count": 8,
   "id": "f77e851a",
   "metadata": {},
   "outputs": [
    {
     "data": {
      "text/plain": [
       "23.45"
      ]
     },
     "execution_count": 8,
     "metadata": {},
     "output_type": "execute_result"
    }
   ],
   "source": [
    "# convert str '23.45' into float\n",
    "float('23.45')"
   ]
  },
  {
   "cell_type": "code",
   "execution_count": 9,
   "id": "917ed461",
   "metadata": {},
   "outputs": [
    {
     "name": "stdout",
     "output_type": "stream",
     "text": [
      "1.0\n",
      "0.0\n"
     ]
    }
   ],
   "source": [
    "# convert bool to float\n",
    "print(float(True))\n",
    "print(float(False))"
   ]
  },
  {
   "cell_type": "code",
   "execution_count": 10,
   "id": "25ee2df5",
   "metadata": {},
   "outputs": [
    {
     "ename": "ValueError",
     "evalue": "could not convert string to float: 'hello'",
     "output_type": "error",
     "traceback": [
      "\u001b[31m---------------------------------------------------------------------------\u001b[39m",
      "\u001b[31mValueError\u001b[39m                                Traceback (most recent call last)",
      "\u001b[36mCell\u001b[39m\u001b[36m \u001b[39m\u001b[32mIn[10]\u001b[39m\u001b[32m, line 2\u001b[39m\n\u001b[32m      1\u001b[39m \u001b[38;5;66;03m# converting str to float is not possible\u001b[39;00m\n\u001b[32m----> \u001b[39m\u001b[32m2\u001b[39m \u001b[38;5;28;43mfloat\u001b[39;49m\u001b[43m(\u001b[49m\u001b[33;43m\"\u001b[39;49m\u001b[33;43mhello\u001b[39;49m\u001b[33;43m\"\u001b[39;49m\u001b[43m)\u001b[49m\n",
      "\u001b[31mValueError\u001b[39m: could not convert string to float: 'hello'"
     ]
    }
   ],
   "source": [
    "# converting str to float is not possible\n",
    "float(\"hello\")"
   ]
  },
  {
   "cell_type": "code",
   "execution_count": 11,
   "id": "384ea276",
   "metadata": {},
   "outputs": [
    {
     "ename": "TypeError",
     "evalue": "float() argument must be a string or a real number, not 'complex'",
     "output_type": "error",
     "traceback": [
      "\u001b[31m---------------------------------------------------------------------------\u001b[39m",
      "\u001b[31mTypeError\u001b[39m                                 Traceback (most recent call last)",
      "\u001b[36mCell\u001b[39m\u001b[36m \u001b[39m\u001b[32mIn[11]\u001b[39m\u001b[32m, line 2\u001b[39m\n\u001b[32m      1\u001b[39m \u001b[38;5;66;03m# converting complex to float is not possible\u001b[39;00m\n\u001b[32m----> \u001b[39m\u001b[32m2\u001b[39m \u001b[38;5;28;43mfloat\u001b[39;49m\u001b[43m(\u001b[49m\u001b[32;43m3\u001b[39;49m\u001b[43m+\u001b[49m\u001b[32;43m6\u001b[39;49m\u001b[43mj\u001b[49m\u001b[43m)\u001b[49m\n",
      "\u001b[31mTypeError\u001b[39m: float() argument must be a string or a real number, not 'complex'"
     ]
    }
   ],
   "source": [
    "# converting complex to float is not possible\n",
    "float(3+6j)"
   ]
  },
  {
   "cell_type": "markdown",
   "id": "ca723bd6",
   "metadata": {},
   "source": [
    "# bool()\n",
    "boolean converts all values into True or False."
   ]
  },
  {
   "cell_type": "code",
   "execution_count": 12,
   "id": "a6a7f26c",
   "metadata": {},
   "outputs": [
    {
     "data": {
      "text/plain": [
       "True"
      ]
     },
     "execution_count": 12,
     "metadata": {},
     "output_type": "execute_result"
    }
   ],
   "source": [
    "bool(True)"
   ]
  },
  {
   "cell_type": "code",
   "execution_count": 13,
   "id": "d23c2974",
   "metadata": {},
   "outputs": [
    {
     "data": {
      "text/plain": [
       "False"
      ]
     },
     "execution_count": 13,
     "metadata": {},
     "output_type": "execute_result"
    }
   ],
   "source": [
    "bool(False)"
   ]
  },
  {
   "cell_type": "code",
   "execution_count": 14,
   "id": "463111cc",
   "metadata": {},
   "outputs": [
    {
     "data": {
      "text/plain": [
       "False"
      ]
     },
     "execution_count": 14,
     "metadata": {},
     "output_type": "execute_result"
    }
   ],
   "source": [
    "bool(0)"
   ]
  },
  {
   "cell_type": "code",
   "execution_count": 15,
   "id": "78477261",
   "metadata": {},
   "outputs": [
    {
     "data": {
      "text/plain": [
       "True"
      ]
     },
     "execution_count": 15,
     "metadata": {},
     "output_type": "execute_result"
    }
   ],
   "source": [
    "bool(1)"
   ]
  },
  {
   "cell_type": "code",
   "execution_count": 16,
   "id": "7a5a477e",
   "metadata": {},
   "outputs": [
    {
     "name": "stdout",
     "output_type": "stream",
     "text": [
      "True\n",
      "True\n",
      "True\n",
      "True\n"
     ]
    }
   ],
   "source": [
    "# Boolean will be true for all values except for 0 , False ,None,[],()\n",
    "print(bool(10))\n",
    "print(bool(\"Jeevitha\"))\n",
    "print(bool(-10))\n",
    "print(bool(3+5j))"
   ]
  },
  {
   "cell_type": "code",
   "execution_count": 17,
   "id": "522fb846",
   "metadata": {},
   "outputs": [
    {
     "name": "stdout",
     "output_type": "stream",
     "text": [
      "False\n",
      "False\n",
      "False\n",
      "False\n",
      "False\n"
     ]
    }
   ],
   "source": [
    "print(bool(0))\n",
    "print(bool(False))\n",
    "print(bool(None))\n",
    "print(bool([]))\n",
    "print(bool(()))"
   ]
  },
  {
   "cell_type": "markdown",
   "id": "0cb5c929",
   "metadata": {},
   "source": [
    "# complex\n",
    "Used to convert value to complex"
   ]
  },
  {
   "cell_type": "code",
   "execution_count": 18,
   "id": "c401a5c0",
   "metadata": {},
   "outputs": [
    {
     "data": {
      "text/plain": [
       "(10+0j)"
      ]
     },
     "execution_count": 18,
     "metadata": {},
     "output_type": "execute_result"
    }
   ],
   "source": [
    "# int to complex\n",
    "complex(10)"
   ]
  },
  {
   "cell_type": "code",
   "execution_count": 19,
   "id": "36bf0e83",
   "metadata": {},
   "outputs": [
    {
     "data": {
      "text/plain": [
       "(12.3+0j)"
      ]
     },
     "execution_count": 19,
     "metadata": {},
     "output_type": "execute_result"
    }
   ],
   "source": [
    "# float to complex\n",
    "complex(12.3)"
   ]
  },
  {
   "cell_type": "code",
   "execution_count": 20,
   "id": "5690d5e5",
   "metadata": {},
   "outputs": [
    {
     "data": {
      "text/plain": [
       "(1+0j)"
      ]
     },
     "execution_count": 20,
     "metadata": {},
     "output_type": "execute_result"
    }
   ],
   "source": [
    "# bool to complex\n",
    "complex(True)"
   ]
  },
  {
   "cell_type": "code",
   "execution_count": 21,
   "id": "448ddd1f",
   "metadata": {},
   "outputs": [
    {
     "data": {
      "text/plain": [
       "(4+5j)"
      ]
     },
     "execution_count": 21,
     "metadata": {},
     "output_type": "execute_result"
    }
   ],
   "source": [
    "# complex within str to complex\n",
    "complex('4+5j')"
   ]
  },
  {
   "cell_type": "code",
   "execution_count": 22,
   "id": "42c34fe8",
   "metadata": {},
   "outputs": [
    {
     "ename": "ValueError",
     "evalue": "complex() arg is a malformed string",
     "output_type": "error",
     "traceback": [
      "\u001b[31m---------------------------------------------------------------------------\u001b[39m",
      "\u001b[31mValueError\u001b[39m                                Traceback (most recent call last)",
      "\u001b[36mCell\u001b[39m\u001b[36m \u001b[39m\u001b[32mIn[22]\u001b[39m\u001b[32m, line 2\u001b[39m\n\u001b[32m      1\u001b[39m \u001b[38;5;66;03m# converting str to complex is not possible\u001b[39;00m\n\u001b[32m----> \u001b[39m\u001b[32m2\u001b[39m \u001b[38;5;28;43mcomplex\u001b[39;49m\u001b[43m(\u001b[49m\u001b[33;43m\"\u001b[39;49m\u001b[33;43mHello\u001b[39;49m\u001b[33;43m\"\u001b[39;49m\u001b[43m)\u001b[49m\n",
      "\u001b[31mValueError\u001b[39m: complex() arg is a malformed string"
     ]
    }
   ],
   "source": [
    "# converting str to complex is not possible\n",
    "complex(\"Hello\")"
   ]
  },
  {
   "cell_type": "markdown",
   "id": "a346df5b",
   "metadata": {},
   "source": [
    "# str()\n",
    "Use to convert value into string\n"
   ]
  },
  {
   "cell_type": "code",
   "execution_count": 23,
   "id": "1e627150",
   "metadata": {},
   "outputs": [
    {
     "name": "stdout",
     "output_type": "stream",
     "text": [
      "10\n",
      "<class 'str'>\n"
     ]
    }
   ],
   "source": [
    "# int to str\n",
    "a = str(10)\n",
    "print(a)\n",
    "print(type(a))\n"
   ]
  },
  {
   "cell_type": "code",
   "execution_count": 24,
   "id": "4751404f",
   "metadata": {},
   "outputs": [
    {
     "name": "stdout",
     "output_type": "stream",
     "text": [
      "10.5\n",
      "<class 'str'>\n"
     ]
    }
   ],
   "source": [
    "# float to str\n",
    "a = str(10.5)\n",
    "print(a)\n",
    "print(type(a))"
   ]
  },
  {
   "cell_type": "code",
   "execution_count": 25,
   "id": "6f5171b1",
   "metadata": {},
   "outputs": [
    {
     "name": "stdout",
     "output_type": "stream",
     "text": [
      "True\n",
      "<class 'str'>\n"
     ]
    }
   ],
   "source": [
    "# bool to str\n",
    "a = str(True)\n",
    "print(a)\n",
    "print(type(a))"
   ]
  },
  {
   "cell_type": "code",
   "execution_count": 26,
   "id": "7753064a",
   "metadata": {},
   "outputs": [
    {
     "name": "stdout",
     "output_type": "stream",
     "text": [
      "(3+4j)\n",
      "<class 'str'>\n"
     ]
    }
   ],
   "source": [
    "# complex to str\n",
    "a = str(3+4j)\n",
    "print(a)\n",
    "print(type(a))"
   ]
  },
  {
   "cell_type": "markdown",
   "id": "69880776",
   "metadata": {},
   "source": [
    "# str-->complex-->float-->int-->bool\n"
   ]
  },
  {
   "cell_type": "markdown",
   "id": "893a8756",
   "metadata": {},
   "source": [
    "# input()\n",
    "Used take input from users"
   ]
  },
  {
   "cell_type": "code",
   "execution_count": 28,
   "id": "e0eef32d",
   "metadata": {},
   "outputs": [
    {
     "name": "stdout",
     "output_type": "stream",
     "text": [
      "3000\n"
     ]
    }
   ],
   "source": [
    "a = 1000\n",
    "b = 2000\n",
    "print(a+b)"
   ]
  },
  {
   "cell_type": "code",
   "execution_count": 29,
   "id": "8aa1168d",
   "metadata": {},
   "outputs": [
    {
     "name": "stdout",
     "output_type": "stream",
     "text": [
      "sum of a and b is  30\n"
     ]
    }
   ],
   "source": [
    "# int(input()):takes onlt integer values\n",
    "a = int(input(\"enter only integer value a\"))\n",
    "b = int(input(\"enter only integer value b\"))\n",
    "print(\"sum of a and b is \",a+b)"
   ]
  },
  {
   "cell_type": "code",
   "execution_count": 30,
   "id": "779e24a6",
   "metadata": {},
   "outputs": [
    {
     "name": "stdout",
     "output_type": "stream",
     "text": [
      "20\n"
     ]
    }
   ],
   "source": [
    "x =int(input())\n",
    "print(x) # it throws error if we input float,str,bool,complex"
   ]
  },
  {
   "cell_type": "code",
   "execution_count": 31,
   "id": "e6fcc02a",
   "metadata": {},
   "outputs": [
    {
     "name": "stdout",
     "output_type": "stream",
     "text": [
      "30.0\n"
     ]
    }
   ],
   "source": [
    "# float(input()): used to take float and integer as its inputs from user\n",
    "a = float(input(\"enter float or int: \"))\n",
    "print(a)"
   ]
  },
  {
   "cell_type": "code",
   "execution_count": 32,
   "id": "22c0c2b4",
   "metadata": {},
   "outputs": [
    {
     "name": "stdout",
     "output_type": "stream",
     "text": [
      "30.0\n"
     ]
    }
   ],
   "source": [
    "a = float(input(\"enter float or int: \"))\n",
    "print(a)"
   ]
  },
  {
   "cell_type": "code",
   "execution_count": 33,
   "id": "cf65aaa5",
   "metadata": {},
   "outputs": [
    {
     "name": "stdout",
     "output_type": "stream",
     "text": [
      "True\n"
     ]
    }
   ],
   "source": [
    "# bool(input())\n",
    "b = bool(input())\n",
    "print(b)"
   ]
  },
  {
   "cell_type": "code",
   "execution_count": 34,
   "id": "8af1a220",
   "metadata": {},
   "outputs": [
    {
     "name": "stdout",
     "output_type": "stream",
     "text": [
      "True\n"
     ]
    }
   ],
   "source": [
    "b = bool(input())\n",
    "print(b)\n",
    "# it always returns true except empty string"
   ]
  },
  {
   "cell_type": "code",
   "execution_count": 35,
   "id": "5665ecc0",
   "metadata": {},
   "outputs": [
    {
     "name": "stdout",
     "output_type": "stream",
     "text": [
      "True\n"
     ]
    }
   ],
   "source": [
    "b = bool(input())\n",
    "print(b)"
   ]
  },
  {
   "cell_type": "code",
   "execution_count": 36,
   "id": "a412e81d",
   "metadata": {},
   "outputs": [
    {
     "name": "stdout",
     "output_type": "stream",
     "text": [
      "vivek\n"
     ]
    }
   ],
   "source": [
    "#input(): By default it takes string from user\n",
    "name = input()\n",
    "print(name)"
   ]
  },
  {
   "cell_type": "code",
   "execution_count": 37,
   "id": "2c0dda9f",
   "metadata": {},
   "outputs": [
    {
     "name": "stdout",
     "output_type": "stream",
     "text": [
      "vivek\n",
      "<class 'str'>\n"
     ]
    }
   ],
   "source": [
    "a = input()\n",
    "print(a)\n",
    "print(type(a))\n"
   ]
  },
  {
   "cell_type": "code",
   "execution_count": 38,
   "id": "d8337e8a",
   "metadata": {},
   "outputs": [
    {
     "name": "stdout",
     "output_type": "stream",
     "text": [
      "10\n",
      "<class 'str'>\n"
     ]
    }
   ],
   "source": [
    "a = input()\n",
    "print(a)\n",
    "print(type(a))"
   ]
  },
  {
   "cell_type": "code",
   "execution_count": 40,
   "id": "f97e1ed3",
   "metadata": {},
   "outputs": [
    {
     "name": "stdout",
     "output_type": "stream",
     "text": [
      "1\n",
      "<class 'str'>\n"
     ]
    }
   ],
   "source": [
    "a = input()\n",
    "print(a)\n",
    "print(type(a))\n",
    "# it always takes string as input from user"
   ]
  },
  {
   "cell_type": "markdown",
   "id": "546fe956",
   "metadata": {},
   "source": [
    "# List , tuple,set,dict"
   ]
  },
  {
   "cell_type": "code",
   "execution_count": 41,
   "id": "d29128f5",
   "metadata": {},
   "outputs": [
    {
     "name": "stdout",
     "output_type": "stream",
     "text": [
      "[1, 2, 3, 4]\n"
     ]
    }
   ],
   "source": [
    "# creating list\n",
    "A = list((1,2,3,4))\n",
    "print(A)"
   ]
  },
  {
   "cell_type": "code",
   "execution_count": 42,
   "id": "70620256",
   "metadata": {},
   "outputs": [
    {
     "data": {
      "text/plain": [
       "(1, 2, 3, 4)"
      ]
     },
     "execution_count": 42,
     "metadata": {},
     "output_type": "execute_result"
    }
   ],
   "source": [
    "# convert list to tuple\n",
    "tuple(A)"
   ]
  },
  {
   "cell_type": "code",
   "execution_count": 43,
   "id": "b3630895",
   "metadata": {},
   "outputs": [
    {
     "name": "stdout",
     "output_type": "stream",
     "text": [
      "(10, 20, 30, 40)\n"
     ]
    }
   ],
   "source": [
    "# creating tuple\n",
    "B = tuple((10,20,30,40))\n",
    "print(B)"
   ]
  },
  {
   "cell_type": "code",
   "execution_count": 44,
   "id": "64141029",
   "metadata": {},
   "outputs": [
    {
     "data": {
      "text/plain": [
       "[10, 20, 30, 40]"
      ]
     },
     "execution_count": 44,
     "metadata": {},
     "output_type": "execute_result"
    }
   ],
   "source": [
    "#tuple to list\n",
    "list(B)"
   ]
  },
  {
   "cell_type": "code",
   "execution_count": 45,
   "id": "af302018",
   "metadata": {},
   "outputs": [
    {
     "data": {
      "text/plain": [
       "{1, 2, 3, 4}"
      ]
     },
     "execution_count": 45,
     "metadata": {},
     "output_type": "execute_result"
    }
   ],
   "source": [
    "# list to set\n",
    "set(A)"
   ]
  },
  {
   "cell_type": "code",
   "execution_count": 46,
   "id": "7cd3d264",
   "metadata": {},
   "outputs": [
    {
     "data": {
      "text/plain": [
       "{10, 20, 30, 40}"
      ]
     },
     "execution_count": 46,
     "metadata": {},
     "output_type": "execute_result"
    }
   ],
   "source": [
    "# tuple into set\n",
    "set(B)"
   ]
  },
  {
   "cell_type": "code",
   "execution_count": 47,
   "id": "a6f23ad0",
   "metadata": {},
   "outputs": [
    {
     "name": "stdout",
     "output_type": "stream",
     "text": [
      "{1, 2, 3, 4}\n"
     ]
    }
   ],
   "source": [
    "C = set((1,2,3,4))\n",
    "print(C)"
   ]
  },
  {
   "cell_type": "code",
   "execution_count": 48,
   "id": "a6683b55",
   "metadata": {},
   "outputs": [
    {
     "data": {
      "text/plain": [
       "[1, 2, 3, 4]"
      ]
     },
     "execution_count": 48,
     "metadata": {},
     "output_type": "execute_result"
    }
   ],
   "source": [
    "# set to list\n",
    "list(C)"
   ]
  },
  {
   "cell_type": "code",
   "execution_count": 49,
   "id": "9c3683a3",
   "metadata": {},
   "outputs": [
    {
     "data": {
      "text/plain": [
       "(1, 2, 3, 4)"
      ]
     },
     "execution_count": 49,
     "metadata": {},
     "output_type": "execute_result"
    }
   ],
   "source": [
    "# set to tuple\n",
    "tuple(C)"
   ]
  },
  {
   "cell_type": "markdown",
   "id": "d1579879",
   "metadata": {},
   "source": [
    "# set to tuple or list\n",
    "# tuple to set or list\n",
    "# list to set or tuple\n"
   ]
  },
  {
   "cell_type": "code",
   "execution_count": 50,
   "id": "08e42321",
   "metadata": {},
   "outputs": [
    {
     "name": "stdout",
     "output_type": "stream",
     "text": [
      "{'name': 'Zara', 'Age': 20}\n"
     ]
    }
   ],
   "source": [
    "# dict\n",
    "D =dict({'name':'Zara','Age':20})\n",
    "print(D)\n"
   ]
  },
  {
   "cell_type": "code",
   "execution_count": 51,
   "id": "d565d5e4",
   "metadata": {},
   "outputs": [
    {
     "data": {
      "text/plain": [
       "['name', 'Age']"
      ]
     },
     "execution_count": 51,
     "metadata": {},
     "output_type": "execute_result"
    }
   ],
   "source": [
    "# dict into list:list of keys\n",
    "list(D)"
   ]
  },
  {
   "cell_type": "code",
   "execution_count": 52,
   "id": "8aee46e8",
   "metadata": {},
   "outputs": [
    {
     "data": {
      "text/plain": [
       "('name', 'Age')"
      ]
     },
     "execution_count": 52,
     "metadata": {},
     "output_type": "execute_result"
    }
   ],
   "source": [
    "# dict into tuple : tuple of keys\n",
    "tuple(D)"
   ]
  },
  {
   "cell_type": "code",
   "execution_count": 53,
   "id": "c75b6979",
   "metadata": {},
   "outputs": [
    {
     "data": {
      "text/plain": [
       "{'Age', 'name'}"
      ]
     },
     "execution_count": 53,
     "metadata": {},
     "output_type": "execute_result"
    }
   ],
   "source": [
    "# dict to set:set of keys\n",
    "set(D)"
   ]
  },
  {
   "cell_type": "code",
   "execution_count": null,
   "id": "1e9f6645",
   "metadata": {},
   "outputs": [
    {
     "ename": "TypeError",
     "evalue": "cannot convert dictionary update sequence element #0 to a sequence",
     "output_type": "error",
     "traceback": [
      "\u001b[31m---------------------------------------------------------------------------\u001b[39m",
      "\u001b[31mTypeError\u001b[39m                                 Traceback (most recent call last)",
      "\u001b[36mCell\u001b[39m\u001b[36m \u001b[39m\u001b[32mIn[54]\u001b[39m\u001b[32m, line 2\u001b[39m\n\u001b[32m      1\u001b[39m \u001b[38;5;66;03m# list,tuple,set to dict is not possible\u001b[39;00m\n\u001b[32m----> \u001b[39m\u001b[32m2\u001b[39m \u001b[38;5;28;43mdict\u001b[39;49m\u001b[43m(\u001b[49m\u001b[43mA\u001b[49m\u001b[43m)\u001b[49m\n",
      "\u001b[31mTypeError\u001b[39m: cannot convert dictionary update sequence element #0 to a sequence"
     ]
    }
   ],
   "source": [
    "# list,tuple,set to dict is not possible\n",
    "dict(A)"
   ]
  },
  {
   "cell_type": "markdown",
   "id": "1a611d46",
   "metadata": {},
   "source": [
    "# eval\n",
    "It takes list,tuple,set,dict from users"
   ]
  },
  {
   "cell_type": "code",
   "execution_count": 55,
   "id": "ec336221",
   "metadata": {},
   "outputs": [
    {
     "name": "stdout",
     "output_type": "stream",
     "text": [
      "{'name': 'john', 'age': 25, 'city': 'new york'}\n",
      "<class 'dict'>\n"
     ]
    }
   ],
   "source": [
    "A =eval(input())\n",
    "print(A)\n",
    "print(type(A)) \n",
    "# it takes list,tuple,set,dictionary as input from user\n",
    "# example input:{'name':'john', 'age':25, 'city':'new york'}\n",
    "# example input:[10,20,30,40]"
   ]
  },
  {
   "cell_type": "code",
   "execution_count": 56,
   "id": "666dd0a7",
   "metadata": {},
   "outputs": [
    {
     "name": "stdout",
     "output_type": "stream",
     "text": [
      "[10, 20, 30, 40]\n",
      "<class 'list'>\n"
     ]
    }
   ],
   "source": [
    "A =eval(input())\n",
    "print(A)\n",
    "print(type(A)) \n",
    "# it takes list,tuple,set,dictionary as input from user\n",
    "# example input:{'name':'john', 'age':25, 'city':'new york'}\n",
    "# example input:[10,20,30,40]"
   ]
  },
  {
   "cell_type": "code",
   "execution_count": 57,
   "id": "0abcca27",
   "metadata": {},
   "outputs": [
    {
     "name": "stdout",
     "output_type": "stream",
     "text": [
      "{40, 10, 20, 30}\n",
      "<class 'set'>\n"
     ]
    }
   ],
   "source": [
    "A =eval(input())\n",
    "print(A)\n",
    "print(type(A)) # example input set :{10,20,30,40}"
   ]
  },
  {
   "cell_type": "code",
   "execution_count": 58,
   "id": "1973ff55",
   "metadata": {},
   "outputs": [
    {
     "name": "stdout",
     "output_type": "stream",
     "text": [
      "(10, 20, 30, 40)\n",
      "<class 'tuple'>\n"
     ]
    }
   ],
   "source": [
    "# example input tuple :(10,20,30,40)\n",
    "A = eval(input())\n",
    "print(A)\n",
    "print(type(A)) # example input tuple :(10,20,30,40)"
   ]
  },
  {
   "cell_type": "code",
   "execution_count": null,
   "id": "f590d651",
   "metadata": {},
   "outputs": [],
   "source": []
  }
 ],
 "metadata": {
  "kernelspec": {
   "display_name": "Python 3",
   "language": "python",
   "name": "python3"
  },
  "language_info": {
   "codemirror_mode": {
    "name": "ipython",
    "version": 3
   },
   "file_extension": ".py",
   "mimetype": "text/x-python",
   "name": "python",
   "nbconvert_exporter": "python",
   "pygments_lexer": "ipython3",
   "version": "3.13.7"
  }
 },
 "nbformat": 4,
 "nbformat_minor": 5
}
