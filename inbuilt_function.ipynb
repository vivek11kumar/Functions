{
 "cells": [
  {
   "cell_type": "markdown",
   "id": "277d9559",
   "metadata": {},
   "source": [
    "# Functions\n",
    "* Functions are piece of code used to perform sprcific task.\n",
    "* Functions can be called directly using its name."
   ]
  },
  {
   "cell_type": "markdown",
   "id": "ca0a1c71",
   "metadata": {},
   "source": [
    "👉 Functions are like a hammer that you can use to drive a nail into a piece of wood. It doesn't matter what kind of wood it is or where the nail goes. You just use the hammer to do a general task."
   ]
  },
  {
   "cell_type": "markdown",
   "id": "175d469a",
   "metadata": {},
   "source": [
    "# Functions\n",
    "* print\n",
    "* type\n",
    "* len\n",
    "* sum\n",
    "* int\n",
    "* float\n",
    "* str\n",
    "* list\n",
    "* set\n",
    "* tuple\n",
    "* dict\n",
    "* help\n",
    "* input\n",
    "* range\n",
    "* round\n",
    "* max\n",
    "* min\n",
    "* abs\n",
    "* enumerate\n",
    "* zip\n",
    "* eval\n",
    "* exec\n",
    "* bool"
   ]
  },
  {
   "cell_type": "markdown",
   "id": "004f692f",
   "metadata": {},
   "source": [
    "# print()\n",
    "Display the output"
   ]
  },
  {
   "cell_type": "code",
   "execution_count": 9,
   "id": "abcd8322",
   "metadata": {},
   "outputs": [
    {
     "name": "stdout",
     "output_type": "stream",
     "text": [
      "10\n"
     ]
    }
   ],
   "source": [
    "# print function use to display output\n",
    "a = 10\n",
    "print(a)\n"
   ]
  },
  {
   "cell_type": "code",
   "execution_count": 10,
   "id": "7af0f96f",
   "metadata": {},
   "outputs": [
    {
     "name": "stdout",
     "output_type": "stream",
     "text": [
      "data science\n"
     ]
    }
   ],
   "source": [
    "b = 'data science'\n",
    "print(b)\n"
   ]
  },
  {
   "cell_type": "code",
   "execution_count": 11,
   "id": "040b92e3",
   "metadata": {},
   "outputs": [
    {
     "name": "stdout",
     "output_type": "stream",
     "text": [
      "hello world\n"
     ]
    }
   ],
   "source": [
    "print(\"hello world\")\n"
   ]
  },
  {
   "cell_type": "code",
   "execution_count": 12,
   "id": "31a57804",
   "metadata": {},
   "outputs": [
    {
     "name": "stdout",
     "output_type": "stream",
     "text": [
      "10.5\n"
     ]
    }
   ],
   "source": [
    "a = 10.5\n",
    "print(a)\n"
   ]
  },
  {
   "cell_type": "markdown",
   "id": "c809b2fb",
   "metadata": {},
   "source": [
    "# type()\n",
    "Type is used to find data type of any object(int,float,str,bool,complex,list,tuple,dict,set)\n"
   ]
  },
  {
   "cell_type": "code",
   "execution_count": 8,
   "id": "9c8e07da",
   "metadata": {},
   "outputs": [
    {
     "name": "stdout",
     "output_type": "stream",
     "text": [
      "<class 'int'>\n"
     ]
    }
   ],
   "source": [
    "a = 10\n",
    "print(type(a))"
   ]
  },
  {
   "cell_type": "code",
   "execution_count": null,
   "id": "09616130",
   "metadata": {},
   "outputs": [
    {
     "data": {
      "text/plain": [
       "float"
      ]
     },
     "execution_count": 13,
     "metadata": {},
     "output_type": "execute_result"
    }
   ],
   "source": [
    "type(3.4)"
   ]
  },
  {
   "cell_type": "code",
   "execution_count": 14,
   "id": "33d6cb61",
   "metadata": {},
   "outputs": [
    {
     "data": {
      "text/plain": [
       "str"
      ]
     },
     "execution_count": 14,
     "metadata": {},
     "output_type": "execute_result"
    }
   ],
   "source": [
    "type('data science')"
   ]
  },
  {
   "cell_type": "code",
   "execution_count": 15,
   "id": "0e66d1c4",
   "metadata": {},
   "outputs": [
    {
     "data": {
      "text/plain": [
       "str"
      ]
     },
     "execution_count": 15,
     "metadata": {},
     "output_type": "execute_result"
    }
   ],
   "source": [
    "type(\"hello world\")"
   ]
  },
  {
   "cell_type": "markdown",
   "id": "846c1752",
   "metadata": {},
   "source": [
    "# len()\n",
    "Length of an object(string , tuple,list,set,dict)"
   ]
  },
  {
   "cell_type": "code",
   "execution_count": 24,
   "id": "ae3e0c47",
   "metadata": {},
   "outputs": [
    {
     "name": "stdout",
     "output_type": "stream",
     "text": [
      "<class 'str'>\n",
      "6\n"
     ]
    }
   ],
   "source": [
    "A = \"python\"\n",
    "print(type(A))\n",
    "print(len(A))"
   ]
  },
  {
   "cell_type": "code",
   "execution_count": 23,
   "id": "540ea2cf",
   "metadata": {},
   "outputs": [
    {
     "name": "stdout",
     "output_type": "stream",
     "text": [
      "<class 'str'>\n",
      "12\n"
     ]
    }
   ],
   "source": [
    "b = \"data science\"\n",
    "print(type(b))\n",
    "print(len(b))"
   ]
  },
  {
   "cell_type": "code",
   "execution_count": 22,
   "id": "8b4edc62",
   "metadata": {},
   "outputs": [
    {
     "name": "stdout",
     "output_type": "stream",
     "text": [
      "<class 'list'>\n",
      "7\n"
     ]
    }
   ],
   "source": [
    "B =[10,20,30,40,50,60,70]\n",
    "print(type(B))\n",
    "print(len(B))"
   ]
  },
  {
   "cell_type": "code",
   "execution_count": 25,
   "id": "e65966b7",
   "metadata": {},
   "outputs": [
    {
     "name": "stdout",
     "output_type": "stream",
     "text": [
      "<class 'tuple'>\n",
      "7\n"
     ]
    }
   ],
   "source": [
    "C=(10,20,30,40,50,60,70)\n",
    "print(type(C))\n",
    "print(len(C))"
   ]
  },
  {
   "cell_type": "code",
   "execution_count": 26,
   "id": "a9ddb5e7",
   "metadata": {},
   "outputs": [
    {
     "name": "stdout",
     "output_type": "stream",
     "text": [
      "<class 'set'>\n",
      "7\n"
     ]
    }
   ],
   "source": [
    "d = {10,20,30,40,50,60,70}\n",
    "print(type(d))\n",
    "print(len(d))"
   ]
  },
  {
   "cell_type": "code",
   "execution_count": 27,
   "id": "8321bc5c",
   "metadata": {},
   "outputs": [
    {
     "name": "stdout",
     "output_type": "stream",
     "text": [
      "<class 'dict'>\n",
      "4\n"
     ]
    }
   ],
   "source": [
    "e = {10:'a',20:'b',30:'c',40:'d'}\n",
    "print(type(e))  \n",
    "print(len(e))"
   ]
  },
  {
   "cell_type": "code",
   "execution_count": 28,
   "id": "bfa389c8",
   "metadata": {},
   "outputs": [
    {
     "name": "stdout",
     "output_type": "stream",
     "text": [
      "<class 'dict'>\n",
      "3\n"
     ]
    }
   ],
   "source": [
    "info = {'name':'john', 'age':25, 'city':'new york'}\n",
    "print(type(info))\n",
    "print(len(info))"
   ]
  },
  {
   "cell_type": "markdown",
   "id": "d12f9ac5",
   "metadata": {},
   "source": [
    "# sum()\n",
    "Used to find sum of elements(list,tuple,set)\n"
   ]
  },
  {
   "cell_type": "code",
   "execution_count": 30,
   "id": "fcf74d3e",
   "metadata": {},
   "outputs": [
    {
     "name": "stdout",
     "output_type": "stream",
     "text": [
      "<class 'list'>\n",
      "7\n",
      "340\n"
     ]
    }
   ],
   "source": [
    "A = [10,20,30,40,60,80,100]\n",
    "print(type(A))\n",
    "print(len(A))\n",
    "print(sum(A))"
   ]
  },
  {
   "cell_type": "code",
   "execution_count": 31,
   "id": "c389bd7e",
   "metadata": {},
   "outputs": [
    {
     "name": "stdout",
     "output_type": "stream",
     "text": [
      "<class 'tuple'>\n",
      "5\n",
      "15\n"
     ]
    }
   ],
   "source": [
    "b = (1, 2, 3, 4, 5)\n",
    "print(type(b))\n",
    "print(len(b))\n",
    "print(sum(b))"
   ]
  },
  {
   "cell_type": "code",
   "execution_count": null,
   "id": "f3335e09",
   "metadata": {},
   "outputs": [],
   "source": []
  }
 ],
 "metadata": {
  "kernelspec": {
   "display_name": "Python 3",
   "language": "python",
   "name": "python3"
  },
  "language_info": {
   "codemirror_mode": {
    "name": "ipython",
    "version": 3
   },
   "file_extension": ".py",
   "mimetype": "text/x-python",
   "name": "python",
   "nbconvert_exporter": "python",
   "pygments_lexer": "ipython3",
   "version": "3.13.7"
  }
 },
 "nbformat": 4,
 "nbformat_minor": 5
}
